{
 "cells": [
  {
   "cell_type": "markdown",
   "id": "b1d8de18",
   "metadata": {},
   "source": [
    "# LIBRARIES"
   ]
  },
  {
   "cell_type": "code",
   "execution_count": 1,
   "id": "e21fd5c5",
   "metadata": {},
   "outputs": [],
   "source": [
    "# IMPORT ALL NECESSARY LIBRARIES\n",
    "import pandas as pd  \n",
    "import numpy as np  \n",
    "import matplotlib.pyplot as plt  \n",
    "import seaborn as sns \n",
    "\n",
    "# GLOBAL PLOTTING STYLE\n",
    "from matplotlib import rcParams"
   ]
  },
  {
   "cell_type": "markdown",
   "id": "cedb4c74",
   "metadata": {},
   "source": [
    "# DATA LOADING"
   ]
  },
  {
   "cell_type": "code",
   "execution_count": 2,
   "id": "0ce23fed",
   "metadata": {},
   "outputs": [
    {
     "name": "stdout",
     "output_type": "stream",
     "text": [
      "DATAFRAME SHAPE: (7043, 21)\n"
     ]
    }
   ],
   "source": [
    "#  PATH TO THE DATASET\n",
    "file_path = '../DATASET/DATA.csv'\n",
    "\n",
    "df = pd.read_csv(file_path) \n",
    "\n",
    "# DISPLAY THE DIMENSIONS OF THE DATAFRAME (ROWS, COLUMNS)\n",
    "print(f\"DATAFRAME SHAPE: {df.shape}\")"
   ]
  },
  {
   "cell_type": "markdown",
   "id": "23cd5996",
   "metadata": {},
   "source": [
    "# DATA INSPECTION"
   ]
  },
  {
   "cell_type": "code",
   "execution_count": 3,
   "id": "f91fdbf0",
   "metadata": {},
   "outputs": [
    {
     "name": "stdout",
     "output_type": "stream",
     "text": [
      "---------- DATAFRAME HEAD ----------\n",
      "   customerID  gender  SeniorCitizen Partner Dependents  tenure PhoneService  \\\n",
      "0  7590-VHVEG  Female              0     Yes         No       1           No   \n",
      "1  5575-GNVDE    Male              0      No         No      34          Yes   \n",
      "2  3668-QPYBK    Male              0      No         No       2          Yes   \n",
      "3  7795-CFOCW    Male              0      No         No      45           No   \n",
      "4  9237-HQITU  Female              0      No         No       2          Yes   \n",
      "\n",
      "      MultipleLines InternetService OnlineSecurity  ... DeviceProtection  \\\n",
      "0  No phone service             DSL             No  ...               No   \n",
      "1                No             DSL            Yes  ...              Yes   \n",
      "2                No             DSL            Yes  ...               No   \n",
      "3  No phone service             DSL            Yes  ...              Yes   \n",
      "4                No     Fiber optic             No  ...               No   \n",
      "\n",
      "  TechSupport StreamingTV StreamingMovies        Contract PaperlessBilling  \\\n",
      "0          No          No              No  Month-to-month              Yes   \n",
      "1          No          No              No        One year               No   \n",
      "2          No          No              No  Month-to-month              Yes   \n",
      "3         Yes          No              No        One year               No   \n",
      "4          No          No              No  Month-to-month              Yes   \n",
      "\n",
      "               PaymentMethod MonthlyCharges  TotalCharges Churn  \n",
      "0           Electronic check          29.85         29.85    No  \n",
      "1               Mailed check          56.95        1889.5    No  \n",
      "2               Mailed check          53.85        108.15   Yes  \n",
      "3  Bank transfer (automatic)          42.30       1840.75    No  \n",
      "4           Electronic check          70.70        151.65   Yes  \n",
      "\n",
      "[5 rows x 21 columns]\n",
      "\n",
      "---------- DATAFRAME TAIL ----------\n",
      "      customerID  gender  SeniorCitizen Partner Dependents  tenure  \\\n",
      "7038  6840-RESVB    Male              0     Yes        Yes      24   \n",
      "7039  2234-XADUH  Female              0     Yes        Yes      72   \n",
      "7040  4801-JZAZL  Female              0     Yes        Yes      11   \n",
      "7041  8361-LTMKD    Male              1     Yes         No       4   \n",
      "7042  3186-AJIEK    Male              0      No         No      66   \n",
      "\n",
      "     PhoneService     MultipleLines InternetService OnlineSecurity  ...  \\\n",
      "7038          Yes               Yes             DSL            Yes  ...   \n",
      "7039          Yes               Yes     Fiber optic             No  ...   \n",
      "7040           No  No phone service             DSL            Yes  ...   \n",
      "7041          Yes               Yes     Fiber optic             No  ...   \n",
      "7042          Yes                No     Fiber optic            Yes  ...   \n",
      "\n",
      "     DeviceProtection TechSupport StreamingTV StreamingMovies        Contract  \\\n",
      "7038              Yes         Yes         Yes             Yes        One year   \n",
      "7039              Yes          No         Yes             Yes        One year   \n",
      "7040               No          No          No              No  Month-to-month   \n",
      "7041               No          No          No              No  Month-to-month   \n",
      "7042              Yes         Yes         Yes             Yes        Two year   \n",
      "\n",
      "     PaperlessBilling              PaymentMethod MonthlyCharges  TotalCharges  \\\n",
      "7038              Yes               Mailed check          84.80        1990.5   \n",
      "7039              Yes    Credit card (automatic)         103.20        7362.9   \n",
      "7040              Yes           Electronic check          29.60        346.45   \n",
      "7041              Yes               Mailed check          74.40         306.6   \n",
      "7042              Yes  Bank transfer (automatic)         105.65        6844.5   \n",
      "\n",
      "     Churn  \n",
      "7038    No  \n",
      "7039    No  \n",
      "7040    No  \n",
      "7041   Yes  \n",
      "7042    No  \n",
      "\n",
      "[5 rows x 21 columns]\n",
      "\n",
      "---------- DATAFRAME INFO ----------\n",
      "<class 'pandas.core.frame.DataFrame'>\n",
      "RangeIndex: 7043 entries, 0 to 7042\n",
      "Data columns (total 21 columns):\n",
      " #   Column            Non-Null Count  Dtype  \n",
      "---  ------            --------------  -----  \n",
      " 0   customerID        7043 non-null   object \n",
      " 1   gender            7043 non-null   object \n",
      " 2   SeniorCitizen     7043 non-null   int64  \n",
      " 3   Partner           7043 non-null   object \n",
      " 4   Dependents        7043 non-null   object \n",
      " 5   tenure            7043 non-null   int64  \n",
      " 6   PhoneService      7043 non-null   object \n",
      " 7   MultipleLines     7043 non-null   object \n",
      " 8   InternetService   7043 non-null   object \n",
      " 9   OnlineSecurity    7043 non-null   object \n",
      " 10  OnlineBackup      7043 non-null   object \n",
      " 11  DeviceProtection  7043 non-null   object \n",
      " 12  TechSupport       7043 non-null   object \n",
      " 13  StreamingTV       7043 non-null   object \n",
      " 14  StreamingMovies   7043 non-null   object \n",
      " 15  Contract          7043 non-null   object \n",
      " 16  PaperlessBilling  7043 non-null   object \n",
      " 17  PaymentMethod     7043 non-null   object \n",
      " 18  MonthlyCharges    7043 non-null   float64\n",
      " 19  TotalCharges      7043 non-null   object \n",
      " 20  Churn             7043 non-null   object \n",
      "dtypes: float64(1), int64(2), object(18)\n",
      "memory usage: 1.1+ MB\n",
      "\n",
      "---------- DATAFRAME COLUMNS ----------\n",
      "Index(['customerID', 'gender', 'SeniorCitizen', 'Partner', 'Dependents',\n",
      "       'tenure', 'PhoneService', 'MultipleLines', 'InternetService',\n",
      "       'OnlineSecurity', 'OnlineBackup', 'DeviceProtection', 'TechSupport',\n",
      "       'StreamingTV', 'StreamingMovies', 'Contract', 'PaperlessBilling',\n",
      "       'PaymentMethod', 'MonthlyCharges', 'TotalCharges', 'Churn'],\n",
      "      dtype='object')\n"
     ]
    }
   ],
   "source": [
    "# DISPLAY THE FIRST 5 ROWS TO GET A QUICK OVERVIEW OF THE DATA\n",
    "print(\"---------- DATAFRAME HEAD ----------\")\n",
    "print(df.head()) \n",
    "\n",
    "# DISPLAY THE LAST 5 ROWS TO CHECK THE END OF THE DATASET\n",
    "print(\"\\n---------- DATAFRAME TAIL ----------\")\n",
    "print(df.tail()) \n",
    "\n",
    "# GET A CONCISE SUMMARY OF THE DATAFRAME, INCLUDING DATA TYPES AND NON-NULL VALUES\n",
    "print(\"\\n---------- DATAFRAME INFO ----------\")\n",
    "df.info()\n",
    "\n",
    "# PRINT COLUMN NAMES\n",
    "print(\"\\n---------- DATAFRAME COLUMNS ----------\")\n",
    "print(df.columns) "
   ]
  },
  {
   "cell_type": "markdown",
   "id": "7a37d62a",
   "metadata": {},
   "source": [
    "# DATA QUALITY AND CLEANING"
   ]
  },
  {
   "cell_type": "code",
   "execution_count": 4,
   "id": "d545877a",
   "metadata": {},
   "outputs": [
    {
     "name": "stdout",
     "output_type": "stream",
     "text": [
      "NUMBER OF DUPLICATE ROWS: 0\n",
      "\n",
      "---------- MISSING VALUES COUNT ----------\n",
      "customerID           0\n",
      "gender               0\n",
      "SeniorCitizen        0\n",
      "Partner              0\n",
      "Dependents           0\n",
      "tenure               0\n",
      "PhoneService         0\n",
      "MultipleLines        0\n",
      "InternetService      0\n",
      "OnlineSecurity       0\n",
      "OnlineBackup         0\n",
      "DeviceProtection     0\n",
      "TechSupport          0\n",
      "StreamingTV          0\n",
      "StreamingMovies      0\n",
      "Contract             0\n",
      "PaperlessBilling     0\n",
      "PaymentMethod        0\n",
      "MonthlyCharges       0\n",
      "TotalCharges        11\n",
      "Churn                0\n",
      "dtype: int64\n",
      "\n",
      "FILLED 0 MISSING 'TotalCharges' VALUES WITH THE MEDIAN (1397.475).\n",
      "CONVERTED 'CHURN' COLUMN TO NUMERIC (1 FOR YES, 0 FOR NO).\n"
     ]
    },
    {
     "name": "stderr",
     "output_type": "stream",
     "text": [
      "C:\\Users\\KIIT\\AppData\\Local\\Temp\\ipykernel_20408\\1881570200.py:15: FutureWarning: A value is trying to be set on a copy of a DataFrame or Series through chained assignment using an inplace method.\n",
      "The behavior will change in pandas 3.0. This inplace method will never work because the intermediate object on which we are setting values always behaves as a copy.\n",
      "\n",
      "For example, when doing 'df[col].method(value, inplace=True)', try using 'df.method({col: value}, inplace=True)' or df[col] = df[col].method(value) instead, to perform the operation inplace on the original object.\n",
      "\n",
      "\n",
      "  df['TotalCharges'].fillna(median_total_charges, inplace=True)\n"
     ]
    }
   ],
   "source": [
    "# CHECK FOR DUPLICATE ROWS IN THE ENTIRE DATASET\n",
    "duplicate_rows = df.duplicated().sum()\n",
    "print(f\"NUMBER OF DUPLICATE ROWS: {duplicate_rows}\")\n",
    "\n",
    "# CONVERT 'TOTALCHARGES' TO A NUMERIC TYPE. 'ERRORS='COERCE'' WILL REPLACE NON-NUMERIC VALUES WITH NAN\n",
    "df['TotalCharges'] = pd.to_numeric(df['TotalCharges'], errors='coerce')\n",
    "\n",
    "# CHECK FOR THE COUNT OF MISSING (NULL) VALUES IN EACH COLUMN\n",
    "print(\"\\n---------- MISSING VALUES COUNT ----------\")\n",
    "print(df.isnull().sum()) \n",
    "\n",
    "# HANDLE THE MISSING VALUES IN 'TOTALCHARGES' BY FILLING WITH THE COLUMN'S MEDIAN\n",
    "if df['TotalCharges'].isnull().sum() > 0: \n",
    "    median_total_charges = df['TotalCharges'].median() \n",
    "    df['TotalCharges'].fillna(median_total_charges, inplace=True) \n",
    "    print(f\"\\nFILLED {df['TotalCharges'].isnull().sum()} MISSING 'TotalCharges' VALUES WITH THE MEDIAN ({median_total_charges}).\")\n",
    "\n",
    "# CONVERT 'CHURN' COLUMN TO A MORE USABLE NUMERIC FORMAT (0 OR 1)\n",
    "df['Churn'] = df['Churn'].apply(lambda x: 1 if x == 'Yes' else 0)\n",
    "print(\"CONVERTED 'CHURN' COLUMN TO NUMERIC (1 FOR YES, 0 FOR NO).\")"
   ]
  },
  {
   "cell_type": "markdown",
   "id": "66800d94",
   "metadata": {},
   "source": [
    "# DESCRIPTIVE STATISTICS"
   ]
  },
  {
   "cell_type": "code",
   "execution_count": 5,
   "id": "9f106456",
   "metadata": {},
   "outputs": [
    {
     "name": "stdout",
     "output_type": "stream",
     "text": [
      "---------- DESCRIPTIVE STATISTICS (NUMERICAL COLUMNS) ----------\n"
     ]
    },
    {
     "data": {
      "application/vnd.microsoft.datawrangler.viewer.v0+json": {
       "columns": [
        {
         "name": "index",
         "rawType": "object",
         "type": "string"
        },
        {
         "name": "SeniorCitizen",
         "rawType": "float64",
         "type": "float"
        },
        {
         "name": "tenure",
         "rawType": "float64",
         "type": "float"
        },
        {
         "name": "MonthlyCharges",
         "rawType": "float64",
         "type": "float"
        },
        {
         "name": "TotalCharges",
         "rawType": "float64",
         "type": "float"
        },
        {
         "name": "Churn",
         "rawType": "float64",
         "type": "float"
        }
       ],
       "ref": "38207b5a-7d67-4f28-bdae-2547a215eb66",
       "rows": [
        [
         "count",
         "7043.0",
         "7043.0",
         "7043.0",
         "7043.0",
         "7043.0"
        ],
        [
         "mean",
         "0.1621468124378816",
         "32.37114865824223",
         "64.76169246059918",
         "2281.9169281556156",
         "0.2653698707936959"
        ],
        [
         "std",
         "0.3686116056100131",
         "24.55948102309446",
         "30.090047097678493",
         "2265.270398482188",
         "0.441561305121947"
        ],
        [
         "min",
         "0.0",
         "0.0",
         "18.25",
         "18.8",
         "0.0"
        ],
        [
         "25%",
         "0.0",
         "9.0",
         "35.5",
         "402.225",
         "0.0"
        ],
        [
         "50%",
         "0.0",
         "29.0",
         "70.35",
         "1397.475",
         "0.0"
        ],
        [
         "75%",
         "0.0",
         "55.0",
         "89.85",
         "3786.6",
         "1.0"
        ],
        [
         "max",
         "1.0",
         "72.0",
         "118.75",
         "8684.8",
         "1.0"
        ]
       ],
       "shape": {
        "columns": 5,
        "rows": 8
       }
      },
      "text/html": [
       "<div>\n",
       "<style scoped>\n",
       "    .dataframe tbody tr th:only-of-type {\n",
       "        vertical-align: middle;\n",
       "    }\n",
       "\n",
       "    .dataframe tbody tr th {\n",
       "        vertical-align: top;\n",
       "    }\n",
       "\n",
       "    .dataframe thead th {\n",
       "        text-align: right;\n",
       "    }\n",
       "</style>\n",
       "<table border=\"1\" class=\"dataframe\">\n",
       "  <thead>\n",
       "    <tr style=\"text-align: right;\">\n",
       "      <th></th>\n",
       "      <th>SeniorCitizen</th>\n",
       "      <th>tenure</th>\n",
       "      <th>MonthlyCharges</th>\n",
       "      <th>TotalCharges</th>\n",
       "      <th>Churn</th>\n",
       "    </tr>\n",
       "  </thead>\n",
       "  <tbody>\n",
       "    <tr>\n",
       "      <th>count</th>\n",
       "      <td>7043.000000</td>\n",
       "      <td>7043.000000</td>\n",
       "      <td>7043.000000</td>\n",
       "      <td>7043.000000</td>\n",
       "      <td>7043.000000</td>\n",
       "    </tr>\n",
       "    <tr>\n",
       "      <th>mean</th>\n",
       "      <td>0.162147</td>\n",
       "      <td>32.371149</td>\n",
       "      <td>64.761692</td>\n",
       "      <td>2281.916928</td>\n",
       "      <td>0.265370</td>\n",
       "    </tr>\n",
       "    <tr>\n",
       "      <th>std</th>\n",
       "      <td>0.368612</td>\n",
       "      <td>24.559481</td>\n",
       "      <td>30.090047</td>\n",
       "      <td>2265.270398</td>\n",
       "      <td>0.441561</td>\n",
       "    </tr>\n",
       "    <tr>\n",
       "      <th>min</th>\n",
       "      <td>0.000000</td>\n",
       "      <td>0.000000</td>\n",
       "      <td>18.250000</td>\n",
       "      <td>18.800000</td>\n",
       "      <td>0.000000</td>\n",
       "    </tr>\n",
       "    <tr>\n",
       "      <th>25%</th>\n",
       "      <td>0.000000</td>\n",
       "      <td>9.000000</td>\n",
       "      <td>35.500000</td>\n",
       "      <td>402.225000</td>\n",
       "      <td>0.000000</td>\n",
       "    </tr>\n",
       "    <tr>\n",
       "      <th>50%</th>\n",
       "      <td>0.000000</td>\n",
       "      <td>29.000000</td>\n",
       "      <td>70.350000</td>\n",
       "      <td>1397.475000</td>\n",
       "      <td>0.000000</td>\n",
       "    </tr>\n",
       "    <tr>\n",
       "      <th>75%</th>\n",
       "      <td>0.000000</td>\n",
       "      <td>55.000000</td>\n",
       "      <td>89.850000</td>\n",
       "      <td>3786.600000</td>\n",
       "      <td>1.000000</td>\n",
       "    </tr>\n",
       "    <tr>\n",
       "      <th>max</th>\n",
       "      <td>1.000000</td>\n",
       "      <td>72.000000</td>\n",
       "      <td>118.750000</td>\n",
       "      <td>8684.800000</td>\n",
       "      <td>1.000000</td>\n",
       "    </tr>\n",
       "  </tbody>\n",
       "</table>\n",
       "</div>"
      ],
      "text/plain": [
       "       SeniorCitizen       tenure  MonthlyCharges  TotalCharges        Churn\n",
       "count    7043.000000  7043.000000     7043.000000   7043.000000  7043.000000\n",
       "mean        0.162147    32.371149       64.761692   2281.916928     0.265370\n",
       "std         0.368612    24.559481       30.090047   2265.270398     0.441561\n",
       "min         0.000000     0.000000       18.250000     18.800000     0.000000\n",
       "25%         0.000000     9.000000       35.500000    402.225000     0.000000\n",
       "50%         0.000000    29.000000       70.350000   1397.475000     0.000000\n",
       "75%         0.000000    55.000000       89.850000   3786.600000     1.000000\n",
       "max         1.000000    72.000000      118.750000   8684.800000     1.000000"
      ]
     },
     "metadata": {},
     "output_type": "display_data"
    },
    {
     "name": "stdout",
     "output_type": "stream",
     "text": [
      "\n",
      "---------- DESCRIPTIVE STATISTICS (CATEGORICAL COLUMNS) ----------\n"
     ]
    },
    {
     "data": {
      "application/vnd.microsoft.datawrangler.viewer.v0+json": {
       "columns": [
        {
         "name": "index",
         "rawType": "object",
         "type": "string"
        },
        {
         "name": "customerID",
         "rawType": "object",
         "type": "unknown"
        },
        {
         "name": "gender",
         "rawType": "object",
         "type": "unknown"
        },
        {
         "name": "Partner",
         "rawType": "object",
         "type": "unknown"
        },
        {
         "name": "Dependents",
         "rawType": "object",
         "type": "unknown"
        },
        {
         "name": "PhoneService",
         "rawType": "object",
         "type": "unknown"
        },
        {
         "name": "MultipleLines",
         "rawType": "object",
         "type": "unknown"
        },
        {
         "name": "InternetService",
         "rawType": "object",
         "type": "unknown"
        },
        {
         "name": "OnlineSecurity",
         "rawType": "object",
         "type": "unknown"
        },
        {
         "name": "OnlineBackup",
         "rawType": "object",
         "type": "unknown"
        },
        {
         "name": "DeviceProtection",
         "rawType": "object",
         "type": "unknown"
        },
        {
         "name": "TechSupport",
         "rawType": "object",
         "type": "unknown"
        },
        {
         "name": "StreamingTV",
         "rawType": "object",
         "type": "unknown"
        },
        {
         "name": "StreamingMovies",
         "rawType": "object",
         "type": "unknown"
        },
        {
         "name": "Contract",
         "rawType": "object",
         "type": "unknown"
        },
        {
         "name": "PaperlessBilling",
         "rawType": "object",
         "type": "unknown"
        },
        {
         "name": "PaymentMethod",
         "rawType": "object",
         "type": "unknown"
        }
       ],
       "ref": "4e525bce-5685-40c9-9f4c-33deb34c3641",
       "rows": [
        [
         "count",
         "7043",
         "7043",
         "7043",
         "7043",
         "7043",
         "7043",
         "7043",
         "7043",
         "7043",
         "7043",
         "7043",
         "7043",
         "7043",
         "7043",
         "7043",
         "7043"
        ],
        [
         "unique",
         "7043",
         "2",
         "2",
         "2",
         "2",
         "3",
         "3",
         "3",
         "3",
         "3",
         "3",
         "3",
         "3",
         "3",
         "2",
         "4"
        ],
        [
         "top",
         "7590-VHVEG",
         "Male",
         "No",
         "No",
         "Yes",
         "No",
         "Fiber optic",
         "No",
         "No",
         "No",
         "No",
         "No",
         "No",
         "Month-to-month",
         "Yes",
         "Electronic check"
        ],
        [
         "freq",
         "1",
         "3555",
         "3641",
         "4933",
         "6361",
         "3390",
         "3096",
         "3498",
         "3088",
         "3095",
         "3473",
         "2810",
         "2785",
         "3875",
         "4171",
         "2365"
        ]
       ],
       "shape": {
        "columns": 16,
        "rows": 4
       }
      },
      "text/html": [
       "<div>\n",
       "<style scoped>\n",
       "    .dataframe tbody tr th:only-of-type {\n",
       "        vertical-align: middle;\n",
       "    }\n",
       "\n",
       "    .dataframe tbody tr th {\n",
       "        vertical-align: top;\n",
       "    }\n",
       "\n",
       "    .dataframe thead th {\n",
       "        text-align: right;\n",
       "    }\n",
       "</style>\n",
       "<table border=\"1\" class=\"dataframe\">\n",
       "  <thead>\n",
       "    <tr style=\"text-align: right;\">\n",
       "      <th></th>\n",
       "      <th>customerID</th>\n",
       "      <th>gender</th>\n",
       "      <th>Partner</th>\n",
       "      <th>Dependents</th>\n",
       "      <th>PhoneService</th>\n",
       "      <th>MultipleLines</th>\n",
       "      <th>InternetService</th>\n",
       "      <th>OnlineSecurity</th>\n",
       "      <th>OnlineBackup</th>\n",
       "      <th>DeviceProtection</th>\n",
       "      <th>TechSupport</th>\n",
       "      <th>StreamingTV</th>\n",
       "      <th>StreamingMovies</th>\n",
       "      <th>Contract</th>\n",
       "      <th>PaperlessBilling</th>\n",
       "      <th>PaymentMethod</th>\n",
       "    </tr>\n",
       "  </thead>\n",
       "  <tbody>\n",
       "    <tr>\n",
       "      <th>count</th>\n",
       "      <td>7043</td>\n",
       "      <td>7043</td>\n",
       "      <td>7043</td>\n",
       "      <td>7043</td>\n",
       "      <td>7043</td>\n",
       "      <td>7043</td>\n",
       "      <td>7043</td>\n",
       "      <td>7043</td>\n",
       "      <td>7043</td>\n",
       "      <td>7043</td>\n",
       "      <td>7043</td>\n",
       "      <td>7043</td>\n",
       "      <td>7043</td>\n",
       "      <td>7043</td>\n",
       "      <td>7043</td>\n",
       "      <td>7043</td>\n",
       "    </tr>\n",
       "    <tr>\n",
       "      <th>unique</th>\n",
       "      <td>7043</td>\n",
       "      <td>2</td>\n",
       "      <td>2</td>\n",
       "      <td>2</td>\n",
       "      <td>2</td>\n",
       "      <td>3</td>\n",
       "      <td>3</td>\n",
       "      <td>3</td>\n",
       "      <td>3</td>\n",
       "      <td>3</td>\n",
       "      <td>3</td>\n",
       "      <td>3</td>\n",
       "      <td>3</td>\n",
       "      <td>3</td>\n",
       "      <td>2</td>\n",
       "      <td>4</td>\n",
       "    </tr>\n",
       "    <tr>\n",
       "      <th>top</th>\n",
       "      <td>7590-VHVEG</td>\n",
       "      <td>Male</td>\n",
       "      <td>No</td>\n",
       "      <td>No</td>\n",
       "      <td>Yes</td>\n",
       "      <td>No</td>\n",
       "      <td>Fiber optic</td>\n",
       "      <td>No</td>\n",
       "      <td>No</td>\n",
       "      <td>No</td>\n",
       "      <td>No</td>\n",
       "      <td>No</td>\n",
       "      <td>No</td>\n",
       "      <td>Month-to-month</td>\n",
       "      <td>Yes</td>\n",
       "      <td>Electronic check</td>\n",
       "    </tr>\n",
       "    <tr>\n",
       "      <th>freq</th>\n",
       "      <td>1</td>\n",
       "      <td>3555</td>\n",
       "      <td>3641</td>\n",
       "      <td>4933</td>\n",
       "      <td>6361</td>\n",
       "      <td>3390</td>\n",
       "      <td>3096</td>\n",
       "      <td>3498</td>\n",
       "      <td>3088</td>\n",
       "      <td>3095</td>\n",
       "      <td>3473</td>\n",
       "      <td>2810</td>\n",
       "      <td>2785</td>\n",
       "      <td>3875</td>\n",
       "      <td>4171</td>\n",
       "      <td>2365</td>\n",
       "    </tr>\n",
       "  </tbody>\n",
       "</table>\n",
       "</div>"
      ],
      "text/plain": [
       "        customerID gender Partner Dependents PhoneService MultipleLines  \\\n",
       "count         7043   7043    7043       7043         7043          7043   \n",
       "unique        7043      2       2          2            2             3   \n",
       "top     7590-VHVEG   Male      No         No          Yes            No   \n",
       "freq             1   3555    3641       4933         6361          3390   \n",
       "\n",
       "       InternetService OnlineSecurity OnlineBackup DeviceProtection  \\\n",
       "count             7043           7043         7043             7043   \n",
       "unique               3              3            3                3   \n",
       "top        Fiber optic             No           No               No   \n",
       "freq              3096           3498         3088             3095   \n",
       "\n",
       "       TechSupport StreamingTV StreamingMovies        Contract  \\\n",
       "count         7043        7043            7043            7043   \n",
       "unique           3           3               3               3   \n",
       "top             No          No              No  Month-to-month   \n",
       "freq          3473        2810            2785            3875   \n",
       "\n",
       "       PaperlessBilling     PaymentMethod  \n",
       "count              7043              7043  \n",
       "unique                2                 4  \n",
       "top                 Yes  Electronic check  \n",
       "freq               4171              2365  "
      ]
     },
     "metadata": {},
     "output_type": "display_data"
    },
    {
     "name": "stdout",
     "output_type": "stream",
     "text": [
      "\n",
      "---------- OVERALL CHURN RATE ANALYSIS ----------\n",
      "CHURNED: 26.54%\n",
      "NOT CHURNED: 73.46%\n"
     ]
    }
   ],
   "source": [
    "# GENERATE DESCRIPTIVE STATISTICS FOR ALL NUMERICAL COLUMNS\n",
    "print(\"---------- DESCRIPTIVE STATISTICS (NUMERICAL COLUMNS) ----------\")\n",
    "display(df.describe())\n",
    "\n",
    "# GENERATE DESCRIPTIVE STATISTICS FOR ALL CATEGORICAL (OBJECT) COLUMNS\n",
    "print(\"\\n---------- DESCRIPTIVE STATISTICS (CATEGORICAL COLUMNS) ----------\")\n",
    "display(df.describe(include='object'))\n",
    "\n",
    "# CALCULATE THE OVERALL CHURN RATE\n",
    "print(\"\\n---------- OVERALL CHURN RATE ANALYSIS ----------\")\n",
    "# .VALUE_COUNTS(NORMALIZE=TRUE) GIVES THE PROPORTION OF EACH CATEGORY\n",
    "churn_rate = df['Churn'].value_counts(normalize=True) * 100\n",
    "print(f\"CHURNED: {churn_rate[1]:.2f}%\") \n",
    "print(f\"NOT CHURNED: {churn_rate[0]:.2f}%\") "
   ]
  },
  {
   "cell_type": "markdown",
   "id": "5ddb3595",
   "metadata": {},
   "source": [
    "# CATEGORICAL FEATURE ANALYSIS"
   ]
  },
  {
   "cell_type": "code",
   "execution_count": 6,
   "id": "2b36c430",
   "metadata": {},
   "outputs": [
    {
     "name": "stdout",
     "output_type": "stream",
     "text": [
      "CATEGORICAL COLUMNS: ['customerID', 'gender', 'Partner', 'Dependents', 'PhoneService', 'MultipleLines', 'InternetService', 'OnlineSecurity', 'OnlineBackup', 'DeviceProtection', 'TechSupport', 'StreamingTV', 'StreamingMovies', 'Contract', 'PaperlessBilling', 'PaymentMethod']\n",
      "\n",
      "COLUMN: customerID\n",
      "customerID\n",
      "7590-VHVEG    1\n",
      "5575-GNVDE    1\n",
      "3668-QPYBK    1\n",
      "7795-CFOCW    1\n",
      "9237-HQITU    1\n",
      "9305-CDSKC    1\n",
      "1452-KIOVK    1\n",
      "6713-OKOMC    1\n",
      "7892-POOKP    1\n",
      "6388-TABGU    1\n",
      "Name: count, dtype: int64\n",
      "\n",
      "COLUMN: gender\n",
      "gender\n",
      "Male      3555\n",
      "Female    3488\n",
      "Name: count, dtype: int64\n",
      "\n",
      "COLUMN: Partner\n",
      "Partner\n",
      "No     3641\n",
      "Yes    3402\n",
      "Name: count, dtype: int64\n",
      "\n",
      "COLUMN: Dependents\n",
      "Dependents\n",
      "No     4933\n",
      "Yes    2110\n",
      "Name: count, dtype: int64\n",
      "\n",
      "COLUMN: PhoneService\n",
      "PhoneService\n",
      "Yes    6361\n",
      "No      682\n",
      "Name: count, dtype: int64\n",
      "\n",
      "COLUMN: MultipleLines\n",
      "MultipleLines\n",
      "No                  3390\n",
      "Yes                 2971\n",
      "No phone service     682\n",
      "Name: count, dtype: int64\n",
      "\n",
      "COLUMN: InternetService\n",
      "InternetService\n",
      "Fiber optic    3096\n",
      "DSL            2421\n",
      "No             1526\n",
      "Name: count, dtype: int64\n",
      "\n",
      "COLUMN: OnlineSecurity\n",
      "OnlineSecurity\n",
      "No                     3498\n",
      "Yes                    2019\n",
      "No internet service    1526\n",
      "Name: count, dtype: int64\n",
      "\n",
      "COLUMN: OnlineBackup\n",
      "OnlineBackup\n",
      "No                     3088\n",
      "Yes                    2429\n",
      "No internet service    1526\n",
      "Name: count, dtype: int64\n",
      "\n",
      "COLUMN: DeviceProtection\n",
      "DeviceProtection\n",
      "No                     3095\n",
      "Yes                    2422\n",
      "No internet service    1526\n",
      "Name: count, dtype: int64\n",
      "\n",
      "COLUMN: TechSupport\n",
      "TechSupport\n",
      "No                     3473\n",
      "Yes                    2044\n",
      "No internet service    1526\n",
      "Name: count, dtype: int64\n",
      "\n",
      "COLUMN: StreamingTV\n",
      "StreamingTV\n",
      "No                     2810\n",
      "Yes                    2707\n",
      "No internet service    1526\n",
      "Name: count, dtype: int64\n",
      "\n",
      "COLUMN: StreamingMovies\n",
      "StreamingMovies\n",
      "No                     2785\n",
      "Yes                    2732\n",
      "No internet service    1526\n",
      "Name: count, dtype: int64\n",
      "\n",
      "COLUMN: Contract\n",
      "Contract\n",
      "Month-to-month    3875\n",
      "Two year          1695\n",
      "One year          1473\n",
      "Name: count, dtype: int64\n",
      "\n",
      "COLUMN: PaperlessBilling\n",
      "PaperlessBilling\n",
      "Yes    4171\n",
      "No     2872\n",
      "Name: count, dtype: int64\n",
      "\n",
      "COLUMN: PaymentMethod\n",
      "PaymentMethod\n",
      "Electronic check             2365\n",
      "Mailed check                 1612\n",
      "Bank transfer (automatic)    1544\n",
      "Credit card (automatic)      1522\n",
      "Name: count, dtype: int64\n"
     ]
    }
   ],
   "source": [
    "# SELECT CATEGORICAL COLUMNS (OBJECT TYPE)\n",
    "categorical_cols = df.select_dtypes(include=\"object\").columns  \n",
    "print(\"CATEGORICAL COLUMNS:\", list(categorical_cols)) \n",
    "\n",
    "# DISPLAY UNIQUE VALUES COUNT FOR EACH CATEGORICAL COLUMN\n",
    "for col in categorical_cols:  \n",
    "    print(f\"\\nCOLUMN: {col}\")  \n",
    "    print(df[col].value_counts().head(10)) "
   ]
  },
  {
   "cell_type": "code",
   "execution_count": 7,
   "id": "c1570586",
   "metadata": {},
   "outputs": [
    {
     "name": "stdout",
     "output_type": "stream",
     "text": [
      "---------- CONTRACT TYPE DISTRIBUTION ----------\n",
      "Contract\n",
      "Month-to-month    3875\n",
      "Two year          1695\n",
      "One year          1473\n",
      "Name: count, dtype: int64\n",
      "\n",
      "---------- INTERNET SERVICE DISTRIBUTION ----------\n",
      "InternetService\n",
      "Fiber optic    3096\n",
      "DSL            2421\n",
      "No             1526\n",
      "Name: count, dtype: int64\n",
      "\n",
      "---------- PAYMENT METHOD DISTRIBUTION ----------\n",
      "PaymentMethod\n",
      "Electronic check             2365\n",
      "Mailed check                 1612\n",
      "Bank transfer (automatic)    1544\n",
      "Credit card (automatic)      1522\n",
      "Name: count, dtype: int64\n",
      "\n",
      "---------- CHURN RATE BY CONTRACT TYPE ----------\n",
      "Contract\n",
      "Month-to-month    42.709677\n",
      "One year          11.269518\n",
      "Two year           2.831858\n",
      "Name: Churn, dtype: float64\n"
     ]
    }
   ],
   "source": [
    "# ANALYZE THE DISTRIBUTION OF VALUES IN KEY CATEGORICAL COLUMNS\n",
    "\n",
    "print(\"---------- CONTRACT TYPE DISTRIBUTION ----------\")\n",
    "print(df['Contract'].value_counts())\n",
    "\n",
    "print(\"\\n---------- INTERNET SERVICE DISTRIBUTION ----------\")\n",
    "print(df['InternetService'].value_counts())\n",
    "\n",
    "print(\"\\n---------- PAYMENT METHOD DISTRIBUTION ----------\")\n",
    "print(df['PaymentMethod'].value_counts())\n",
    "\n",
    "# GROUP DATA BY 'CONTRACT' TYPE AND CALCULATE THE AVERAGE CHURN RATE FOR EACH\n",
    "print(\"\\n---------- CHURN RATE BY CONTRACT TYPE ----------\")\n",
    "churn_by_contract = df.groupby('Contract')['Churn'].mean() * 100\n",
    "print(churn_by_contract.sort_values(ascending=False)) "
   ]
  },
  {
   "cell_type": "markdown",
   "id": "46321e86",
   "metadata": {},
   "source": [
    "# NUMERICAL VARIABLE ANALYSIS"
   ]
  },
  {
   "cell_type": "code",
   "execution_count": 8,
   "id": "9c7ba7df",
   "metadata": {},
   "outputs": [
    {
     "name": "stdout",
     "output_type": "stream",
     "text": [
      "NUMERICAL COLUMNS: ['SeniorCitizen', 'tenure', 'MonthlyCharges', 'TotalCharges', 'Churn']\n",
      "\n",
      "COLUMN: SeniorCitizen\n",
      "MEAN: 0.1621468124378816\n",
      "STD DEV: 0.3686116056100131\n",
      "MIN: 0\n",
      "MAX: 1\n",
      "\n",
      "COLUMN: tenure\n",
      "MEAN: 32.37114865824223\n",
      "STD DEV: 24.55948102309446\n",
      "MIN: 0\n",
      "MAX: 72\n",
      "\n",
      "COLUMN: MonthlyCharges\n",
      "MEAN: 64.76169246059918\n",
      "STD DEV: 30.090047097678493\n",
      "MIN: 18.25\n",
      "MAX: 118.75\n",
      "\n",
      "COLUMN: TotalCharges\n",
      "MEAN: 2281.9169281556156\n",
      "STD DEV: 2265.270398482188\n",
      "MIN: 18.8\n",
      "MAX: 8684.8\n",
      "\n",
      "COLUMN: Churn\n",
      "MEAN: 0.2653698707936959\n",
      "STD DEV: 0.441561305121947\n",
      "MIN: 0\n",
      "MAX: 1\n"
     ]
    }
   ],
   "source": [
    "# SELECT NUMERICAL COLUMNS\n",
    "numerical_cols = df.select_dtypes(include=[\"int64\", \"float64\"]).columns  \n",
    "print(\"NUMERICAL COLUMNS:\", list(numerical_cols))  \n",
    "\n",
    "# DISPLAY SUMMARY STATISTICS COLUMN-WISE\n",
    "for col in numerical_cols:  \n",
    "    print(f\"\\nCOLUMN: {col}\")  \n",
    "    print(\"MEAN:\", df[col].mean())  \n",
    "    print(\"STD DEV:\", df[col].std())  \n",
    "    print(\"MIN:\", df[col].min())  \n",
    "    print(\"MAX:\", df[col].max())  "
   ]
  },
  {
   "cell_type": "markdown",
   "id": "c301a08f",
   "metadata": {},
   "source": [
    "# CORRELATION ANALYSIS"
   ]
  },
  {
   "cell_type": "code",
   "execution_count": 9,
   "id": "a70423c6",
   "metadata": {},
   "outputs": [
    {
     "name": "stdout",
     "output_type": "stream",
     "text": [
      "CORRELATION MATRIX:\n",
      "                 SeniorCitizen    tenure  MonthlyCharges  TotalCharges  \\\n",
      "SeniorCitizen        1.000000  0.016567        0.220173      0.102652   \n",
      "tenure               0.016567  1.000000        0.247900      0.825464   \n",
      "MonthlyCharges       0.220173  0.247900        1.000000      0.650864   \n",
      "TotalCharges         0.102652  0.825464        0.650864      1.000000   \n",
      "Churn                0.150889 -0.352229        0.193356     -0.199037   \n",
      "\n",
      "                   Churn  \n",
      "SeniorCitizen   0.150889  \n",
      "tenure         -0.352229  \n",
      "MonthlyCharges  0.193356  \n",
      "TotalCharges   -0.199037  \n",
      "Churn           1.000000  \n"
     ]
    }
   ],
   "source": [
    "# COMPUTE CORRELATION MATRIX FOR NUMERICAL COLUMNS\n",
    "correlation_matrix = df.corr(numeric_only=True)  \n",
    "print(\"CORRELATION MATRIX:\\n\", correlation_matrix) "
   ]
  },
  {
   "cell_type": "code",
   "execution_count": 10,
   "id": "f36b3e73",
   "metadata": {},
   "outputs": [
    {
     "data": {
      "image/png": "[encoded data removed]",
      "text/plain": [
       "<Figure size 1000x800 with 2 Axes>"
      ]
     },
     "metadata": {},
     "output_type": "display_data"
    },
    {
     "data": {
      "image/png": "[encoded data removed]",
      "text/plain": [
       "<Figure size 808.875x750 with 12 Axes>"
      ]
     },
     "metadata": {},
     "output_type": "display_data"
    }
   ],
   "source": [
    "import seaborn as sns\n",
    "import matplotlib.pyplot as plt\n",
    "\n",
    "# CORRELATION HEATMAP\n",
    "plt.figure(figsize=(10,8))\n",
    "sns.heatmap(df.corr(numeric_only=True), annot=True, cmap=\"coolwarm\", fmt=\".2f\")\n",
    "plt.title(\"CORRELATION MATRIX (NUMERIC FEATURES)\")\n",
    "plt.show()\n",
    "\n",
    "# PAIR PLOT ON SELECT NUMERIC FEATURES\n",
    "sns.pairplot(df[['tenure', 'MonthlyCharges', 'TotalCharges', 'Churn']], hue='Churn')\n",
    "plt.show()"
   ]
  },
  {
   "cell_type": "markdown",
   "id": "82e9c8a0",
   "metadata": {},
   "source": [
    "# DATA PREPARATION FOR MODEL TRAINING"
   ]
  },
  {
   "cell_type": "code",
   "execution_count": null,
   "id": "1b423c44",
   "metadata": {},
   "outputs": [
    {
     "name": "stdout",
     "output_type": "stream",
     "text": [
      "CATEGORICAL COLUMNS: ['gender', 'Partner', 'Dependents', 'PhoneService', 'MultipleLines', 'InternetService', 'OnlineSecurity', 'OnlineBackup', 'DeviceProtection', 'TechSupport', 'StreamingTV', 'StreamingMovies', 'Contract', 'PaperlessBilling', 'PaymentMethod']\n",
      "NUMERICAL COLUMNS: ['SeniorCitizen', 'tenure', 'MonthlyCharges', 'TotalCharges']\n"
     ]
    }
   ],
   "source": [
    "from sklearn.preprocessing import OneHotEncoder, StandardScaler\n",
    "\n",
    "# 1. DROP NON-INFORMATIVE COLUMNS\n",
    "df_clean = df.drop(columns=[\"customerID\"])  \n",
    "\n",
    "# 2. SEPARATE FEATURES AND TARGET\n",
    "X = df_clean.drop(\"Churn\", axis=1)  \n",
    "y = df_clean[\"Churn\"]  \n",
    "\n",
    "# 3. IDENTIFY CATEGORICAL AND NUMERICAL COLUMNS\n",
    "categorical_cols = X.select_dtypes(include=\"object\").columns.tolist() \n",
    "numerical_cols = X.select_dtypes(include=[\"int64\", \"float64\"]).columns.tolist()  \n",
    "\n",
    "print(\"CATEGORICAL COLUMNS:\", categorical_cols)\n",
    "print(\"NUMERICAL COLUMNS:\", numerical_cols)\n",
    "\n",
    "# 4. ONE-HOT ENCODE CATEGORICAL COLUMNS\n",
    "X_encoded = pd.get_dummies(X, columns=categorical_cols, drop_first=True)  \n",
    "\n",
    "# 5. SCALE NUMERICAL COLUMNS (OPTIONAL)\n",
    "scaler = StandardScaler()\n",
    "X_encoded[numerical_cols] = scaler.fit_transform(X_encoded[numerical_cols])\n",
    "\n",
    "# 6. FINAL DATASET READY FOR MODELING\n",
    "print(\"FINAL DATASET SHAPE:\", X_encoded.shape)\n",
    "\n",
    "# 7. SAVE CLEAN DATASET FOR TEAMMATES\n",
    "final_dataset = X_encoded.copy()\n",
    "final_dataset[\"Churn\"] = y  \n",
    "# SAVE FINAL ML-READY DATASET\n",
    "final_dataset.to_csv('../DATASET/DATA[T].csv', index=False)"
   ]
  },
  {
   "cell_type": "code",
   "execution_count": 12,
   "id": "015b9d05",
   "metadata": {},
   "outputs": [],
   "source": [
    "df[\"SeniorCitizen\"]= df[\"SeniorCitizen\"].map({0: \"No\", 1: \"Yes\"})"
   ]
  },
  {
   "cell_type": "markdown",
   "id": "4fc99876",
   "metadata": {},
   "source": [
    "# DATA VISUALIZATION"
   ]
  },
  {
   "cell_type": "code",
   "execution_count": 46,
   "id": "e8a33c0a",
   "metadata": {},
   "outputs": [
    {
     "data": {
      "application/vnd.plotly.v1+json": {
       "config": {
        "plotlyServerURL": "https://plot.ly"
       },
       "data": [
        {
         "domain": {
          "x": [
           0,
           0.45
          ],
          "y": [
           0,
           1
          ]
         },
         "hole": 0.4,
         "labels": [
          "Male",
          "Female"
         ],
         "marker": {
          "colors": [
           "#636EFA",
           "#EF553B"
          ]
         },
         "name": "Gender",
         "textfont": {
          "size": 16
         },
         "textinfo": "percent+label",
         "type": "pie",
         "values": {
          "bdata": "4w2gDQ==",
          "dtype": "i2"
         }
        },
        {
         "domain": {
          "x": [
           0.55,
           1
          ],
          "y": [
           0,
           1
          ]
         },
         "hole": 0.4,
         "labels": [
          "No",
          "Yes"
         ],
         "marker": {
          "colors": [
           "#00CC96",
           "#AB63FA"
          ]
         },
         "name": "Churn",
         "textfont": {
          "size": 16
         },
         "textinfo": "percent+label",
         "type": "pie",
         "values": {
          "bdata": "NhRNBw==",
          "dtype": "i2"
         }
        }
       ],
       "layout": {
        "annotations": [
         {
          "font": {
           "size": 20
          },
          "showarrow": false,
          "text": "Gender",
          "x": 0.16,
          "y": 0.5
         },
         {
          "font": {
           "size": 20
          },
          "showarrow": false,
          "text": "Churn",
          "x": 0.84,
          "y": 0.5
         }
        ],
        "showlegend": false,
        "template": {
         "data": {
          "bar": [
           {
            "error_x": {
             "color": "#2a3f5f"
            },
            "error_y": {
             "color": "#2a3f5f"
            },
            "marker": {
             "line": {
              "color": "#E5ECF6",
              "width": 0.5
             },
             "pattern": {
              "fillmode": "overlay",
              "size": 10,
              "solidity": 0.2
             }
            },
            "type": "bar"
           }
          ],
          "barpolar": [
           {
            "marker": {
             "line": {
              "color": "#E5ECF6",
              "width": 0.5
             },
             "pattern": {
              "fillmode": "overlay",
              "size": 10,
              "solidity": 0.2
             }
            },
            "type": "barpolar"
           }
          ],
          "carpet": [
           {
            "aaxis": {
             "endlinecolor": "#2a3f5f",
             "gridcolor": "white",
             "linecolor": "white",
             "minorgridcolor": "white",
             "startlinecolor": "#2a3f5f"
            },
            "baxis": {
             "endlinecolor": "#2a3f5f",
             "gridcolor": "white",
             "linecolor": "white",
             "minorgridcolor": "white",
             "startlinecolor": "#2a3f5f"
            },
            "type": "carpet"
           }
          ],
          "choropleth": [
           {
            "colorbar": {
             "outlinewidth": 0,
             "ticks": ""
            },
            "type": "choropleth"
           }
          ],
          "contour": [
           {
            "colorbar": {
             "outlinewidth": 0,
             "ticks": ""
            },
            "colorscale": [
             [
              0,
              "#0d0887"
             ],
             [
              0.1111111111111111,
              "#46039f"
             ],
             [
              0.2222222222222222,
              "#7201a8"
             ],
             [
              0.3333333333333333,
              "#9c179e"
             ],
             [
              0.4444444444444444,
              "#bd3786"
             ],
             [
              0.5555555555555556,
              "#d8576b"
             ],
             [
              0.6666666666666666,
              "#ed7953"
             ],
             [
              0.7777777777777778,
              "#fb9f3a"
             ],
             [
              0.8888888888888888,
              "#fdca26"
             ],
             [
              1,
              "#f0f921"
             ]
            ],
            "type": "contour"
           }
          ],
          "contourcarpet": [
           {
            "colorbar": {
             "outlinewidth": 0,
             "ticks": ""
            },
            "type": "contourcarpet"
           }
          ],
          "heatmap": [
           {
            "colorbar": {
             "outlinewidth": 0,
             "ticks": ""
            },
            "colorscale": [
             [
              0,
              "#0d0887"
             ],
             [
              0.1111111111111111,
              "#46039f"
             ],
             [
              0.2222222222222222,
              "#7201a8"
             ],
             [
              0.3333333333333333,
              "#9c179e"
             ],
             [
              0.4444444444444444,
              "#bd3786"
             ],
             [
              0.5555555555555556,
              "#d8576b"
             ],
             [
              0.6666666666666666,
              "#ed7953"
             ],
             [
              0.7777777777777778,
              "#fb9f3a"
             ],
             [
              0.8888888888888888,
              "#fdca26"
             ],
             [
              1,
              "#f0f921"
             ]
            ],
            "type": "heatmap"
           }
          ],
          "histogram": [
           {
            "marker": {
             "pattern": {
              "fillmode": "overlay",
              "size": 10,
              "solidity": 0.2
             }
            },
            "type": "histogram"
           }
          ],
          "histogram2d": [
           {
            "colorbar": {
             "outlinewidth": 0,
             "ticks": ""
            },
            "colorscale": [
             [
              0,
              "#0d0887"
             ],
             [
              0.1111111111111111,
              "#46039f"
             ],
             [
              0.2222222222222222,
              "#7201a8"
             ],
             [
              0.3333333333333333,
              "#9c179e"
             ],
             [
              0.4444444444444444,
              "#bd3786"
             ],
             [
              0.5555555555555556,
              "#d8576b"
             ],
             [
              0.6666666666666666,
              "#ed7953"
             ],
             [
              0.7777777777777778,
              "#fb9f3a"
             ],
             [
              0.8888888888888888,
              "#fdca26"
             ],
             [
              1,
              "#f0f921"
             ]
            ],
            "type": "histogram2d"
           }
          ],
          "histogram2dcontour": [
           {
            "colorbar": {
             "outlinewidth": 0,
             "ticks": ""
            },
            "colorscale": [
             [
              0,
              "#0d0887"
             ],
             [
              0.1111111111111111,
              "#46039f"
             ],
             [
              0.2222222222222222,
              "#7201a8"
             ],
             [
              0.3333333333333333,
              "#9c179e"
             ],
             [
              0.4444444444444444,
              "#bd3786"
             ],
             [
              0.5555555555555556,
              "#d8576b"
             ],
             [
              0.6666666666666666,
              "#ed7953"
             ],
             [
              0.7777777777777778,
              "#fb9f3a"
             ],
             [
              0.8888888888888888,
              "#fdca26"
             ],
             [
              1,
              "#f0f921"
             ]
            ],
            "type": "histogram2dcontour"
           }
          ],
          "mesh3d": [
           {
            "colorbar": {
             "outlinewidth": 0,
             "ticks": ""
            },
            "type": "mesh3d"
           }
          ],
          "parcoords": [
           {
            "line": {
             "colorbar": {
              "outlinewidth": 0,
              "ticks": ""
             }
            },
            "type": "parcoords"
           }
          ],
          "pie": [
           {
            "automargin": true,
            "type": "pie"
           }
          ],
          "scatter": [
           {
            "fillpattern": {
             "fillmode": "overlay",
             "size": 10,
             "solidity": 0.2
            },
            "type": "scatter"
           }
          ],
          "scatter3d": [
           {
            "line": {
             "colorbar": {
              "outlinewidth": 0,
              "ticks": ""
             }
            },
            "marker": {
             "colorbar": {
              "outlinewidth": 0,
              "ticks": ""
             }
            },
            "type": "scatter3d"
           }
          ],
          "scattercarpet": [
           {
            "marker": {
             "colorbar": {
              "outlinewidth": 0,
              "ticks": ""
             }
            },
            "type": "scattercarpet"
           }
          ],
          "scattergeo": [
           {
            "marker": {
             "colorbar": {
              "outlinewidth": 0,
              "ticks": ""
             }
            },
            "type": "scattergeo"
           }
          ],
          "scattergl": [
           {
            "marker": {
             "colorbar": {
              "outlinewidth": 0,
              "ticks": ""
             }
            },
            "type": "scattergl"
           }
          ],
          "scattermap": [
           {
            "marker": {
             "colorbar": {
              "outlinewidth": 0,
              "ticks": ""
             }
            },
            "type": "scattermap"
           }
          ],
          "scattermapbox": [
           {
            "marker": {
             "colorbar": {
              "outlinewidth": 0,
              "ticks": ""
             }
            },
            "type": "scattermapbox"
           }
          ],
          "scatterpolar": [
           {
            "marker": {
             "colorbar": {
              "outlinewidth": 0,
              "ticks": ""
             }
            },
            "type": "scatterpolar"
           }
          ],
          "scatterpolargl": [
           {
            "marker": {
             "colorbar": {
              "outlinewidth": 0,
              "ticks": ""
             }
            },
            "type": "scatterpolargl"
           }
          ],
          "scatterternary": [
           {
            "marker": {
             "colorbar": {
              "outlinewidth": 0,
              "ticks": ""
             }
            },
            "type": "scatterternary"
           }
          ],
          "surface": [
           {
            "colorbar": {
             "outlinewidth": 0,
             "ticks": ""
            },
            "colorscale": [
             [
              0,
              "#0d0887"
             ],
             [
              0.1111111111111111,
              "#46039f"
             ],
             [
              0.2222222222222222,
              "#7201a8"
             ],
             [
              0.3333333333333333,
              "#9c179e"
             ],
             [
              0.4444444444444444,
              "#bd3786"
             ],
             [
              0.5555555555555556,
              "#d8576b"
             ],
             [
              0.6666666666666666,
              "#ed7953"
             ],
             [
              0.7777777777777778,
              "#fb9f3a"
             ],
             [
              0.8888888888888888,
              "#fdca26"
             ],
             [
              1,
              "#f0f921"
             ]
            ],
            "type": "surface"
           }
          ],
          "table": [
           {
            "cells": {
             "fill": {
              "color": "#EBF0F8"
             },
             "line": {
              "color": "white"
             }
            },
            "header": {
             "fill": {
              "color": "#C8D4E3"
             },
             "line": {
              "color": "white"
             }
            },
            "type": "table"
           }
          ]
         },
         "layout": {
          "annotationdefaults": {
           "arrowcolor": "#2a3f5f",
           "arrowhead": 0,
           "arrowwidth": 1
          },
          "autotypenumbers": "strict",
          "coloraxis": {
           "colorbar": {
            "outlinewidth": 0,
            "ticks": ""
           }
          },
          "colorscale": {
           "diverging": [
            [
             0,
             "#8e0152"
            ],
            [
             0.1,
             "#c51b7d"
            ],
            [
             0.2,
             "#de77ae"
            ],
            [
             0.3,
             "#f1b6da"
            ],
            [
             0.4,
             "#fde0ef"
            ],
            [
             0.5,
             "#f7f7f7"
            ],
            [
             0.6,
             "#e6f5d0"
            ],
            [
             0.7,
             "#b8e186"
            ],
            [
             0.8,
             "#7fbc41"
            ],
            [
             0.9,
             "#4d9221"
            ],
            [
             1,
             "#276419"
            ]
           ],
           "sequential": [
            [
             0,
             "#0d0887"
            ],
            [
             0.1111111111111111,
             "#46039f"
            ],
            [
             0.2222222222222222,
             "#7201a8"
            ],
            [
             0.3333333333333333,
             "#9c179e"
            ],
            [
             0.4444444444444444,
             "#bd3786"
            ],
            [
             0.5555555555555556,
             "#d8576b"
            ],
            [
             0.6666666666666666,
             "#ed7953"
            ],
            [
             0.7777777777777778,
             "#fb9f3a"
            ],
            [
             0.8888888888888888,
             "#fdca26"
            ],
            [
             1,
             "#f0f921"
            ]
           ],
           "sequentialminus": [
            [
             0,
             "#0d0887"
            ],
            [
             0.1111111111111111,
             "#46039f"
            ],
            [
             0.2222222222222222,
             "#7201a8"
            ],
            [
             0.3333333333333333,
             "#9c179e"
            ],
            [
             0.4444444444444444,
             "#bd3786"
            ],
            [
             0.5555555555555556,
             "#d8576b"
            ],
            [
             0.6666666666666666,
             "#ed7953"
            ],
            [
             0.7777777777777778,
             "#fb9f3a"
            ],
            [
             0.8888888888888888,
             "#fdca26"
            ],
            [
             1,
             "#f0f921"
            ]
           ]
          },
          "colorway": [
           "#636efa",
           "#EF553B",
           "#00cc96",
           "#ab63fa",
           "#FFA15A",
           "#19d3f3",
           "#FF6692",
           "#B6E880",
           "#FF97FF",
           "#FECB52"
          ],
          "font": {
           "color": "#2a3f5f"
          },
          "geo": {
           "bgcolor": "white",
           "lakecolor": "white",
           "landcolor": "#E5ECF6",
           "showlakes": true,
           "showland": true,
           "subunitcolor": "white"
          },
          "hoverlabel": {
           "align": "left"
          },
          "hovermode": "closest",
          "mapbox": {
           "style": "light"
          },
          "paper_bgcolor": "white",
          "plot_bgcolor": "#E5ECF6",
          "polar": {
           "angularaxis": {
            "gridcolor": "white",
            "linecolor": "white",
            "ticks": ""
           },
           "bgcolor": "#E5ECF6",
           "radialaxis": {
            "gridcolor": "white",
            "linecolor": "white",
            "ticks": ""
           }
          },
          "scene": {
           "xaxis": {
            "backgroundcolor": "#E5ECF6",
            "gridcolor": "white",
            "gridwidth": 2,
            "linecolor": "white",
            "showbackground": true,
            "ticks": "",
            "zerolinecolor": "white"
           },
           "yaxis": {
            "backgroundcolor": "#E5ECF6",
            "gridcolor": "white",
            "gridwidth": 2,
            "linecolor": "white",
            "showbackground": true,
            "ticks": "",
            "zerolinecolor": "white"
           },
           "zaxis": {
            "backgroundcolor": "#E5ECF6",
            "gridcolor": "white",
            "gridwidth": 2,
            "linecolor": "white",
            "showbackground": true,
            "ticks": "",
            "zerolinecolor": "white"
           }
          },
          "shapedefaults": {
           "line": {
            "color": "#2a3f5f"
           }
          },
          "ternary": {
           "aaxis": {
            "gridcolor": "white",
            "linecolor": "white",
            "ticks": ""
           },
           "baxis": {
            "gridcolor": "white",
            "linecolor": "white",
            "ticks": ""
           },
           "bgcolor": "#E5ECF6",
           "caxis": {
            "gridcolor": "white",
            "linecolor": "white",
            "ticks": ""
           }
          },
          "title": {
           "x": 0.05
          },
          "xaxis": {
           "automargin": true,
           "gridcolor": "white",
           "linecolor": "white",
           "ticks": "",
           "title": {
            "standoff": 15
           },
           "zerolinecolor": "white",
           "zerolinewidth": 2
          },
          "yaxis": {
           "automargin": true,
           "gridcolor": "white",
           "linecolor": "white",
           "ticks": "",
           "title": {
            "standoff": 15
           },
           "zerolinecolor": "white",
           "zerolinewidth": 2
          }
         }
        },
        "title": {
         "text": "Customer Gender and Churn Distributions",
         "x": 0.5
        }
       }
      }
     },
     "metadata": {},
     "output_type": "display_data"
    }
   ],
   "source": [
    "# IMPORT THE NECESSARY MODULES\n",
    "import plotly.graph_objects as go\n",
    "from plotly.subplots import make_subplots\n",
    "\n",
    "# CREATE SUBPLOTS\n",
    "fig = make_subplots(\n",
    "    rows=1, \n",
    "    cols=2, \n",
    "    specs=[[{'type': 'domain'}, {'type': 'domain'}]]\n",
    ")\n",
    "\n",
    "# --- CHART 1: GENDER DISTRIBUTION ---\n",
    "# GET LABELS AND VALUES DIRECTLY FROM THE DATAFRAME TO ENSURE THEY MATCH\n",
    "gender_counts = df['gender'].value_counts()\n",
    "gender_labels = gender_counts.index\n",
    "\n",
    "# ADD THE PIE CHART WITH CUSTOM COLORS\n",
    "fig.add_trace(\n",
    "    go.Pie(\n",
    "        labels=gender_labels,\n",
    "        values=gender_counts.values,\n",
    "        name=\"Gender\",\n",
    "        marker_colors=['#636EFA', '#EF553B']\n",
    "    ),\n",
    "    1, 1\n",
    ")\n",
    "\n",
    "# --- CHART 2: CHURN DISTRIBUTION ---\n",
    "# MAP THE 0/1 CHURN VALUES TO 'NO'/'YES' FOR CLEAR LABELS\n",
    "churn_counts = df['Churn'].value_counts()\n",
    "churn_labels = churn_counts.index.map({0: 'No', 1: 'Yes'})\n",
    "\n",
    "# ADD THE PIE CHART WITH INTUITIVE COLORS (BLUE FOR 'NO', RED FOR 'YES')\n",
    "fig.add_trace(\n",
    "    go.Pie(\n",
    "        labels=churn_labels,\n",
    "        values=churn_counts.values,\n",
    "        name=\"Churn\",\n",
    "        marker_colors=['#00CC96', '#AB63FA']\n",
    "    ),\n",
    "    1, 2\n",
    ")\n",
    "\n",
    "# --- STYLING AND LAYOUT ---\n",
    "# USE 'HOLE' TO CREATE A DONUT CHART AND DISPLAY INFO DIRECTLY ON THE SLICES\n",
    "fig.update_traces(hole=.4, textinfo='percent+label', textfont_size=16)\n",
    "\n",
    "# UPDATE THE LAYOUT FOR A CLEANER LOOK\n",
    "fig.update_layout(\n",
    "    title_text=\"Customer Gender and Churn Distributions\",\n",
    "    title_x=0.5,  # CENTER THE TITLE\n",
    "    showlegend=False,  # HIDE THE REDUNDANT LEGEND\n",
    "    annotations=[\n",
    "        dict(text='Gender', x=0.16, y=0.5, font_size=20, showarrow=False),\n",
    "        dict(text='Churn', x=0.84, y=0.5, font_size=20, showarrow=False)\n",
    "    ]\n",
    ")\n",
    "\n",
    "# SHOW THE FIGURE\n",
    "fig.show()"
   ]
  },
  {
   "cell_type": "markdown",
   "id": "7ef5162a",
   "metadata": {},
   "source": [
    "* **CUSTOMER GENDER DISTRIBUTION (LEFT):** The dataset shows a NEARLY BALANCED gender distribution, with **50.5% MALE** and **49.5% FEMALE** customers.\n",
    "* **OVERALL CHURN RATE (RIGHT):** A significant MAJORITY of customers (**73.5%**) HAVE NOT CHURNED. However, a notable portion of the customer base, **26.5%**, HAS CHURNED, indicating that roughly ONE IN FOUR customers has left the service."
   ]
  },
  {
   "cell_type": "code",
   "execution_count": 16,
   "id": "e99512c5",
   "metadata": {},
   "outputs": [
    {
     "data": {
      "image/png": "[encoded data removed]",
      "text/plain": [
       "<Figure size 600x600 with 1 Axes>"
      ]
     },
     "metadata": {},
     "output_type": "display_data"
    }
   ],
   "source": [
    "# IMPORTING THE REQUIRED LIBRARIES\n",
    "import matplotlib.pyplot as plt\n",
    "\n",
    "# DEFINE THE DATA FOR CHURN AND GENDER DISTRIBUTION\n",
    "plt.figure(figsize=(6, 6))\n",
    "\n",
    "# LABELS AND VALUES FOR CHURN DISTRIBUTION\n",
    "labels = [\"Churn: Yes\", \"Churn: No\"]\n",
    "values = [1869, 5163]\n",
    "\n",
    "# LABELS AND SIZES FOR GENDER DISTRIBUTION (MALE AND FEMALE)\n",
    "labels_gender = [\"F\", \"M\", \"F\", \"M\"]\n",
    "sizes_gender = [939, 930, 2544, 2619]\n",
    "\n",
    "# COLORS FOR THE PIE CHARTS\n",
    "colors = ['#ff6666', '#66b3ff']  # COLORS FOR CHURN PIE\n",
    "colors_gender = ['#c2c2f0', '#ffb3e6', '#c2c2f0', '#ffb3e6']  # COLORS FOR GENDER PIE\n",
    "\n",
    "# EXPLOSION SETTINGS FOR PIE CHART SEGMENTS\n",
    "explode = (0.3, 0.3)  # EXPLODE THE CHURN PIE CHART SEGMENTS\n",
    "explode_gender = (0.1, 0.1, 0.1, 0.1)  # EXPLODE THE GENDER PIE CHART SEGMENTS\n",
    "\n",
    "# TEXT PROPERTIES FOR PIE CHART LABELS\n",
    "textprops = {\"fontsize\": 15}\n",
    "\n",
    "# PLOT THE CHURN PIE CHART\n",
    "plt.pie(values, labels=labels, autopct='%1.1f%%', pctdistance=1.08, labeldistance=0.8, \n",
    "        colors=colors, startangle=90, frame=True, explode=explode, radius=10, \n",
    "        textprops=textprops, counterclock=True)\n",
    "\n",
    "# PLOT THE GENDER PIE CHART (WITHIN THE CHURN PIE CHART)\n",
    "plt.pie(sizes_gender, labels=labels_gender, colors=colors_gender, startangle=90, \n",
    "        explode=explode_gender, radius=7, textprops=textprops, counterclock=True)\n",
    "\n",
    "# DRAW A WHITE CIRCLE IN THE CENTER TO CREATE A DONUT CHART EFFECT\n",
    "centre_circle = plt.Circle((0, 0), 5, color='black', fc='white', linewidth=0)\n",
    "fig = plt.gcf()  # GET THE CURRENT FIGURE\n",
    "fig.gca().add_artist(centre_circle)  # ADD THE CIRCLE TO THE FIGURE\n",
    "\n",
    "# ADD A TITLE TO THE PLOT\n",
    "plt.title('Churn Distribution w.r.t Gender: Male(M), Female(F)', fontsize=15, y=1.1)\n",
    "\n",
    "# ENSURE THE PIE CHART IS CIRCULAR AND PREVENT DISTORTION\n",
    "plt.axis('equal')\n",
    "\n",
    "# AUTOMATIC LAYOUT ADJUSTMENTS\n",
    "plt.tight_layout()\n",
    "\n",
    "# DISPLAY THE FINAL PLOT\n",
    "plt.show()"
   ]
  },
  {
   "cell_type": "markdown",
   "id": "773f34ef",
   "metadata": {},
   "source": [
    "* **OVERALL CHURN RATE (OUTER RING):** This chart shows that a MAJORITY of customers (**73.5%**) did NOT churn, while a significant minority (**26.5%**) did churn.\n",
    "\n",
    "* **GENDER BREAKDOWN (INNER RING):** The inner ring analyzes the gender composition within each churn category. Crucially, the gender split remains almost perfectly balanced across both groups:\n",
    "    * Among customers who **CHURNED**, the distribution is nearly 50/50 between males and females.\n",
    "    * Among customers who **DID NOT CHURN**, the distribution is also nearly 50/50.\n",
    "\n",
    "* **KEY INSIGHT:** The visualization strongly suggests that **GENDER IS NOT a significant factor in predicting customer churn**, as both male and female customers churn at almost identical rates."
   ]
  },
  {
   "cell_type": "code",
   "execution_count": 22,
   "id": "4522cb3b",
   "metadata": {},
   "outputs": [
    {
     "data": {
      "application/vnd.plotly.v1+json": {
       "config": {
        "plotlyServerURL": "https://plot.ly"
       },
       "data": [
        {
         "alignmentgroup": "True",
         "bingroup": "x",
         "hovertemplate": "Contract=Month-to-month<br>Churn=%{x}<br>count=%{y}<extra></extra>",
         "legendgroup": "Month-to-month",
         "marker": {
          "color": "#636efa",
          "pattern": {
           "shape": ""
          }
         },
         "name": "Month-to-month",
         "offsetgroup": "Month-to-month",
         "orientation": "v",
         "showlegend": true,
         "type": "histogram",
         "x": {
          "bdata": "AAEBAQAAAQABAAEAAQEAAAEBAQAAAAEAAQEAAAABAAEAAQEAAAEAAAAAAAABAAEAAAAAAAABAQEAAAABAAEAAQAAAQAAAQAAAQEBAAEBAQAAAQAAAAABAAEBAAEAAQEAAQABAQEAAAABAAAAAAAAAQEBAAAAAAEBAQAAAQABAAEAAAABAQEBAAEAAQEAAAEBAAEBAQAAAAAAAAABAAEBAQEAAAAAAAEBAAABAAAAAAEBAAAAAAEAAAEBAAEAAAABAAABAQEAAQAAAQAAAQAAAQEBAQEAAAAAAAAAAAEAAQABAQEAAAAAAQEAAAAAAAABAAEAAAAAAAAAAQEAAAABAAAAAAABAQEBAAABAQAAAQEBAAEAAQABAAABAQABAAEBAAABAAABAAEAAAABAQABAAAAAAEBAQABAAAAAAAAAQAAAAABAQEAAAEAAAEAAAEBAQAAAAAAAQAAAQEAAQEBAQABAQEAAQEAAQAAAQAAAAEAAQEAAQEAAAEAAAABAAABAAEAAAAAAQAAAQAAAAAAAAEBAQAAAQEAAAAAAAABAAAAAAABAAEAAQEAAAAAAQEBAAEBAAABAAAAAAABAQABAQAAAQEAAAEBAAAAAQABAAABAAABAQEBAQABAAEAAQEAAAEAAQABAAEAAAEBAQAAAQABAAAAAAAAAQEAAQABAAAAAAEAAAEBAAAAAAEAAAAAAAEBAQABAQABAQAAAQEAAAABAQEAAQEAAAEBAQAAAAEAAAAAAAABAQEAAAEAAQEAAQAAAQEAAQEBAQEBAAABAAEBAQEAAAEAAAEBAQABAAAAAAAAAQAAAQEAAAAAAQEAAAEBAAAAAAAAAQAAAQEAAAAAAQABAQAAAQABAQABAAABAAEAAAAAAAABAAABAQEAAQEBAAAAAQEBAAAAAQEBAAAAAAEBAAABAQEAAQEAAAABAAAAAAEAAQEAAAEBAAEBAQEAAAABAAEBAAABAQABAQEAAQEAAAEAAAAAAQEBAQEBAAABAAAAAAEBAAEAAAAAAAEBAAEAAQABAAAAAAEBAAABAAABAAEAAQAAAAEAAAAAAAAAAQEBAAEAAAABAAABAQAAAQABAQAAAQAAAAABAAAAAQABAAEAAAEAAQAAAAAAAQAAAQABAAABAAABAAAAAQABAAEAAAEAAAAAAAEBAQEAAAAAAQABAAEBAQEAAAEAAQEAAAAAAQABAAABAQEAAAEBAAEAAAEAAAEBAQAAAAEBAQAAAAABAAABAQEAAQAAAQAAAAAAAQAAAAABAQABAQABAAABAQABAAAAAAABAQEAAAAAAQEBAAEAAQABAAAAAQEBAAAAAAABAQEAAAAAAAEAAQABAQAAAQABAQEBAQEBAQABAAAAAAEBAAABAAEAAQEAAAAAAQEAAAEAAAAAAQABAAAAAQEBAAAAAQAAAAABAAEBAAABAQAAAAAAAAEAAQABAQAAAQABAQEBAAEBAQEAAAEBAQEBAAEAAAEBAAEAAAEBAAAAAQEAAAAAAQAAAQEAAAEAAQAAAQEAAQABAAAAAQEBAQEAAAABAQAAAAAAAQEAAAAAAQAAAAEAAAEBAAAAAAEAAAAAAAAAAAEBAQABAQEAAAABAAEBAAEBAAABAQEBAAEAAAABAQABAAAAAAEAAAAAAQABAQEBAQAAAQEAAQAAAQEBAAEAAAEBAQEAAAEAAAAAAAABAQAAAAAAAAABAQAAAAAAAAAAAAEAAAAAAQEAAAABAQAAAAAAAAAAAAEAAAAAAAEBAQABAAAAAAAAAAEBAQAAAAABAAABAQABAAEAAQABAAAAAQEBAQAAAAABAAEAAQABAAEAAQAAAQEBAQEAAAEBAQEAAQAAAAAAAAAAAAEBAQEBAQAAAQEAAAAAAAABAAAAAAAAAAEBAQEBAAEBAQEAAAAAAAEBAQEAAAEBAQAAAAABAAEBAAABAQEAAQABAQEBAQABAQAAAAAAAAEBAQEAAAAAAAEBAAABAQAAAAAAAAEBAQABAAEBAAABAAABAAAAAAEBAAAAAQABAAABAAAAAAEAAQEAAQAAAQEAAQEAAAEBAAEAAAABAAAAAAAAAAABAQAAAAABAQEBAQABAAAAAQEBAQABAQAAAQABAQEAAAABAQABAAAAAAEBAAAAAAEAAAEBAQAAAAABAAEBAAABAQEAAAAAAAEAAAAAAQAAAQABAQABAQAAAAEBAAAAAQABAQEBAAABAQEBAAEBAAEBAAAAAAABAAAAAQEBAAEBAAEBAQAAAQAAAQEAAAAAAAEBAQAAAAEAAAABAQEBAAEBAAABAQAAAAAAAAAAAQEAAAAAAAEBAQABAQABAAABAAEAAAABAAABAAAAAAEAAAABAAAAAAEAAAEBAQABAAAAAAABAQAAAQABAQEAAQABAAAAAAABAAABAQAAAQAAAAEBAAEAAAEAAAEBAQAAAQEAAQABAQEBAAEBAAABAAEBAAABAAEBAAABAQEBAAAAAAAAAQAAAQEBAAAAAAABAQEAAQEAAQABAAABAAEAAAEAAAABAAAAAAEAAAEAAAAAAQABAAABAQAAAQEAAAAAAAAAAQAAAAEBAQEBAAABAAEAAQABAQABAAABAQABAQAAAAAAAAAAAQAAAQEAAAEBAQABAQAAAAEAAAEAAAEBAAEBAAABAAAAAAEBAAAAAQEBAAAAAQAAAAEAAAEAAAEBAQAAAAEBAQEAAQABAQAAAQAAAQEAAAEAAQAAAAEAAQEBAQAAAQAAAAEBAQABAAAAAQEAAQAAAQABAAABAQEBAAAAAQEAAAAAAQAAAAEAAQEAAAEAAQAAAAEAAQAAAQEAAAABAAEBAAAAAAAAAAAAAAABAAEBAAAAAQAAAAABAQAAAAAAAAEBAAEBAAEBAQAAAQABAAABAAAAAAEAAAEAAQEAAAEBAAABAQAAAQAAAQEAAQABAAEAAAEBAAEAAQABAAAAAQEAAAEBAAAAAAAAAAEAAAEAAAEBAQABAQABAAAAAQEAAAABAQEAAQEAAAAAAAAAAAEAAAAAAQEAAAEAAAAAAQAAAQEAAAABAAABAAABAAAAAQAAAAAAAQEAAAEAAAEAAQABAAEBAAAAAAAAAAEBAQEAAAAAAAEBAQEAAQEBAAAAAAABAAEBAAEBAQABAAAAAAAAAQEBAQEAAAABAAABAAEBAAAAAAEAAAEBAAAAAAAAAQEAAQEAAAABAAAAAAAAAAEBAAABAAEAAAAAAAEAAQEAAAABAAABAAAAAAEAAAEAAAABAAEAAAAAAAABAAEBAAEBAAEAAQABAQAAAQEBAQEAAQAAAQABAAEAAAEAAAEBAQEAAAEAAAABAQEAAAEAAAAAAQEAAQEAAQABAAEAAQABAAAAAAEBAAABAQABAAAAAAAAAAEAAAAAAQEAAAAAAAEAAAAAAQAAAAEAAAAAAAEBAAEAAQAAAAEAAAAAAQEAAAABAAEBAAAAAAEAAQABAQABAQABAAAAAQAAAAAAAQAAAQABAQEBAAABAAEAAAEBAQEAAAEBAAABAQEAAAAAAAABAAEAAAAAAAEAAAABAQEAAQABAAEBAAAAAAEBAAABAAEBAQEAAQAAAAEAAAEBAQAAAQAAAAAAAQAAAAEBAQEAAQABAQAAAAAAAAEBAAAAAAEAAAEBAAEBAAEBAAABAQEAAAEBAAABAQABAAAAAQEBAQAAAAAAAQEBAAEBAAEAAAAAAAABAAEAAQABAAAAAAEBAQABAAAAAAEAAAAAAAEAAQEBAAEAAAAAAAAAAAEBAAABAQEAAAAAAAEBAAEAAAABAQAAAAEBAQEAAAAAAAAAAAAAAAEAAAAAAAABAQAAAAEAAQEBAQAAAAABAQAAAAEAAQABAQAAAAAAAAEAAQAAAQABAQABAAABAAAAAAEAAQEBAAEAAQEAAQAAAQEBAAAAAQAAAQEAAQEAAQEBAQAAAAEBAQAAAAAAAQEBAQAAAAEBAAEBAQABAAABAAEBAAEBAAAAAQEAAAABAAABAQEAAAEBAQAAAAEAAQEAAQABAAEBAAAAAAABAQAAAQEAAAAAAQEBAQEAAQABAAAAAQEAAAEAAAAAAQEBAAEAAAEBAAEBAAAAAAAAAQABAAEAAQEBAQEAAQAAAQEBAQAAAQEBAAEAAAABAQAAAAAAAQEBAAABAAEBAAEBAQEAAAEAAQAAAAABAAEAAAABAAABAQEAAQEAAAEBAAAAAQAAAQAAAQABAQABAQABAQAAAAAAAQEBAAEAAAAAAQAAAAAAAAAAAQEAAQAAAAEAAAABAQAAAAEAAQABAQABAAEAAAEBAAEBAAAAAAAAAAEAAQEAAAABAQABAAAAAQEBAAEBAQAAAQAAAQAAAQEAAAEAAQAAAQAAAAAAAAEBAQEAAQAAAAEBAQAAAAAAAAABAQAAAAABAQAAAQABAAAAAQABAAEAAQAAAQABAAEAAAAAAQAAAQABAAEBAAEBAAEAAAABAAABAAAAAAAAAQEBAAEAAQABAAEBAQEAAAEAAQAAAAAAAAAAAQEAAAEAAAABAAAAAQEAAQABAQEAAQAAAAABAAEBAAABAAEBAQEAAAEAAAEBAQAAAQABAQEBAAEBAAEBAAEAAQABAQAAAAAAAQEAAAEBAAEBAAEAAAEAAQAAAQEBAAABAAEAAAEBAAEAAAAAAQABAAEAAQAAAAEAAAABAAAAAQEBAAEBAQEAAAEAAQAAAAABAAABAQABAAABAQAAAAAAAAABAAAAAAEAAQAAAAEAAQAAAQAAAQEBAQABAQABAAABAQEBAQAAAQEAAQEAAQEBAAAAAQABAQEAAAEBAQEAAQAAAQEAAAAAAAAAAAEBAQABAQEAAAABAQEAAQAAAQAAAQEBAQEAAAEBAQEAAAAAAAAAAAEBAQAAAAEAAAAAAAABAAEAAAAAAQAAAQAAAAAAAQEBAAEAAAABAAABAQABAQEAAAABAAEBAAAAAQAAAAABAAABAAABAQABAAAAAAEBAQAAAQEAAQEAAQAAAAEAAQABAQAAAQAAAQAAAAABAAABAQEBAQEBAAAAAQEAAAABAQEAAAABAQEAAQAAAQEAAAEAAAABAQAAAQABAQABAAAAAQEAAAAAAQEAAAEBAQEBAAABAAAAAQAAAQEAAAEBAAABAQEBAQAAAAABAAAAAAEAAAABAAEAAAE=",
          "dtype": "i1"
         },
         "xaxis": "x",
         "yaxis": "y"
        },
        {
         "alignmentgroup": "True",
         "bingroup": "x",
         "hovertemplate": "Contract=One year<br>Churn=%{x}<br>count=%{y}<extra></extra>",
         "legendgroup": "One year",
         "marker": {
          "color": "#EF553B",
          "pattern": {
           "shape": ""
          }
         },
         "name": "One year",
         "offsetgroup": "One year",
         "orientation": "v",
         "showlegend": true,
         "type": "histogram",
         "x": {
          "bdata": "AAAAAAAAAAAAAAAAAAAAAAAAAAAAAAAAAAAAAAAAAAAAAAABAAAAAAAAAAAAAAAAAAAAAAAAAAAAAAAAAAABAQAAAAEAAAAAAAAAAAAAAAAAAAAAAAAAAAAAAAAAAAAAAAAAAQAAAAAAAAAAAAAAAAAAAAAAAAABAAAAAAAAAAAAAAAAAAAAAQAAAAEAAAAAAAAAAAAAAAAAAAABAAABAAAAAQEAAAABAQAAAQEAAAEAAAEAAAAAAAAAAAAAAAAAAAAAAAAAAAABAAAAAAABAAAAAAAAAAAAAAAAAAAAAAAAAQAAAAAAAQAAAAAAAAAAAAAAAQAAAAAAAAEAAAAAAAAAAAEAAQAAAAAAAAABAAAAAQAAAAEAAAAAAAABAAAAAAEBAAAAAAAAAAAAAAAAAAAAAQAAAAAAAAEAAAAAAAEBAAAAAAEAAAAAAAAAAAEAAAEBAAAAAAAAAAAAAAAAAAABAAAAAAAAAAAAAAAAAAAAAQAAAAAAAAAAAAAAAAAAAAAAAAAAAAAAAAAAAAAAAAAAAAABAAAAAQAAAQABAAAAAAEAAAAAAAAAAAAAAQAAAAAAAQEAAAAAAAAAAAAAAAAAAAAAAAEAAAAAAAAAAAEAAAAAAAAAAQEAAAAAAAAAAAAAAQAAAAAAAAAAAAABAAAAAAAAAQAAAAAAAAAAAQAAAAAAAAAAAAAAAAAAAAEAAAEAAAAAAAEAAAAAAQAAAAABAAAAAAAAAAAAAAAAAAABAAAAAAAAAAAAAAABAAEAAAAAAQAAAQAAAAAAAAAAAAAAAAEAAAAAAAAAAAAAAAAAAAAAAAAAAAAAAQAAAAAAAAABAAAAAAAAAAAAAAAAAAAAAAAAAAAAAAAAAAAAAAAAAQAAAAAAAAAAAAAAAQAAAAAAAAAAAAAAAQAAAQAAAAAAAQAAAAAAAAAAAAAAAAAAAAAAAQAAAAAAAAAAAAAAAAAAAAAAAAAAAAAAAAAAAAABAAAAAAEAAAAAAAAAAAABAAAAAAAAAAAAAAAAAAAAAAABAAABAAAAAAAAAAAAAAAAAAAAAAAAAAABAAAAAAABAAEAAAEBAAAAAAEBAAAAAQAAAAAAAAEAAAAAAAAAAAAAAAAAAQAAAAAAAAAAAAABAQAAAAAAAAAAAAABAAAAAAAAAAAAAAEAAAAAAAAAAAAAAAAAAQEAAAEAAAAAAAEAAAAAAAAAAAABAAAAAAAAAAAAAAAAAAAAAQAAAAAAAAAAAAAAAAAAAAAAAAAAAAAAAAAAAAAAAQAAAAAAAAABAQAAAAAAAAAAAAAAAAEAAAAAAAAAAAAAAQAAAQABAAAAAQAAAAAAAAAAAAAAAAAAAAAAAAAAAAAAAAEAAAAAAAAAAAEAAQABAAAAAAAAAAAAAAAAAQAAAQAAAAEAAAABAQABAAAAAAAAAAAAAAAAAAAAAAEBAAAAAAABAAAAAAAAAAEAAAAAAAAAAAAAAAAAAAAAAAAAAAAAAAEAAAEAAAAAAAAAAAABAAAAAAAAAAAAAAABAAABAAEAAAAAAAAAAAAAAAAAAAAAAAAAAAAAAAAAAAAAAAAAAAAAAAAAAAAAAAEAAAABAAAAAAAAAQAAAAEAAAAAAAAAAQAAAAAAAAEAAAEAAQAAAAAAAAABAAAAAQAAAAEAAAAAAAAAAQAAAAEAAAAAAAAAAAAAAAAAAAEAAAAAAAAAAAAAAAAAAAAAAQAAAQAAAAAAAAAAAAAAAAAAAAAAAAAAAAAAAAAAAAABAAAAAAEAAAAAAQAAAAAAAQAAAAAAAAAAAAAAAAABAAABAAAAAAAAAAAAAAAAAAAAAQAAAAEBAAAAAAAAAAAAAAAAAAAAAQEAAAAAAAAAAAAAAAAAAAAAAAAAAAAAAAAAAAAAAAAAAAEAAAABAQEAAAAAAAAAAQAAAAAAAAAAAAAAAQAAAAAAAAAAAAAAAAEAAAAAAAAAAQAAAQAAAAAA",
          "dtype": "i1"
         },
         "xaxis": "x",
         "yaxis": "y"
        },
        {
         "alignmentgroup": "True",
         "bingroup": "x",
         "hovertemplate": "Contract=Two year<br>Churn=%{x}<br>count=%{y}<extra></extra>",
         "legendgroup": "Two year",
         "marker": {
          "color": "#00cc96",
          "pattern": {
           "shape": ""
          }
         },
         "name": "Two year",
         "offsetgroup": "Two year",
         "orientation": "v",
         "showlegend": true,
         "type": "histogram",
         "x": {
          "bdata": "AAAAAAAAAAAAAAAAAAAAAAAAAAAAAAAAAQAAAAAAAAAAAAAAAAAAAAAAAAAAAAAAAAAAAAAAAAAAAAAAAAAAAAAAAAAAAAEAAAAAAAAAAAAAAAEAAAAAAAAAAAAAAAAAAAAAAAAAAAAAAAAAAAAAAAAAAAAAAAAAAAAAAAAAAAAAAAAAAAAAAAAAAAAAAAAAAAAAAAAAAAAAAAAAAAAAAAAAAAAAAAAAAAAAAAAAAAAAAAAAAAAAAAAAAAAAAAAAAAAAAAAAAAEAAAAAAAAAAAAAAAAAAAAAAAAAAAAAAAAAAAAAAAAAAAAAAAAAAAEAAAAAAAAAAAAAAAAAAAAAAAAAAAAAAAAAAAAAAAAAAAAAAAAAAAAAAAAAAAAAAAAAAAAAAAAAAAAAAAAAAAAAAAAAAAAAAAAAAAAAAAAAAAAAAAAAAAAAAAAAAAAAAAAAAAAAAAAAAAAAAAAAAAAAAAAAAAAAAAAAAAAAAAAAAAAAAAAAAAAAAAAAAAAAAAAAAAAAAAAAAAAAAAAAAAAAAAAAAAAAAAAAAAAAAAAAAAAAAAAAAAAAAAAAAAAAAAAAAAAAAAAAAAAAAAAAAAAAAQAAAAAAAAAAAAAAAAAAAAAAAAAAAAAAAAAAAAAAAAAAAAAAAAEAAAAAAAAAAAAAAAAAAAAAAAAAAAAAAAAAAAAAAAAAAAAAAAAAAAAAAAAAAAAAAAAAAAAAAAAAAAAAAAAAAAAAAAAAAAAAAAEAAAAAAAAAAAAAAAAAAAAAAAAAAAAAAAAAAAAAAAABAAAAAAAAAAAAAAAAAAAAAAAAAAAAAAAAAAAAAAAAAAAAAAAAAAAAAAAAAAAAAAAAAAAAAAAAAAAAAAAAAAAAAAAAAAAAAAAAAAAAAAAAAAAAAAAAAAAAAAAAAAAAAAAAAAEAAAAAAAAAAAAAAAAAAAAAAAAAAAAAAAAAAAAAAAAAAAAAAAAAAAAAAAAAAAAAAAAAAAAAAAAAAAAAAAAAAAAAAAAAAAABAAAAAAAAAAAAAAAAAAEAAAAAAAAAAAAAAAAAAAAAAAAAAAAAAAAAAAAAAAAAAAAAAAAAAAAAAAAAAAAAAAAAAAAAAAAAAAAAAAAAAAAAAAAAAAEAAAAAAAAAAAAAAAAAAAAAAAAAAAAAAAAAAAAAAAAAAAAAAAAAAAAAAAAAAQAAAAAAAAAAAAAAAAAAAAAAAQABAAEAAAAAAAAAAAAAAQAAAAAAAAAAAAAAAAAAAAAAAAAAAAAAAAAAAQAAAAAAAAAAAAAAAAAAAAAAAAAAAAAAAAAAAAAAAAAAAAAAAAAAAAAAAAAAAAAAAAEAAAAAAAAAAAAAAAAAAAAAAAAAAAAAAAAAAAAAAAAAAAABAAAAAAAAAAAAAAAAAAAAAAAAAAAAAAABAAAAAAAAAAAAAAAAAAAAAAAAAAAAAAAAAAAAAAAAAQABAAABAAAAAAAAAAAAAAAAAAAAAAAAAAAAAAAAAAEAAAAAAAAAAAAAAQAAAAAAAAAAAAAAAAAAAAAAAAAAAAAAAAAAAAAAAAABAAAAAAAAAAAAAAAAAAAAAAAAAAAAAAAAAAAAAAAAAAAAAAAAAAAAAAAAAAAAAAAAAAABAAAAAAAAAAAAAAAAAAAAAAAAAAAAAAAAAAAAAAAAAAAAAAAAAAAAAAAAAAAAAQAAAAAAAAAAAAAAAAAAAAAAAAEAAAAAAAAAAAAAAAAAAAAAAAAAAAAAAAAAAAAAAAABAAAAAAAAAAAAAAAAAAAAAAAAAAAAAAABAAAAAAAAAAAAAQEAAQAAAAAAAAAAAAAAAAAAAAAAAAAAAAAAAAAAAAAAAAAAAAAAAAAAAAAAAAAAAAAAAAAAAAAAAAAAAAAAAAAAAAAAAAAAAAAAAAAAAAAAAAAAAAAAAAABAAAAAAAAAAAAAAAAAAAAAAAAAAEAAAAAAAAAAAAAAAAAAAAAAAAAAAAAAAAAAAAAAAAAAAAAAAAAAAAAAAAAAAAAAAAAAAAAAAAAAAAAAAAAAAAAAQEAAAAAAAAAAAAAAAAAAAAAAAAAAAAAAAAAAAABAAAAAAEAAAAAAAEAAAAAAAAAAAAAAAAAAAAAAAAAAAAAAAAAAAAAAAAAAAAAAAAAAAAAAAAAAAAAAAAAAAAAAAAAAAEAAAAAAAAAAAAAAAAAAQAAAAAAAAAAAAAAAAAAAAAAAQAAAAAAAAABAAAAAAAAAAAAAAAAAAAAAAAAAAAAAAAAAAAAAAAAAAEAAAAAAAAAAAAAAAAAAAAA",
          "dtype": "i1"
         },
         "xaxis": "x",
         "yaxis": "y"
        }
       ],
       "layout": {
        "bargap": 0.1,
        "barmode": "group",
        "height": 500,
        "legend": {
         "title": {
          "text": "Contract"
         },
         "tracegroupgap": 0
        },
        "template": {
         "data": {
          "bar": [
           {
            "error_x": {
             "color": "#2a3f5f"
            },
            "error_y": {
             "color": "#2a3f5f"
            },
            "marker": {
             "line": {
              "color": "#E5ECF6",
              "width": 0.5
             },
             "pattern": {
              "fillmode": "overlay",
              "size": 10,
              "solidity": 0.2
             }
            },
            "type": "bar"
           }
          ],
          "barpolar": [
           {
            "marker": {
             "line": {
              "color": "#E5ECF6",
              "width": 0.5
             },
             "pattern": {
              "fillmode": "overlay",
              "size": 10,
              "solidity": 0.2
             }
            },
            "type": "barpolar"
           }
          ],
          "carpet": [
           {
            "aaxis": {
             "endlinecolor": "#2a3f5f",
             "gridcolor": "white",
             "linecolor": "white",
             "minorgridcolor": "white",
             "startlinecolor": "#2a3f5f"
            },
            "baxis": {
             "endlinecolor": "#2a3f5f",
             "gridcolor": "white",
             "linecolor": "white",
             "minorgridcolor": "white",
             "startlinecolor": "#2a3f5f"
            },
            "type": "carpet"
           }
          ],
          "choropleth": [
           {
            "colorbar": {
             "outlinewidth": 0,
             "ticks": ""
            },
            "type": "choropleth"
           }
          ],
          "contour": [
           {
            "colorbar": {
             "outlinewidth": 0,
             "ticks": ""
            },
            "colorscale": [
             [
              0,
              "#0d0887"
             ],
             [
              0.1111111111111111,
              "#46039f"
             ],
             [
              0.2222222222222222,
              "#7201a8"
             ],
             [
              0.3333333333333333,
              "#9c179e"
             ],
             [
              0.4444444444444444,
              "#bd3786"
             ],
             [
              0.5555555555555556,
              "#d8576b"
             ],
             [
              0.6666666666666666,
              "#ed7953"
             ],
             [
              0.7777777777777778,
              "#fb9f3a"
             ],
             [
              0.8888888888888888,
              "#fdca26"
             ],
             [
              1,
              "#f0f921"
             ]
            ],
            "type": "contour"
           }
          ],
          "contourcarpet": [
           {
            "colorbar": {
             "outlinewidth": 0,
             "ticks": ""
            },
            "type": "contourcarpet"
           }
          ],
          "heatmap": [
           {
            "colorbar": {
             "outlinewidth": 0,
             "ticks": ""
            },
            "colorscale": [
             [
              0,
              "#0d0887"
             ],
             [
              0.1111111111111111,
              "#46039f"
             ],
             [
              0.2222222222222222,
              "#7201a8"
             ],
             [
              0.3333333333333333,
              "#9c179e"
             ],
             [
              0.4444444444444444,
              "#bd3786"
             ],
             [
              0.5555555555555556,
              "#d8576b"
             ],
             [
              0.6666666666666666,
              "#ed7953"
             ],
             [
              0.7777777777777778,
              "#fb9f3a"
             ],
             [
              0.8888888888888888,
              "#fdca26"
             ],
             [
              1,
              "#f0f921"
             ]
            ],
            "type": "heatmap"
           }
          ],
          "histogram": [
           {
            "marker": {
             "pattern": {
              "fillmode": "overlay",
              "size": 10,
              "solidity": 0.2
             }
            },
            "type": "histogram"
           }
          ],
          "histogram2d": [
           {
            "colorbar": {
             "outlinewidth": 0,
             "ticks": ""
            },
            "colorscale": [
             [
              0,
              "#0d0887"
             ],
             [
              0.1111111111111111,
              "#46039f"
             ],
             [
              0.2222222222222222,
              "#7201a8"
             ],
             [
              0.3333333333333333,
              "#9c179e"
             ],
             [
              0.4444444444444444,
              "#bd3786"
             ],
             [
              0.5555555555555556,
              "#d8576b"
             ],
             [
              0.6666666666666666,
              "#ed7953"
             ],
             [
              0.7777777777777778,
              "#fb9f3a"
             ],
             [
              0.8888888888888888,
              "#fdca26"
             ],
             [
              1,
              "#f0f921"
             ]
            ],
            "type": "histogram2d"
           }
          ],
          "histogram2dcontour": [
           {
            "colorbar": {
             "outlinewidth": 0,
             "ticks": ""
            },
            "colorscale": [
             [
              0,
              "#0d0887"
             ],
             [
              0.1111111111111111,
              "#46039f"
             ],
             [
              0.2222222222222222,
              "#7201a8"
             ],
             [
              0.3333333333333333,
              "#9c179e"
             ],
             [
              0.4444444444444444,
              "#bd3786"
             ],
             [
              0.5555555555555556,
              "#d8576b"
             ],
             [
              0.6666666666666666,
              "#ed7953"
             ],
             [
              0.7777777777777778,
              "#fb9f3a"
             ],
             [
              0.8888888888888888,
              "#fdca26"
             ],
             [
              1,
              "#f0f921"
             ]
            ],
            "type": "histogram2dcontour"
           }
          ],
          "mesh3d": [
           {
            "colorbar": {
             "outlinewidth": 0,
             "ticks": ""
            },
            "type": "mesh3d"
           }
          ],
          "parcoords": [
           {
            "line": {
             "colorbar": {
              "outlinewidth": 0,
              "ticks": ""
             }
            },
            "type": "parcoords"
           }
          ],
          "pie": [
           {
            "automargin": true,
            "type": "pie"
           }
          ],
          "scatter": [
           {
            "fillpattern": {
             "fillmode": "overlay",
             "size": 10,
             "solidity": 0.2
            },
            "type": "scatter"
           }
          ],
          "scatter3d": [
           {
            "line": {
             "colorbar": {
              "outlinewidth": 0,
              "ticks": ""
             }
            },
            "marker": {
             "colorbar": {
              "outlinewidth": 0,
              "ticks": ""
             }
            },
            "type": "scatter3d"
           }
          ],
          "scattercarpet": [
           {
            "marker": {
             "colorbar": {
              "outlinewidth": 0,
              "ticks": ""
             }
            },
            "type": "scattercarpet"
           }
          ],
          "scattergeo": [
           {
            "marker": {
             "colorbar": {
              "outlinewidth": 0,
              "ticks": ""
             }
            },
            "type": "scattergeo"
           }
          ],
          "scattergl": [
           {
            "marker": {
             "colorbar": {
              "outlinewidth": 0,
              "ticks": ""
             }
            },
            "type": "scattergl"
           }
          ],
          "scattermap": [
           {
            "marker": {
             "colorbar": {
              "outlinewidth": 0,
              "ticks": ""
             }
            },
            "type": "scattermap"
           }
          ],
          "scattermapbox": [
           {
            "marker": {
             "colorbar": {
              "outlinewidth": 0,
              "ticks": ""
             }
            },
            "type": "scattermapbox"
           }
          ],
          "scatterpolar": [
           {
            "marker": {
             "colorbar": {
              "outlinewidth": 0,
              "ticks": ""
             }
            },
            "type": "scatterpolar"
           }
          ],
          "scatterpolargl": [
           {
            "marker": {
             "colorbar": {
              "outlinewidth": 0,
              "ticks": ""
             }
            },
            "type": "scatterpolargl"
           }
          ],
          "scatterternary": [
           {
            "marker": {
             "colorbar": {
              "outlinewidth": 0,
              "ticks": ""
             }
            },
            "type": "scatterternary"
           }
          ],
          "surface": [
           {
            "colorbar": {
             "outlinewidth": 0,
             "ticks": ""
            },
            "colorscale": [
             [
              0,
              "#0d0887"
             ],
             [
              0.1111111111111111,
              "#46039f"
             ],
             [
              0.2222222222222222,
              "#7201a8"
             ],
             [
              0.3333333333333333,
              "#9c179e"
             ],
             [
              0.4444444444444444,
              "#bd3786"
             ],
             [
              0.5555555555555556,
              "#d8576b"
             ],
             [
              0.6666666666666666,
              "#ed7953"
             ],
             [
              0.7777777777777778,
              "#fb9f3a"
             ],
             [
              0.8888888888888888,
              "#fdca26"
             ],
             [
              1,
              "#f0f921"
             ]
            ],
            "type": "surface"
           }
          ],
          "table": [
           {
            "cells": {
             "fill": {
              "color": "#EBF0F8"
             },
             "line": {
              "color": "white"
             }
            },
            "header": {
             "fill": {
              "color": "#C8D4E3"
             },
             "line": {
              "color": "white"
             }
            },
            "type": "table"
           }
          ]
         },
         "layout": {
          "annotationdefaults": {
           "arrowcolor": "#2a3f5f",
           "arrowhead": 0,
           "arrowwidth": 1
          },
          "autotypenumbers": "strict",
          "coloraxis": {
           "colorbar": {
            "outlinewidth": 0,
            "ticks": ""
           }
          },
          "colorscale": {
           "diverging": [
            [
             0,
             "#8e0152"
            ],
            [
             0.1,
             "#c51b7d"
            ],
            [
             0.2,
             "#de77ae"
            ],
            [
             0.3,
             "#f1b6da"
            ],
            [
             0.4,
             "#fde0ef"
            ],
            [
             0.5,
             "#f7f7f7"
            ],
            [
             0.6,
             "#e6f5d0"
            ],
            [
             0.7,
             "#b8e186"
            ],
            [
             0.8,
             "#7fbc41"
            ],
            [
             0.9,
             "#4d9221"
            ],
            [
             1,
             "#276419"
            ]
           ],
           "sequential": [
            [
             0,
             "#0d0887"
            ],
            [
             0.1111111111111111,
             "#46039f"
            ],
            [
             0.2222222222222222,
             "#7201a8"
            ],
            [
             0.3333333333333333,
             "#9c179e"
            ],
            [
             0.4444444444444444,
             "#bd3786"
            ],
            [
             0.5555555555555556,
             "#d8576b"
            ],
            [
             0.6666666666666666,
             "#ed7953"
            ],
            [
             0.7777777777777778,
             "#fb9f3a"
            ],
            [
             0.8888888888888888,
             "#fdca26"
            ],
            [
             1,
             "#f0f921"
            ]
           ],
           "sequentialminus": [
            [
             0,
             "#0d0887"
            ],
            [
             0.1111111111111111,
             "#46039f"
            ],
            [
             0.2222222222222222,
             "#7201a8"
            ],
            [
             0.3333333333333333,
             "#9c179e"
            ],
            [
             0.4444444444444444,
             "#bd3786"
            ],
            [
             0.5555555555555556,
             "#d8576b"
            ],
            [
             0.6666666666666666,
             "#ed7953"
            ],
            [
             0.7777777777777778,
             "#fb9f3a"
            ],
            [
             0.8888888888888888,
             "#fdca26"
            ],
            [
             1,
             "#f0f921"
            ]
           ]
          },
          "colorway": [
           "#636efa",
           "#EF553B",
           "#00cc96",
           "#ab63fa",
           "#FFA15A",
           "#19d3f3",
           "#FF6692",
           "#B6E880",
           "#FF97FF",
           "#FECB52"
          ],
          "font": {
           "color": "#2a3f5f"
          },
          "geo": {
           "bgcolor": "white",
           "lakecolor": "white",
           "landcolor": "#E5ECF6",
           "showlakes": true,
           "showland": true,
           "subunitcolor": "white"
          },
          "hoverlabel": {
           "align": "left"
          },
          "hovermode": "closest",
          "mapbox": {
           "style": "light"
          },
          "paper_bgcolor": "white",
          "plot_bgcolor": "#E5ECF6",
          "polar": {
           "angularaxis": {
            "gridcolor": "white",
            "linecolor": "white",
            "ticks": ""
           },
           "bgcolor": "#E5ECF6",
           "radialaxis": {
            "gridcolor": "white",
            "linecolor": "white",
            "ticks": ""
           }
          },
          "scene": {
           "xaxis": {
            "backgroundcolor": "#E5ECF6",
            "gridcolor": "white",
            "gridwidth": 2,
            "linecolor": "white",
            "showbackground": true,
            "ticks": "",
            "zerolinecolor": "white"
           },
           "yaxis": {
            "backgroundcolor": "#E5ECF6",
            "gridcolor": "white",
            "gridwidth": 2,
            "linecolor": "white",
            "showbackground": true,
            "ticks": "",
            "zerolinecolor": "white"
           },
           "zaxis": {
            "backgroundcolor": "#E5ECF6",
            "gridcolor": "white",
            "gridwidth": 2,
            "linecolor": "white",
            "showbackground": true,
            "ticks": "",
            "zerolinecolor": "white"
           }
          },
          "shapedefaults": {
           "line": {
            "color": "#2a3f5f"
           }
          },
          "ternary": {
           "aaxis": {
            "gridcolor": "white",
            "linecolor": "white",
            "ticks": ""
           },
           "baxis": {
            "gridcolor": "white",
            "linecolor": "white",
            "ticks": ""
           },
           "bgcolor": "#E5ECF6",
           "caxis": {
            "gridcolor": "white",
            "linecolor": "white",
            "ticks": ""
           }
          },
          "title": {
           "x": 0.05
          },
          "xaxis": {
           "automargin": true,
           "gridcolor": "white",
           "linecolor": "white",
           "ticks": "",
           "title": {
            "standoff": 15
           },
           "zerolinecolor": "white",
           "zerolinewidth": 2
          },
          "yaxis": {
           "automargin": true,
           "gridcolor": "white",
           "linecolor": "white",
           "ticks": "",
           "title": {
            "standoff": 15
           },
           "zerolinecolor": "white",
           "zerolinewidth": 2
          }
         }
        },
        "title": {
         "text": "<b>Customer contract distribution<b>"
        },
        "width": 700,
        "xaxis": {
         "anchor": "y",
         "domain": [
          0,
          1
         ],
         "title": {
          "text": "Churn"
         }
        },
        "yaxis": {
         "anchor": "x",
         "domain": [
          0,
          1
         ],
         "title": {
          "text": "count"
         }
        }
       }
      }
     },
     "metadata": {},
     "output_type": "display_data"
    }
   ],
   "source": [
    "fig = px.histogram(df, x=\"Churn\", color=\"Contract\", barmode=\"group\", title=\"<b>Customer contract distribution<b>\")\n",
    "fig.update_layout(width=700, height=500, bargap=0.1)\n",
    "fig.show()"
   ]
  },
  {
   "cell_type": "markdown",
   "id": "c884ff75",
   "metadata": {},
   "source": [
    "* **NON-CHURNED CUSTOMERS (LEFT GROUP):** Among customers who DID NOT churn, there is a healthy mix of all contract types. A large number of these loyal customers are on **ONE-YEAR** and **TWO-YEAR** contracts, indicating that longer commitments are a sign of stability.\n",
    "\n",
    "* **CHURNED CUSTOMERS (RIGHT GROUP):** The difference is dramatic for customers who DID churn. The VAST MAJORITY of churners are customers on a **MONTH-TO-MONTH** contract. In contrast, the number of churners from ONE-YEAR and TWO-YEAR contracts is extremely low.\n",
    "\n",
    "* **KEY INSIGHT:** This chart clearly shows that the **CONTRACT TYPE is a POWERFUL PREDICTOR of churn**. The risk of a customer leaving is overwhelmingly concentrated in the MONTH-TO-MONTH segment."
   ]
  },
  {
   "cell_type": "code",
   "execution_count": null,
   "id": "1efbbb61",
   "metadata": {},
   "outputs": [
    {
     "data": {
      "application/vnd.plotly.v1+json": {
       "config": {
        "plotlyServerURL": "https://plot.ly"
       },
       "data": [
        {
         "hole": 0.3,
         "labels": [
          "Electronic check",
          "Mailed check",
          "Bank transfer (automatic)",
          "Credit card (automatic)"
         ],
         "type": "pie",
         "values": {
          "bdata": "PQlMBggG8gU=",
          "dtype": "i2"
         }
        }
       ],
       "layout": {
        "template": {
         "data": {
          "bar": [
           {
            "error_x": {
             "color": "#2a3f5f"
            },
            "error_y": {
             "color": "#2a3f5f"
            },
            "marker": {
             "line": {
              "color": "#E5ECF6",
              "width": 0.5
             },
             "pattern": {
              "fillmode": "overlay",
              "size": 10,
              "solidity": 0.2
             }
            },
            "type": "bar"
           }
          ],
          "barpolar": [
           {
            "marker": {
             "line": {
              "color": "#E5ECF6",
              "width": 0.5
             },
             "pattern": {
              "fillmode": "overlay",
              "size": 10,
              "solidity": 0.2
             }
            },
            "type": "barpolar"
           }
          ],
          "carpet": [
           {
            "aaxis": {
             "endlinecolor": "#2a3f5f",
             "gridcolor": "white",
             "linecolor": "white",
             "minorgridcolor": "white",
             "startlinecolor": "#2a3f5f"
            },
            "baxis": {
             "endlinecolor": "#2a3f5f",
             "gridcolor": "white",
             "linecolor": "white",
             "minorgridcolor": "white",
             "startlinecolor": "#2a3f5f"
            },
            "type": "carpet"
           }
          ],
          "choropleth": [
           {
            "colorbar": {
             "outlinewidth": 0,
             "ticks": ""
            },
            "type": "choropleth"
           }
          ],
          "contour": [
           {
            "colorbar": {
             "outlinewidth": 0,
             "ticks": ""
            },
            "colorscale": [
             [
              0,
              "#0d0887"
             ],
             [
              0.1111111111111111,
              "#46039f"
             ],
             [
              0.2222222222222222,
              "#7201a8"
             ],
             [
              0.3333333333333333,
              "#9c179e"
             ],
             [
              0.4444444444444444,
              "#bd3786"
             ],
             [
              0.5555555555555556,
              "#d8576b"
             ],
             [
              0.6666666666666666,
              "#ed7953"
             ],
             [
              0.7777777777777778,
              "#fb9f3a"
             ],
             [
              0.8888888888888888,
              "#fdca26"
             ],
             [
              1,
              "#f0f921"
             ]
            ],
            "type": "contour"
           }
          ],
          "contourcarpet": [
           {
            "colorbar": {
             "outlinewidth": 0,
             "ticks": ""
            },
            "type": "contourcarpet"
           }
          ],
          "heatmap": [
           {
            "colorbar": {
             "outlinewidth": 0,
             "ticks": ""
            },
            "colorscale": [
             [
              0,
              "#0d0887"
             ],
             [
              0.1111111111111111,
              "#46039f"
             ],
             [
              0.2222222222222222,
              "#7201a8"
             ],
             [
              0.3333333333333333,
              "#9c179e"
             ],
             [
              0.4444444444444444,
              "#bd3786"
             ],
             [
              0.5555555555555556,
              "#d8576b"
             ],
             [
              0.6666666666666666,
              "#ed7953"
             ],
             [
              0.7777777777777778,
              "#fb9f3a"
             ],
             [
              0.8888888888888888,
              "#fdca26"
             ],
             [
              1,
              "#f0f921"
             ]
            ],
            "type": "heatmap"
           }
          ],
          "histogram": [
           {
            "marker": {
             "pattern": {
              "fillmode": "overlay",
              "size": 10,
              "solidity": 0.2
             }
            },
            "type": "histogram"
           }
          ],
          "histogram2d": [
           {
            "colorbar": {
             "outlinewidth": 0,
             "ticks": ""
            },
            "colorscale": [
             [
              0,
              "#0d0887"
             ],
             [
              0.1111111111111111,
              "#46039f"
             ],
             [
              0.2222222222222222,
              "#7201a8"
             ],
             [
              0.3333333333333333,
              "#9c179e"
             ],
             [
              0.4444444444444444,
              "#bd3786"
             ],
             [
              0.5555555555555556,
              "#d8576b"
             ],
             [
              0.6666666666666666,
              "#ed7953"
             ],
             [
              0.7777777777777778,
              "#fb9f3a"
             ],
             [
              0.8888888888888888,
              "#fdca26"
             ],
             [
              1,
              "#f0f921"
             ]
            ],
            "type": "histogram2d"
           }
          ],
          "histogram2dcontour": [
           {
            "colorbar": {
             "outlinewidth": 0,
             "ticks": ""
            },
            "colorscale": [
             [
              0,
              "#0d0887"
             ],
             [
              0.1111111111111111,
              "#46039f"
             ],
             [
              0.2222222222222222,
              "#7201a8"
             ],
             [
              0.3333333333333333,
              "#9c179e"
             ],
             [
              0.4444444444444444,
              "#bd3786"
             ],
             [
              0.5555555555555556,
              "#d8576b"
             ],
             [
              0.6666666666666666,
              "#ed7953"
             ],
             [
              0.7777777777777778,
              "#fb9f3a"
             ],
             [
              0.8888888888888888,
              "#fdca26"
             ],
             [
              1,
              "#f0f921"
             ]
            ],
            "type": "histogram2dcontour"
           }
          ],
          "mesh3d": [
           {
            "colorbar": {
             "outlinewidth": 0,
             "ticks": ""
            },
            "type": "mesh3d"
           }
          ],
          "parcoords": [
           {
            "line": {
             "colorbar": {
              "outlinewidth": 0,
              "ticks": ""
             }
            },
            "type": "parcoords"
           }
          ],
          "pie": [
           {
            "automargin": true,
            "type": "pie"
           }
          ],
          "scatter": [
           {
            "fillpattern": {
             "fillmode": "overlay",
             "size": 10,
             "solidity": 0.2
            },
            "type": "scatter"
           }
          ],
          "scatter3d": [
           {
            "line": {
             "colorbar": {
              "outlinewidth": 0,
              "ticks": ""
             }
            },
            "marker": {
             "colorbar": {
              "outlinewidth": 0,
              "ticks": ""
             }
            },
            "type": "scatter3d"
           }
          ],
          "scattercarpet": [
           {
            "marker": {
             "colorbar": {
              "outlinewidth": 0,
              "ticks": ""
             }
            },
            "type": "scattercarpet"
           }
          ],
          "scattergeo": [
           {
            "marker": {
             "colorbar": {
              "outlinewidth": 0,
              "ticks": ""
             }
            },
            "type": "scattergeo"
           }
          ],
          "scattergl": [
           {
            "marker": {
             "colorbar": {
              "outlinewidth": 0,
              "ticks": ""
             }
            },
            "type": "scattergl"
           }
          ],
          "scattermap": [
           {
            "marker": {
             "colorbar": {
              "outlinewidth": 0,
              "ticks": ""
             }
            },
            "type": "scattermap"
           }
          ],
          "scattermapbox": [
           {
            "marker": {
             "colorbar": {
              "outlinewidth": 0,
              "ticks": ""
             }
            },
            "type": "scattermapbox"
           }
          ],
          "scatterpolar": [
           {
            "marker": {
             "colorbar": {
              "outlinewidth": 0,
              "ticks": ""
             }
            },
            "type": "scatterpolar"
           }
          ],
          "scatterpolargl": [
           {
            "marker": {
             "colorbar": {
              "outlinewidth": 0,
              "ticks": ""
             }
            },
            "type": "scatterpolargl"
           }
          ],
          "scatterternary": [
           {
            "marker": {
             "colorbar": {
              "outlinewidth": 0,
              "ticks": ""
             }
            },
            "type": "scatterternary"
           }
          ],
          "surface": [
           {
            "colorbar": {
             "outlinewidth": 0,
             "ticks": ""
            },
            "colorscale": [
             [
              0,
              "#0d0887"
             ],
             [
              0.1111111111111111,
              "#46039f"
             ],
             [
              0.2222222222222222,
              "#7201a8"
             ],
             [
              0.3333333333333333,
              "#9c179e"
             ],
             [
              0.4444444444444444,
              "#bd3786"
             ],
             [
              0.5555555555555556,
              "#d8576b"
             ],
             [
              0.6666666666666666,
              "#ed7953"
             ],
             [
              0.7777777777777778,
              "#fb9f3a"
             ],
             [
              0.8888888888888888,
              "#fdca26"
             ],
             [
              1,
              "#f0f921"
             ]
            ],
            "type": "surface"
           }
          ],
          "table": [
           {
            "cells": {
             "fill": {
              "color": "#EBF0F8"
             },
             "line": {
              "color": "white"
             }
            },
            "header": {
             "fill": {
              "color": "#C8D4E3"
             },
             "line": {
              "color": "white"
             }
            },
            "type": "table"
           }
          ]
         },
         "layout": {
          "annotationdefaults": {
           "arrowcolor": "#2a3f5f",
           "arrowhead": 0,
           "arrowwidth": 1
          },
          "autotypenumbers": "strict",
          "coloraxis": {
           "colorbar": {
            "outlinewidth": 0,
            "ticks": ""
           }
          },
          "colorscale": {
           "diverging": [
            [
             0,
             "#8e0152"
            ],
            [
             0.1,
             "#c51b7d"
            ],
            [
             0.2,
             "#de77ae"
            ],
            [
             0.3,
             "#f1b6da"
            ],
            [
             0.4,
             "#fde0ef"
            ],
            [
             0.5,
             "#f7f7f7"
            ],
            [
             0.6,
             "#e6f5d0"
            ],
            [
             0.7,
             "#b8e186"
            ],
            [
             0.8,
             "#7fbc41"
            ],
            [
             0.9,
             "#4d9221"
            ],
            [
             1,
             "#276419"
            ]
           ],
           "sequential": [
            [
             0,
             "#0d0887"
            ],
            [
             0.1111111111111111,
             "#46039f"
            ],
            [
             0.2222222222222222,
             "#7201a8"
            ],
            [
             0.3333333333333333,
             "#9c179e"
            ],
            [
             0.4444444444444444,
             "#bd3786"
            ],
            [
             0.5555555555555556,
             "#d8576b"
            ],
            [
             0.6666666666666666,
             "#ed7953"
            ],
            [
             0.7777777777777778,
             "#fb9f3a"
            ],
            [
             0.8888888888888888,
             "#fdca26"
            ],
            [
             1,
             "#f0f921"
            ]
           ],
           "sequentialminus": [
            [
             0,
             "#0d0887"
            ],
            [
             0.1111111111111111,
             "#46039f"
            ],
            [
             0.2222222222222222,
             "#7201a8"
            ],
            [
             0.3333333333333333,
             "#9c179e"
            ],
            [
             0.4444444444444444,
             "#bd3786"
            ],
            [
             0.5555555555555556,
             "#d8576b"
            ],
            [
             0.6666666666666666,
             "#ed7953"
            ],
            [
             0.7777777777777778,
             "#fb9f3a"
            ],
            [
             0.8888888888888888,
             "#fdca26"
            ],
            [
             1,
             "#f0f921"
            ]
           ]
          },
          "colorway": [
           "#636efa",
           "#EF553B",
           "#00cc96",
           "#ab63fa",
           "#FFA15A",
           "#19d3f3",
           "#FF6692",
           "#B6E880",
           "#FF97FF",
           "#FECB52"
          ],
          "font": {
           "color": "#2a3f5f"
          },
          "geo": {
           "bgcolor": "white",
           "lakecolor": "white",
           "landcolor": "#E5ECF6",
           "showlakes": true,
           "showland": true,
           "subunitcolor": "white"
          },
          "hoverlabel": {
           "align": "left"
          },
          "hovermode": "closest",
          "mapbox": {
           "style": "light"
          },
          "paper_bgcolor": "white",
          "plot_bgcolor": "#E5ECF6",
          "polar": {
           "angularaxis": {
            "gridcolor": "white",
            "linecolor": "white",
            "ticks": ""
           },
           "bgcolor": "#E5ECF6",
           "radialaxis": {
            "gridcolor": "white",
            "linecolor": "white",
            "ticks": ""
           }
          },
          "scene": {
           "xaxis": {
            "backgroundcolor": "#E5ECF6",
            "gridcolor": "white",
            "gridwidth": 2,
            "linecolor": "white",
            "showbackground": true,
            "ticks": "",
            "zerolinecolor": "white"
           },
           "yaxis": {
            "backgroundcolor": "#E5ECF6",
            "gridcolor": "white",
            "gridwidth": 2,
            "linecolor": "white",
            "showbackground": true,
            "ticks": "",
            "zerolinecolor": "white"
           },
           "zaxis": {
            "backgroundcolor": "#E5ECF6",
            "gridcolor": "white",
            "gridwidth": 2,
            "linecolor": "white",
            "showbackground": true,
            "ticks": "",
            "zerolinecolor": "white"
           }
          },
          "shapedefaults": {
           "line": {
            "color": "#2a3f5f"
           }
          },
          "ternary": {
           "aaxis": {
            "gridcolor": "white",
            "linecolor": "white",
            "ticks": ""
           },
           "baxis": {
            "gridcolor": "white",
            "linecolor": "white",
            "ticks": ""
           },
           "bgcolor": "#E5ECF6",
           "caxis": {
            "gridcolor": "white",
            "linecolor": "white",
            "ticks": ""
           }
          },
          "title": {
           "x": 0.05
          },
          "xaxis": {
           "automargin": true,
           "gridcolor": "white",
           "linecolor": "white",
           "ticks": "",
           "title": {
            "standoff": 15
           },
           "zerolinecolor": "white",
           "zerolinewidth": 2
          },
          "yaxis": {
           "automargin": true,
           "gridcolor": "white",
           "linecolor": "white",
           "ticks": "",
           "title": {
            "standoff": 15
           },
           "zerolinecolor": "white",
           "zerolinewidth": 2
          }
         }
        },
        "title": {
         "text": "<b>Payment Method Distribution</b>"
        }
       }
      }
     },
     "metadata": {},
     "output_type": "display_data"
    }
   ],
   "source": [
    "labels = df['PaymentMethod'].unique()\n",
    "values = df['PaymentMethod'].value_counts()\n",
    "\n",
    "fig = go.Figure(data=[go.Pie(labels=labels, values=values, hole=.3)])\n",
    "fig.update_layout(title_text=\"<b>Payment Method Distribution</b>\")\n",
    "fig.show()"
   ]
  },
  {
   "cell_type": "markdown",
   "id": "209e43d1",
   "metadata": {},
   "source": [
    "* **MOST POPULAR METHOD:** **ELECTRONIC CHECK** is the most widely used payment method, accounting for over a THIRD (**33.6%**) of all customers.\n",
    "\n",
    "* **DISTRIBUTION OF OTHER METHODS:** The remaining three payment methods are almost EVENLY SPLIT. **MAILED CHECK** (22.9%), **BANK TRANSFER** (21.9%), and **CREDIT CARD** (21.6%) each represent a similar portion of the customer base.\n",
    "\n",
    "* **KEY INSIGHT:** A MAJORITY of customers (**over 56%**) rely on MANUAL payment methods (Electronic and Mailed checks) that require action each billing cycle, rather than AUTOMATIC, recurring payments. This reliance on manual payments could be a significant risk factor for involuntary churn due to missed or late payments."
   ]
  },
  {
   "cell_type": "code",
   "execution_count": null,
   "id": "c7b44904",
   "metadata": {},
   "outputs": [
    {
     "data": {
      "application/vnd.plotly.v1+json": {
       "config": {
        "plotlyServerURL": "https://plot.ly"
       },
       "data": [
        {
         "bingroup": "x",
         "hovertemplate": "PaymentMethod=Electronic check<br>Churn=%{x}<br>count=%{y}<extra></extra>",
         "legendgroup": "Electronic check",
         "marker": {
          "color": "#636efa",
          "pattern": {
           "shape": ""
          }
         },
         "name": "Electronic check",
         "orientation": "v",
         "showlegend": true,
         "type": "histogram",
         "x": {
          "bdata": "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",
          "dtype": "i1"
         },
         "xaxis": "x",
         "yaxis": "y"
        },
        {
         "bingroup": "x",
         "hovertemplate": "PaymentMethod=Mailed check<br>Churn=%{x}<br>count=%{y}<extra></extra>",
         "legendgroup": "Mailed check",
         "marker": {
          "color": "#EF553B",
          "pattern": {
           "shape": ""
          }
         },
         "name": "Mailed check",
         "orientation": "v",
         "showlegend": true,
         "type": "histogram",
         "x": {
          "bdata": "AAEAAAABAQAAAAAAAAAAAAAAAQAAAAAAAAAAAAAAAQAAAQAAAAAAAAEAAAAAAQAAAQEBAAAAAQAAAAABAQAAAAEAAAAAAQAAAAAAAAEAAAAAAAAAAAEBAAAAAAABAQAAAAEAAAEAAAAAAAAAAAAAAAAAAAAAAAAAAAEAAAAAAAEBAAAAAAEAAAABAAAAAAEBAAABAQAAAAABAQAAAAAAAAAAAAEAAAAAAAAAAAAAAAAAAAAAAAAAAQEAAAAAAAABAAEAAAABAAAAAAAAAAAAAAAAAQAAAQAAAAAAAAAAAAAAAAEAAAABAAABAAAAAAAAAQAAAAEAAAAAAAABAAAAAQAAAAAAAAAAAQAAAAAAAQAAAAAAAAAAAAAAAQABAAABAQAAAAAAAAAAAAEAAAAAAAAAAAAAAQAAAAAAAAAAAAAAAAAAAAABAAEAAAAAAQAAAAAAAAEAAAAAAAAAAAABAAABAAAAAQABAAAAAAAAAAAAAAAAAQAAAAAAAQAAAQAAAAAAAAAAAAAAAAAAAQAAAAAAAQAAAAEBAAAAAAAAAQAAAAAAAAEAAAABAQEAAQAAAAAAAQAAAAAAAAAAAAABAAAAAAAAAAAAAAAAAAAAAQAAAAAAAAEAAAAAAAAAAQAAAAABAQEAAAAAAAAAAAAAAAAAAAABAAAAAAEAAAABAAABAAAAAAAAAAAAAAAAAAAAAAABAAAAAQABAAAAAAAAAAEAAQAAAAABAQAAAAAAAAEAAAEAAAAAAAEBAAABAAAAAAAAAAEAAAAAAQABAAAAAAABAAAAAAAAAQAAAAABAAAAAAAAAAAAAAABAAAAAAEAAQAAAQAAAAAAAQAAAQAAAQEAAAAAAAABAAAAAAABAAAAAAAAAAAAAAABAQABAAAAAAAAAAAAAQEAAQAAAAABAAEAAAAAAAEBAAAAAAAAAAAAAAABAQAAAAAAAAEAAAAAAAAAAAABAAEAAAAAAAAAAAAAAAEAAAAAAQAAAAABAAABAAEBAQEAAAAAAQEBAAAAAAAAAAAAAAAAAAEAAAAAAAAAAAEAAAABAAABAAAAAAAAAQAAAAABAAAAAAABAAEAAAABAQABAAEAAAAAAQAAAAAAAAAAAQEBAAAAAAABAAEBAAAAAQABAAAAAAAAAAAAAAAAAAAAAAEAAAAAAAAAAAAAAAAAAAAAAQEAAAAAAAABAQAAAAAAAAAAAAAAAAEAAAAAAAABAAAAAAAAAAAAAAEBAAAAAAAAAQAAAAAAAAEAAAAAAAABAAAAAAAAAAAAAAAAAAEAAAEAAAAAAAEBAQAAAAEAAAABAAAAAAAAAAAAAAEAAAAAAAAAAAAAAAAAAQAAAAAAAQABAAEBAAAAAAAAAAEAAQABAAAAAAAAAQAAAAAAAAAAAAAAAAEAAAAAAAAAAAEAAAEAAAAAAQAAAAABAQAAAQAAAAEAAQAAAAAAAAEAAAABAQAAAAABAQAAAAAAAAAAAQAAAAAAAAAAAAABAAABAAEAAAEAAAAAAAABAAAAAAAAAQABAAAAAAAAAAAAAAAAAAAAAAEBAAAAAAAAAAAAAAAAAAABAAABAAAAAQAAAAAAAQEAAAABAAAAAAEBAAAAAAEAAAAAAQEAAAAAAAAAAAAAAQAAAAAAAAAAAQEAAQAAAQAAAAAAAQABAAAAAQABAAAAAQAAAAABAAEAAAABAQABAAEAAAABAAAAAAABAQAAAAAAAQAAAQAAAQAAAAAAAAABAAAAAAABAAAAAAAAAQAAAAABAAAAAAAAAAAAAAAAAAAAAAAAAAAAAAABAAAAAAAAAAAAAAABAQAAAAABAAAAAAAAAAAAAAAAAAABAAABAAAAAQAAAAAAAAEBAAEAAQAAAAAAAAAAAAAAAAEBAAAAAAEBAQAAAAEAAAEAAQABAAAAAAABAAAAAQAAAAAAAAEAAAEAAAABAAAAAQEAAAAAAQAAAAABAAAAAAAAAAAAAAABAAAAAAAAAAAAAQEAAAABAAAAAAAAAAAAAAAAAAEAAQAAAAAAAAAAAAAAAAAAAAAAAAABAAAAAAAAAQAAAAABAAAAAAEAAAEAAAAAAAEAAQAAAAEAAAAAAAAAAQAAAAAAAQAAAAAAAAAAAQAAAAAAAAAAAAABAAABAAEBAQEAAAAAAQ==",
          "dtype": "i1"
         },
         "xaxis": "x",
         "yaxis": "y"
        },
        {
         "bingroup": "x",
         "hovertemplate": "PaymentMethod=Bank transfer (automatic)<br>Churn=%{x}<br>count=%{y}<extra></extra>",
         "legendgroup": "Bank transfer (automatic)",
         "marker": {
          "color": "#00cc96",
          "pattern": {
           "shape": ""
          }
         },
         "name": "Bank transfer (automatic)",
         "orientation": "v",
         "showlegend": true,
         "type": "histogram",
         "x": {
          "bdata": "AAABAAAAAAAAAQAAAAAAAAEAAAAAAAAAAAABAAAAAAAAAAAAAAEAAAEAAQABAQAAAAAAAAAAAAAAAAAAAQAAAAABAAEAAAAAAQEAAAEAAQAAAAAAAAAAAAAAAAABAAAAAAAAAQAAAAAAAAAAAAEBAAAAAAABAAEAAAABAQABAAAAAAEAAAAAAAABAAAAAAAAAAABAAAAAAEBAAAAAQAAAQAAAAAAAAAAAAAAAAAAAAEAAAAAAAAAAAABAAAAAAAAAAAAAQAAAAEBAAAAAAAAAAAAAAEAAQAAAAAAAAAAAAAAAAEAAAAAAAAAAAAAAAEAAAAAAAAAAAAAAAAAAQAAAQEAAAABAQEAAQABAAEAAAAAAAAAAAEAAAABAQAAAAAAAQAAAQAAAAEAAQAAAAABAAABAAAAAAAAAAAAAAAAAQAAAAAAAAEAAAAAAAAAAQAAAAAAAAEAAAAAAAAAAAAAAQAAAAAAAAAAAAEAAAAAAAAAAAEAAAAAAQAAAAAAAAAAAAEBAAAAAAABAAABAAABAAEAAQABAAAAAAAAAAAAAQAAAQAAAAAAAAAAAAABAAABAAAAAAAAAAAAAQEAAAAAAAEAAAAAAQABAAAAAAEAAAAAAAABAAAAAAAAAQABAAEAAAEAAAAAAAAAAAABAAABAAAAAAAAAQAAAAAAAAAAAAAAAAAAAQAAAAAAAAAAAAABAAAAAQEAAAAAAAAAAAAAAQEAAAAAAAAAAAAAAAAAAQAAAAAAAAAAAAEBAQAAAAAAAAEBAAAAAAAAAAAAAQABAAABAAAAAAAAAAEAAAAAAAAAAAAAAQABAAABAAAAAAAAAQAAAAAAAQAAAAAAAAEAAAAAAQABAAAAAAEAAAAAAAAAAAAAAAAAAAEAAAAAAQAAAAEAAAAAAAAAAAAAAQAAAAABAAEAAAAAAAEBAAAAAAAAAAAAAAAAAAAAAAEBAAAAAQAAAQAAAAAAAAABAAEAAAAAAAAAAQAAAAAAAAAAAAAAAAAAAAAAAAAAAAEAAAEAAQABAAAAAAEAAAAAAAEBAQAAAAAAAAAAAAAAAAABAAEAAAAAAAEAAAAAAAEAAAAAAQAAAAAAAAAAAAAAAAAAAAAAAAAAAAAAAQAAAAAAAAEAAAEAAAAAAAABAQAAAAAAAAABAAAAAAABAAAAAAABAAAAAAAAAAEAAAAAAAAAAAAAAAABAAAAAAAAAAAAAAABAAAAAAAAAAAAAQAAAAAAAQAAAAAAAAEAAAAAAAAAAAAAAAAAAAAAAAAAAAAAAAAAAQEAAAAAAAAAAAAAAAAAAAAAAQABAAAAAAAAAAAAAAAAAQEAAAAAAAAAAAABAAAAAAAAAAAAAQAAAAEAAAAAAAAAAAABAAAAAAABAAEAAQABAAAAAAAAAAABAAAAAAAAAAABAAAAAAAAAQEAAAAAAAAAAAAAAAAAAAAAAAAAAAEAAQAAAAAAAAEAAAAAAAAAAQAAAAAAAAEAAAAAAAAAAAAAAAAAAAEAAAAAAAAAAAAAAAAAAAEBAAAAAAABAQAAAAAAAAAAAAAAAQABAAABAQAAAAAAAAEBAAAAAAAAAAAAAAAAAAAAAAAAAQAAAAAAAAAAAQABAAAAAAAAAAAAAAAAAAAAAAAAAAAAAAABAAEAAAEBAAEAAAABAAAAAAAAAAAAAAABAAAAAAABAAAAAAAAAAAAAAAAAAAAAAAAAAEAAAEAAAAAAAABAAABAQAAAQABAQAAAAAAAAAAAAEAAAAAAAAAAAAAAAABAQABAQABAAAAAAAAAAAAAAABAAAAAAAAAAAAAAAAAQEAAAABAAEAAAAAAQAAAAAAAAAAAAAAAAEAAAABAAAAAQAAAAEAAAAAAAAAAQAAAQAAAAABAAABAAAAAAAAAAAAAAAAAAABAAAAAAEAAAABAAAAAQEBAAEBAAAAAQAAAQAAAAAAAAAAAAAAAAAAAAAAAAABAAAAAAAAAAAAAAAAAAAAAAAAAQAAAQAAAAEAAAAAAAEAAAAAAAEAAQAAAAAAAAAAAAABAQEAAAABAQAAAQAAAQAAAAAAAQAAAAA=",
          "dtype": "i1"
         },
         "xaxis": "x",
         "yaxis": "y"
        },
        {
         "bingroup": "x",
         "hovertemplate": "PaymentMethod=Credit card (automatic)<br>Churn=%{x}<br>count=%{y}<extra></extra>",
         "legendgroup": "Credit card (automatic)",
         "marker": {
          "color": "#ab63fa",
          "pattern": {
           "shape": ""
          }
         },
         "name": "Credit card (automatic)",
         "orientation": "v",
         "showlegend": true,
         "type": "histogram",
         "x": {
          "bdata": "AAAAAAEAAAAAAAAAAAAAAQABAAAAAAAAAAAAAAAAAAABAAAAAAAAAAAAAAAAAAAAAAAAAQAAAAAAAAAAAAABAAABAAAAAAABAAAAAAAAAAABAAAAAAAAAQABAAEAAAAAAAAAAAAAAAAAAAAAAAAAAQAAAAAAAAAAAQAAAAAAAAAAAAAAAAAAAQAAAAAAAAAAAAABAAAAAAAAAAABAAAAAAAAAAAAAAAAAAAAAAAAAAAAAAABAAAAAAEAAAAAAAAAAAAAAAAAAQAAAAAAAAAAAAABAAAAAAAAAAAAAQEAAAAAAAAAAQEAAQEAAAEAAAEAAAABAAAAAQAAAAAAAAEAAAAAAAAAAAAAAAAAAQAAAAAAAAAAAQAAAAAAAAEAAAAAAAAAAAABAAAAAQABAAAAAAAAAAAAAQABAAAAAAAAAQAAAAEAAQAAAAAAAQAAAAEAAAAAAAABAAAAAQAAAAABAAAAAAABAAABAAAAAAAAAAAAAAAAAQAAAAAAAAEAAAAAAAAAAAAAAAAAAQAAAAAAAAABAQAAAAAAAQEAAAAAAAAAAAAAAAAAAAAAAAAAAAAAAAAAAQABAAAAAAABAAABAAEAAAAAAAAAAAAAAQAAAAAAAQAAAAAAAAAAAAAAAAAAAAAAAAAAAAAAAAAAAAAAAQAAAAAAAQEAAAAAAQAAAAAAAQAAAAAAAAAAAQAAAAAAAAAAAAAAAAEAAAAAAAAAAQEAAAABAAAAAQAAAAABAAAAAQAAAAAAAAAAAAEAAQAAAAAAAAEAAQAAAAEAAAAAAQAAAAAAAAAAAAAAAQAAAQAAAAAAAAAAAAAAAAABAAAAAAEBAAAAAAAAAAAAAQAAAAAAAAAAAAABAAABAAAAAAAAAAAAAAABAAAAAQEBAAAAAAAAAAAAAAAAAAAAAAABAAAAAAEAAAAAAAAAAQAAAAAAAAAAAAAAAAAAAAAAAAAAAAAAAAAAAQABAAAAAAAAAAAAAAAAAQEAAAAAAAAAAAEAAAAAAAEAAAAAAQAAAAAAAAAAAAEAAQAAAAAAAAAAAAEAAAAAAAAAAAEAAQEAAAAAAQABAAAAAQAAAAABAAEBAAAAAAAAAAABAAAAAAAAAAEAAAAAAQAAAAAAAAEAAAAAAAAAAAAAAAEAAQAAAAEAAAAAAAAAAQAAAAAAAAAAAAAAAAAAAAAAAAAAAAAAAAAAAAAAAQAAAQAAAAAAAAEAAAAAAAAAAAAAAQEBAQABAAAAAQAAAAAAAAAAAAAAAAAAAAAAAAEAAAEBAAAAAQAAAAAAAAAAAQAAAQEAAAAAAAEAAAAAAAAAAAEAAAAAAAAAAAABAAAAAAAAAAAAAAAAAAABAAAAAQAAAAEAAQAAAAAAAAAAAAEAAAABAAAAAAABAAAAAAAAAAAAAAAAAAAAAAAAAAABAAAAAAAAAAAAAAAAAAAAAAEBAAAAAAAAAQAAAAEAAQAAAQAAAAABAAABAAAAAAABAAAAAQEBAAEAAAAAAQAAAAAAAAAAAAAAAAEAAAAAAAAAAAAAAAAAAAAAAAAAAAAAAAABAAAAAAAAAAAAAAAAAAABAAABAAAAAQAAAAAAAQEBAAAAAAAAAQAAAAABAAAAAQAAAAAAAAEAAAEAAAEAAAAAAAEAAQAAAAEAAAEAAQAAAAEAAAAAAAEAAAAAAAAAAAAAAAAAAAAAAAAAAQAAAAEAAQAAAAAAAAAAAAABAAAAAAABAAAAAQAAAAAAAQAAAAAAAAAAAAAAAAAAAAEAAAEBAAAAAAEAAQAAAAAAAAAAAQAAAAAAAAAAAAAAAAAAAAAAAAAAAAEAAAEAAQAAAAEAAAAAAAAAAQAAAAAAAQAAAQAAAAAAAAAAAAAAAAAAAAAAAAAAAQABAAEAAAAAAAAAAAAAAAABAAEAAQAAAAEBAAAAAAAAAQAAAAAAAAAAAAAAAAAAAAAAAQAAAQABAAAAAAABAQAAAAAAAQEAAAAAAAABAAAAAQEAAAAAAAAAAAABAAAAAAAAAAEAAAAAAAEAAAABAQAAAAABAA==",
          "dtype": "i1"
         },
         "xaxis": "x",
         "yaxis": "y"
        }
       ],
       "layout": {
        "bargap": 0.1,
        "barmode": "relative",
        "height": 500,
        "legend": {
         "title": {
          "text": "PaymentMethod"
         },
         "tracegroupgap": 0
        },
        "template": {
         "data": {
          "bar": [
           {
            "error_x": {
             "color": "#2a3f5f"
            },
            "error_y": {
             "color": "#2a3f5f"
            },
            "marker": {
             "line": {
              "color": "#E5ECF6",
              "width": 0.5
             },
             "pattern": {
              "fillmode": "overlay",
              "size": 10,
              "solidity": 0.2
             }
            },
            "type": "bar"
           }
          ],
          "barpolar": [
           {
            "marker": {
             "line": {
              "color": "#E5ECF6",
              "width": 0.5
             },
             "pattern": {
              "fillmode": "overlay",
              "size": 10,
              "solidity": 0.2
             }
            },
            "type": "barpolar"
           }
          ],
          "carpet": [
           {
            "aaxis": {
             "endlinecolor": "#2a3f5f",
             "gridcolor": "white",
             "linecolor": "white",
             "minorgridcolor": "white",
             "startlinecolor": "#2a3f5f"
            },
            "baxis": {
             "endlinecolor": "#2a3f5f",
             "gridcolor": "white",
             "linecolor": "white",
             "minorgridcolor": "white",
             "startlinecolor": "#2a3f5f"
            },
            "type": "carpet"
           }
          ],
          "choropleth": [
           {
            "colorbar": {
             "outlinewidth": 0,
             "ticks": ""
            },
            "type": "choropleth"
           }
          ],
          "contour": [
           {
            "colorbar": {
             "outlinewidth": 0,
             "ticks": ""
            },
            "colorscale": [
             [
              0,
              "#0d0887"
             ],
             [
              0.1111111111111111,
              "#46039f"
             ],
             [
              0.2222222222222222,
              "#7201a8"
             ],
             [
              0.3333333333333333,
              "#9c179e"
             ],
             [
              0.4444444444444444,
              "#bd3786"
             ],
             [
              0.5555555555555556,
              "#d8576b"
             ],
             [
              0.6666666666666666,
              "#ed7953"
             ],
             [
              0.7777777777777778,
              "#fb9f3a"
             ],
             [
              0.8888888888888888,
              "#fdca26"
             ],
             [
              1,
              "#f0f921"
             ]
            ],
            "type": "contour"
           }
          ],
          "contourcarpet": [
           {
            "colorbar": {
             "outlinewidth": 0,
             "ticks": ""
            },
            "type": "contourcarpet"
           }
          ],
          "heatmap": [
           {
            "colorbar": {
             "outlinewidth": 0,
             "ticks": ""
            },
            "colorscale": [
             [
              0,
              "#0d0887"
             ],
             [
              0.1111111111111111,
              "#46039f"
             ],
             [
              0.2222222222222222,
              "#7201a8"
             ],
             [
              0.3333333333333333,
              "#9c179e"
             ],
             [
              0.4444444444444444,
              "#bd3786"
             ],
             [
              0.5555555555555556,
              "#d8576b"
             ],
             [
              0.6666666666666666,
              "#ed7953"
             ],
             [
              0.7777777777777778,
              "#fb9f3a"
             ],
             [
              0.8888888888888888,
              "#fdca26"
             ],
             [
              1,
              "#f0f921"
             ]
            ],
            "type": "heatmap"
           }
          ],
          "histogram": [
           {
            "marker": {
             "pattern": {
              "fillmode": "overlay",
              "size": 10,
              "solidity": 0.2
             }
            },
            "type": "histogram"
           }
          ],
          "histogram2d": [
           {
            "colorbar": {
             "outlinewidth": 0,
             "ticks": ""
            },
            "colorscale": [
             [
              0,
              "#0d0887"
             ],
             [
              0.1111111111111111,
              "#46039f"
             ],
             [
              0.2222222222222222,
              "#7201a8"
             ],
             [
              0.3333333333333333,
              "#9c179e"
             ],
             [
              0.4444444444444444,
              "#bd3786"
             ],
             [
              0.5555555555555556,
              "#d8576b"
             ],
             [
              0.6666666666666666,
              "#ed7953"
             ],
             [
              0.7777777777777778,
              "#fb9f3a"
             ],
             [
              0.8888888888888888,
              "#fdca26"
             ],
             [
              1,
              "#f0f921"
             ]
            ],
            "type": "histogram2d"
           }
          ],
          "histogram2dcontour": [
           {
            "colorbar": {
             "outlinewidth": 0,
             "ticks": ""
            },
            "colorscale": [
             [
              0,
              "#0d0887"
             ],
             [
              0.1111111111111111,
              "#46039f"
             ],
             [
              0.2222222222222222,
              "#7201a8"
             ],
             [
              0.3333333333333333,
              "#9c179e"
             ],
             [
              0.4444444444444444,
              "#bd3786"
             ],
             [
              0.5555555555555556,
              "#d8576b"
             ],
             [
              0.6666666666666666,
              "#ed7953"
             ],
             [
              0.7777777777777778,
              "#fb9f3a"
             ],
             [
              0.8888888888888888,
              "#fdca26"
             ],
             [
              1,
              "#f0f921"
             ]
            ],
            "type": "histogram2dcontour"
           }
          ],
          "mesh3d": [
           {
            "colorbar": {
             "outlinewidth": 0,
             "ticks": ""
            },
            "type": "mesh3d"
           }
          ],
          "parcoords": [
           {
            "line": {
             "colorbar": {
              "outlinewidth": 0,
              "ticks": ""
             }
            },
            "type": "parcoords"
           }
          ],
          "pie": [
           {
            "automargin": true,
            "type": "pie"
           }
          ],
          "scatter": [
           {
            "fillpattern": {
             "fillmode": "overlay",
             "size": 10,
             "solidity": 0.2
            },
            "type": "scatter"
           }
          ],
          "scatter3d": [
           {
            "line": {
             "colorbar": {
              "outlinewidth": 0,
              "ticks": ""
             }
            },
            "marker": {
             "colorbar": {
              "outlinewidth": 0,
              "ticks": ""
             }
            },
            "type": "scatter3d"
           }
          ],
          "scattercarpet": [
           {
            "marker": {
             "colorbar": {
              "outlinewidth": 0,
              "ticks": ""
             }
            },
            "type": "scattercarpet"
           }
          ],
          "scattergeo": [
           {
            "marker": {
             "colorbar": {
              "outlinewidth": 0,
              "ticks": ""
             }
            },
            "type": "scattergeo"
           }
          ],
          "scattergl": [
           {
            "marker": {
             "colorbar": {
              "outlinewidth": 0,
              "ticks": ""
             }
            },
            "type": "scattergl"
           }
          ],
          "scattermap": [
           {
            "marker": {
             "colorbar": {
              "outlinewidth": 0,
              "ticks": ""
             }
            },
            "type": "scattermap"
           }
          ],
          "scattermapbox": [
           {
            "marker": {
             "colorbar": {
              "outlinewidth": 0,
              "ticks": ""
             }
            },
            "type": "scattermapbox"
           }
          ],
          "scatterpolar": [
           {
            "marker": {
             "colorbar": {
              "outlinewidth": 0,
              "ticks": ""
             }
            },
            "type": "scatterpolar"
           }
          ],
          "scatterpolargl": [
           {
            "marker": {
             "colorbar": {
              "outlinewidth": 0,
              "ticks": ""
             }
            },
            "type": "scatterpolargl"
           }
          ],
          "scatterternary": [
           {
            "marker": {
             "colorbar": {
              "outlinewidth": 0,
              "ticks": ""
             }
            },
            "type": "scatterternary"
           }
          ],
          "surface": [
           {
            "colorbar": {
             "outlinewidth": 0,
             "ticks": ""
            },
            "colorscale": [
             [
              0,
              "#0d0887"
             ],
             [
              0.1111111111111111,
              "#46039f"
             ],
             [
              0.2222222222222222,
              "#7201a8"
             ],
             [
              0.3333333333333333,
              "#9c179e"
             ],
             [
              0.4444444444444444,
              "#bd3786"
             ],
             [
              0.5555555555555556,
              "#d8576b"
             ],
             [
              0.6666666666666666,
              "#ed7953"
             ],
             [
              0.7777777777777778,
              "#fb9f3a"
             ],
             [
              0.8888888888888888,
              "#fdca26"
             ],
             [
              1,
              "#f0f921"
             ]
            ],
            "type": "surface"
           }
          ],
          "table": [
           {
            "cells": {
             "fill": {
              "color": "#EBF0F8"
             },
             "line": {
              "color": "white"
             }
            },
            "header": {
             "fill": {
              "color": "#C8D4E3"
             },
             "line": {
              "color": "white"
             }
            },
            "type": "table"
           }
          ]
         },
         "layout": {
          "annotationdefaults": {
           "arrowcolor": "#2a3f5f",
           "arrowhead": 0,
           "arrowwidth": 1
          },
          "autotypenumbers": "strict",
          "coloraxis": {
           "colorbar": {
            "outlinewidth": 0,
            "ticks": ""
           }
          },
          "colorscale": {
           "diverging": [
            [
             0,
             "#8e0152"
            ],
            [
             0.1,
             "#c51b7d"
            ],
            [
             0.2,
             "#de77ae"
            ],
            [
             0.3,
             "#f1b6da"
            ],
            [
             0.4,
             "#fde0ef"
            ],
            [
             0.5,
             "#f7f7f7"
            ],
            [
             0.6,
             "#e6f5d0"
            ],
            [
             0.7,
             "#b8e186"
            ],
            [
             0.8,
             "#7fbc41"
            ],
            [
             0.9,
             "#4d9221"
            ],
            [
             1,
             "#276419"
            ]
           ],
           "sequential": [
            [
             0,
             "#0d0887"
            ],
            [
             0.1111111111111111,
             "#46039f"
            ],
            [
             0.2222222222222222,
             "#7201a8"
            ],
            [
             0.3333333333333333,
             "#9c179e"
            ],
            [
             0.4444444444444444,
             "#bd3786"
            ],
            [
             0.5555555555555556,
             "#d8576b"
            ],
            [
             0.6666666666666666,
             "#ed7953"
            ],
            [
             0.7777777777777778,
             "#fb9f3a"
            ],
            [
             0.8888888888888888,
             "#fdca26"
            ],
            [
             1,
             "#f0f921"
            ]
           ],
           "sequentialminus": [
            [
             0,
             "#0d0887"
            ],
            [
             0.1111111111111111,
             "#46039f"
            ],
            [
             0.2222222222222222,
             "#7201a8"
            ],
            [
             0.3333333333333333,
             "#9c179e"
            ],
            [
             0.4444444444444444,
             "#bd3786"
            ],
            [
             0.5555555555555556,
             "#d8576b"
            ],
            [
             0.6666666666666666,
             "#ed7953"
            ],
            [
             0.7777777777777778,
             "#fb9f3a"
            ],
            [
             0.8888888888888888,
             "#fdca26"
            ],
            [
             1,
             "#f0f921"
            ]
           ]
          },
          "colorway": [
           "#636efa",
           "#EF553B",
           "#00cc96",
           "#ab63fa",
           "#FFA15A",
           "#19d3f3",
           "#FF6692",
           "#B6E880",
           "#FF97FF",
           "#FECB52"
          ],
          "font": {
           "color": "#2a3f5f"
          },
          "geo": {
           "bgcolor": "white",
           "lakecolor": "white",
           "landcolor": "#E5ECF6",
           "showlakes": true,
           "showland": true,
           "subunitcolor": "white"
          },
          "hoverlabel": {
           "align": "left"
          },
          "hovermode": "closest",
          "mapbox": {
           "style": "light"
          },
          "paper_bgcolor": "white",
          "plot_bgcolor": "#E5ECF6",
          "polar": {
           "angularaxis": {
            "gridcolor": "white",
            "linecolor": "white",
            "ticks": ""
           },
           "bgcolor": "#E5ECF6",
           "radialaxis": {
            "gridcolor": "white",
            "linecolor": "white",
            "ticks": ""
           }
          },
          "scene": {
           "xaxis": {
            "backgroundcolor": "#E5ECF6",
            "gridcolor": "white",
            "gridwidth": 2,
            "linecolor": "white",
            "showbackground": true,
            "ticks": "",
            "zerolinecolor": "white"
           },
           "yaxis": {
            "backgroundcolor": "#E5ECF6",
            "gridcolor": "white",
            "gridwidth": 2,
            "linecolor": "white",
            "showbackground": true,
            "ticks": "",
            "zerolinecolor": "white"
           },
           "zaxis": {
            "backgroundcolor": "#E5ECF6",
            "gridcolor": "white",
            "gridwidth": 2,
            "linecolor": "white",
            "showbackground": true,
            "ticks": "",
            "zerolinecolor": "white"
           }
          },
          "shapedefaults": {
           "line": {
            "color": "#2a3f5f"
           }
          },
          "ternary": {
           "aaxis": {
            "gridcolor": "white",
            "linecolor": "white",
            "ticks": ""
           },
           "baxis": {
            "gridcolor": "white",
            "linecolor": "white",
            "ticks": ""
           },
           "bgcolor": "#E5ECF6",
           "caxis": {
            "gridcolor": "white",
            "linecolor": "white",
            "ticks": ""
           }
          },
          "title": {
           "x": 0.05
          },
          "xaxis": {
           "automargin": true,
           "gridcolor": "white",
           "linecolor": "white",
           "ticks": "",
           "title": {
            "standoff": 15
           },
           "zerolinecolor": "white",
           "zerolinewidth": 2
          },
          "yaxis": {
           "automargin": true,
           "gridcolor": "white",
           "linecolor": "white",
           "ticks": "",
           "title": {
            "standoff": 15
           },
           "zerolinecolor": "white",
           "zerolinewidth": 2
          }
         }
        },
        "title": {
         "text": "<b>Customer Payment Method distribution w.r.t. Churn</b>"
        },
        "width": 700,
        "xaxis": {
         "anchor": "y",
         "domain": [
          0,
          1
         ],
         "title": {
          "text": "Churn"
         }
        },
        "yaxis": {
         "anchor": "x",
         "domain": [
          0,
          1
         ],
         "title": {
          "text": "count"
         }
        }
       }
      }
     },
     "metadata": {},
     "output_type": "display_data"
    }
   ],
   "source": [
    "fig = px.histogram(df, x=\"Churn\", color=\"PaymentMethod\", title=\"<b>Customer Payment Method distribution w.r.t. Churn</b>\")\n",
    "fig.update_layout(width=700, height=500, bargap=0.1)\n",
    "fig.show()"
   ]
  },
  {
   "cell_type": "markdown",
   "id": "724a0fe1",
   "metadata": {},
   "source": [
    "* **NON-CHURNED CUSTOMERS (LEFT BAR):** Among customers who DID NOT churn, there is a relatively BALANCED distribution across all four payment methods. No single method overwhelmingly dominates this group of loyal customers.\n",
    "\n",
    "* **CHURNED CUSTOMERS (RIGHT BAR):** The story is completely different for customers who DID churn. The **ELECTRONIC CHECK** segment MASSIVELY DOMINATES this bar, representing the largest group of churned customers by a wide margin.\n",
    "\n",
    "* **KEY INSIGHT:** This visualization clearly indicates that the **PAYMENT METHOD is strongly correlated with customer churn**. Customers who pay via **ELECTRONIC CHECK are significantly more likely to churn** compared to those using other methods, especially automatic payment options like bank transfers or credit cards."
   ]
  },
  {
   "cell_type": "code",
   "execution_count": 25,
   "id": "0c5d9d60",
   "metadata": {},
   "outputs": [
    {
     "data": {
      "application/vnd.plotly.v1+json": {
       "config": {
        "plotlyServerURL": "https://plot.ly"
       },
       "data": [
        {
         "name": "DSL",
         "type": "bar",
         "x": [
          [
           "Churn:No",
           "Churn:No",
           "Churn:Yes",
           "Churn:Yes"
          ],
          [
           "Female",
           "Male",
           "Female",
           "Male"
          ]
         ],
         "y": [
          965,
          992,
          219,
          240
         ]
        },
        {
         "name": "Fiber optic",
         "type": "bar",
         "x": [
          [
           "Churn:No",
           "Churn:No",
           "Churn:Yes",
           "Churn:Yes"
          ],
          [
           "Female",
           "Male",
           "Female",
           "Male"
          ]
         ],
         "y": [
          889,
          910,
          664,
          633
         ]
        },
        {
         "name": "No Internet",
         "type": "bar",
         "x": [
          [
           "Churn:No",
           "Churn:No",
           "Churn:Yes",
           "Churn:Yes"
          ],
          [
           "Female",
           "Male",
           "Female",
           "Male"
          ]
         ],
         "y": [
          690,
          717,
          56,
          57
         ]
        }
       ],
       "layout": {
        "template": {
         "data": {
          "bar": [
           {
            "error_x": {
             "color": "#2a3f5f"
            },
            "error_y": {
             "color": "#2a3f5f"
            },
            "marker": {
             "line": {
              "color": "#E5ECF6",
              "width": 0.5
             },
             "pattern": {
              "fillmode": "overlay",
              "size": 10,
              "solidity": 0.2
             }
            },
            "type": "bar"
           }
          ],
          "barpolar": [
           {
            "marker": {
             "line": {
              "color": "#E5ECF6",
              "width": 0.5
             },
             "pattern": {
              "fillmode": "overlay",
              "size": 10,
              "solidity": 0.2
             }
            },
            "type": "barpolar"
           }
          ],
          "carpet": [
           {
            "aaxis": {
             "endlinecolor": "#2a3f5f",
             "gridcolor": "white",
             "linecolor": "white",
             "minorgridcolor": "white",
             "startlinecolor": "#2a3f5f"
            },
            "baxis": {
             "endlinecolor": "#2a3f5f",
             "gridcolor": "white",
             "linecolor": "white",
             "minorgridcolor": "white",
             "startlinecolor": "#2a3f5f"
            },
            "type": "carpet"
           }
          ],
          "choropleth": [
           {
            "colorbar": {
             "outlinewidth": 0,
             "ticks": ""
            },
            "type": "choropleth"
           }
          ],
          "contour": [
           {
            "colorbar": {
             "outlinewidth": 0,
             "ticks": ""
            },
            "colorscale": [
             [
              0,
              "#0d0887"
             ],
             [
              0.1111111111111111,
              "#46039f"
             ],
             [
              0.2222222222222222,
              "#7201a8"
             ],
             [
              0.3333333333333333,
              "#9c179e"
             ],
             [
              0.4444444444444444,
              "#bd3786"
             ],
             [
              0.5555555555555556,
              "#d8576b"
             ],
             [
              0.6666666666666666,
              "#ed7953"
             ],
             [
              0.7777777777777778,
              "#fb9f3a"
             ],
             [
              0.8888888888888888,
              "#fdca26"
             ],
             [
              1,
              "#f0f921"
             ]
            ],
            "type": "contour"
           }
          ],
          "contourcarpet": [
           {
            "colorbar": {
             "outlinewidth": 0,
             "ticks": ""
            },
            "type": "contourcarpet"
           }
          ],
          "heatmap": [
           {
            "colorbar": {
             "outlinewidth": 0,
             "ticks": ""
            },
            "colorscale": [
             [
              0,
              "#0d0887"
             ],
             [
              0.1111111111111111,
              "#46039f"
             ],
             [
              0.2222222222222222,
              "#7201a8"
             ],
             [
              0.3333333333333333,
              "#9c179e"
             ],
             [
              0.4444444444444444,
              "#bd3786"
             ],
             [
              0.5555555555555556,
              "#d8576b"
             ],
             [
              0.6666666666666666,
              "#ed7953"
             ],
             [
              0.7777777777777778,
              "#fb9f3a"
             ],
             [
              0.8888888888888888,
              "#fdca26"
             ],
             [
              1,
              "#f0f921"
             ]
            ],
            "type": "heatmap"
           }
          ],
          "histogram": [
           {
            "marker": {
             "pattern": {
              "fillmode": "overlay",
              "size": 10,
              "solidity": 0.2
             }
            },
            "type": "histogram"
           }
          ],
          "histogram2d": [
           {
            "colorbar": {
             "outlinewidth": 0,
             "ticks": ""
            },
            "colorscale": [
             [
              0,
              "#0d0887"
             ],
             [
              0.1111111111111111,
              "#46039f"
             ],
             [
              0.2222222222222222,
              "#7201a8"
             ],
             [
              0.3333333333333333,
              "#9c179e"
             ],
             [
              0.4444444444444444,
              "#bd3786"
             ],
             [
              0.5555555555555556,
              "#d8576b"
             ],
             [
              0.6666666666666666,
              "#ed7953"
             ],
             [
              0.7777777777777778,
              "#fb9f3a"
             ],
             [
              0.8888888888888888,
              "#fdca26"
             ],
             [
              1,
              "#f0f921"
             ]
            ],
            "type": "histogram2d"
           }
          ],
          "histogram2dcontour": [
           {
            "colorbar": {
             "outlinewidth": 0,
             "ticks": ""
            },
            "colorscale": [
             [
              0,
              "#0d0887"
             ],
             [
              0.1111111111111111,
              "#46039f"
             ],
             [
              0.2222222222222222,
              "#7201a8"
             ],
             [
              0.3333333333333333,
              "#9c179e"
             ],
             [
              0.4444444444444444,
              "#bd3786"
             ],
             [
              0.5555555555555556,
              "#d8576b"
             ],
             [
              0.6666666666666666,
              "#ed7953"
             ],
             [
              0.7777777777777778,
              "#fb9f3a"
             ],
             [
              0.8888888888888888,
              "#fdca26"
             ],
             [
              1,
              "#f0f921"
             ]
            ],
            "type": "histogram2dcontour"
           }
          ],
          "mesh3d": [
           {
            "colorbar": {
             "outlinewidth": 0,
             "ticks": ""
            },
            "type": "mesh3d"
           }
          ],
          "parcoords": [
           {
            "line": {
             "colorbar": {
              "outlinewidth": 0,
              "ticks": ""
             }
            },
            "type": "parcoords"
           }
          ],
          "pie": [
           {
            "automargin": true,
            "type": "pie"
           }
          ],
          "scatter": [
           {
            "fillpattern": {
             "fillmode": "overlay",
             "size": 10,
             "solidity": 0.2
            },
            "type": "scatter"
           }
          ],
          "scatter3d": [
           {
            "line": {
             "colorbar": {
              "outlinewidth": 0,
              "ticks": ""
             }
            },
            "marker": {
             "colorbar": {
              "outlinewidth": 0,
              "ticks": ""
             }
            },
            "type": "scatter3d"
           }
          ],
          "scattercarpet": [
           {
            "marker": {
             "colorbar": {
              "outlinewidth": 0,
              "ticks": ""
             }
            },
            "type": "scattercarpet"
           }
          ],
          "scattergeo": [
           {
            "marker": {
             "colorbar": {
              "outlinewidth": 0,
              "ticks": ""
             }
            },
            "type": "scattergeo"
           }
          ],
          "scattergl": [
           {
            "marker": {
             "colorbar": {
              "outlinewidth": 0,
              "ticks": ""
             }
            },
            "type": "scattergl"
           }
          ],
          "scattermap": [
           {
            "marker": {
             "colorbar": {
              "outlinewidth": 0,
              "ticks": ""
             }
            },
            "type": "scattermap"
           }
          ],
          "scattermapbox": [
           {
            "marker": {
             "colorbar": {
              "outlinewidth": 0,
              "ticks": ""
             }
            },
            "type": "scattermapbox"
           }
          ],
          "scatterpolar": [
           {
            "marker": {
             "colorbar": {
              "outlinewidth": 0,
              "ticks": ""
             }
            },
            "type": "scatterpolar"
           }
          ],
          "scatterpolargl": [
           {
            "marker": {
             "colorbar": {
              "outlinewidth": 0,
              "ticks": ""
             }
            },
            "type": "scatterpolargl"
           }
          ],
          "scatterternary": [
           {
            "marker": {
             "colorbar": {
              "outlinewidth": 0,
              "ticks": ""
             }
            },
            "type": "scatterternary"
           }
          ],
          "surface": [
           {
            "colorbar": {
             "outlinewidth": 0,
             "ticks": ""
            },
            "colorscale": [
             [
              0,
              "#0d0887"
             ],
             [
              0.1111111111111111,
              "#46039f"
             ],
             [
              0.2222222222222222,
              "#7201a8"
             ],
             [
              0.3333333333333333,
              "#9c179e"
             ],
             [
              0.4444444444444444,
              "#bd3786"
             ],
             [
              0.5555555555555556,
              "#d8576b"
             ],
             [
              0.6666666666666666,
              "#ed7953"
             ],
             [
              0.7777777777777778,
              "#fb9f3a"
             ],
             [
              0.8888888888888888,
              "#fdca26"
             ],
             [
              1,
              "#f0f921"
             ]
            ],
            "type": "surface"
           }
          ],
          "table": [
           {
            "cells": {
             "fill": {
              "color": "#EBF0F8"
             },
             "line": {
              "color": "white"
             }
            },
            "header": {
             "fill": {
              "color": "#C8D4E3"
             },
             "line": {
              "color": "white"
             }
            },
            "type": "table"
           }
          ]
         },
         "layout": {
          "annotationdefaults": {
           "arrowcolor": "#2a3f5f",
           "arrowhead": 0,
           "arrowwidth": 1
          },
          "autotypenumbers": "strict",
          "coloraxis": {
           "colorbar": {
            "outlinewidth": 0,
            "ticks": ""
           }
          },
          "colorscale": {
           "diverging": [
            [
             0,
             "#8e0152"
            ],
            [
             0.1,
             "#c51b7d"
            ],
            [
             0.2,
             "#de77ae"
            ],
            [
             0.3,
             "#f1b6da"
            ],
            [
             0.4,
             "#fde0ef"
            ],
            [
             0.5,
             "#f7f7f7"
            ],
            [
             0.6,
             "#e6f5d0"
            ],
            [
             0.7,
             "#b8e186"
            ],
            [
             0.8,
             "#7fbc41"
            ],
            [
             0.9,
             "#4d9221"
            ],
            [
             1,
             "#276419"
            ]
           ],
           "sequential": [
            [
             0,
             "#0d0887"
            ],
            [
             0.1111111111111111,
             "#46039f"
            ],
            [
             0.2222222222222222,
             "#7201a8"
            ],
            [
             0.3333333333333333,
             "#9c179e"
            ],
            [
             0.4444444444444444,
             "#bd3786"
            ],
            [
             0.5555555555555556,
             "#d8576b"
            ],
            [
             0.6666666666666666,
             "#ed7953"
            ],
            [
             0.7777777777777778,
             "#fb9f3a"
            ],
            [
             0.8888888888888888,
             "#fdca26"
            ],
            [
             1,
             "#f0f921"
            ]
           ],
           "sequentialminus": [
            [
             0,
             "#0d0887"
            ],
            [
             0.1111111111111111,
             "#46039f"
            ],
            [
             0.2222222222222222,
             "#7201a8"
            ],
            [
             0.3333333333333333,
             "#9c179e"
            ],
            [
             0.4444444444444444,
             "#bd3786"
            ],
            [
             0.5555555555555556,
             "#d8576b"
            ],
            [
             0.6666666666666666,
             "#ed7953"
            ],
            [
             0.7777777777777778,
             "#fb9f3a"
            ],
            [
             0.8888888888888888,
             "#fdca26"
            ],
            [
             1,
             "#f0f921"
            ]
           ]
          },
          "colorway": [
           "#636efa",
           "#EF553B",
           "#00cc96",
           "#ab63fa",
           "#FFA15A",
           "#19d3f3",
           "#FF6692",
           "#B6E880",
           "#FF97FF",
           "#FECB52"
          ],
          "font": {
           "color": "#2a3f5f"
          },
          "geo": {
           "bgcolor": "white",
           "lakecolor": "white",
           "landcolor": "#E5ECF6",
           "showlakes": true,
           "showland": true,
           "subunitcolor": "white"
          },
          "hoverlabel": {
           "align": "left"
          },
          "hovermode": "closest",
          "mapbox": {
           "style": "light"
          },
          "paper_bgcolor": "white",
          "plot_bgcolor": "#E5ECF6",
          "polar": {
           "angularaxis": {
            "gridcolor": "white",
            "linecolor": "white",
            "ticks": ""
           },
           "bgcolor": "#E5ECF6",
           "radialaxis": {
            "gridcolor": "white",
            "linecolor": "white",
            "ticks": ""
           }
          },
          "scene": {
           "xaxis": {
            "backgroundcolor": "#E5ECF6",
            "gridcolor": "white",
            "gridwidth": 2,
            "linecolor": "white",
            "showbackground": true,
            "ticks": "",
            "zerolinecolor": "white"
           },
           "yaxis": {
            "backgroundcolor": "#E5ECF6",
            "gridcolor": "white",
            "gridwidth": 2,
            "linecolor": "white",
            "showbackground": true,
            "ticks": "",
            "zerolinecolor": "white"
           },
           "zaxis": {
            "backgroundcolor": "#E5ECF6",
            "gridcolor": "white",
            "gridwidth": 2,
            "linecolor": "white",
            "showbackground": true,
            "ticks": "",
            "zerolinecolor": "white"
           }
          },
          "shapedefaults": {
           "line": {
            "color": "#2a3f5f"
           }
          },
          "ternary": {
           "aaxis": {
            "gridcolor": "white",
            "linecolor": "white",
            "ticks": ""
           },
           "baxis": {
            "gridcolor": "white",
            "linecolor": "white",
            "ticks": ""
           },
           "bgcolor": "#E5ECF6",
           "caxis": {
            "gridcolor": "white",
            "linecolor": "white",
            "ticks": ""
           }
          },
          "title": {
           "x": 0.05
          },
          "xaxis": {
           "automargin": true,
           "gridcolor": "white",
           "linecolor": "white",
           "ticks": "",
           "title": {
            "standoff": 15
           },
           "zerolinecolor": "white",
           "zerolinewidth": 2
          },
          "yaxis": {
           "automargin": true,
           "gridcolor": "white",
           "linecolor": "white",
           "ticks": "",
           "title": {
            "standoff": 15
           },
           "zerolinecolor": "white",
           "zerolinewidth": 2
          }
         }
        },
        "title": {
         "text": "<b>Churn Distribution w.r.t. Internet Service and Gender</b>"
        }
       }
      }
     },
     "metadata": {},
     "output_type": "display_data"
    }
   ],
   "source": [
    "fig = go.Figure()\n",
    "\n",
    "fig.add_trace(go.Bar(\n",
    "  x = [['Churn:No', 'Churn:No', 'Churn:Yes', 'Churn:Yes'],\n",
    "       [\"Female\", \"Male\", \"Female\", \"Male\"]],\n",
    "  y = [965, 992, 219, 240],\n",
    "  name = 'DSL',\n",
    "))\n",
    "\n",
    "fig.add_trace(go.Bar(\n",
    "  x = [['Churn:No', 'Churn:No', 'Churn:Yes', 'Churn:Yes'],\n",
    "       [\"Female\", \"Male\", \"Female\", \"Male\"]],\n",
    "  y = [889, 910, 664, 633],\n",
    "  name = 'Fiber optic',\n",
    "))\n",
    "\n",
    "fig.add_trace(go.Bar(\n",
    "  x = [['Churn:No', 'Churn:No', 'Churn:Yes', 'Churn:Yes'],\n",
    "       [\"Female\", \"Male\", \"Female\", \"Male\"]],\n",
    "  y = [690, 717, 56, 57],\n",
    "  name = 'No Internet',\n",
    "))\n",
    "\n",
    "fig.update_layout(title_text=\"<b>Churn Distribution w.r.t. Internet Service and Gender</b>\")\n",
    "\n",
    "fig.show()"
   ]
  },
  {
   "cell_type": "markdown",
   "id": "0149d9bc",
   "metadata": {},
   "source": [
    "* **FIBER OPTIC CUSTOMERS AND CHURN:** The most critical insight from this chart is that customers with **FIBER OPTIC** internet make up the VAST MAJORITY of churners. For both males and females, the \"Fiber optic\" bar in the \"Churn:Yes\" category is dramatically higher than any other.\n",
    "\n",
    "* **DSL AND NO INTERNET CUSTOMERS:** In sharp contrast, customers with **DSL** have a significantly lower churn rate. The most loyal group are those with **NO INTERNET** service, who exhibit an extremely low churn rate.\n",
    "\n",
    "* **IMPACT OF GENDER:** The churn patterns related to internet service are nearly IDENTICAL for both **MALE** and **FEMALE** customers. This reinforces the conclusion that the **TYPE of internet service is a powerful predictor of churn**, while gender is not."
   ]
  },
  {
   "cell_type": "code",
   "execution_count": 26,
   "id": "b1863f0a",
   "metadata": {},
   "outputs": [
    {
     "data": {
      "application/vnd.plotly.v1+json": {
       "config": {
        "plotlyServerURL": "https://plot.ly"
       },
       "data": [
        {
         "alignmentgroup": "True",
         "bingroup": "x",
         "hovertemplate": "Dependents=No<br>Churn=%{x}<br>count=%{y}<extra></extra>",
         "legendgroup": "No",
         "marker": {
          "color": "#AB63FA",
          "pattern": {
           "shape": ""
          }
         },
         "name": "No",
         "offsetgroup": "No",
         "orientation": "v",
         "showlegend": true,
         "type": "histogram",
         "x": {
          "bdata": "AAABAAEBAAEAAAEAAAABAAEAAAAAAAAAAQABAQAAAAABAAABAAEBAAAAAAEAAAAAAAAAAAEAAAAAAAAAAAEBAAEAAAABAAAAAQAAAQAAAAEAAQAAAAAAAQEAAAEBAAAAAAEBAAABAAAAAQABAAEAAQAAAQEAAQABAQEAAAAAAQAAAAAAAAEBAAEAAAAAAAEAAQAAAQAAAAEAAAEAAAEAAAAAAAAAAQEAAAEAAAEAAQEAAAAAAAEAAQABAAEBAQAAAAAAAAAAAQEBAQAAAAAAAAEAAQAAAAABAAEAAQAAAAABAAAAAQEBAAABAAAAAAEAAAAAAQEAAAEAAAAAAQAAAAEAAAABAAAAAQEAAQEAAAAAAAAAAAABAAAAAAAAAQEBAAAAAAABAAAAAAAAAAEAAAAAAAAAAAEBAAAAAAAAAAABAAAAAAEAAAEBAQAAAAAAAQAAAQAAAQEAAAEBAAABAAABAAABAAABAQAAAAEAAAAAAAEBAAAAAQAAAAAAAAAAAQAAAAEAAAAAAAEBAAEAAAAAAAEAAAAAAAAAAAABAAAAAAAAAAAAAQAAAAABAAAAAAABAQABAQEAAQEAAQAAAAEAAAABAAEAAQABAAABAAAAAAAAAAEAAAABAAAAAAAAAAEAAAABAAAAAAAAAAABAQAAAQABAAAAAAAAAAABAAAAAAAAAAEAAAABAQAAAAAAAAEBAQEAAQABAQEAAAAAAAABAAEAAQAAAQEBAQAAAAEBAAAAAAABAQEBAAABAAABAAAAAAAAAQAAAQEBAQAAAQABAAEAAAEAAQAAAAAAAQAAAAABAAABAQABAAAAAQAAAQAAAAAAAAAAAAEBAAAAAQAAAQAAAAABAQEAAAAAAQAAAAAAAAEBAQABAQAAAQEBAAEAAAEBAAAAAAABAQEAAAEBAAAAAQEAAAAAAAAAAAAAAAAAAQABAAAAAAABAQAAAAABAQABAQABAQEAAAAAAQAAAQABAQABAAEAAAABAQEAAQAAAAAAAAAAAAAAAAABAAEAAAAAAAABAAEBAAABAQAAAAEAAAABAAAAAAAAAAABAAABAAAAAAABAQAAAQABAAABAAABAAAAAAABAAAAAAAAAAAAAQABAAEAAAEAAQAAAQEAAAAAAAABAAEAAAABAQABAQABAAEAAQAAAQAAAAEAAAEAAAAAAAAAAAABAAAAAAEAAQAAAQABAAEAAQEBAAEAAAAAAAEBAAAAAAAAAQEAAAEBAAAAAAEAAAEAAAAAAQEBAQABAQAAAAABAAEAAAEBAAABAAABAQAAAQAAAQABAAEAAAAAAQEAAAABAAAAAAEAAQAAAQAAAAAAAAAAAAEAAQABAAABAAAAAQAAAQAAAQAAAAABAQAAAAABAAABAAAAAAAAAQAAAQABAAAAAAEAAAEAAAAAAAABAAEAAAEAAAABAQAAAAEBAAEAAQABAAAAAQEAAQEAAAAAAAAAAQAAAAEAAQEAAQAAAAAAAAABAAEAAAEBAAAAAAABAQAAAAABAAAAAQEAAQEAAAAAAAABAQEAAAAAAAEBAAAAAAAAAAEBAAABAAAAAAEAAAAAAAAAAAAAAAEAAAAAAAAAAQEAAQEAAAEAAQAAAAAAAAEAAAAAAAAAAAAAAAAAAQEBAAAAAAAAAQEAAAABAAEAAAABAAAAAQEBAAAAAAAAAAEBAAAAAAABAAEAAQEAAAAAAAAAAAEAAQEBAQEAAQEBAAAAAAEAAAAAAAAAAQEAAQABAAABAAAAAQEAAAABAAAAAAAAAAEAAAEAAAAAAAEAAAAAAAAAAAEBAAEAAAAAAAAAAQABAAABAAEAAQAAAAEAAQEAAAEBAQAAAAEBAQEBAQEAAQEAAAEAAAAAAQEBAAABAAAAAAAAAAEAAAABAQAAAQAAAAAAAQEAAQAAAQABAQEAAAAAAQEAAAAAAQABAQAAAAAAAAABAAAAAQABAQEBAAAAAAAAAAAAAAAAAAEBAAABAAEAAAEBAAAAAAAAAQAAAAAAAQAAAAEAAQAAAAABAAEBAQAAAAABAAAAAAEBAAAAAQAAAAABAAAAAAAAAAAAAAEAAQEAAQAAAAEBAAAAAQAAAAEBAQABAAEBAAEBAAEAAAEAAAAAAAAAAQEAAAAAAAAAAAEBAQAAAAAAAAAAAAAAAAAAAAEBAAAAAAAAAAEBAAAAAAAAAAAAAAEAAAEBAAEAAAAAAAAAAAEAAAEAAAEAAAAAAQABAQEAAQEAAAEAAAAAAAEBAQAAAQAAAAAAAAEAAAEAAQABAAEAAAAAAAEAAAAAAQAAAQABAQAAAQEBAQEAAAAAAAEAAAEAAAAAAAAAAAAAAAAAAAEBAQEAAQABAQABAAAAAAAAAQAAAAAAAAAAAAAAAAEBAQEAAQEAAAAAAAABAAEAAAEAAAEBAAABAQEAAAAAAAABAAEAAAAAAQAAAAEAAAEAAAEAAQABAQAAAQABAAAAAAAAAAAAAAABAAEBAQAAAAAAAAAAAQEAAAEAAQAAAAAAAAAAAQEAAAABAAEAAQAAAQAAAAEAAAAAAQAAAQEAAAEBAAAAAAEAAAAAAQABAQEAAQAAAAEAAQAAAAABAAAAAAAAAQABAAAAAAEAAAABAAAAAAAAAAAAAAABAQAAAAAAAQABAQABAAABAAAAAAABAQABAQAAAAAAAAEAAQEAAQAAAAAAAAABAQABAAAAAAAAAQEAAAAAAAEAAAABAQAAAAEAAAEAAAABAQAAAAAAAAAAAAEAAAAAAAEAAQAAAAEBAAAAAAEAAAABAAEBAQAAAQAAAAAAAQEBAQAAAQABAQAAAQAAAAAAAQAAAAAAAQABAQABAAABAAEAAQABAAAAAQAAAAEBAAAAAAAAAAAAAQAAAQABAAABAAAAAAABAQEBAAEBAAEAAAAAAAAAAAEBAAAAAAAAAAAAAAAAAQABAAAAAAEAAQEAAAEAAAAAAQAAAAAAAAEAAAAAAAAAAAAAAQAAAQAAAAAAAQEAAAEAAQABAAAAAAEAAAEBAQAAAQAAAAAAAQAAAAAAAAABAQEAAAAAAQAAAAAAAAABAQAAAQABAQAAAAEBAQAAAQEAAAABAAAAAQEBAQAAAAAAAQABAAEAAAAAAAABAQAAAAEAAQEAAAAAAAAAAAAAAAAAAQAAAAEAAQEAAAAAAAEBAAEBAAAAAAAAAQEAAAAAAAAAAAAAAQAAAQABAAAAAQAAAAEAAAABAAAAAAABAAAAAAAAAQAAAQEAAAAAAAAAAAAAAAABAQAAAAABAQEBAQAAAAEAAAEAAAEAAAAAAQAAAQAAAAEBAAABAAAAAAAAAQAAAAABAQAAAQEBAAEBAAAAAQAAAAEAAQAAAAAAAQAAAAAAAQEAAAAAAQEAAQAAAAAAAAAAAQAAAAAAAAAAAQAAAAAAAQEBAQAAAAEBAQEAAAABAAEBAAABAAABAAAAAAEAAQAAAAABAQEBAAABAAAAAAEAAAAAAQEAAQAAAAAAAQEAAAEAAAABAAABAAAAAQEBAQAAAAABAQABAAEAAQAAAAEAAAEBAAEAAQABAAAAAAEAAAAAAQAAAAABAQEAAAABAAABAAEBAQAAAQAAAAAAAAAAAAEAAAABAAABAAAAAAAAAQEAAQAAAAAAAAAAAAEBAAAAAQEAAAABAQAAAAEAAAEAAAEAAAAAAAABAAEBAAEAAAEAAAEAAQAAAAEAAAAAAQAAAQEAAAEAAQAAAQAAAQABAAABAAAAAQAAAAEAAAAAAAEAAAAAAQEAAAAAAAAAAAABAAAAAAABAAAAAQABAQABAAAAAAABAAAAAQEBAQAAAAEBAAAAAAAAAQAAAAABAAEAAAAAAAAAAAEAAAABAAEBAAAAAQABAAABAAABAAABAAAAAAEAAAAAAAAAAAAAAAEAAQAAAQABAAEBAAEBAAAAAAABAAAAAAABAQEBAAAAAAAAAAAAAAEAAQABAAAAAAEBAAAAAAEBAAABAQABAAABAQABAAEBAAABAAAAAAAAAQABAQAAAAAAAAAAAAABAAAAAQABAQAAAAAAAAEAAAEAAAEAAAAAAAAAAAEAAQAAAAEBAAABAAAAAAAAAAAAAAAAAQEAAAAAAAABAAABAAAAAAEAAQAAAQAAAAAAAAEAAAEAAAAAAAAAAAAAAAAAAQABAAEAAQABAAABAAEAAQAAAQEBAAEAAQAAAQAAAAEAAAEAAQAAAAABAAAAAQAAAQEAAAAAAQAAAAABAQAAAAABAAABAAAAAQAAAQABAAEAAQABAAAAAQABAAEBAAAAAAEAAAAAAAAAAAAAAAABAAAAAAAAAQAAAAAAAAABAAEAAAAAAQAAAAABAAAAAAAAAQAAAQAAAAABAAAAAQAAAAABAQEAAAABAQEBAAABAQABAAABAAAAAQAAAAEAAAAAAQAAAQAAAAAAAAEAAQABAQAAAAAAAAABAAEAAAAAAAEAAAEAAQAAAAABAAEAAQAAAQEAAQAAAAAAAAEAAAABAAABAAABAAABAAAAAAAAAQEBAQEAAAAAAQAAAQAAAAAAAAAAAAEAAAEAAQEAAAEAAAAAAAABAAAAAQAAAAEBAQAAAAAAAAEAAAAAAAEAAAABAQEAAQAAAQABAAEAAAAAAQAAAAAAAAAAAAAAAAEAAQEAAQEAAAABAQAAAQAAAQEBAAAAAAABAAEAAQEBAAAAAAEAAQEAAQAAAQABAQAAAAAAAAAAAAEAAAABAAEAAAAAAAEBAAEAAQAAAAAAAQEAAAAAAAEAAQEBAAAAAQAAAAAAAQABAQAAAAABAQAAAAEAAAAAAQEAAAEAAAAAAQEAAQAAAQEBAQAAAAAAAAAAAAAAAAAAAAAAAAAAAQAAAQAAAAEAAQABAAAAAQAAAAAAAAABAAAAAAABAAEBAAEBAAAAAAAAAAABAQEAAAAAAAAAAQAAAQEAAAEAAAABAQAAAAAAAAAAAAEAAQEBAQABAAEAAAAAAAAAAQAAAAAAAQEAAAEBAAAAAAABAQAAAAAAAAEBAAEAAAEAAAAAAAABAQEAAQAAAQEAAAABAQEAAQAAAAEAAQABAQAAAAAAAAEAAQAAAQAAAAAAAQAAAAABAQABAAEBAQEAAAEAAQAAAQABAQAAAAAAAAEAAAAAAQAAAAEBAAAAAAABAQEBAQABAQAAAAAAAAABAAAAAQAAAAAAAAABAAEBAAABAAABAAEAAAEAAQAAAAAAAAABAAAAAQAAAQABAAAAAQEBAAABAQEAAAAAAQEAAQABAQEAAAEAAAAAAQEAAAAAAQEBAAAAAQEAAQABAQAAAAEAAQAAAAAAAAABAQAAAAAAAAAAAAABAQAAAQEBAAAAAAAAAAEBAAAAAAABAAAAAQAAAQABAAABAAEBAAAAAAEAAQAAAAEAAAABAAAAAAAAAQAAAAABAAAAAAAAAAAAAAEAAQEAAAEAAAABAAAAAAEBAAAAAQAAAAAAAAEAAAAAAAABAQEAAAAAAAEAAAABAAAAAQABAAAAAAAAAQAAAQAAAAAAAQABAAEBAAABAAABAAABAAEAAAAAAAABAAEAAAABAAAAAAAAAAAAAAAAAAEBAQEAAQAAAQEBAQAAAAAAAQEAAAAAAQEBAAABAAAAAAAAAAABAAABAQABAAAAAAABAAABAAAAAQAAAAAAAQABAAEBAQABAAABAQAAAQAAAQAAAAAAAAAAAAEAAQABAAAAAAEAAQABAAEBAQAAAAAAAQAAAAABAQAAAAAAAAAAAAAAAAAAAQEAAAAAAQAAAAEAAAEBAAEAAAAAAQEBAAEAAAAAAAAAAQEAAQABAQEAAQAAAAEAAQAAAQABAQAAAQABAAAAAAEBAAAAAQABAQAAAAEAAAEAAAAAAAAAAAAAAQEAAAAAAAABAQAAAAEAAAEAAAEAAAEAAQEAAQAAAAEAAQEAAAAAAAABAQABAAEBAAAAAAAAAQAAAAEAAAEAAAAAAAAAAAEBAAAAAQAAAQABAAEAAQEAAAABAAAAAAAAAAAAAAEAAAAAAQAAAAAAAQAAAQAAAQABAAAAAAEAAAEAAAABAAEAAAAAAAABAAAAAQEAAAEAAQEAAQAAAQEAAQAAAAEBAQAAAQEBAAABAAAAAAABAAEBAAABAQEAAAEBAAEBAAABAAABAAAAAAAAAAAAAAAAAAAAAAEBAAEAAAABAAEAAAEBAQEAAAEAAAABAQEBAQAAAAAAAQEAAAABAAAAAAAAAAABAAABAAEAAAAAAQAAAAAAAAAAAAEAAAAAAQAAAAAAAAAAAAEAAAEAAAAAAQEBAAAAAQABAAAAAAABAAAAAQEAAAEAAQAAAAAAAAAAAAEBAAABAQAAAAAAAAEBAQABAQAAAAABAAAAAAEBAQABAAEAAAEAAQEAAQAAAAEAAAABAAEBAAABAAABAAEAAAABAQABAAEAAQAAAAAAAAEBAAABAQAAAAEBAAEAAAAAAAEAAAEAAAEAAAAAAQABAQAAAQAAAAAAAAABAQAAAAAAAAEBAAABAQEBAQEAAAAAAQAAAQAAAQEAAAEAAQAAAAABAAEBAQEAAAAAAAAAAQAAAAABAAAAAAABAAEAAAABAA==",
          "dtype": "i1"
         },
         "xaxis": "x",
         "yaxis": "y"
        },
        {
         "alignmentgroup": "True",
         "bingroup": "x",
         "hovertemplate": "Dependents=Yes<br>Churn=%{x}<br>count=%{y}<extra></extra>",
         "legendgroup": "Yes",
         "marker": {
          "color": "#FF97FF",
          "pattern": {
           "shape": ""
          }
         },
         "name": "Yes",
         "offsetgroup": "Yes",
         "orientation": "v",
         "showlegend": true,
         "type": "histogram",
         "x": {
          "bdata": "AAAAAAABAAEBAQAAAAAAAAAAAAAAAAAAAAAAAAEAAAAAAAAAAAAAAAEAAAAAAQAAAAAAAAAAAAAAAAAAAAAAAAAAAAAAAAAAAAAAAAAAAAAAAAEAAAAAAAEAAAABAAAAAAAAAAEAAAAAAQAAAAABAAAAAAAAAAAAAQAAAAABAAAAAAEAAAAAAAAAAQAAAAEAAAEBAAABAAEAAAEAAAAAAAEAAAAAAAAAAAAAAAAAAQAAAAAAAAAAAAAAAQAAAAAAAAAAAAEBAAAAAQABAQABAAAAAAEAAAAAAQAAAAEAAAAAAAAAAQAAAAAAAAAAAAEAAAAAAAAAAAAAAAAAAAAAAAAAAAEAAQAAAAAAAAEAAAAAAAEAAAAAAAAAAAABAAEAAAAAAAAAAAAAAAAAAAAAAAAAAAAAAAAAAAEAAQEAAQEAAAAAAAEAAAEAAAAAAAAAAAEAAAAAAQAAAAAAAAAAAAAAAAAAAQABAAAAAAAAAAEBAAEAAAABAAEAAAAAAAAAAAAAAAAAAAAAAAAAAAAAAAEAAQAAAQAAAQABAAAAAAAAAAAAAAAAAAAAAAAAAQAAAAAAAAAAAAAAAAAAAQAAAAABAAEAAAABAAAAAAAAAAABAAAAAAAAAAAAAAAAAAAAAAABAAAAAAABAAAAAAAAAQAAAAAAAAEAAAEBAAEAAAAAAAAAAAEAAAAAAAAAAAEBAAAAAAAAAQAAAAAAAAAAAQEAAAAAAAAAAAAAAAABAAAAAQAAAAAAAAAAAAAAAAEAAAAAAAAAAAAAAAAAAQEBAAAAAQAAAAABAAAAAAAAAAEBAAEAAAEAAAEBAAAAAAAAAAAAAAABAAAAAAEAAAAAAAAAAAABAQAAAAAAAAAAAAAAAAAAAAAAAAEAAAAAAAAAAAAAAQAAAAAAAAABAAAAAAAAAAAAAAAAAAAAAAEAAAAAAAEBAQAAAAABAAAAAAAAAAAAAAAAAAAAAAAAAAAAAAAAAAABAAAAAAAAAAAAAAEAAAAAAAEAAAAAAQABAAAAAAAAAAABAAAAAAAAAAEAAAAAAAAAAAAAAAAAAAAAAAAAAAAAAAAAAAAAAAEAAAAAAAAAAAABAQABAQAAAAAAAAEAAAAAAQAAAAEAAAABAAAAAAAAAAAAAAEAAAAAAQAAAAEAAAAAAAAAAAAAAAEBAAAAAAAAAAAAAAABAAABAAEBAAAAAAAAAAAAAAAAAAAAAAABAAEAAAAAAQAAAAAAAAAAAQEAAAAAAAEAAAAAAQAAAAABAAABAAAAAAAAAAAAAQAAAAAAAAAAAQAAAAAAAQAAAAAAAAEAAAAAAQAAAAAAAAAAAAEAAAAAAAABAAABAAAAAAAAAAEAAAABAAAAAAAAAAAAAAEBAAEAAAABAAAAAAAAAAEAAAABAAAAAAABAAAAAAAAAAAAAAEBAAAAAAAAAQAAAAAAAAEAAAAAAQAAAAABAAAAAAEAAAEAAAEAAAAAAAAAAAABAAAAAQABAAABAAAAAAAAAAAAAAAAAAAAAQAAAAABAAAAAAAAAAAAAAABAAAAAAAAAAAAAAEAAAEBAAAAAAAAAAAAAQEAAAABAAAAAAAAAAAAAAAAAAABAAAAAAAAAAEAAAAAAAAAAAAAAAEBAAAAAQABAAAAAAAAAAAAAAAAAAAAAAAAAAAAAAAAAAAAAAAAAAAAAAAAAAABAAABAAAAAAAAAAAAAAAAAAAAAQEAAQAAAAABAAAAAAAAAAAAAAABAAAAAQAAAAABAAAAAQABAAABAAAAAAAAAQAAAAAAAAAAAQAAAAEAAQEBAQABAAAAAAAAAAAAAAAAAAABAAAAAAAAAAABAAAAAQEAAAEAAAAAAAAAAAAAAAEAAAAAAAAAAAAAAAAAAQABAAAAAAAAAAAAAAAAAAAAAAAAAQABAAEAAAAAAQAAAAAAAAAAAAAAAQAAAAAAAAAAAAEAAAEBAAABAQAAAAAAAAAAAAAAAAEAAAAAAAEAAAAAAAAAAAABAAAAAQAAAAAAAAAAAAABAAAAAQAAAAAAAAAAAQAAAAAAAAAAAQAAAAABAAAAAAABAAAAAAAAAAAAAAEAAAEAAAAAAAAAAAAAAAEBAAABAAAAAAAAAQAAAQEAAAAAAAABAAAAAAAAAAAAAQAAAAAAAAAAAAAAAAAAAAAAAAAAAAABAAAAAQABAAAAAAABAAAAAQAAAAEAAAAAAAAAAQAAAAAAAAEBAAAAAQAAAAAAAAAAAAEAAAEAAAAAAQAAAQAAAAEAAQABAAAAAAAAAAAAAAAAAAAAAAAAAAAAAAABAQEAAQAAAAAAAAEAAAAAAQABAQAAAAABAAAAAAEBAAAAAAAAAAAAAQAAAAAAAAAAAAEAAAAAAQAAAAAAAAAAAQAAAAAAAQAAAAAAAQAAAQAAAAAAAAAAAAAAAAAAAAAAAAAAAAAAAAEAAAAAAAAAAAAAAAABAAABAAAAAAABAAAAAAEBAAAAAAAAAAAAAAAAAAAAAAAAAAAAAAAAAQAAAAAAAQEAAAEAAAAAAAABAAAAAQAAAAAAAQEBAAAAAAEAAAAAAAAAAAAAAAEAAAAAAAAAAAAAAAAAAAAAAAAAAQEAAAABAAAAAQABAQAAAAAAAAABAAAAAAAAAAAAAAEAAAEAAQAAAAABAAAAAAAAAAAAAAAAAAEAAAAAAAAAAAAAAAAAAAAAAAAAAQAAAQEAAAAAAAAAAAABAAAAAAABAAAAAAAAAAAAAAAAAAAAAAABAQEAAAAAAQAAAAEAAAAAAQAAAAAAAAAAAAEAAAABAQAAAAAAAAAAAAAAAAAAAAAAAAEBAAAAAA==",
          "dtype": "i1"
         },
         "xaxis": "x",
         "yaxis": "y"
        }
       ],
       "layout": {
        "bargap": 0.1,
        "barmode": "group",
        "height": 500,
        "legend": {
         "title": {
          "text": "Dependents"
         },
         "tracegroupgap": 0
        },
        "template": {
         "data": {
          "bar": [
           {
            "error_x": {
             "color": "#2a3f5f"
            },
            "error_y": {
             "color": "#2a3f5f"
            },
            "marker": {
             "line": {
              "color": "#E5ECF6",
              "width": 0.5
             },
             "pattern": {
              "fillmode": "overlay",
              "size": 10,
              "solidity": 0.2
             }
            },
            "type": "bar"
           }
          ],
          "barpolar": [
           {
            "marker": {
             "line": {
              "color": "#E5ECF6",
              "width": 0.5
             },
             "pattern": {
              "fillmode": "overlay",
              "size": 10,
              "solidity": 0.2
             }
            },
            "type": "barpolar"
           }
          ],
          "carpet": [
           {
            "aaxis": {
             "endlinecolor": "#2a3f5f",
             "gridcolor": "white",
             "linecolor": "white",
             "minorgridcolor": "white",
             "startlinecolor": "#2a3f5f"
            },
            "baxis": {
             "endlinecolor": "#2a3f5f",
             "gridcolor": "white",
             "linecolor": "white",
             "minorgridcolor": "white",
             "startlinecolor": "#2a3f5f"
            },
            "type": "carpet"
           }
          ],
          "choropleth": [
           {
            "colorbar": {
             "outlinewidth": 0,
             "ticks": ""
            },
            "type": "choropleth"
           }
          ],
          "contour": [
           {
            "colorbar": {
             "outlinewidth": 0,
             "ticks": ""
            },
            "colorscale": [
             [
              0,
              "#0d0887"
             ],
             [
              0.1111111111111111,
              "#46039f"
             ],
             [
              0.2222222222222222,
              "#7201a8"
             ],
             [
              0.3333333333333333,
              "#9c179e"
             ],
             [
              0.4444444444444444,
              "#bd3786"
             ],
             [
              0.5555555555555556,
              "#d8576b"
             ],
             [
              0.6666666666666666,
              "#ed7953"
             ],
             [
              0.7777777777777778,
              "#fb9f3a"
             ],
             [
              0.8888888888888888,
              "#fdca26"
             ],
             [
              1,
              "#f0f921"
             ]
            ],
            "type": "contour"
           }
          ],
          "contourcarpet": [
           {
            "colorbar": {
             "outlinewidth": 0,
             "ticks": ""
            },
            "type": "contourcarpet"
           }
          ],
          "heatmap": [
           {
            "colorbar": {
             "outlinewidth": 0,
             "ticks": ""
            },
            "colorscale": [
             [
              0,
              "#0d0887"
             ],
             [
              0.1111111111111111,
              "#46039f"
             ],
             [
              0.2222222222222222,
              "#7201a8"
             ],
             [
              0.3333333333333333,
              "#9c179e"
             ],
             [
              0.4444444444444444,
              "#bd3786"
             ],
             [
              0.5555555555555556,
              "#d8576b"
             ],
             [
              0.6666666666666666,
              "#ed7953"
             ],
             [
              0.7777777777777778,
              "#fb9f3a"
             ],
             [
              0.8888888888888888,
              "#fdca26"
             ],
             [
              1,
              "#f0f921"
             ]
            ],
            "type": "heatmap"
           }
          ],
          "histogram": [
           {
            "marker": {
             "pattern": {
              "fillmode": "overlay",
              "size": 10,
              "solidity": 0.2
             }
            },
            "type": "histogram"
           }
          ],
          "histogram2d": [
           {
            "colorbar": {
             "outlinewidth": 0,
             "ticks": ""
            },
            "colorscale": [
             [
              0,
              "#0d0887"
             ],
             [
              0.1111111111111111,
              "#46039f"
             ],
             [
              0.2222222222222222,
              "#7201a8"
             ],
             [
              0.3333333333333333,
              "#9c179e"
             ],
             [
              0.4444444444444444,
              "#bd3786"
             ],
             [
              0.5555555555555556,
              "#d8576b"
             ],
             [
              0.6666666666666666,
              "#ed7953"
             ],
             [
              0.7777777777777778,
              "#fb9f3a"
             ],
             [
              0.8888888888888888,
              "#fdca26"
             ],
             [
              1,
              "#f0f921"
             ]
            ],
            "type": "histogram2d"
           }
          ],
          "histogram2dcontour": [
           {
            "colorbar": {
             "outlinewidth": 0,
             "ticks": ""
            },
            "colorscale": [
             [
              0,
              "#0d0887"
             ],
             [
              0.1111111111111111,
              "#46039f"
             ],
             [
              0.2222222222222222,
              "#7201a8"
             ],
             [
              0.3333333333333333,
              "#9c179e"
             ],
             [
              0.4444444444444444,
              "#bd3786"
             ],
             [
              0.5555555555555556,
              "#d8576b"
             ],
             [
              0.6666666666666666,
              "#ed7953"
             ],
             [
              0.7777777777777778,
              "#fb9f3a"
             ],
             [
              0.8888888888888888,
              "#fdca26"
             ],
             [
              1,
              "#f0f921"
             ]
            ],
            "type": "histogram2dcontour"
           }
          ],
          "mesh3d": [
           {
            "colorbar": {
             "outlinewidth": 0,
             "ticks": ""
            },
            "type": "mesh3d"
           }
          ],
          "parcoords": [
           {
            "line": {
             "colorbar": {
              "outlinewidth": 0,
              "ticks": ""
             }
            },
            "type": "parcoords"
           }
          ],
          "pie": [
           {
            "automargin": true,
            "type": "pie"
           }
          ],
          "scatter": [
           {
            "fillpattern": {
             "fillmode": "overlay",
             "size": 10,
             "solidity": 0.2
            },
            "type": "scatter"
           }
          ],
          "scatter3d": [
           {
            "line": {
             "colorbar": {
              "outlinewidth": 0,
              "ticks": ""
             }
            },
            "marker": {
             "colorbar": {
              "outlinewidth": 0,
              "ticks": ""
             }
            },
            "type": "scatter3d"
           }
          ],
          "scattercarpet": [
           {
            "marker": {
             "colorbar": {
              "outlinewidth": 0,
              "ticks": ""
             }
            },
            "type": "scattercarpet"
           }
          ],
          "scattergeo": [
           {
            "marker": {
             "colorbar": {
              "outlinewidth": 0,
              "ticks": ""
             }
            },
            "type": "scattergeo"
           }
          ],
          "scattergl": [
           {
            "marker": {
             "colorbar": {
              "outlinewidth": 0,
              "ticks": ""
             }
            },
            "type": "scattergl"
           }
          ],
          "scattermap": [
           {
            "marker": {
             "colorbar": {
              "outlinewidth": 0,
              "ticks": ""
             }
            },
            "type": "scattermap"
           }
          ],
          "scattermapbox": [
           {
            "marker": {
             "colorbar": {
              "outlinewidth": 0,
              "ticks": ""
             }
            },
            "type": "scattermapbox"
           }
          ],
          "scatterpolar": [
           {
            "marker": {
             "colorbar": {
              "outlinewidth": 0,
              "ticks": ""
             }
            },
            "type": "scatterpolar"
           }
          ],
          "scatterpolargl": [
           {
            "marker": {
             "colorbar": {
              "outlinewidth": 0,
              "ticks": ""
             }
            },
            "type": "scatterpolargl"
           }
          ],
          "scatterternary": [
           {
            "marker": {
             "colorbar": {
              "outlinewidth": 0,
              "ticks": ""
             }
            },
            "type": "scatterternary"
           }
          ],
          "surface": [
           {
            "colorbar": {
             "outlinewidth": 0,
             "ticks": ""
            },
            "colorscale": [
             [
              0,
              "#0d0887"
             ],
             [
              0.1111111111111111,
              "#46039f"
             ],
             [
              0.2222222222222222,
              "#7201a8"
             ],
             [
              0.3333333333333333,
              "#9c179e"
             ],
             [
              0.4444444444444444,
              "#bd3786"
             ],
             [
              0.5555555555555556,
              "#d8576b"
             ],
             [
              0.6666666666666666,
              "#ed7953"
             ],
             [
              0.7777777777777778,
              "#fb9f3a"
             ],
             [
              0.8888888888888888,
              "#fdca26"
             ],
             [
              1,
              "#f0f921"
             ]
            ],
            "type": "surface"
           }
          ],
          "table": [
           {
            "cells": {
             "fill": {
              "color": "#EBF0F8"
             },
             "line": {
              "color": "white"
             }
            },
            "header": {
             "fill": {
              "color": "#C8D4E3"
             },
             "line": {
              "color": "white"
             }
            },
            "type": "table"
           }
          ]
         },
         "layout": {
          "annotationdefaults": {
           "arrowcolor": "#2a3f5f",
           "arrowhead": 0,
           "arrowwidth": 1
          },
          "autotypenumbers": "strict",
          "coloraxis": {
           "colorbar": {
            "outlinewidth": 0,
            "ticks": ""
           }
          },
          "colorscale": {
           "diverging": [
            [
             0,
             "#8e0152"
            ],
            [
             0.1,
             "#c51b7d"
            ],
            [
             0.2,
             "#de77ae"
            ],
            [
             0.3,
             "#f1b6da"
            ],
            [
             0.4,
             "#fde0ef"
            ],
            [
             0.5,
             "#f7f7f7"
            ],
            [
             0.6,
             "#e6f5d0"
            ],
            [
             0.7,
             "#b8e186"
            ],
            [
             0.8,
             "#7fbc41"
            ],
            [
             0.9,
             "#4d9221"
            ],
            [
             1,
             "#276419"
            ]
           ],
           "sequential": [
            [
             0,
             "#0d0887"
            ],
            [
             0.1111111111111111,
             "#46039f"
            ],
            [
             0.2222222222222222,
             "#7201a8"
            ],
            [
             0.3333333333333333,
             "#9c179e"
            ],
            [
             0.4444444444444444,
             "#bd3786"
            ],
            [
             0.5555555555555556,
             "#d8576b"
            ],
            [
             0.6666666666666666,
             "#ed7953"
            ],
            [
             0.7777777777777778,
             "#fb9f3a"
            ],
            [
             0.8888888888888888,
             "#fdca26"
            ],
            [
             1,
             "#f0f921"
            ]
           ],
           "sequentialminus": [
            [
             0,
             "#0d0887"
            ],
            [
             0.1111111111111111,
             "#46039f"
            ],
            [
             0.2222222222222222,
             "#7201a8"
            ],
            [
             0.3333333333333333,
             "#9c179e"
            ],
            [
             0.4444444444444444,
             "#bd3786"
            ],
            [
             0.5555555555555556,
             "#d8576b"
            ],
            [
             0.6666666666666666,
             "#ed7953"
            ],
            [
             0.7777777777777778,
             "#fb9f3a"
            ],
            [
             0.8888888888888888,
             "#fdca26"
            ],
            [
             1,
             "#f0f921"
            ]
           ]
          },
          "colorway": [
           "#636efa",
           "#EF553B",
           "#00cc96",
           "#ab63fa",
           "#FFA15A",
           "#19d3f3",
           "#FF6692",
           "#B6E880",
           "#FF97FF",
           "#FECB52"
          ],
          "font": {
           "color": "#2a3f5f"
          },
          "geo": {
           "bgcolor": "white",
           "lakecolor": "white",
           "landcolor": "#E5ECF6",
           "showlakes": true,
           "showland": true,
           "subunitcolor": "white"
          },
          "hoverlabel": {
           "align": "left"
          },
          "hovermode": "closest",
          "mapbox": {
           "style": "light"
          },
          "paper_bgcolor": "white",
          "plot_bgcolor": "#E5ECF6",
          "polar": {
           "angularaxis": {
            "gridcolor": "white",
            "linecolor": "white",
            "ticks": ""
           },
           "bgcolor": "#E5ECF6",
           "radialaxis": {
            "gridcolor": "white",
            "linecolor": "white",
            "ticks": ""
           }
          },
          "scene": {
           "xaxis": {
            "backgroundcolor": "#E5ECF6",
            "gridcolor": "white",
            "gridwidth": 2,
            "linecolor": "white",
            "showbackground": true,
            "ticks": "",
            "zerolinecolor": "white"
           },
           "yaxis": {
            "backgroundcolor": "#E5ECF6",
            "gridcolor": "white",
            "gridwidth": 2,
            "linecolor": "white",
            "showbackground": true,
            "ticks": "",
            "zerolinecolor": "white"
           },
           "zaxis": {
            "backgroundcolor": "#E5ECF6",
            "gridcolor": "white",
            "gridwidth": 2,
            "linecolor": "white",
            "showbackground": true,
            "ticks": "",
            "zerolinecolor": "white"
           }
          },
          "shapedefaults": {
           "line": {
            "color": "#2a3f5f"
           }
          },
          "ternary": {
           "aaxis": {
            "gridcolor": "white",
            "linecolor": "white",
            "ticks": ""
           },
           "baxis": {
            "gridcolor": "white",
            "linecolor": "white",
            "ticks": ""
           },
           "bgcolor": "#E5ECF6",
           "caxis": {
            "gridcolor": "white",
            "linecolor": "white",
            "ticks": ""
           }
          },
          "title": {
           "x": 0.05
          },
          "xaxis": {
           "automargin": true,
           "gridcolor": "white",
           "linecolor": "white",
           "ticks": "",
           "title": {
            "standoff": 15
           },
           "zerolinecolor": "white",
           "zerolinewidth": 2
          },
          "yaxis": {
           "automargin": true,
           "gridcolor": "white",
           "linecolor": "white",
           "ticks": "",
           "title": {
            "standoff": 15
           },
           "zerolinecolor": "white",
           "zerolinewidth": 2
          }
         }
        },
        "title": {
         "text": "<b>Dependents distribution</b>"
        },
        "width": 700,
        "xaxis": {
         "anchor": "y",
         "domain": [
          0,
          1
         ],
         "title": {
          "text": "Churn"
         }
        },
        "yaxis": {
         "anchor": "x",
         "domain": [
          0,
          1
         ],
         "title": {
          "text": "count"
         }
        }
       }
      }
     },
     "metadata": {},
     "output_type": "display_data"
    }
   ],
   "source": [
    "color_map = {\"Yes\": \"#FF97FF\", \"No\": \"#AB63FA\"}\n",
    "fig = px.histogram(df, x=\"Churn\", color=\"Dependents\", barmode=\"group\", title=\"<b>Dependents distribution</b>\", color_discrete_map=color_map)\n",
    "fig.update_layout(width=700, height=500, bargap=0.1)\n",
    "fig.show()"
   ]
  },
  {
   "cell_type": "markdown",
   "id": "108b3283",
   "metadata": {},
   "source": [
    "* **CHURNED CUSTOMERS (RIGHT GROUP):** The vast MAJORITY of customers who CHURNED were those with **NO DEPENDENTS**. The number of churners who had dependents is comparatively very small.\n",
    "\n",
    "* **NON-CHURNED CUSTOMERS (LEFT GROUP):** While customers with NO DEPENDENTS also form a large part of the loyal customer base, a very substantial number of customers **WITH DEPENDENTS** remained with the service.\n",
    "\n",
    "* **KEY INSIGHT:** This chart indicates that having **DEPENDENTS is a strong factor in customer loyalty**. Customers WITH dependents are significantly LESS LIKELY to churn, while those without dependents represent a much higher churn risk."
   ]
  },
  {
   "cell_type": "code",
   "execution_count": 27,
   "id": "261dd32c",
   "metadata": {},
   "outputs": [
    {
     "data": {
      "application/vnd.plotly.v1+json": {
       "config": {
        "plotlyServerURL": "https://plot.ly"
       },
       "data": [
        {
         "alignmentgroup": "True",
         "bingroup": "x",
         "hovertemplate": "Partner=Yes<br>Churn=%{x}<br>count=%{y}<extra></extra>",
         "legendgroup": "Yes",
         "marker": {
          "color": "#FFA15A",
          "pattern": {
           "shape": ""
          }
         },
         "name": "Yes",
         "offsetgroup": "Yes",
         "orientation": "v",
         "showlegend": true,
         "type": "histogram",
         "x": {
          "bdata": "AAEAAAABAAAAAQEAAAAAAAAAAAAAAAEAAAAAAAAAAAAAAAAAAAABAAAAAAAAAAABAAABAAABAQAAAQAAAAAAAQABAAAAAAAAAAAAAAAAAQAAAAEAAAEAAQAAAAABAAABAAAAAAAAAAAAAAAAAAAAAAAAAQABAAAAAAABAQAAAQAAAAAAAAABAQABAQAAAAAAAAEAAAAAAQEAAAAAAAAAAQEAAAAAAAEAAQAAAAAAAAABAAABAQAAAAABAAAAAAAAAAAAAQAAAAAAAAEAAAAAAAAAAAAAAAABAAAAAAABAAAAAQAAAQAAAAEAAQAAAAEAAAAAAAABAQABAAEAAAABAAAAAAAAAAAAAAAAAQAAAAAAAAAAAAAAAAAAAQAAAAABAAAAAAAAAAAAAAAAAAEBAQAAAAAAAQEAAAEAAQEAAQABAAAAAAEAAAAAAAAAAQAAAAABAAAAAAAAAAAAAAABAQAAAAAAAAAAAAAAAAAAAAABAAAAAQEAAAAAAAAAAAAAAAAAAAAAAAAAAQAAAAEAAAABAQABAAEAAAAAAAABAAAAAAAAAAABAQABAAAAAAABAAEAAAAAAAAAAQAAAAAAAAAAAAAAAAAAAAEAAAAAAAEAAQAAAAEAAAAAAAEAAAEAAAEBAAAAAAABAQAAAAAAAAEAAQAAAQEAAAAAAAEAAAAAAAABAAAAAAEAAAABAAAAAAEAAAAAAQAAAQEAAAAAAAAAAAABAAAAAAABAAAAAAEAAAAAAAAAAAAAAQAAAQEAAQAAAAABAQAAAAABAAAAAAAAAAAAAAAAAQAAAQAAAAAAAAAAAAAAAAABAAABAAAAAQAAAAABAQABAQAAAAAAAQABAAAAAAEAAAAAAQEAAAAAAAAAAAEBAAAAAAAAAAEAAAEAAAAAAQAAAAEAAAAAAAABAAAAAAAAAAAAAAAAAAEAAAAAAAABAAABAAAAAAABAAAAAAAAAAAAAAAAAAAAAQAAAAAAAAABAAEAAAAAAQAAAAAAAAABAQAAAAAAAAABAAAAAAAAAAABAAAAAQAAAAAAAQEAAAABAAAAAAAAAAEAAAAAAQEAAAABAAABAAAAAAAAAAABAAAAAAAAAAAAAQEAAAAAAAAAAAAAAAAAAAAAAAEAAAAAAAAAAAAAAAAAAAAAAAAAAAAAAAABAAAAAAABAAAAAAAAAAABAAAAAAEAAQAAAAAAAQAAAQAAAAAAAAAAAAAAAAEAAAEAAQAAAAAAAAAAAAAAAAABAQEAAAAAAAAAAQAAAAAAAAEAAAEAAQABAQABAQAAAQAAAQEAAAEAAAABAAABAAABAAEAAAEAAAAAAQEAAAEAAAAAAAAAAAABAQAAAAABAAEAAAAAAAAAAAEAAQAAAAAAAQAAAAEAAAAAAQAAAQEAAAAAAAAAAQAAAAAAAAAAAAABAAEBAQEAAAAAAAAAAAABAAAAAAAAAAAAAAAAAAAAAQAAAAAAAAAAAQEAAQEAAQABAAABAAEAAAAAAAAAAAAAAAAAAAEAAAAAAAAAAAABAAAAAAAAAAAAAAAAAAAAAAAAAAAAAQEAAAAAAAABAAAAAAAAAQEAAAABAAABAAAAAAAAAAAAAAABAAAAAAAAAAEAAQAAAAABAAABAAAAAAEAAAAAAAAAAAAAAAAAAAAAAQAAAAAAAAAAAAAAAAAAAAAAAAAAAQAAAQAAAAEAAAAAAAAAAAAAAAEBAQABAQAAAAAAAAEAAQAAAQAAAQAAAAAAAAEAAAABAAEAAAAAAAABAAABAAAAAAAAAAAAAAABAAAAAQAAAAAAAQAAAAEBAAAAAAAAAQEAAAAAAAEAAAABAQEAAAABAAAAAAABAAAAAAAAAAAAAAABAAABAAABAQABAAAAAAEAAQAAAAABAQAAAAAAAAABAAAAAAAAAAAAAAAAAAEAAAEAAQAAAAAAAAEAAAAAAAAAAAABAAEAAAAAAAEAAAEBAQAAAAABAAABAAAAAAAAAAAAAAAAAAAAAAAAAQAAAQAAAAEAAAAAAAAAAAAAAAEAAAEAAAAAAAAAAQAAAQAAAQAAAAAAAAEBAAEAAAAAAAAAAQAAAAAAAAAAAAAAAQEBAAAAAAAAAAEAAQAAAAEAAAAAAAAAAAABAAABAAAAAAAAAAAAAAAAAAAAAAAAAAEAAAEAAQAAAQAAAAABAAEBAAAAAAAAAAAAAAABAAABAAAAAAAAAQABAAEBAAAAAAABAAAAAAAAAAAAAAAAAQAAAAAAAAABAAEAAAAAAAABAAAAAAEBAAAAAAAAAAABAAAAAAABAAAAAAAAAAAAAAAAAAEAAAAAAQABAAAAAQAAAAAAAQAAAQABAAAAAAAAAAAAAAABAAAAAQABAQAAAQAAAQABAAAAAAAAAAABAAEAAAABAAAAAAEAAAAAAQAAAAABAAAAAQAAAQABAAABAQAAAAAAAAAAAAAAAAEBAQABAAAAAAEAAQABAAAAAAAAAAAAAQAAAAABAQAAAAAAAQAAAAAAAAAAAAEAAAAAAAEAAAEAAQAAAAAAAAAAAAAAAQABAQAAAAAAAAAAAAAAAAAAAQAAAAAAAAAAAAAAAQABAAAAAAAAAAAAAAAAAAAAAAEBAAAAAAABAQAAAQAAAQEAAAAAAAABAAAAAAAAAAABAAAAAAAAAAAAAQABAAAAAAAAAAAAAAAAAAEAAAEAAAAAAQAAAAAAAAAAAAAAAAEAAQAAAAAAAQAAAAAAAAAAAQEAAAEAAAEAAAEAAAEAAAAAAAAAAQEAAAEAAAAAAAAAAAEAAAAAAAEAAAAAAAAAAAAAAAAAAAAAAAAAAAABAQAAAQEAAAAAAAEAAAAAAAABAAAAAQAAAAAAAAAAAAABAAABAAABAAAAAQAAAAABAAAAAAAAAAAAAAEAAQABAAAAAQABAAEAAQAAAQEAAAAAAAAAAAAAAAAAAAAAAAAAAAAAAAABAAAAAAAAAAEAAAAAAQAAAAEAAAAAAQEBAAAAAQAAAAAAAAAAAAEAAAEAAAEAAAABAAEAAAAAAAAAAAAAAAAAAAABAAABAAAAAQAAAAAAAAAAAAAAAQAAAAAAAAEAAQAAAAAAAAAAAAAAAAAAAAAAAQAAAAAAAQAAAAAAAAAAAQAAAQAAAAAAAAAAAAAAAAEAAAAAAAAAAAAAAAAAAAABAAAAAAABAQAAAAEAAAEAAAAAAAAAAAAAAAAAAQEAAAAAAAAAAAEAAQAAAAAAAAAAAAABAAAAAQAAAAAAAQAAAAABAAAAAAAAAQAAAAAAAAAAAAABAAAAAAABAAAAAAABAAABAAABAAEAAAAAAAAAAAEAAAAAAAABAAABAAAAAAAAAQAAAAEAAAEBAAABAQEAAAAAAAEAAQABAAAAAAAAAAABAAAAAAAAAAAAAAAAAAEAAQAAAAAAAAEBAQAAAAEAAAABAAAAAAAAAAAAAQAAAQEAAQEAAAAAAAAAAAABAAAAAAAAAAABAAEAAAAAAAAAAAEAAAAAAAAAAAEAAAEAAQAAAAAAAAABAAAAAAEAAAAAAAEBAAAAAQABAQABAAEAAAAAAAABAAAAAAAAAAAAAAABAAEAAAAAAAAAAQAAAQAAAAAAAQEBAQAAAAABAQAAAAEAAAAAAAABAAAAAQABAAEAAAAAAAEAAAAAAAAAAAEAAAAAAAEAAAEAAAAAAAABAQEAAAEAAAABAQAAAQAAAAAAAAAAAAAAAAAAAQAAAAAAAAABAAAAAAAAAAAAAAAAAAAAAAAAAAABAAAAAQABAAAAAAABAQAAAAEAAAAAAAAAAAAAAQABAAAAAAABAAAAAQAAAQAAAAAAAAEBAAAAAAAAAAAAAQEBAAEAAAEAAQAAAQAAAAAAAAEAAAABAAEAAAABAQAAAQAAAAABAAABAAAAAQABAAEBAAEBAAAAAQAAAAEAAAAAAAAAAQAAAAABAAAAAQABAAAAAAABAAAAAAAAAQAAAAAAAAEBAAAAAAAAAQAAAAEAAAEAAAAAAAABAAAAAAABAAEAAAEAAAAAAAEAAAAAAQEAAAAAAAAAAAAAAAAAAAAAAAAAAAAAAQAAAAAAAAAAAAAAAAEAAQAAAAAAAAEBAAABAAAAAQAAAQAAAAABAAAAAAAAAAAAAQABAAAAAAABAAABAAAAAAEAAAAAAAAAAAAAAAAAAQAAAAAAAAAAAAAAAAAAAAAAAQAAAAEAAAAAAQEBAAAAAAAAAAAAAQAAAAEAAAAAAQAAAAABAQAAAAAAAAAAAAAAAAABAAEBAAAAAAEAAQAAAAEAAAABAQAAAAAAAAAAAAAAAQAAAAEAAAAAAAAAAAAAAQAAAAAAAAAAAAAAAAAAAAEBAAAAAAAAAAAAAAAAAAEAAAAAAQAAAAAAAAAAAQAAAAAAAAEBAAAAAAAAAQEBAAAAAAEAAAAAAAEBAAAAAAAAAAEBAAABAAAAAAAAAAAAAQAAAAABAQAAAAAAAAAAAQAAAQAAAAABAAABAAAAAQEAAAAAAAEBAAAAAQAAAAAAAAABAAAAAAEAAQAAAAABAAABAAAAAAAAAAAB",
          "dtype": "i1"
         },
         "xaxis": "x",
         "yaxis": "y"
        },
        {
         "alignmentgroup": "True",
         "bingroup": "x",
         "hovertemplate": "Partner=No<br>Churn=%{x}<br>count=%{y}<extra></extra>",
         "legendgroup": "No",
         "marker": {
          "color": "#00CC96",
          "pattern": {
           "shape": ""
          }
         },
         "name": "No",
         "offsetgroup": "No",
         "orientation": "v",
         "showlegend": true,
         "type": "histogram",
         "x": {
          "bdata": "AAEAAQEAAAAAAQAAAAABAQABAAABAAEBAAAAAQAAAQEAAAEAAAAAAAAAAAEAAAAAAAEBAAAAAAAAAAAAAAABAAEAAAAAAQEAAAABAAABAAEAAAAAAAEAAQEBAAEBAAAAAAAAAAAAAQEBAAAAAQAAAAAAAQAAAQABAAAAAAAAAQEAAAAAAQEAAAABAQEBAAAAAAAAAAABAQEAAAAAAQABAAAAAAAAAQABAAABAAAAAQEBAAAAAAAAAQAAAAEBAAAAAAABAAEAAAAAAAABAQAAAAAAAAAAAQAAAAAAAQEBAAEAAAAAAAEAAAAAAQEAAAAAAAEAAAABAQEBAAAAAQAAAQEBAAABAAAAAAABAAABAAAAAQAAAAEBAAABAAAAAAABAAAAAAABAQABAAAAAQAAAAAAAAAAAAAAAAAAAAAAAQAAAAABAAEBAAEBAAEAAQAAAAEAAQEAAQAAAQAAAAAAAAEAAAAAAQAAAAAAAQAAAQAAAAAAAQABAAEAAAAAAAEAAAAAAAEAAAEAAQAAAAAAAQEBAQEAAQAAAAAAAQEBAAEBAQAAAQAAAAEBAAABAAEAAAAAAAEAAQABAQAAAAEAAAEAAAABAAEAAAAAAQAAAQABAQEAAAAAAQAAAAAAAAAAAQEAAAEAAQAAAAABAQEAAAAAAAAAAAEBAQAAAQEAAQEAAAABAAAAAAABAQEAAQAAAQEAAAAAAAAAAAEAAQAAAQAAAAAAAQEAAQABAQEAAAEAAQEAAQABAAABAQEAAAAAAAAAAAAAAQAAAAAAAAEAAQAAAAAAAQAAAQAAAAABAAEAAAAAAQAAAQABAAEAAQAAAAABAAAAAAAAAQAAAQABAQAAAQAAAAEAAQAAAQEBAQEAAQEAAAEAAAAAAAAAAAAAAQAAAAEAAQEAAAAAAQEAAAABAQABAQAAAQAAAAEBAQEAAAABAAABAAABAAAAAQAAAAEBAAABAAABAAAAAAEAAAEAAAEBAAABAAAAAQAAAAAAAQABAQAAAAEAAQABAAAAAQEAAAABAAABAAAAAAEAAQEAAAABAAEAAAAAAAEBAAAAAAEAAAEAAQAAAQABAAAAAQABAQAAAAAAAAEBAQEAAAAAAQABAAAAAQAAAAABAQEAAQEAAAEBAAAAAAABAQAAAAABAQAAAAEAAAEAAAAAAAAAAAEAAAAAAQEAAQEBAAEAAAABAAAAAAAAAAABAQEAAAABAAEBAQEAAAEAAAABAQAAAAEBAAAAAAABAQEAAAAAAAABAQEBAQEBAAABAAAAAAEBAAABAAABAAAAAAEAAAABAAAAAAAAAAEAAQAAAAEAAAAAAAAAAQABAQEAAAAAAAABAAEAAAAAAQAAAAABAAABAQAAAAEBAQEBAQABAQAAAAAAAQAAAQAAAAAAAAABAAEAAAAAAAABAQAAAQAAAQABAQEAAAAAAAEBAAAAAQAAAAAAAAEAAAAAAQEBAAAAAAAAAAAAAAAAAAAAAQABAAAAAAAAAQAAAQABAAEAAAAAAAEAAAEAAQAAAAEAAAAAAAAAAAABAQEAAQABAQAAAQAAAAEBAAABAQEAAAEAAAAAAAAAAQAAAQEAAAAAAAAAAAEAAAEBAAAAAAAAAAAAAAAAAAEAAAABAAAAAAAAAAABAAEBAAEAAAAAAQABAQEAAQEAAAEAAAABAQAAAAAAAQABAAEAAAABAAEBAAEBAAABAQEBAAABAAAAAQAAAAAAAAAAAAABAQEBAQABAAAAAAAAAAABAAAAAAAAAAABAQEAAQEAAAAAAAEAAAEBAAABAQAAAAAAAQABAAAAAAABAAABAQAAAQAAAQABAQABAAAAAAAAAAAAAQEBAAAAAAABAQAAAAEAAQAAAAAAAAEBAAABAAEAAQAAAAEAAAAAAQAAAAEBAAEAAAAAAQAAAAABAQEAAAAAAAEAAAAAAAEAAAAAAQAAAAAAAAAAAQAAAAAAAQEAAAAAAAEBAQABAQAAAAAAAQABAAAAAQABAAAAAAEBAAAAAAAAAQEAAAABAAEAAAEBAAAAAAAAAAAAAQAAAAABAAABAAEBAAAAAAEAAAAAAAABAQABAAAAAQEBAAEBAAEBAQAAAAABAAAAAQEBAAEAAAEAAQABAQAAAAAAAAEBAAAAAAAAAAEAAAEAAAEAAAEBAQEAAQEAAQAAAAAAAAAAAQAAAAAAAAAAAQAAAQEAAAAAAAAAAAAAAQAAAAAAAAEAAAEAAAAAAQAAAAEAAQAAAAABAAAAAQEAAQABAAAAAAAAAAEBAQAAAQAAAAABAQEAAAEBAAEBAAEAAAEBAAAAAQAAAQEBAAEAAAEAAQAAAAAAAQEAAAEAAAAAAAAAAAEAAAABAQAAAAABAQEAAAAAAAAAAAAAAQAAAQEAAAEAAAAAAAEAAAABAAAAAAEAAQEAAAAAAAAAAAAAAAEAAAEBAQAAAQABAAEAAAEBAAAAAQAAAAEBAAABAAAAAAAAAAEAAQABAQEBAQABAQAAAQAAAQABAAAAAAAAAQAAAAEAAAAAAAAAAQAAAAEAAAABAQEAAAABAQABAAEBAAABAQAAAAAAAAAAAAEAAQEBAAAAAAAAAQAAAAEAAQABAAAAAQEAAAEAAAAAAQEBAQAAAAEAAAEAAQAAAQABAAEAAAEAAAAAAQAAAQAAAAEAAQEAAAAAAAAAAAABAAEAAAEAAAABAQAAAAAAAAEAAAEBAAEBAAEAAQAAAAAAAQABAAEBAAABAAEAAAAAAQABAQABAAABAQAAAAEAAAEAAQAAAQAAAQAAAAAAAQAAAAEAAAAAAAAAAQABAAAAAQABAQABAAAAAAEBAAABAQAAAAAAAAAAAQAAAQAAAAAAAAABAAEBAAEAAQAAAQAAAAAAAQAAAAAAAAAAAQEAAAEAAAEBAAAAAQAAAAAAAAAAAQEBAQAAAAAAAAEAAQAAAQEAAAAAAQABAAEBAAABAAAAAQABAQAAAAAAAAEAAAABAAEBAAAAAAAAAQAAAQABAAAAAAAAAAEAAQAAAQABAAAAAAABAQAAAQAAAAAAAAABAAEAAAAAAQABAAAAAQAAAAAAAAABAAEAAQEAAQAAAQEAAQEBAAEBAAAAAAEAAAEAAAAAAAEBAAEBAAABAAAAAAABAAABAAABAAEBAAEAAQAAAAEAAQABAQAAAQAAAAAAAAEAAAAAAQAAAAAAAAABAAAAAAEAAAAAAAEAAQAAAAAAAAEAAAABAAEBAAAAAQABAQABAAEBAAEAAAAAAAAAAAAAAQAAAAABAAEAAQEAAAABAAAAAQAAAQABAAABAAEAAQAAAQEAAAAAAAABAAABAAABAAAAAAABAQEAAQEAAQEAAQEAAAAAAAEAAAEAAAEBAAABAAAAAQAAAAABAQAAAAEAAAABAAEBAQABAAEBAQAAAAABAAAAAAAAAQEBAAEAAAEBAQABAQEBAAABAQEAAAABAQEAAQAAAQEAAAAAAAABAAABAAEAAAABAAEBAAAAAQAAAAAAAQABAQABAQAAAAABAQAAAAABAQEAAAAAAQEAAQAAAAEBAAEBAAAAAAAAAAAAAAAAAAAAAAAAAAEAAQAAAAEAAQAAAAEAAAABAAAAAAAAAAAAAAAAAAAAAAAAAQAAAQEAAAEAAAEBAAAAAAABAAEBAQABAAEAAAAAAAABAQEAAAAAAAABAQABAAABAAAAAAABAAEAAQABAAEBAAABAQABAAABAAEBAAEAAAAAAAAAAQABAAAAAQAAAQABAAAAAQEAAAEAAQABAQAAAAAAAQAAAAEBAAABAAAAAAAAAQEBAAAAAQAAAAEAAAEAAAAAAAEBAQAAAQEAAAEAAQAAAAAAAAEAAQAAAAEAAAEBAQAAAAEAAQAAAQEAAQAAAQAAAAEBAQAAAQABAAABAQABAAAAAAABAQAAAAEBAQEAAAAAAAAAAQAAAAABAAEAAAABAQAAAAABAQABAAAAAAAAAQAAAAAAAAEAAQEBAAEAAAEBAAABAAAAAQABAAAAAAEAAAEAAQAAAQAAAAAAAQAAAQAAAQEAAQEBAAEAAAAAAQABAAAAAQABAAABAAAAAAAAAAAAAAAAAQAAAAEBAQAAAAAAAAEAAAEBAAEAAAAAAAAAAAAAAQABAAAAAAAAAAAAAQAAAAAAAAAAAQEAAAEAAQAAAAAAAAAAAAAAAQABAAEAAQABAAEAAAAAAAABAQAAAAAAAAAAAAAAAAABAAEAAAABAAABAAAAAQEAAQAAAAAAAQEAAAEBAQEAAAABAAAAAQABAQAAAQAAAAABAQAAAAEAAQAAAQEBAAAAAAEBAAAAAAABAQAAAAEAAAEAAAEAAAABAAEAAAEAAAEBAQAAAAAAAQEAAQABAAAAAAABAAAAAQABAAAAAAAAAQAAAAAAAQABAAEAAQEAAAEBAAAAAAABAAAAAAEAAAAAAAABAAEAAQAAAQAAAQAAAAABAQAAAAABAAABAAEAAQEAAQABAAEAAAEBAAEBAQEAAQEBAAAAAQABAAABAQEAAQEBAAABAAAAAAAAAAAAAAAAAAAAAQEAAAABAAEBAQEAAAABAAAAAQEBAQAAAQABAAAAAAAAAAEAAAABAAAAAAAAAAABAQAAAAAAAAAAAAEAAQAAAAEAAQEAAAABAAABAQAAAQEAAAAAAAABAAEBAAEAAAAAAQAAAAEBAAEAAQEAAAAAAAABAAEAAQEAAQAAAAEAAAABAQAAAAAAAQABAAAAAQEBAQABAAEBAAABAQAAAQABAAAAAAEBAAAAAAAAAAEBAAAAAQAAAAAAAAABAQAAAAAAAAEBAQEBAAABAAAAAAEAAAEAAQAAAQEBAQAAAAAAAQAAAQAAAAEAAQAAAAA=",
          "dtype": "i1"
         },
         "xaxis": "x",
         "yaxis": "y"
        }
       ],
       "layout": {
        "bargap": 0.1,
        "barmode": "group",
        "height": 500,
        "legend": {
         "title": {
          "text": "Partner"
         },
         "tracegroupgap": 0
        },
        "template": {
         "data": {
          "bar": [
           {
            "error_x": {
             "color": "#2a3f5f"
            },
            "error_y": {
             "color": "#2a3f5f"
            },
            "marker": {
             "line": {
              "color": "#E5ECF6",
              "width": 0.5
             },
             "pattern": {
              "fillmode": "overlay",
              "size": 10,
              "solidity": 0.2
             }
            },
            "type": "bar"
           }
          ],
          "barpolar": [
           {
            "marker": {
             "line": {
              "color": "#E5ECF6",
              "width": 0.5
             },
             "pattern": {
              "fillmode": "overlay",
              "size": 10,
              "solidity": 0.2
             }
            },
            "type": "barpolar"
           }
          ],
          "carpet": [
           {
            "aaxis": {
             "endlinecolor": "#2a3f5f",
             "gridcolor": "white",
             "linecolor": "white",
             "minorgridcolor": "white",
             "startlinecolor": "#2a3f5f"
            },
            "baxis": {
             "endlinecolor": "#2a3f5f",
             "gridcolor": "white",
             "linecolor": "white",
             "minorgridcolor": "white",
             "startlinecolor": "#2a3f5f"
            },
            "type": "carpet"
           }
          ],
          "choropleth": [
           {
            "colorbar": {
             "outlinewidth": 0,
             "ticks": ""
            },
            "type": "choropleth"
           }
          ],
          "contour": [
           {
            "colorbar": {
             "outlinewidth": 0,
             "ticks": ""
            },
            "colorscale": [
             [
              0,
              "#0d0887"
             ],
             [
              0.1111111111111111,
              "#46039f"
             ],
             [
              0.2222222222222222,
              "#7201a8"
             ],
             [
              0.3333333333333333,
              "#9c179e"
             ],
             [
              0.4444444444444444,
              "#bd3786"
             ],
             [
              0.5555555555555556,
              "#d8576b"
             ],
             [
              0.6666666666666666,
              "#ed7953"
             ],
             [
              0.7777777777777778,
              "#fb9f3a"
             ],
             [
              0.8888888888888888,
              "#fdca26"
             ],
             [
              1,
              "#f0f921"
             ]
            ],
            "type": "contour"
           }
          ],
          "contourcarpet": [
           {
            "colorbar": {
             "outlinewidth": 0,
             "ticks": ""
            },
            "type": "contourcarpet"
           }
          ],
          "heatmap": [
           {
            "colorbar": {
             "outlinewidth": 0,
             "ticks": ""
            },
            "colorscale": [
             [
              0,
              "#0d0887"
             ],
             [
              0.1111111111111111,
              "#46039f"
             ],
             [
              0.2222222222222222,
              "#7201a8"
             ],
             [
              0.3333333333333333,
              "#9c179e"
             ],
             [
              0.4444444444444444,
              "#bd3786"
             ],
             [
              0.5555555555555556,
              "#d8576b"
             ],
             [
              0.6666666666666666,
              "#ed7953"
             ],
             [
              0.7777777777777778,
              "#fb9f3a"
             ],
             [
              0.8888888888888888,
              "#fdca26"
             ],
             [
              1,
              "#f0f921"
             ]
            ],
            "type": "heatmap"
           }
          ],
          "histogram": [
           {
            "marker": {
             "pattern": {
              "fillmode": "overlay",
              "size": 10,
              "solidity": 0.2
             }
            },
            "type": "histogram"
           }
          ],
          "histogram2d": [
           {
            "colorbar": {
             "outlinewidth": 0,
             "ticks": ""
            },
            "colorscale": [
             [
              0,
              "#0d0887"
             ],
             [
              0.1111111111111111,
              "#46039f"
             ],
             [
              0.2222222222222222,
              "#7201a8"
             ],
             [
              0.3333333333333333,
              "#9c179e"
             ],
             [
              0.4444444444444444,
              "#bd3786"
             ],
             [
              0.5555555555555556,
              "#d8576b"
             ],
             [
              0.6666666666666666,
              "#ed7953"
             ],
             [
              0.7777777777777778,
              "#fb9f3a"
             ],
             [
              0.8888888888888888,
              "#fdca26"
             ],
             [
              1,
              "#f0f921"
             ]
            ],
            "type": "histogram2d"
           }
          ],
          "histogram2dcontour": [
           {
            "colorbar": {
             "outlinewidth": 0,
             "ticks": ""
            },
            "colorscale": [
             [
              0,
              "#0d0887"
             ],
             [
              0.1111111111111111,
              "#46039f"
             ],
             [
              0.2222222222222222,
              "#7201a8"
             ],
             [
              0.3333333333333333,
              "#9c179e"
             ],
             [
              0.4444444444444444,
              "#bd3786"
             ],
             [
              0.5555555555555556,
              "#d8576b"
             ],
             [
              0.6666666666666666,
              "#ed7953"
             ],
             [
              0.7777777777777778,
              "#fb9f3a"
             ],
             [
              0.8888888888888888,
              "#fdca26"
             ],
             [
              1,
              "#f0f921"
             ]
            ],
            "type": "histogram2dcontour"
           }
          ],
          "mesh3d": [
           {
            "colorbar": {
             "outlinewidth": 0,
             "ticks": ""
            },
            "type": "mesh3d"
           }
          ],
          "parcoords": [
           {
            "line": {
             "colorbar": {
              "outlinewidth": 0,
              "ticks": ""
             }
            },
            "type": "parcoords"
           }
          ],
          "pie": [
           {
            "automargin": true,
            "type": "pie"
           }
          ],
          "scatter": [
           {
            "fillpattern": {
             "fillmode": "overlay",
             "size": 10,
             "solidity": 0.2
            },
            "type": "scatter"
           }
          ],
          "scatter3d": [
           {
            "line": {
             "colorbar": {
              "outlinewidth": 0,
              "ticks": ""
             }
            },
            "marker": {
             "colorbar": {
              "outlinewidth": 0,
              "ticks": ""
             }
            },
            "type": "scatter3d"
           }
          ],
          "scattercarpet": [
           {
            "marker": {
             "colorbar": {
              "outlinewidth": 0,
              "ticks": ""
             }
            },
            "type": "scattercarpet"
           }
          ],
          "scattergeo": [
           {
            "marker": {
             "colorbar": {
              "outlinewidth": 0,
              "ticks": ""
             }
            },
            "type": "scattergeo"
           }
          ],
          "scattergl": [
           {
            "marker": {
             "colorbar": {
              "outlinewidth": 0,
              "ticks": ""
             }
            },
            "type": "scattergl"
           }
          ],
          "scattermap": [
           {
            "marker": {
             "colorbar": {
              "outlinewidth": 0,
              "ticks": ""
             }
            },
            "type": "scattermap"
           }
          ],
          "scattermapbox": [
           {
            "marker": {
             "colorbar": {
              "outlinewidth": 0,
              "ticks": ""
             }
            },
            "type": "scattermapbox"
           }
          ],
          "scatterpolar": [
           {
            "marker": {
             "colorbar": {
              "outlinewidth": 0,
              "ticks": ""
             }
            },
            "type": "scatterpolar"
           }
          ],
          "scatterpolargl": [
           {
            "marker": {
             "colorbar": {
              "outlinewidth": 0,
              "ticks": ""
             }
            },
            "type": "scatterpolargl"
           }
          ],
          "scatterternary": [
           {
            "marker": {
             "colorbar": {
              "outlinewidth": 0,
              "ticks": ""
             }
            },
            "type": "scatterternary"
           }
          ],
          "surface": [
           {
            "colorbar": {
             "outlinewidth": 0,
             "ticks": ""
            },
            "colorscale": [
             [
              0,
              "#0d0887"
             ],
             [
              0.1111111111111111,
              "#46039f"
             ],
             [
              0.2222222222222222,
              "#7201a8"
             ],
             [
              0.3333333333333333,
              "#9c179e"
             ],
             [
              0.4444444444444444,
              "#bd3786"
             ],
             [
              0.5555555555555556,
              "#d8576b"
             ],
             [
              0.6666666666666666,
              "#ed7953"
             ],
             [
              0.7777777777777778,
              "#fb9f3a"
             ],
             [
              0.8888888888888888,
              "#fdca26"
             ],
             [
              1,
              "#f0f921"
             ]
            ],
            "type": "surface"
           }
          ],
          "table": [
           {
            "cells": {
             "fill": {
              "color": "#EBF0F8"
             },
             "line": {
              "color": "white"
             }
            },
            "header": {
             "fill": {
              "color": "#C8D4E3"
             },
             "line": {
              "color": "white"
             }
            },
            "type": "table"
           }
          ]
         },
         "layout": {
          "annotationdefaults": {
           "arrowcolor": "#2a3f5f",
           "arrowhead": 0,
           "arrowwidth": 1
          },
          "autotypenumbers": "strict",
          "coloraxis": {
           "colorbar": {
            "outlinewidth": 0,
            "ticks": ""
           }
          },
          "colorscale": {
           "diverging": [
            [
             0,
             "#8e0152"
            ],
            [
             0.1,
             "#c51b7d"
            ],
            [
             0.2,
             "#de77ae"
            ],
            [
             0.3,
             "#f1b6da"
            ],
            [
             0.4,
             "#fde0ef"
            ],
            [
             0.5,
             "#f7f7f7"
            ],
            [
             0.6,
             "#e6f5d0"
            ],
            [
             0.7,
             "#b8e186"
            ],
            [
             0.8,
             "#7fbc41"
            ],
            [
             0.9,
             "#4d9221"
            ],
            [
             1,
             "#276419"
            ]
           ],
           "sequential": [
            [
             0,
             "#0d0887"
            ],
            [
             0.1111111111111111,
             "#46039f"
            ],
            [
             0.2222222222222222,
             "#7201a8"
            ],
            [
             0.3333333333333333,
             "#9c179e"
            ],
            [
             0.4444444444444444,
             "#bd3786"
            ],
            [
             0.5555555555555556,
             "#d8576b"
            ],
            [
             0.6666666666666666,
             "#ed7953"
            ],
            [
             0.7777777777777778,
             "#fb9f3a"
            ],
            [
             0.8888888888888888,
             "#fdca26"
            ],
            [
             1,
             "#f0f921"
            ]
           ],
           "sequentialminus": [
            [
             0,
             "#0d0887"
            ],
            [
             0.1111111111111111,
             "#46039f"
            ],
            [
             0.2222222222222222,
             "#7201a8"
            ],
            [
             0.3333333333333333,
             "#9c179e"
            ],
            [
             0.4444444444444444,
             "#bd3786"
            ],
            [
             0.5555555555555556,
             "#d8576b"
            ],
            [
             0.6666666666666666,
             "#ed7953"
            ],
            [
             0.7777777777777778,
             "#fb9f3a"
            ],
            [
             0.8888888888888888,
             "#fdca26"
            ],
            [
             1,
             "#f0f921"
            ]
           ]
          },
          "colorway": [
           "#636efa",
           "#EF553B",
           "#00cc96",
           "#ab63fa",
           "#FFA15A",
           "#19d3f3",
           "#FF6692",
           "#B6E880",
           "#FF97FF",
           "#FECB52"
          ],
          "font": {
           "color": "#2a3f5f"
          },
          "geo": {
           "bgcolor": "white",
           "lakecolor": "white",
           "landcolor": "#E5ECF6",
           "showlakes": true,
           "showland": true,
           "subunitcolor": "white"
          },
          "hoverlabel": {
           "align": "left"
          },
          "hovermode": "closest",
          "mapbox": {
           "style": "light"
          },
          "paper_bgcolor": "white",
          "plot_bgcolor": "#E5ECF6",
          "polar": {
           "angularaxis": {
            "gridcolor": "white",
            "linecolor": "white",
            "ticks": ""
           },
           "bgcolor": "#E5ECF6",
           "radialaxis": {
            "gridcolor": "white",
            "linecolor": "white",
            "ticks": ""
           }
          },
          "scene": {
           "xaxis": {
            "backgroundcolor": "#E5ECF6",
            "gridcolor": "white",
            "gridwidth": 2,
            "linecolor": "white",
            "showbackground": true,
            "ticks": "",
            "zerolinecolor": "white"
           },
           "yaxis": {
            "backgroundcolor": "#E5ECF6",
            "gridcolor": "white",
            "gridwidth": 2,
            "linecolor": "white",
            "showbackground": true,
            "ticks": "",
            "zerolinecolor": "white"
           },
           "zaxis": {
            "backgroundcolor": "#E5ECF6",
            "gridcolor": "white",
            "gridwidth": 2,
            "linecolor": "white",
            "showbackground": true,
            "ticks": "",
            "zerolinecolor": "white"
           }
          },
          "shapedefaults": {
           "line": {
            "color": "#2a3f5f"
           }
          },
          "ternary": {
           "aaxis": {
            "gridcolor": "white",
            "linecolor": "white",
            "ticks": ""
           },
           "baxis": {
            "gridcolor": "white",
            "linecolor": "white",
            "ticks": ""
           },
           "bgcolor": "#E5ECF6",
           "caxis": {
            "gridcolor": "white",
            "linecolor": "white",
            "ticks": ""
           }
          },
          "title": {
           "x": 0.05
          },
          "xaxis": {
           "automargin": true,
           "gridcolor": "white",
           "linecolor": "white",
           "ticks": "",
           "title": {
            "standoff": 15
           },
           "zerolinecolor": "white",
           "zerolinewidth": 2
          },
          "yaxis": {
           "automargin": true,
           "gridcolor": "white",
           "linecolor": "white",
           "ticks": "",
           "title": {
            "standoff": 15
           },
           "zerolinecolor": "white",
           "zerolinewidth": 2
          }
         }
        },
        "title": {
         "text": "<b>Chrun distribution w.r.t. Partners</b>"
        },
        "width": 700,
        "xaxis": {
         "anchor": "y",
         "domain": [
          0,
          1
         ],
         "title": {
          "text": "Churn"
         }
        },
        "yaxis": {
         "anchor": "x",
         "domain": [
          0,
          1
         ],
         "title": {
          "text": "count"
         }
        }
       }
      }
     },
     "metadata": {},
     "output_type": "display_data"
    }
   ],
   "source": [
    "color_map = {\"Yes\": '#FFA15A', \"No\": '#00CC96'}\n",
    "fig = px.histogram(df, x=\"Churn\", color=\"Partner\", barmode=\"group\", title=\"<b>Chrun distribution w.r.t. Partners</b>\", color_discrete_map=color_map)\n",
    "fig.update_layout(width=700, height=500, bargap=0.1)\n",
    "fig.show()"
   ]
  },
  {
   "cell_type": "markdown",
   "id": "8f3bf1bc",
   "metadata": {},
   "source": [
    "* **CUSTOMERS WITHOUT PARTNERS:** This group accounts for the MAJORITY of churn. The \"No\" bar under the \"Churn: Yes\" category is significantly taller than the \"Yes\" bar.\n",
    "\n",
    "* **CUSTOMERS WITH PARTNERS:** Customers with partners are far LESS LIKELY to churn. They also make up a very large portion of the loyal, non-churned customer base.\n",
    "\n",
    "* **KEY INSIGHT:** Similar to having dependents, having a **PARTNER is a strong indicator of customer loyalty**. Customers without partners are a much higher churn risk."
   ]
  },
  {
   "cell_type": "code",
   "execution_count": 28,
   "id": "59e6bd60",
   "metadata": {},
   "outputs": [
    {
     "data": {
      "application/vnd.plotly.v1+json": {
       "config": {
        "plotlyServerURL": "https://plot.ly"
       },
       "data": [
        {
         "bingroup": "x",
         "hovertemplate": "SeniorCitizen=No<br>Churn=%{x}<br>count=%{y}<extra></extra>",
         "legendgroup": "No",
         "marker": {
          "color": "#B6E880",
          "pattern": {
           "shape": ""
          }
         },
         "name": "No",
         "orientation": "v",
         "showlegend": true,
         "type": "histogram",
         "x": {
          "bdata": "AAABAAEBAAABAAAAAAEAAAAAAQAAAQAAAAEBAAEAAAABAAEBAAAAAAAAAAEAAAEAAAAAAAAAAQAAAAAAAAAAAAAAAAEAAQAAAAAAAAAAAAAAAQABAAAAAAEAAAAAAAEAAAAAAAEAAAAAAQAAAAAAAAEAAQEAAAAAAQAAAAABAAAAAQAAAAAAAAAAAAEAAAAAAQAAAAEAAQAAAAABAAEAAQEAAAAAAAEAAAAAAAAAAAAAAAAAAAABAQABAAAAAAAAAAABAAABAAAAAQAAAAABAAABAAAAAAAAAAEAAAEAAAAAAAEAAAAAAQAAAQEBAQAAAAAAAAEAAAEBAAAAAAAAAQAAAAAAAAAAAAABAAABAAAAAAAAAAAAAQEBAQAAAQAAAAABAAAAAAEBAAAAAAAAAAEAAAAAAAEAAAAAAAEAAAABAQAAAAAAAAABAAAAAQAAAAABAQAAAAAAAAEAAAAAAAAAAAEAAAEAAAAAAAAAAAAAAQEAAAAAAAEAAAAAAAAAAAEBAAAAAQEAAAEBAAEBAAEAAQAAAAABAAABAAEAAAEAAAAAAAEBAAAAAAEAAAAAAQEAAAAAAAABAAAAAAAAAAABAQABAAAAAAAAAQAAAAAAAAAAAAAAAAABAAAAAQAAAAABAQAAAAAAAAAAAAAAAQAAAAAAAAAAAAAAAAABAQAAAAAAAAAAAAEAAAAAAAABAAABAAEBAAEAAQEAAAAAAAEAAQAAAAAAAQABAAAAAQAAAQAAAQAAAAAAAAAAAAABAAABAAAAAAAAAQAAAAEAAAAAAAAAAAAAAQEAAAABAAAAAAAAAAAAAQAAAAAAAAAAAAAAAQAAAQEAAAAAAAAAAAEBAQEAAAEAAQAAAAEAAAAAAAAAAAAAAAAAAAEBAAABAAAAAQEBAQAAAAEAAQAAAAAAAAEAAQABAAAAAAEAAAABAAEAAAAAAAAAAAAAAQABAAAAAAEBAQAAAQAAAAABAAABAAAAAQEAAAAAAQABAQAAAAABAAABAQAAAAAAAAAAAAAAAAAAAAAAAQAAAAAAAAABAAAAAAAAAAEAAAAAAAABAAAAAAABAQAAAQEAAAABAQAAAAAAAQAAAAAAAAAAAAABAQAAAQAAAAEBAQAAAAABAQAAAAAAAAAAAQAAAAAAAAAAAQAAAQAAAAAAAQAAAQEAAQEBAQAAAAABAAABAQEAAQAAAAEAAAABAAAAAAAAAAAAAAEAAAAAAQAAAAAAAAAAAQEAAAAAAAAAAAEAAAEAAAABAAAAAAAAAAABAAAAAQEAAAAAAAAAAAEAAQAAAAAAAQEAAAEAAQAAAAABAAAAAAABAAAAAAAAAAABAAABAAABAAEBAAABAQAAAQAAAAABAQEAAAAAAAABAAABAAAAAAABAQAAAQEAAQABAQAAAAAAAAABAAAAAAAAAAAAAAAAAAAAAAABAAABAAAAAQAAAAAAAQABAQAAAQEAAAAAAQAAAAABAAEAAAAAAAABAAABAQABAAAAAAEAAQAAAAAAAQAAAAABAQEAAAEBAAAAAAAAAAEAAAAAAAABAQAAAAAAAAAAAAEBAAAAAAEAAAEAAAAAAQAAAAAAAAAAAQAAAQAAAAAAAQEAAAAAAAAAAAEAAAAAAAABAAEAAQAAAQAAAAAAAQAAAQEAAAEBAAAAAAEAAAAAAAEAAAAAAAAAAAABAAAAAAAAAAABAAABAAAAAAAAAAEAAAEAAAABAAAAAAEAAAABAAEAAAAAAQEAAQAAAQAAAAAAAAAAAAEBAQAAAAAAAAAAAQAAAAAAAAABAQAAAAAAAAEAAAAAAAAAAQAAAQEAAAABAAAAAAAAAAAAAAEAAQABAAAAAQAAAQAAAQEBAAAAAAAAAAEAAQAAAAAAAAABAAAAAAAAAAEAAQAAAAABAQABAAEAAAAAAAAAAAAAAQAAAAAAAAABAAEAAQAAAQAAAQAAAAABAAABAAAAAAAAAAAAAAAAAAAAAAEAAAAAAAEBAQABAAABAAAAAAEAAAABAAAAAAAAAAEBAAAAAAAAAAAAAQEAAAAAAAAAAAABAQABAAAAAAAAAAABAQEBAAABAQABAAABAAAAAAAAAAAAAAABAQAAAAAAAQAAAQAAAAAAAAAAAAEAAAAAAAAAAAAAAAEAAQAAAAAAAQEBAAAAAAABAAAAAAAAAAAAAQAAAAEAAQAAAQEAAAAAAAAAAAAAAQEAAAEAAAABAAAAAAEAAAEBAAEAAAABAAAAAQEAAAEBAQEBAQABAAEAAAABAAEBAAAAAAAAAAEAAAEBAAABAQAAAAAAAAAAAAABAQAAAQAAAAEAAAAAAAABAQAAAAABAAAAAAEBAQEAAAAAAAAAAQEAAAAAAQABAQAAAAAAAAAAAAABAAAAAAAAAAEAAAEAAQEAAAAAAAAAAAEAAAAAAAAAAAAAAAAAAQEAAAAAAQAAAAAAAAAAAAEAAAAAAAABAAAAAAAAAQAAAAAAAAAAAQEAAAAAAAEAAAAAAAABAAAAAAABAAAAAAAAAAAAAQABAAAAAAAAAAAAAAABAAEBAAEAAAEAAAEBAQEBAAEAAAEBAAABAQEAAAEAAAEAAAAAAAAAAAAAAAAAAAAAAAEAAAAAAAAAAAEAAAAAAAAAAAAAAAAAAAAAAAAAAAABAAAAAQAAAAAAAAAAAAEAAAAAAAAAAAAAAAABAAEAAAAAAAABAQEAAAAAAQAAAAAAAAAAAQAAAQEAAAAAAAEAAAAAAQAAAAEAAQAAAAAAAAEBAAABAAABAAAAAAAAAAAAAAEAAAEAAAABAAEAAAAAAAAAAAABAAAAAAEAAAAAAAAAAAAAAQEBAAAAAAEAAAAAAAABAAAAAAAAAAAAAAAAAAABAAABAAABAAABAAABAAABAAAAAAAAAAAAAAAAAAAAAAAAAAAAAAAAAQEBAQABAQABAQAAAAAAAAAAAAEAAAABAAABAQABAQEAAAAAAAABAAABAQAAAAAAAAEAAAAAAQEAAAABAAABAAEAAAEBAAAAAQAAAAAAAAAAAAAAAQAAAQEAAQAAAAAAAAABAAAAAAABAAEAAAAAAAAAAAEAAAAAAAEAAAABAQAAAQAAAAAAAAAAAAAAAQEAAAAAAAABAQAAAQAAAAAAAQAAAAAAAQEAAAAAAQAAAAAAAQAAAQAAAQAAAQAAAAAAAAAAAAAAAQAAAAAAAAAAAAAAAAAAAAAAAAABAQAAAAAAAAEAAQABAAEAAQAAAAAAAAEAAQABAQAAAAAAAAABAAABAQAAAQAAAAAAAAABAQABAAAAAAAAAAAAAAAAAAAAAAAAAAAAAAABAQEAAAAAAQABAAABAAAAAAABAQAAAAAAAAAAAAAAAAAAAQAAAAAAAAABAAABAQAAAAAAAAEAAQAAAAAAAAEAAQEBAAABAAABAAEBAAABAAEBAAAAAAEAAAEAAAAAAAABAAAAAAAAAAABAAEAAQAAAAEAAQAAAQABAAAAAAAAAAABAAAAAAAAAQAAAAEAAAAAAAABAAAAAAAAAQABAQABAAABAQAAAAAAAAAAAAEBAAAAAAAAAAAAAAABAAAAAAEAAAAAAAAAAQAAAAAAAAEAAAEAAAAAAAAAAAEAAAAAAAEAAAAAAAAAAQAAAAABAAAAAAAAAAAAAQEAAAABAQAAAAAAAAAAAAEAAQAAAQAAAAAAAQEAAAEAAAAAAAAAAAABAAAAAAAAAQAAAAAAAAEBAAAAAAAAAAAAAAEBAAAAAQAAAAABAAEAAAABAAAAAQAAAQEBAQAAAAEBAAABAQABAAAAAAABAAAAAAAAAAEBAQAAAAAAAAAAAAAAAAAAAAABAAAAAAEBAAAAAQAAAAAAAAABAQABAAAAAQAAAAAAAAEAAAAAAAAAAQAAAAEAAAEAAAABAAAAAAAAAAEAAAABAAAAAAEAAAAAAQAAAAEAAQEAAAAAAAAAAAAAAAAAAAABAQAAAAAAAQEAAAEAAQAAAAABAAAAAAEAAAAAAQEAAAABAAAAAAEAAQABAAAAAAAAAAABAAABAAAAAAEAAAABAQEAAQAAAAABAAAAAAEAAQAAAAAAAQAAAAAAAAEAAAABAAAAAAAAAAAAAAAAAAAAAQAAAAEAAAABAQEBAAAAAAEBAQAAAAEBAAEAAAABAAEAAAABAAAAAAAAAAAAAAAAAQAAAAABAAAAAQEBAAABAAAAAAABAAAAAAABAAEBAAAAAAAAAQEAAAEAAAABAAAAAAAAAQEBAAAAAAAAAAAAAQABAAAAAAEAAAEAAAEAAQAAAAAAAAABAAAAAAAAAAAAAAEAAAEAAAEAAAABAQAAAAEAAAAAAAAAAAAAAAAAAAEAAAABAAABAAAAAAEAAQAAAAAAAAEBAAEAAAAAAAAAAAAAAAABAQAAAQEAAAAAAAEBAAABAQAAAQAAAAAAAAAAAAABAAABAAEBAAAAAAAAAQABAAAAAAAAAAAAAAEAAAABAAAAAQABAAABAAAAAQAAAQAAAAAAAAABAAAAAAAAAQAAAAAAAQEAAAABAAEAAAAAAAAAAAAAAAAAAAABAAAAAAABAAEBAAABAQABAAAAAAABAAABAAABAQEAAAABAQAAAAAAAAAAAQAAAAAAAAAAAAEAAAAAAAAAAAAAAAAAAAABAAABAQAAAAAAAQEAAQAAAQABAAABAAAAAAAAAAAAAAEAAQAAAQAAAAAAAAAAAAABAAAAAAAAAAEAAAAAAAAAAAABAQEAAAAAAAAAAAAAAQABAQABAAAAAQAAAQEAAAAAAAAAAAAAAAABAQAAAQAAAAEAAAEAAAEBAAABAAAAAAAAAAABAAEAAQABAAAAAAAAAAAAAAAAAQAAAQAAAAAAAAEAAAEAAAEBAAAAAAAAAAAAAAEAAAABAAAAAAAAAAAAAAABAAAAAAAAAAAAAAAAAQABAAAAAAAAAQABAAAAAAEAAAEAAAAAAAAAAAABAQAAAAAAAQAAAAEAAAAAAAAAAAAAAAAAAQABAAAAAQABAAEAAAEBAAABAQEAAQABAAAAAAABAAAAAQABAAAAAAAAAAAAAAEAAAEAAAEBAAAAAAEAAAAAAAABAAABAAABAAABAQAAAQEAAQEAAAEAAQABAAAAAAAAAAEAAAAAAAEBAAAAAAEAAAAAAAAAAAAAAAAAAAAAAAAAAQAAAQAAAAAAAAAAAAAAAQAAAAAAAAEAAAABAAAAAAEBAAAAAAEBAAEAAAEAAAAAAAEAAQAAAAAAAAEAAAEAAAAAAAABAAABAAEBAAABAAEAAAAAAAAAAAAAAAABAAAAAAAAAAAAAAABAQABAAEAAAAAAAAAAQAAAAEAAAAAAQAAAQABAAEAAAABAAEAAAABAAAAAAABAAEAAQAAAAAAAAAAAQAAAAEAAAABAAAAAAAAAAAAAAAAAQEAAQEAAAEAAAABAAEAAAAAAAAAAAABAAAAAAAAAQAAAAAAAQAAAAEAAAAAAAEAAAAAAAEBAAAAAAAAAAAAAAAAAQAAAQEBAAEAAAAAAAEAAAAAAAAAAAAAAAEAAAAAAAAAAAABAAEBAAAAAQEAAQEAAAEBAAABAAAAAQEAAQAAAAABAAAAAQABAAAAAAAAAAEAAAEBAAAAAQABAAEBAAAAAAAAAQAAAAAAAQAAAAAAAQAAAAABAAAAAAAAAAABAQAAAAAAAAABAAEBAQAAAAEBAAAAAAEAAAAAAAAAAAABAAAAAQAAAAAAAAEBAAAAAAAAAAAAAQAAAQAAAAEAAAABAAEAAQEAAAAAAAAAAAAAAAAAAAABAAAAAAAAAAAAAAAAAQAAAAAAAQAAAAEAAAAAAAAAAAABAAAAAAAAAAAAAAABAQABAQEAAAAAAAAAAAAAAAABAAAAAAAAAAEAAAABAQAAAAAAAQEAAAAAAAABAAEAAQABAAAAAAEAAAEAAQAAAAAAAAAAAQEAAAABAAAAAAEBAAABAAEAAAAAAAAAAQAAAQAAAQEAAAAAAAABAAABAAAAAAABAAAAAAAAAAEAAAABAAAAAAABAAEBAAAAAAEBAAEAAQAAAQAAAAEAAQABAAAAAAAAAAAAAAAAAAEAAAAAAAABAAAAAQABAAEAAAAAAQABAAAAAAEAAAABAAAAAAEAAQAAAAABAAAAAAEAAAAAAAEAAAAAAQEAAAAAAAAAAAEBAAEAAAAAAAAAAQAAAAAAAQEAAAABAAAAAAAAAAAAAAABAQABAQABAAEAAQAAAQAAAQAAAAAAAAABAAAAAAAAAAEAAAEAAQABAQABAQABAAAAAAAAAQEAAAEAAAAAAQEAAAABAAAAAAEBAAAAAQEAAAABAAEAAQABAAABAQABAAAAAQABAAAAAAAAAAEAAAAAAQAAAAAAAAABAQABAAAAAAAAAAAAAQEBAAAAAAEAAAAAAQEAAQAAAAABAAAAAQAAAAAAAAAAAQABAAEAAAAAAAAAAAEAAAAAAAAAAAAAAAAAAAABAAAAAAABAAAAAAAAAAABAQAAAQABAAAAAQABAAAAAQAAAAAAAAEAAAAAAQEAAAAAAAAAAAEAAAAAAAAAAAEAAAEAAAEAAAAAAAEBAQABAAEAAAEAAAAAAAABAAEAAAEAAAABAQAAAAAAAQAAAAAAAAAAAAAAAAAAAAAAAAABAAAAAAEBAQEBAAAAAAAAAAABAAAAAAAAAAEBAAAAAAABAAAAAAAAAAABAAAAAAEBAAEAAAAAAAAAAQAAAAAAAAABAAABAAAAAAAAAQAAAAEAAQAAAQEAAQAAAAAAAAAAAAEAAAAAAAAAAQABAAEAAAAAAAEAAAAAAAEAAQABAAABAAAAAAAAAAAAAAABAQAAAAAAAAAAAAAAAAAAAAAAAQAAAAAAAAAAAQAAAQAAAQAAAAEBAAABAQAAAAAAAQABAQABAQABAQAAAAAAAQAAAAEAAAEAAQAAAQAAAQAAAAABAAAAAAAAAAAAAQAAAAEAAAABAAABAAEBAAAAAAAAAAAAAAAAAQAAAAAAAAAAAQAAAAAAAAABAAAAAAABAAAAAQABAQAAAAEAAAAAAAEAAQAAAAAAAQEAAAABAAABAQAAAQAAAAAAAAAAAAAAAAEAAQAAAAAAAAEAAAAAAAEAAAEAAAAAAAABAAAAAAEAAQEBAAAAAAEAAAEAAAAAAAABAQAAAQAAAAAAAQAAAQAAAAAAAAAAAQAAAAEAAAAAAAEAAAAAAAAAAAEAAAEAAAAAAAAAAAEAAQAAAAAAAAAAAAEAAAAAAQAAAQAAAAEAAQEAAQAAAAEAAQAAAAAAAQABAQEAAAAAAAEBAAEAAQAAAAEAAQEAAAEAAQEAAAABAAEAAAEBAAABAAAAAQAAAAEAAAAAAAAAAAAAAAAAAAAAAAAAAAAAAAEBAAEAAAABAAEBAAAAAQEBAQAAAQAAAAEAAAABAAEAAAAAAQEBAAAAAAAAAQAAAAAAAAAAAAAAAQAAAAABAAAAAAABAAAAAAAAAAAAAAEAAAAAAAAAAAAAAAAAAAAAAAAAAAEAAAAAAAAAAAABAQAAAAAAAAAAAAAAAQAAAAAAAQAAAAEBAAAAAAAAAAABAAEAAQEAAAAAAAAAAQAAAAAAAQAAAAEBAAABAAEBAAAAAQAAAAEAAAAAAAAAAQEBAAEAAAABAAAAAAAAAAEAAAABAQAAAAEAAQAAAAAAAAEAAAAAAQABAQAAAQABAQAAAAAAAAABAQAAAAABAQAAAAAAAAEAAQAAAQAAAAABAQAAAAAAAAAAAQAAAAAAAQABAAAAAQAAAQAAAQAAAAAAAQABAAAAAAAAAQAAAAAAAQAAAAEBAAAAAAAAAAAAAAABAAAAAQAAAAEAAAEAAQAAAAABAQEAAAAAAAEAAAEAAAABAAAAAAEAAAAAAAAA",
          "dtype": "i1"
         },
         "xaxis": "x",
         "yaxis": "y"
        },
        {
         "bingroup": "x",
         "hovertemplate": "SeniorCitizen=Yes<br>Churn=%{x}<br>count=%{y}<extra></extra>",
         "legendgroup": "Yes",
         "marker": {
          "color": "#00CC96",
          "pattern": {
           "shape": ""
          }
         },
         "name": "Yes",
         "orientation": "v",
         "showlegend": true,
         "type": "histogram",
         "x": {
          "bdata": "AQAAAAAAAQABAAAAAAABAAEBAAEAAAEBAQABAAAAAQEAAQEAAAEAAAEBAAABAQAAAQEAAQAAAAAAAAEAAQABAQAAAAAAAAEAAQAAAAAAAAAAAAABAAEAAQABAAAAAAAAAAABAQEAAAAAAAEBAQABAQABAQAAAQAAAAABAAEAAAAAAAEBAAABAQABAQAAAAABAQABAAABAQAAAQEAAAABAQEBAQEAAAAAAAEBAQEBAAAAAAEBAQABAAEAAAAAAQAAAAAAAQAAAAEAAAABAQAAAAAAAQAAAQEBAQEAAQEBAQAAAQAAAAEAAAAAAAABAAEBAAABAAEAAAABAAEAAQAAAAABAQABAQAAAQEBAAEAAQAAAAAAAAAAAQAAAAABAQAAAAAAAQAAAQABAQAAAQEAAAABAQABAQAAAAEAAQEBAAEAAAAAAAEAAQAAAQABAAEAAQEAAAEBAAEAAQEAAAEAAAAAAAAAAQAAAAAAAQABAAAAAQAAAAEBAAABAAEAAAAAAQAAAAEAAAABAQEBAAAAAQABAAABAQEBAQAAAAABAQEAAAEAAQEAAQAAAAABAAEAAQAAAQAAAQEBAQEAAQEAAAEBAQABAAAAAQAAAQEBAAAAAAABAQEAAQAAAQABAQAAAAEAAAABAQABAQEAAAABAQAAAQEAAAABAQEAAQAAAQEAAAEBAQAAAQAAAQEBAQAAAAAAAAEBAQAAAQEBAAAAAAEAAAAAAAEAAAABAQEAAAABAAAAAQEAAQABAAEAAAABAAABAAEAAAAAAQAAAQEBAQAAAQABAAEBAQEBAQEAAAABAQEAAQEBAAAAAAEAAQABAQABAAEAAAEBAAAAAAAAAAEAAAAAAQABAQEAAAAAAAAAAAAAAAABAQEBAAAAAQAAAAEBAAEAAAEBAAABAQAAAAAAAQABAQAAAAEBAAEAAAEBAQABAAEAAAAAAQEBAAABAAEAAAABAAABAAAAAAAAAQEAAQEAAAEBAAABAAAAAQAAAAAAAAEAAQEAAAEBAAEBAQAAAAEAAQAAAAABAQABAQAAAAAAAQEAAAABAQEAAAAAAAEAAQEBAAAAAAABAQEBAAEAAQEAAAAAAAEBAQEAAAAAAQABAAAAAQEAAQAAAQAAAAAAAAEAAAEAAAEBAQEAAQEBAAAAAAEBAQABAQABAQEBAQAAAAAAAAAAAAABAQEAAQEAAAAAAQAAAQAAAQABAQAAAQAAAQAAAQAAAAAAAAEAAAAAAAEBAQEAAAABAAEAAAEAAQABAAEBAAAAAQEAAAEBAQABAAABAAEBAAEAAQAAAAEBAQABAAEAAAABAQABAAABAQAAAQAAAAAAAAAAAAEAAAABAAEBAQEBAAAAAAEBAAEAAAEAAAEBAAEBAQAAAAAAAAABAAEAAAEAAAABAQEAAAAAAQABAQAAAAABAQEBAAAAAQAAAAEBAAEAAQABAQABAQAAAAEAAAABAAABAQEAAQAAAQEAAQEAAAABAAEAAAEAAQEBAQABAAEAAQEAAAAAAQE=",
          "dtype": "i1"
         },
         "xaxis": "x",
         "yaxis": "y"
        }
       ],
       "layout": {
        "bargap": 0.1,
        "barmode": "relative",
        "height": 500,
        "legend": {
         "title": {
          "text": "SeniorCitizen"
         },
         "tracegroupgap": 0
        },
        "template": {
         "data": {
          "bar": [
           {
            "error_x": {
             "color": "#2a3f5f"
            },
            "error_y": {
             "color": "#2a3f5f"
            },
            "marker": {
             "line": {
              "color": "#E5ECF6",
              "width": 0.5
             },
             "pattern": {
              "fillmode": "overlay",
              "size": 10,
              "solidity": 0.2
             }
            },
            "type": "bar"
           }
          ],
          "barpolar": [
           {
            "marker": {
             "line": {
              "color": "#E5ECF6",
              "width": 0.5
             },
             "pattern": {
              "fillmode": "overlay",
              "size": 10,
              "solidity": 0.2
             }
            },
            "type": "barpolar"
           }
          ],
          "carpet": [
           {
            "aaxis": {
             "endlinecolor": "#2a3f5f",
             "gridcolor": "white",
             "linecolor": "white",
             "minorgridcolor": "white",
             "startlinecolor": "#2a3f5f"
            },
            "baxis": {
             "endlinecolor": "#2a3f5f",
             "gridcolor": "white",
             "linecolor": "white",
             "minorgridcolor": "white",
             "startlinecolor": "#2a3f5f"
            },
            "type": "carpet"
           }
          ],
          "choropleth": [
           {
            "colorbar": {
             "outlinewidth": 0,
             "ticks": ""
            },
            "type": "choropleth"
           }
          ],
          "contour": [
           {
            "colorbar": {
             "outlinewidth": 0,
             "ticks": ""
            },
            "colorscale": [
             [
              0,
              "#0d0887"
             ],
             [
              0.1111111111111111,
              "#46039f"
             ],
             [
              0.2222222222222222,
              "#7201a8"
             ],
             [
              0.3333333333333333,
              "#9c179e"
             ],
             [
              0.4444444444444444,
              "#bd3786"
             ],
             [
              0.5555555555555556,
              "#d8576b"
             ],
             [
              0.6666666666666666,
              "#ed7953"
             ],
             [
              0.7777777777777778,
              "#fb9f3a"
             ],
             [
              0.8888888888888888,
              "#fdca26"
             ],
             [
              1,
              "#f0f921"
             ]
            ],
            "type": "contour"
           }
          ],
          "contourcarpet": [
           {
            "colorbar": {
             "outlinewidth": 0,
             "ticks": ""
            },
            "type": "contourcarpet"
           }
          ],
          "heatmap": [
           {
            "colorbar": {
             "outlinewidth": 0,
             "ticks": ""
            },
            "colorscale": [
             [
              0,
              "#0d0887"
             ],
             [
              0.1111111111111111,
              "#46039f"
             ],
             [
              0.2222222222222222,
              "#7201a8"
             ],
             [
              0.3333333333333333,
              "#9c179e"
             ],
             [
              0.4444444444444444,
              "#bd3786"
             ],
             [
              0.5555555555555556,
              "#d8576b"
             ],
             [
              0.6666666666666666,
              "#ed7953"
             ],
             [
              0.7777777777777778,
              "#fb9f3a"
             ],
             [
              0.8888888888888888,
              "#fdca26"
             ],
             [
              1,
              "#f0f921"
             ]
            ],
            "type": "heatmap"
           }
          ],
          "histogram": [
           {
            "marker": {
             "pattern": {
              "fillmode": "overlay",
              "size": 10,
              "solidity": 0.2
             }
            },
            "type": "histogram"
           }
          ],
          "histogram2d": [
           {
            "colorbar": {
             "outlinewidth": 0,
             "ticks": ""
            },
            "colorscale": [
             [
              0,
              "#0d0887"
             ],
             [
              0.1111111111111111,
              "#46039f"
             ],
             [
              0.2222222222222222,
              "#7201a8"
             ],
             [
              0.3333333333333333,
              "#9c179e"
             ],
             [
              0.4444444444444444,
              "#bd3786"
             ],
             [
              0.5555555555555556,
              "#d8576b"
             ],
             [
              0.6666666666666666,
              "#ed7953"
             ],
             [
              0.7777777777777778,
              "#fb9f3a"
             ],
             [
              0.8888888888888888,
              "#fdca26"
             ],
             [
              1,
              "#f0f921"
             ]
            ],
            "type": "histogram2d"
           }
          ],
          "histogram2dcontour": [
           {
            "colorbar": {
             "outlinewidth": 0,
             "ticks": ""
            },
            "colorscale": [
             [
              0,
              "#0d0887"
             ],
             [
              0.1111111111111111,
              "#46039f"
             ],
             [
              0.2222222222222222,
              "#7201a8"
             ],
             [
              0.3333333333333333,
              "#9c179e"
             ],
             [
              0.4444444444444444,
              "#bd3786"
             ],
             [
              0.5555555555555556,
              "#d8576b"
             ],
             [
              0.6666666666666666,
              "#ed7953"
             ],
             [
              0.7777777777777778,
              "#fb9f3a"
             ],
             [
              0.8888888888888888,
              "#fdca26"
             ],
             [
              1,
              "#f0f921"
             ]
            ],
            "type": "histogram2dcontour"
           }
          ],
          "mesh3d": [
           {
            "colorbar": {
             "outlinewidth": 0,
             "ticks": ""
            },
            "type": "mesh3d"
           }
          ],
          "parcoords": [
           {
            "line": {
             "colorbar": {
              "outlinewidth": 0,
              "ticks": ""
             }
            },
            "type": "parcoords"
           }
          ],
          "pie": [
           {
            "automargin": true,
            "type": "pie"
           }
          ],
          "scatter": [
           {
            "fillpattern": {
             "fillmode": "overlay",
             "size": 10,
             "solidity": 0.2
            },
            "type": "scatter"
           }
          ],
          "scatter3d": [
           {
            "line": {
             "colorbar": {
              "outlinewidth": 0,
              "ticks": ""
             }
            },
            "marker": {
             "colorbar": {
              "outlinewidth": 0,
              "ticks": ""
             }
            },
            "type": "scatter3d"
           }
          ],
          "scattercarpet": [
           {
            "marker": {
             "colorbar": {
              "outlinewidth": 0,
              "ticks": ""
             }
            },
            "type": "scattercarpet"
           }
          ],
          "scattergeo": [
           {
            "marker": {
             "colorbar": {
              "outlinewidth": 0,
              "ticks": ""
             }
            },
            "type": "scattergeo"
           }
          ],
          "scattergl": [
           {
            "marker": {
             "colorbar": {
              "outlinewidth": 0,
              "ticks": ""
             }
            },
            "type": "scattergl"
           }
          ],
          "scattermap": [
           {
            "marker": {
             "colorbar": {
              "outlinewidth": 0,
              "ticks": ""
             }
            },
            "type": "scattermap"
           }
          ],
          "scattermapbox": [
           {
            "marker": {
             "colorbar": {
              "outlinewidth": 0,
              "ticks": ""
             }
            },
            "type": "scattermapbox"
           }
          ],
          "scatterpolar": [
           {
            "marker": {
             "colorbar": {
              "outlinewidth": 0,
              "ticks": ""
             }
            },
            "type": "scatterpolar"
           }
          ],
          "scatterpolargl": [
           {
            "marker": {
             "colorbar": {
              "outlinewidth": 0,
              "ticks": ""
             }
            },
            "type": "scatterpolargl"
           }
          ],
          "scatterternary": [
           {
            "marker": {
             "colorbar": {
              "outlinewidth": 0,
              "ticks": ""
             }
            },
            "type": "scatterternary"
           }
          ],
          "surface": [
           {
            "colorbar": {
             "outlinewidth": 0,
             "ticks": ""
            },
            "colorscale": [
             [
              0,
              "#0d0887"
             ],
             [
              0.1111111111111111,
              "#46039f"
             ],
             [
              0.2222222222222222,
              "#7201a8"
             ],
             [
              0.3333333333333333,
              "#9c179e"
             ],
             [
              0.4444444444444444,
              "#bd3786"
             ],
             [
              0.5555555555555556,
              "#d8576b"
             ],
             [
              0.6666666666666666,
              "#ed7953"
             ],
             [
              0.7777777777777778,
              "#fb9f3a"
             ],
             [
              0.8888888888888888,
              "#fdca26"
             ],
             [
              1,
              "#f0f921"
             ]
            ],
            "type": "surface"
           }
          ],
          "table": [
           {
            "cells": {
             "fill": {
              "color": "#EBF0F8"
             },
             "line": {
              "color": "white"
             }
            },
            "header": {
             "fill": {
              "color": "#C8D4E3"
             },
             "line": {
              "color": "white"
             }
            },
            "type": "table"
           }
          ]
         },
         "layout": {
          "annotationdefaults": {
           "arrowcolor": "#2a3f5f",
           "arrowhead": 0,
           "arrowwidth": 1
          },
          "autotypenumbers": "strict",
          "coloraxis": {
           "colorbar": {
            "outlinewidth": 0,
            "ticks": ""
           }
          },
          "colorscale": {
           "diverging": [
            [
             0,
             "#8e0152"
            ],
            [
             0.1,
             "#c51b7d"
            ],
            [
             0.2,
             "#de77ae"
            ],
            [
             0.3,
             "#f1b6da"
            ],
            [
             0.4,
             "#fde0ef"
            ],
            [
             0.5,
             "#f7f7f7"
            ],
            [
             0.6,
             "#e6f5d0"
            ],
            [
             0.7,
             "#b8e186"
            ],
            [
             0.8,
             "#7fbc41"
            ],
            [
             0.9,
             "#4d9221"
            ],
            [
             1,
             "#276419"
            ]
           ],
           "sequential": [
            [
             0,
             "#0d0887"
            ],
            [
             0.1111111111111111,
             "#46039f"
            ],
            [
             0.2222222222222222,
             "#7201a8"
            ],
            [
             0.3333333333333333,
             "#9c179e"
            ],
            [
             0.4444444444444444,
             "#bd3786"
            ],
            [
             0.5555555555555556,
             "#d8576b"
            ],
            [
             0.6666666666666666,
             "#ed7953"
            ],
            [
             0.7777777777777778,
             "#fb9f3a"
            ],
            [
             0.8888888888888888,
             "#fdca26"
            ],
            [
             1,
             "#f0f921"
            ]
           ],
           "sequentialminus": [
            [
             0,
             "#0d0887"
            ],
            [
             0.1111111111111111,
             "#46039f"
            ],
            [
             0.2222222222222222,
             "#7201a8"
            ],
            [
             0.3333333333333333,
             "#9c179e"
            ],
            [
             0.4444444444444444,
             "#bd3786"
            ],
            [
             0.5555555555555556,
             "#d8576b"
            ],
            [
             0.6666666666666666,
             "#ed7953"
            ],
            [
             0.7777777777777778,
             "#fb9f3a"
            ],
            [
             0.8888888888888888,
             "#fdca26"
            ],
            [
             1,
             "#f0f921"
            ]
           ]
          },
          "colorway": [
           "#636efa",
           "#EF553B",
           "#00cc96",
           "#ab63fa",
           "#FFA15A",
           "#19d3f3",
           "#FF6692",
           "#B6E880",
           "#FF97FF",
           "#FECB52"
          ],
          "font": {
           "color": "#2a3f5f"
          },
          "geo": {
           "bgcolor": "white",
           "lakecolor": "white",
           "landcolor": "#E5ECF6",
           "showlakes": true,
           "showland": true,
           "subunitcolor": "white"
          },
          "hoverlabel": {
           "align": "left"
          },
          "hovermode": "closest",
          "mapbox": {
           "style": "light"
          },
          "paper_bgcolor": "white",
          "plot_bgcolor": "#E5ECF6",
          "polar": {
           "angularaxis": {
            "gridcolor": "white",
            "linecolor": "white",
            "ticks": ""
           },
           "bgcolor": "#E5ECF6",
           "radialaxis": {
            "gridcolor": "white",
            "linecolor": "white",
            "ticks": ""
           }
          },
          "scene": {
           "xaxis": {
            "backgroundcolor": "#E5ECF6",
            "gridcolor": "white",
            "gridwidth": 2,
            "linecolor": "white",
            "showbackground": true,
            "ticks": "",
            "zerolinecolor": "white"
           },
           "yaxis": {
            "backgroundcolor": "#E5ECF6",
            "gridcolor": "white",
            "gridwidth": 2,
            "linecolor": "white",
            "showbackground": true,
            "ticks": "",
            "zerolinecolor": "white"
           },
           "zaxis": {
            "backgroundcolor": "#E5ECF6",
            "gridcolor": "white",
            "gridwidth": 2,
            "linecolor": "white",
            "showbackground": true,
            "ticks": "",
            "zerolinecolor": "white"
           }
          },
          "shapedefaults": {
           "line": {
            "color": "#2a3f5f"
           }
          },
          "ternary": {
           "aaxis": {
            "gridcolor": "white",
            "linecolor": "white",
            "ticks": ""
           },
           "baxis": {
            "gridcolor": "white",
            "linecolor": "white",
            "ticks": ""
           },
           "bgcolor": "#E5ECF6",
           "caxis": {
            "gridcolor": "white",
            "linecolor": "white",
            "ticks": ""
           }
          },
          "title": {
           "x": 0.05
          },
          "xaxis": {
           "automargin": true,
           "gridcolor": "white",
           "linecolor": "white",
           "ticks": "",
           "title": {
            "standoff": 15
           },
           "zerolinecolor": "white",
           "zerolinewidth": 2
          },
          "yaxis": {
           "automargin": true,
           "gridcolor": "white",
           "linecolor": "white",
           "ticks": "",
           "title": {
            "standoff": 15
           },
           "zerolinecolor": "white",
           "zerolinewidth": 2
          }
         }
        },
        "title": {
         "text": "<b>Chrun distribution w.r.t. Senior Citizen</b>"
        },
        "width": 700,
        "xaxis": {
         "anchor": "y",
         "domain": [
          0,
          1
         ],
         "title": {
          "text": "Churn"
         }
        },
        "yaxis": {
         "anchor": "x",
         "domain": [
          0,
          1
         ],
         "title": {
          "text": "count"
         }
        }
       }
      }
     },
     "metadata": {},
     "output_type": "display_data"
    }
   ],
   "source": [
    "color_map = {\"Yes\": '#00CC96', \"No\": '#B6E880'}\n",
    "fig = px.histogram(df, x=\"Churn\", color=\"SeniorCitizen\", title=\"<b>Chrun distribution w.r.t. Senior Citizen</b>\", color_discrete_map=color_map)\n",
    "fig.update_layout(width=700, height=500, bargap=0.1)\n",
    "fig.show()"
   ]
  },
  {
   "cell_type": "markdown",
   "id": "84491c44",
   "metadata": {},
   "source": [
    "* **NON-SENIOR CITIZENS (GREEN BARS):** This group makes up the VAST MAJORITY of the entire customer base, including both churned and non-churned customers.\n",
    "\n",
    "* **SENIOR CITIZENS (YELLOW BARS):** While senior citizens are a MINORITY of the total customers, their churn rate appears to be proportionally HIGHER. The yellow \"Churn: Yes\" bar is quite large relative to the yellow \"Churn: No\" bar.\n",
    "\n",
    "* **KEY INSIGHT:** Although non-seniors account for more churn in absolute numbers, **SENIOR CITIZENS appear to churn at a HIGHER RATE** relative to their total population. Being a senior citizen is a notable risk factor for churn."
   ]
  },
  {
   "cell_type": "code",
   "execution_count": 29,
   "id": "6021bf74",
   "metadata": {},
   "outputs": [
    {
     "data": {
      "application/vnd.plotly.v1+json": {
       "config": {
        "plotlyServerURL": "https://plot.ly"
       },
       "data": [
        {
         "alignmentgroup": "True",
         "bingroup": "x",
         "hovertemplate": "OnlineSecurity=No<br>Churn=%{x}<br>count=%{y}<extra></extra>",
         "legendgroup": "No",
         "marker": {
          "color": "#AB63FA",
          "pattern": {
           "shape": ""
          }
         },
         "name": "No",
         "offsetgroup": "No",
         "orientation": "v",
         "showlegend": true,
         "type": "histogram",
         "x": {
          "bdata": "AAEBAAEAAQEAAQABAQEAAAEAAQEAAAABAAEBAAAAAAABAAAAAAABAQAAAAAAAAEAAAEAAAABAAAAAQEAAAEBAQABAAAAAQAAAAABAQEAAQEAAQABAQEAAAABAAAAAAAAAQABAAAAAAEBAQABAAABAAAAAAEBAQAAAQEBAAEBAAEBAQAAAAEAAAEBAQEAAAAAAAABAAAAAQAAAAEBAAAAAAABAAAAAQEBAQABAAABAAAAAQEAAAAAAQABAAAAAAEAAAEBAAEAAAAAAAABAAEAAQAAAAAAAQEAAAAAAAABAAAAAAEBAAABAAAAAAABAQAAAAEBAAEBAAEBAAABAAAAAQAAAAEBAQABAQEAAQAAAAABAQAAAAABAAAAAAABAAEAAQAAAAAAAQAAAAEAAAEBAAAAAAAAAAEAAAAAAAAAAAAAAAEBAQABAQEAAQEAAQABAQABAAABAAEAAQEBAAABAAAAAAAAAQABAAAAAAAAAAAAAAAAAAEBAQAAAQAAAAAAAAAAAAEBAQEAAAABAQABAQAAAQAAAAEAAQABAAABAQEAAQABAAAAAQEBAAABAQEBAQEBAQEBAAEAAQAAAAEAAAEAAQAAAQEAAAABAAEAAAABAQAAAAABAAAAAAEAAQEAAAEAAQEBAAEAAQABAQEAAQEBAAEBAAABAQAAAQEAAAAAAQEAAAEAAAEAAQAAAQAAAQEBAQEAAQEBAAEAAAAAAQEBAQAAAAABAAEAAAAAAQAAAAABAAEBAAEAAAEAAQEAAAAAAQEBAAABAAABAQAAAQABAAAAAQAAAAAAAQABAAABAQEAAQEBAAABAQEAAQABAQABAAABAQABAQABAAEAAAEAAAABAAAAAAEAAAEAAQABAQEAAQEBAQAAAQEAAQEAAQEAAQAAAQEBAQEBAAEAAQAAAAEBAAABAAABAQABAQABAAEAAQAAAAAAAQEAAAEAAQEAAAEAAAAAAQABAAABAQAAAQABAQAAAQAAAAABAQAAAQEAAAAAAQABAAEAAAAAAAABAQABAAEAAAEAAQAAAAEBAQABAAAAAAABAQABAQEAAAAAAAABAQAAAQABAAEBAAEAAQABAQAAAAEAAAAAAQABAQABAQEAAAEBAQAAAQEAAAABAAEAAQABAAEAAAABAAAAAAAAAAAAAAAAAQEAAQAAAQABAQAAAQAAAAAAAAAAAQEAAAABAQABAQAAAAEBAQAAAAAAAAABAQEAAAABAQABAAABAQEBAQEBAAAAAQAAAAEBAQAAAQAAAQEAAAEAAAAAAAEBAAAAAAEBAAAAAAEAAAEBAAABAQAAAAAAAAABAAEBAAAAAQEBAAEBAAABAQABAQABAQEBAQEBAAABAQEAAQAAAAEAAAEBAAAAAAEAAAEBAAABAAAAAAABAAEBAQAAAAEAAAAAAAEBAAAAAQAAAAEAAQEAAAEAAAAAAAAAAQEAAQABAQEAAAABAAAAAAEAAAEBAAAAAQABAQEAAQAAAQEAAAABAAAAAAAAAAAAAQABAQEBAAABAAEAAQEBAAEAAQEAAQEAAQAAAAAAAAAAAAABAQAAAAAAAAEBAQAAAAAAAAEAAAABAQAAAQEAAAAAAAAAAAAAAAEAAAABAQEAAAEBAAAAAAAAAAEBAQAAAQEBAAEAAQABAAABAQABAQAAAQABAAEAAAEAAAEBAQEAAAEAAQEAAAAAAAAAAAEBAQEAAQEAAQEAAAABAAAAAAAAAAAAAAEBAQEAAQEBAAAAAQEAAQEAAQEBAAEAAQEAAQAAAQEBAAEAAQEAAAABAAEBAAEAAAEBAAEBAAAAAAAAAQEAAQEAAAEBAAAAAQAAAQABAAEAAAABAQEAAQEAAAEBAQAAAQEAAAAAAAAAAAAAAQEAAAAAAQABAQEBAAEAAAEBAQEBAAEAAAEAAQAAAAABAQAAAAAAAAABAQAAAQEBAQAAAAEBAAABAQAAAAABAAAAAQABAQEBAQAAAQEBAQEBAQABAAEBAQAAAQABAAABAQABAAAAAAABAAEBAAEBAAEBAQAAAAABAAAAAQAAAQAAAQEAAQAAAAEBAAEBAAEAAQEAAAABAQAAAAAAAAABAAEAAQABAAAAAQABAAEAAAABAAAAAQAAAAABAAABAAAAAAEBAAEAAAAAAAEBAAABAAEBAAEAAAAAAQEAAAABAAEBAQAAAAABAAABAQABAQAAAAEBAQABAQABAAAAAQEBAQAAAQEBAAAAAAABAQEBAQAAAAAAAQEBAQABAAABAAEAAQAAAQEAAAABAAAAAAAAAQEAAQAAAQAAAQABAAAAAQABAAAAAQEAAAAAAAABAAEBAQEAAAEAAAABAQABAQABAAABAQABAAEAAAAAAQABAAABAAABAQABAAABAQAAAQABAAAAAQEAAAEAAAAAAAEAAQAAAAAAAQAAAAAAAQAAAQABAQEBAAEBAQABAQABAQAAAAEAAAAAAQABAAEBAQEAAAABAAAAAQEAAAEAAQEAAQAAAQABAQABAAAAAAABAQAAAAEAAAEAAQEAAQABAAABAQAAAQEAAAABAAEAAQEAAAAAAAAAAAABAAEAAQAAAQABAAAAAAEBAQAAAAEBAAEAAQEBAAABAQAAAAABAQABAAABAAEAAAEAAQAAAAEAAAEBAAEAAQEAAQEAAQAAAAEAAAEAAQEAAAAAAAAAAAEAAAAAAQABAQEAAQEAAAEAAQEBAAEBAAAAAAAAAAEBAAAAAQAAAQAAAQAAAQABAAEBAQAAAQAAAAAAAQABAAABAAEAAQABAAABAAAAAAEBAQEAAAAAAQEBAQABAAAAAAEAAAAAAQABAQAAAAABAQEBAQABAAABAAABAQAAAAEBAAABAAAAAAABAQAAAAEAAAAAAAABAQAAAQABAAEAAQEAAAABAAEAAQAAAAEAAAEAAAAAAAEAAQEAAQABAQEBAAABAQABAAAAAAABAQAAAAABAAABAAEAAAAAAAEBAAEAAAEBAAABAQABAQABAAEBAAABAAEAAAEAAAAAAAAAAAEAAAEAAAEAAAAAAAAAAAEAAAEAAAEAAAEBAAEAAAABAAAAAQAAAAEBAQAAAQEBAQEAAQABAAEAAAEAAAABAAABAAABAQAAAAEAAAABAQEAAQEAAAEAAQABAAEAAAAAAAEAAAEAAQAAAQABAQEAAQEAAAABAQAAAQABAAEBAAEAAAEAAAEAAAAAAQAAAAAAAQAAAAAAAQAAAQEBAQEAAQAAAAEAAQAAAAEBAQABAQABAQEBAAABAQABAAABAAABAQEBAAAAAQEAAAEBAAAAAAAAAAEAAQEAAAAAAQEBAAAAAAAAAAABAAEBAAEBAAAAAAEAAAAAAQAAAQEBAAAAAAEAAAAAAQEAAAEBAQAAAAAAAAAAAAAAAQEAAAEBAAEBAQAAAAABAAAAAAAAAQEBAAEBAAAAAAABAAEBAAAAAAAAAQAAAQEAAQAAAQEBAAAAAAAAAQABAQABAAEAAQAAAAEBAQAAAQABAAEAAQAAAAEBAQEAAAEBAQEAAAABAQEAAAABAQABAQEAAQAAAAEAAAEAAQEAAAEBAAABAAAAAQAAAQEBAAEBAQAAAAAAAAEBAQAAAQABAAAAAAABAQAAAQEBAAAAAQEBAQEAAQEAAQAAAQABAAAAAAEBAQAAAQEBAQAAAAABAAEAAAEBAQEAAQEBAAEBAQAAAAABAQAAAAEBAAAAAQAAAQABAQEAAAEAAQAAAAEAAQAAAAAAAAEAAAEAAAAAAQEAAAAAAQAAAAEBAAEAAAEAAQABAAEAAAEBAAAAAAAAAAAAAQEBAAAAAAABAQAAAAEAAAEAAQEAAQAAAAEBAAEBAAAAAQAAAQAAAQEAAAEBAAEAAAEBAQEBAQABAQAAAQAAAAEAAAABAAAAAAEBAQEAAQAAAAEBAAAAAAEBAAAAAAEBAQEAAQAAAQAAAQAAAAABAAABAQAAAQAAAQABAAEBAQEBAQAAAQEAAAAAAAABAQEAAAEAAAEAAQABAQEAAAEAAAAAAAAAAAAAAQEAAQAAAAEBAAABAQAAAAABAQEAAQEBAQEAAAABAAAAAAEBAQABAAAAAQABAAEAAQABAAEBAAEAAAEBAAAAAAAAAQEAAAAAAAEBAAABAAAAAAABAAEAAAAAAQABAAABAAEAAAEAAAAAAAABAAAAAQAAAQABAAABAAAAAQABAQABAQEAAQAAAAABAAABAAAAAAEAAQAAAQABAQABAAABAQEAAAABAAEAAAAAAQABAAABAAEAAQEAAAEAAQAAAQEBAQAAAQEAAQABAQEBAQAAAQABAAEBAAEBAAEAAQAAAAEBAAAAAAABAQABAQEAAAAAAQEBAQABAAEBAQEBAQAAAAEBAAAAAAEBAQAAAAAAAQAAAAAAAAEBAAAAAAEAAAAAAAAAAAEAAAEAAAAAAAABAQEAAAEAAAABAAABAQEBAAABAAEAAQEAAAABAAABAAAAAAEBAQABAAEBAQABAAAAAQABAQAAAQAAAAAAAQABAQEBAQEBAQAAAAEBAAEBAQAAAAEAAQAAAQAAAAAAAQEAAAEAAAAAAQEAAQABAAABAAABAAAAAQEAAAAAAQAAAQEBAQEAAAAAAQAAAAEAAQABAQAAAQAAAAEBAQEAAAAAAQEAAAABAAAAAQAAAAAB",
          "dtype": "i1"
         },
         "xaxis": "x",
         "yaxis": "y"
        },
        {
         "alignmentgroup": "True",
         "bingroup": "x",
         "hovertemplate": "OnlineSecurity=Yes<br>Churn=%{x}<br>count=%{y}<extra></extra>",
         "legendgroup": "Yes",
         "marker": {
          "color": "#FF97FF",
          "pattern": {
           "shape": ""
          }
         },
         "name": "Yes",
         "offsetgroup": "Yes",
         "orientation": "v",
         "showlegend": true,
         "type": "histogram",
         "x": {
          "bdata": "AAEAAAAAAAAAAAAAAAAAAAAAAAABAAAAAAAAAAAAAAAAAAABAAAAAQAAAAEAAAABAAABAAAAAAAAAQAAAQAAAAAAAAABAAAAAAAAAAABAAAAAQAAAAAAAAAAAAAAAAAAAQAAAAABAQAAAAAAAAABAAEAAAAAAAAAAAAAAAAAAAAAAAAAAAAAAAAAAQABAAEAAAAAAAAAAAABAAAAAAEAAAAAAAAAAAAAAAABAAAAAAAAAQAAAAAAAQEAAAAAAAAAAQAAAAAAAQAAAQAAAAEAAAAAAAEAAAAAAAAAAAEAAAAAAQAAAAAAAAAAAQAAAAEAAAAAAAAAAAAAAAAAAAAAAAABAAABAAAAAQAAAAEAAQAAAAAAAAAAAAABAAAAAAAAAAAAAQAAAQAAAAEAAAAAAAAAAQAAAQAAAQAAAAEAAAEAAAAAAAAAAQAAAAAAAAEAAAAAAAAAAAAAAAAAAAAAAAAAAAAAAAAAAAAAAAAAAAAAAAAAAQAAAAAAAAAAAAAAAQAAAAABAAAAAAAAAAAAAAAAAAAAAAAAAAAAAAAAAAAAAAAAAAAAAAAAAAAAAAEAAAAAAAAAAAAAAAEAAQAAAAEAAAAAAAAAAAEAAAAAAAAAAAABAAABAAAAAAEAAAABAAAAAAAAAAEAAQAAAAAAAAAAAAAAAQAAAAAAAAAAAQAAAAAAAAABAAAAAQABAAAAAAAAAAABAAAAAAAAAAAAAAABAAAAAAAAAAABAQAAAAEAAAAAAAEAAAABAAAAAAAAAAEAAAAAAQEBAAAAAQAAAQAAAAAAAAEAAQAAAAAAAAAAAAAAAAEAAAAAAQAAAAAAAAAAAAAAAAEBAAAAAAAAAQAAAAEAAAEAAAABAAEAAAAAAAAAAAAAAAAAAAAAAAAAAAAAAAAAAAAAAQAAAAAAAAABAAAAAAABAAAAAQAAAAAAAAABAAABAAABAAAAAAABAAAAAAAAAQAAAAAAAAABAAAAAAAAAAABAQAAAAAAAAAAAAABAAAAAAAAAAAAAAAAAQABAAABAAAAAAAAAAEAAAAAAAAAAAABAAAAAAAAAAEBAAAAAAEAAAAAAAAAAAABAAEAAAAAAAEAAAAAAAAAAAAAAAABAQAAAAABAAAAAAEAAAAAAAAAAAAAAAEAAAAAAAEAAAAAAAAAAAAAAAABAAAAAAAAAAAAAAAAAAEAAAAAAAEAAAAAAAAAAAAAAAAAAAABAAEAAAAAAAAAAAABAAEAAAAAAAABAAAAAAAAAAAAAAABAAAAAAABAQAAAAEAAAAAAAAAAAAAAAAAAAAAAAAAAQEAAAAAAAAAAAAAAAAAAAAAAAAAAAEAAAAAAAABAAABAAAAAAAAAAAAAAAAAAAAAAEBAQAAAAAAAAAAAQAAAAAAAAAAAAAAAQABAAAAAAAAAAAAAAAAAAEAAAAAAAEAAQEBAAEAAAAAAAAAAAEBAQEAAAAAAAEAAAAAAAAAAAAAAQAAAAAAAAAAAQEAAAAAAAAAAAAAAAAAAAAAAQAAAAAAAAAAAAAAAAAAAAAAAAAAAAAAAAAAAQAAAQABAAAAAAAAAAAAAAAAAAAAAAAAAAAAAAAAAAAAAAEAAAAAAAAAAAABAAAAAQAAAAAAAQEBAAEAAQAAAAAAAAABAAAAAAAAAAABAAAAAAAAAQAAAAAAAAAAAAEAAAAAAAABAAAAAAABAAAAAAAAAAAAAAABAAEAAAAAAQAAAQEAAQAAAAEAAAEAAAAAAAEAAAAAAAAAAAABAAAAAAAAAAEAAQAAAAAAAAEAAAAAAAABAAAAAAAAAAAAAAAAAAABAAAAAQAAAAAAAAAAAAAAAAAAAAAAAQAAAAAAAAABAAAAAAAAAAABAQEAAAAAAAAAAAABAAEAAAAAAAAAAAAAAAABAAAAAAAAAAABAAEAAAEBAAAAAAAAAQABAAAAAAABAAAAAAEAAAAAAAAAAQAAAAABAAEBAAAAAAABAAAAAAAAAAAAAAAAAAABAAAAAAAAAAAAAAAAAAAAAAAAAQAAAAEAAAAAAAAAAAAAAAAAAAAAAAAAAAAAAAAAAAAAAAABAAABAAAAAAAAAAAAAAAAAAAAAAAAAQAAAAAAAQAAAAAAAAAAAAEAAAAAAAABAAAAAAAAAAAAAQAAAAAAAAABAQAAAQEAAAAAAAABAAAAAAAAAAEBAQAAAAEBAAEAAAEAAAAAAAAAAAAAAAEAAAAAAAEAAAEAAAAAAAAAAAAAAAAAAAAAAAEAAAEAAAAAAAEAAAAAAAAAAAAAAAEBAAAAAAAAAAAAAAABAQEAAAAAAAAAAQAAAAEAAAAAAAAAAAAAAQAAAAAAAAAAAQEAAAAAAAAAAAEAAQAAAAAAAAAAAAAAAAAAAQAAAAEAAQAAAAAAAAEAAAAAAAAAAAAAAQABAAAAAQAAAQABAAAAAAEAAAAAAAEAAAAAAQAAAAAAAAEAAAAAAAAAAQAAAAAAAAAAAAAAAAAAAAAAAAAAAAAAAAABAAAAAQAAAAAAAAABAAABAAAAAAAAAAAAAAAAAAAAAAEAAAAAAAEAAAABAAAAAAAAAAAAAAAAAAAAAAEAAAABAAAAAAAAAAABAAEAAAAAAAEBAAABAAEAAAAAAAEAAAEAAAABAAAAAAAAAAAAAAAAAAEAAAAAAQAAAAAAAAEAAAABAAAAAAAAAAAAAAABAAEAAAABAAAA",
          "dtype": "i1"
         },
         "xaxis": "x",
         "yaxis": "y"
        },
        {
         "alignmentgroup": "True",
         "bingroup": "x",
         "hovertemplate": "OnlineSecurity=No internet service<br>Churn=%{x}<br>count=%{y}<extra></extra>",
         "legendgroup": "No internet service",
         "marker": {
          "color": "#00cc96",
          "pattern": {
           "shape": ""
          }
         },
         "name": "No internet service",
         "offsetgroup": "No internet service",
         "orientation": "v",
         "showlegend": true,
         "type": "histogram",
         "x": {
          "bdata": "AAAAAQAAAAAAAAAAAAABAAAAAAAAAAAAAAAAAAAAAAAAAAAAAAAAAAAAAAAAAAAAAAAAAAABAAAAAAAAAAAAAAAAAAAAAAEAAAAAAAABAQAAAAABAAAAAAAAAAAAAAAAAAAAAAAAAAAAAAAAAAEAAAAAAAAAAAEAAAAAAAEBAAAAAAAAAAAAAAAAAAEAAAAAAAAAAAAAAAAAAAAAAQAAAAAAAAAAAAABAAAAAAAAAAAAAAAAAAAAAAAAAAAAAAEAAAAAAAAAAAAAAAAAAAAAAAAAAAABAAAAAAAAAAAAAAAAAAAAAAAAAAAAAAAAAAABAAAAAAAAAAAAAAEAAAAAAAAAAAAAAAAAAQAAAQAAAAEAAAAAAAAAAAAAAAAAAAAAAAAAAAAAAAAAAAABAAAAAAEAAAAAAAAAAAAAAAAAAAAAAAAAAAAAAAAAAAAAAAAAAAAAAAAAAAAAAAAAAAAAAAAAAAAAAAAAAAAAAQAAAAAAAAAAAAAAAQEAAAAAAAAAAAAAAAABAAAAAAAAAAAAAAAAAQAAAAAAAAAAAQAAAAAAAAAAAAAAAAAAAAAAAAABAAAAAAAAAAAAAQAAAAEAAAAAAAAAAAAAAAAAAAAAAAAAAAAAAAAAAAAAAAAAAAAAAAAAAAAAAAAAAAAAAAAAAAAAAAAAAAAAAAAAAAAAAAAAAAAAAAAAAAAAAAAAAAAAAAAAAAAAAAAAAAEAAQAAAAAAAAAAAAAAAAAAAAAAAAAAAQAAAAAAAAABAAAAAAAAAAAAAAAAAAAAAAAAAAAAAAABAAAAAAEAAAAAAAAAAAAAAAAAAAABAAAAAAAAAAAAAAAAAAAAAAAAAAAAAAAAAAAAAAAAAAAAAAAAAAAAAAAAAAAAAAAAAAEAAAAAAAAAAAEAAAAAAAAAAAABAAAAAAAAAAAAAAAAAAAAAAAAAAAAAAAAAAAAAAEAAAAAAAAAAAAAAAAAAAAAAAAAAAAAAAAAAQAAAAAAAAAAAAAAAAAAAAAAAAAAAAABAAAAAAAAAAABAAAAAAAAAAAAAAAAAAAAAAEAAAEAAAAAAAAAAAAAAQEAAAAAAAABAAAAAAAAAAAAAAAAAAEAAAAAAAAAAAAAAAAAAAAAAAAAAAAAAAAAAAAAAAABAAAAAAAAAAABAAAAAAABAAAAAAEAAAAAAAABAAAAAAEAAAAAAAAAAAEAAAAAAAAAAAEAAAAAAAAAAAAAAAAAAAAAAAAAAAAAAAAAAQABAAAAAAAAAAAAAAAAAAAAAAEAAAAAAAAAAAAAAAAAAAAAAAAAAAAAAQAAAQABAAAAAAAAAAAAAAABAAAAAAAAAAABAAAAAAAAAAAAAAAAAAAAAAEAAAAAAAAAAQAAAAAAAAAAAAAAAQAAAAAAAAABAAAAAAAAAAAAAAAAAAEAAAAAAAEAAAAAAAAAAAAAAAAAAAAAAAABAAAAAAEAAAAAAAAAAAAAAAABAAAAAAAAAAABAAAAAAAAAAEAAAABAAEAAAAAAAAAAAAAAAAAAAAAAAABAAAAAAAAAAAAAAAAAAABAAEAAAAAAAAAAAAAAQAAAAAAAAAAAAEAAAAAAAAAAAAAAAAAAAAAAQAAAAAAAAAAAAAAAAABAAAAAAAAAQAAAAEAAAEBAAAAAQAAAAABAAAAAQAAAAAAAAAAAAAAAAAAAAEAAAAAAAAAAAAAAAAAAAABAAAAAAAAAAAAAAAAAAAAAQAAAAAAAAAAAAEAAAAAAAAAAQAAAAAAAAAAAAAAAAAAAAAAAAAAAAAAAAAAAAAAAAAAAAAAAAAAAAAAAAAAAAAAAAEBAAAAAAAAAAAAAAAAAAAAAAAAAAAAAQAAAAABAAAAAAAAAQAAAAABAAAAAAAAAAEAAAAAAAAAAAAAAAAAAAAAAQAAAAAAAAAAAAABAAAAAAAAAAAAAAAAAQAAAAAAAAAAAAAAAAAAAAAAAAAAAAAAAAAAAAAAAAAAAAAAAAAAAAAAAAEAAQAAAAAAAAAAAAAAAAAAAAAAAAAAAAAAAAAAAAABAAAAAAAAAAA=",
          "dtype": "i1"
         },
         "xaxis": "x",
         "yaxis": "y"
        }
       ],
       "layout": {
        "bargap": 0.1,
        "barmode": "group",
        "height": 500,
        "legend": {
         "title": {
          "text": "OnlineSecurity"
         },
         "tracegroupgap": 0
        },
        "template": {
         "data": {
          "bar": [
           {
            "error_x": {
             "color": "#2a3f5f"
            },
            "error_y": {
             "color": "#2a3f5f"
            },
            "marker": {
             "line": {
              "color": "#E5ECF6",
              "width": 0.5
             },
             "pattern": {
              "fillmode": "overlay",
              "size": 10,
              "solidity": 0.2
             }
            },
            "type": "bar"
           }
          ],
          "barpolar": [
           {
            "marker": {
             "line": {
              "color": "#E5ECF6",
              "width": 0.5
             },
             "pattern": {
              "fillmode": "overlay",
              "size": 10,
              "solidity": 0.2
             }
            },
            "type": "barpolar"
           }
          ],
          "carpet": [
           {
            "aaxis": {
             "endlinecolor": "#2a3f5f",
             "gridcolor": "white",
             "linecolor": "white",
             "minorgridcolor": "white",
             "startlinecolor": "#2a3f5f"
            },
            "baxis": {
             "endlinecolor": "#2a3f5f",
             "gridcolor": "white",
             "linecolor": "white",
             "minorgridcolor": "white",
             "startlinecolor": "#2a3f5f"
            },
            "type": "carpet"
           }
          ],
          "choropleth": [
           {
            "colorbar": {
             "outlinewidth": 0,
             "ticks": ""
            },
            "type": "choropleth"
           }
          ],
          "contour": [
           {
            "colorbar": {
             "outlinewidth": 0,
             "ticks": ""
            },
            "colorscale": [
             [
              0,
              "#0d0887"
             ],
             [
              0.1111111111111111,
              "#46039f"
             ],
             [
              0.2222222222222222,
              "#7201a8"
             ],
             [
              0.3333333333333333,
              "#9c179e"
             ],
             [
              0.4444444444444444,
              "#bd3786"
             ],
             [
              0.5555555555555556,
              "#d8576b"
             ],
             [
              0.6666666666666666,
              "#ed7953"
             ],
             [
              0.7777777777777778,
              "#fb9f3a"
             ],
             [
              0.8888888888888888,
              "#fdca26"
             ],
             [
              1,
              "#f0f921"
             ]
            ],
            "type": "contour"
           }
          ],
          "contourcarpet": [
           {
            "colorbar": {
             "outlinewidth": 0,
             "ticks": ""
            },
            "type": "contourcarpet"
           }
          ],
          "heatmap": [
           {
            "colorbar": {
             "outlinewidth": 0,
             "ticks": ""
            },
            "colorscale": [
             [
              0,
              "#0d0887"
             ],
             [
              0.1111111111111111,
              "#46039f"
             ],
             [
              0.2222222222222222,
              "#7201a8"
             ],
             [
              0.3333333333333333,
              "#9c179e"
             ],
             [
              0.4444444444444444,
              "#bd3786"
             ],
             [
              0.5555555555555556,
              "#d8576b"
             ],
             [
              0.6666666666666666,
              "#ed7953"
             ],
             [
              0.7777777777777778,
              "#fb9f3a"
             ],
             [
              0.8888888888888888,
              "#fdca26"
             ],
             [
              1,
              "#f0f921"
             ]
            ],
            "type": "heatmap"
           }
          ],
          "histogram": [
           {
            "marker": {
             "pattern": {
              "fillmode": "overlay",
              "size": 10,
              "solidity": 0.2
             }
            },
            "type": "histogram"
           }
          ],
          "histogram2d": [
           {
            "colorbar": {
             "outlinewidth": 0,
             "ticks": ""
            },
            "colorscale": [
             [
              0,
              "#0d0887"
             ],
             [
              0.1111111111111111,
              "#46039f"
             ],
             [
              0.2222222222222222,
              "#7201a8"
             ],
             [
              0.3333333333333333,
              "#9c179e"
             ],
             [
              0.4444444444444444,
              "#bd3786"
             ],
             [
              0.5555555555555556,
              "#d8576b"
             ],
             [
              0.6666666666666666,
              "#ed7953"
             ],
             [
              0.7777777777777778,
              "#fb9f3a"
             ],
             [
              0.8888888888888888,
              "#fdca26"
             ],
             [
              1,
              "#f0f921"
             ]
            ],
            "type": "histogram2d"
           }
          ],
          "histogram2dcontour": [
           {
            "colorbar": {
             "outlinewidth": 0,
             "ticks": ""
            },
            "colorscale": [
             [
              0,
              "#0d0887"
             ],
             [
              0.1111111111111111,
              "#46039f"
             ],
             [
              0.2222222222222222,
              "#7201a8"
             ],
             [
              0.3333333333333333,
              "#9c179e"
             ],
             [
              0.4444444444444444,
              "#bd3786"
             ],
             [
              0.5555555555555556,
              "#d8576b"
             ],
             [
              0.6666666666666666,
              "#ed7953"
             ],
             [
              0.7777777777777778,
              "#fb9f3a"
             ],
             [
              0.8888888888888888,
              "#fdca26"
             ],
             [
              1,
              "#f0f921"
             ]
            ],
            "type": "histogram2dcontour"
           }
          ],
          "mesh3d": [
           {
            "colorbar": {
             "outlinewidth": 0,
             "ticks": ""
            },
            "type": "mesh3d"
           }
          ],
          "parcoords": [
           {
            "line": {
             "colorbar": {
              "outlinewidth": 0,
              "ticks": ""
             }
            },
            "type": "parcoords"
           }
          ],
          "pie": [
           {
            "automargin": true,
            "type": "pie"
           }
          ],
          "scatter": [
           {
            "fillpattern": {
             "fillmode": "overlay",
             "size": 10,
             "solidity": 0.2
            },
            "type": "scatter"
           }
          ],
          "scatter3d": [
           {
            "line": {
             "colorbar": {
              "outlinewidth": 0,
              "ticks": ""
             }
            },
            "marker": {
             "colorbar": {
              "outlinewidth": 0,
              "ticks": ""
             }
            },
            "type": "scatter3d"
           }
          ],
          "scattercarpet": [
           {
            "marker": {
             "colorbar": {
              "outlinewidth": 0,
              "ticks": ""
             }
            },
            "type": "scattercarpet"
           }
          ],
          "scattergeo": [
           {
            "marker": {
             "colorbar": {
              "outlinewidth": 0,
              "ticks": ""
             }
            },
            "type": "scattergeo"
           }
          ],
          "scattergl": [
           {
            "marker": {
             "colorbar": {
              "outlinewidth": 0,
              "ticks": ""
             }
            },
            "type": "scattergl"
           }
          ],
          "scattermap": [
           {
            "marker": {
             "colorbar": {
              "outlinewidth": 0,
              "ticks": ""
             }
            },
            "type": "scattermap"
           }
          ],
          "scattermapbox": [
           {
            "marker": {
             "colorbar": {
              "outlinewidth": 0,
              "ticks": ""
             }
            },
            "type": "scattermapbox"
           }
          ],
          "scatterpolar": [
           {
            "marker": {
             "colorbar": {
              "outlinewidth": 0,
              "ticks": ""
             }
            },
            "type": "scatterpolar"
           }
          ],
          "scatterpolargl": [
           {
            "marker": {
             "colorbar": {
              "outlinewidth": 0,
              "ticks": ""
             }
            },
            "type": "scatterpolargl"
           }
          ],
          "scatterternary": [
           {
            "marker": {
             "colorbar": {
              "outlinewidth": 0,
              "ticks": ""
             }
            },
            "type": "scatterternary"
           }
          ],
          "surface": [
           {
            "colorbar": {
             "outlinewidth": 0,
             "ticks": ""
            },
            "colorscale": [
             [
              0,
              "#0d0887"
             ],
             [
              0.1111111111111111,
              "#46039f"
             ],
             [
              0.2222222222222222,
              "#7201a8"
             ],
             [
              0.3333333333333333,
              "#9c179e"
             ],
             [
              0.4444444444444444,
              "#bd3786"
             ],
             [
              0.5555555555555556,
              "#d8576b"
             ],
             [
              0.6666666666666666,
              "#ed7953"
             ],
             [
              0.7777777777777778,
              "#fb9f3a"
             ],
             [
              0.8888888888888888,
              "#fdca26"
             ],
             [
              1,
              "#f0f921"
             ]
            ],
            "type": "surface"
           }
          ],
          "table": [
           {
            "cells": {
             "fill": {
              "color": "#EBF0F8"
             },
             "line": {
              "color": "white"
             }
            },
            "header": {
             "fill": {
              "color": "#C8D4E3"
             },
             "line": {
              "color": "white"
             }
            },
            "type": "table"
           }
          ]
         },
         "layout": {
          "annotationdefaults": {
           "arrowcolor": "#2a3f5f",
           "arrowhead": 0,
           "arrowwidth": 1
          },
          "autotypenumbers": "strict",
          "coloraxis": {
           "colorbar": {
            "outlinewidth": 0,
            "ticks": ""
           }
          },
          "colorscale": {
           "diverging": [
            [
             0,
             "#8e0152"
            ],
            [
             0.1,
             "#c51b7d"
            ],
            [
             0.2,
             "#de77ae"
            ],
            [
             0.3,
             "#f1b6da"
            ],
            [
             0.4,
             "#fde0ef"
            ],
            [
             0.5,
             "#f7f7f7"
            ],
            [
             0.6,
             "#e6f5d0"
            ],
            [
             0.7,
             "#b8e186"
            ],
            [
             0.8,
             "#7fbc41"
            ],
            [
             0.9,
             "#4d9221"
            ],
            [
             1,
             "#276419"
            ]
           ],
           "sequential": [
            [
             0,
             "#0d0887"
            ],
            [
             0.1111111111111111,
             "#46039f"
            ],
            [
             0.2222222222222222,
             "#7201a8"
            ],
            [
             0.3333333333333333,
             "#9c179e"
            ],
            [
             0.4444444444444444,
             "#bd3786"
            ],
            [
             0.5555555555555556,
             "#d8576b"
            ],
            [
             0.6666666666666666,
             "#ed7953"
            ],
            [
             0.7777777777777778,
             "#fb9f3a"
            ],
            [
             0.8888888888888888,
             "#fdca26"
            ],
            [
             1,
             "#f0f921"
            ]
           ],
           "sequentialminus": [
            [
             0,
             "#0d0887"
            ],
            [
             0.1111111111111111,
             "#46039f"
            ],
            [
             0.2222222222222222,
             "#7201a8"
            ],
            [
             0.3333333333333333,
             "#9c179e"
            ],
            [
             0.4444444444444444,
             "#bd3786"
            ],
            [
             0.5555555555555556,
             "#d8576b"
            ],
            [
             0.6666666666666666,
             "#ed7953"
            ],
            [
             0.7777777777777778,
             "#fb9f3a"
            ],
            [
             0.8888888888888888,
             "#fdca26"
            ],
            [
             1,
             "#f0f921"
            ]
           ]
          },
          "colorway": [
           "#636efa",
           "#EF553B",
           "#00cc96",
           "#ab63fa",
           "#FFA15A",
           "#19d3f3",
           "#FF6692",
           "#B6E880",
           "#FF97FF",
           "#FECB52"
          ],
          "font": {
           "color": "#2a3f5f"
          },
          "geo": {
           "bgcolor": "white",
           "lakecolor": "white",
           "landcolor": "#E5ECF6",
           "showlakes": true,
           "showland": true,
           "subunitcolor": "white"
          },
          "hoverlabel": {
           "align": "left"
          },
          "hovermode": "closest",
          "mapbox": {
           "style": "light"
          },
          "paper_bgcolor": "white",
          "plot_bgcolor": "#E5ECF6",
          "polar": {
           "angularaxis": {
            "gridcolor": "white",
            "linecolor": "white",
            "ticks": ""
           },
           "bgcolor": "#E5ECF6",
           "radialaxis": {
            "gridcolor": "white",
            "linecolor": "white",
            "ticks": ""
           }
          },
          "scene": {
           "xaxis": {
            "backgroundcolor": "#E5ECF6",
            "gridcolor": "white",
            "gridwidth": 2,
            "linecolor": "white",
            "showbackground": true,
            "ticks": "",
            "zerolinecolor": "white"
           },
           "yaxis": {
            "backgroundcolor": "#E5ECF6",
            "gridcolor": "white",
            "gridwidth": 2,
            "linecolor": "white",
            "showbackground": true,
            "ticks": "",
            "zerolinecolor": "white"
           },
           "zaxis": {
            "backgroundcolor": "#E5ECF6",
            "gridcolor": "white",
            "gridwidth": 2,
            "linecolor": "white",
            "showbackground": true,
            "ticks": "",
            "zerolinecolor": "white"
           }
          },
          "shapedefaults": {
           "line": {
            "color": "#2a3f5f"
           }
          },
          "ternary": {
           "aaxis": {
            "gridcolor": "white",
            "linecolor": "white",
            "ticks": ""
           },
           "baxis": {
            "gridcolor": "white",
            "linecolor": "white",
            "ticks": ""
           },
           "bgcolor": "#E5ECF6",
           "caxis": {
            "gridcolor": "white",
            "linecolor": "white",
            "ticks": ""
           }
          },
          "title": {
           "x": 0.05
          },
          "xaxis": {
           "automargin": true,
           "gridcolor": "white",
           "linecolor": "white",
           "ticks": "",
           "title": {
            "standoff": 15
           },
           "zerolinecolor": "white",
           "zerolinewidth": 2
          },
          "yaxis": {
           "automargin": true,
           "gridcolor": "white",
           "linecolor": "white",
           "ticks": "",
           "title": {
            "standoff": 15
           },
           "zerolinecolor": "white",
           "zerolinewidth": 2
          }
         }
        },
        "title": {
         "text": "<b>Churn w.r.t Online Security</b>"
        },
        "width": 700,
        "xaxis": {
         "anchor": "y",
         "domain": [
          0,
          1
         ],
         "title": {
          "text": "Churn"
         }
        },
        "yaxis": {
         "anchor": "x",
         "domain": [
          0,
          1
         ],
         "title": {
          "text": "count"
         }
        }
       }
      }
     },
     "metadata": {},
     "output_type": "display_data"
    }
   ],
   "source": [
    "color_map = {\"Yes\": \"#FF97FF\", \"No\": \"#AB63FA\"}\n",
    "fig = px.histogram(df, x=\"Churn\", color=\"OnlineSecurity\", barmode=\"group\", title=\"<b>Churn w.r.t Online Security</b>\", color_discrete_map=color_map)\n",
    "fig.update_layout(width=700, height=500, bargap=0.1)\n",
    "fig.show()"
   ]
  },
  {
   "cell_type": "markdown",
   "id": "2aca2f9d",
   "metadata": {},
   "source": [
    "* **CUSTOMERS WITHOUT ONLINE SECURITY:** This group accounts for the VAST MAJORITY of churn. The \"No\" bar under the \"Churn: Yes\" category is significantly taller than the \"Yes\" bar. Customers who decline this service are at a much higher risk of leaving.\n",
    "\n",
    "* **CUSTOMERS WITH ONLINE SECURITY:** Customers who subscribe to the Online Security service are FAR MORE LOYAL. They make up a very small portion of the churned group and a large part of the stable, non-churned customer base.\n",
    "\n",
    "* **KEY INSIGHT:** Having **ONLINE SECURITY is a strong indicator of customer retention**. The service itself likely adds value, and the act of subscribing to it may indicate a more invested and security-conscious customer who is less likely to churn."
   ]
  },
  {
   "cell_type": "code",
   "execution_count": 30,
   "id": "5c0ce42c",
   "metadata": {},
   "outputs": [
    {
     "data": {
      "application/vnd.plotly.v1+json": {
       "config": {
        "plotlyServerURL": "https://plot.ly"
       },
       "data": [
        {
         "bingroup": "x",
         "hovertemplate": "PaperlessBilling=Yes<br>Churn=%{x}<br>count=%{y}<extra></extra>",
         "legendgroup": "Yes",
         "marker": {
          "color": "#FFA15A",
          "pattern": {
           "shape": ""
          }
         },
         "name": "Yes",
         "orientation": "v",
         "showlegend": true,
         "type": "histogram",
         "x": {
          "bdata": "AAEBAQABAAEAAAEAAAEAAQAAAQABAQAAAAABAAAAAQABAAEAAAAAAAAAAAAAAAAAAAABAQAAAAAAAAAAAQABAQABAAEAAQAAAQABAAAAAQEAAAABAAAAAAEAAAAAAAAAAAEAAQABAQEAAAEBAAABAAAAAAAAAAAAAQABAAAAAAEAAAAAAAAAAAEBAAABAAABAQAAAAABAAEBAAAAAAEAAQEAAAAAAQEBAAAAAQABAAABAAAAAAEAAQAAAAAAAAEAAAAAAAEBAQAAAQAAAAEAAAABAQEAAAAAAAAAAAEAAAEAAAEAAQAAAAAAAAAAAQABAAAAAAEBAQAAAAAAAAEAAAAAAQABAAAAAAAAAQAAAAABAAAAAQAAAAEAAQEAAAEBAAABAAAAAAEAAAEBAQAAAAEAAQEAAQAAAQAAAQAAAAAAAAEAAAAAAAAAAQEAAQAAAAAAAQAAAAAAAAEAAAAAAAAAAQAAAQAAAAABAAAAAAABAAAAAAAAAAAAAQABAQEBAAABAQABAQAAAQAAAAABAAEAAQAAAAAAAQAAAQAAAAEAAAAAAAEAAAAAAAAAAAAAAQEBAAAAAQAAAAAAAAAAAAAAAAABAQABAAAAAAEBAQABAAAAAQABAAAAAAABAAEAAAEAAAEBAQEAAQABAAAAAAAAAQEAAAEAAAEAAAEAAAAAAAEAAQEBAQAAAAAAAQAAAQAAAAAAAQEAAAAAAQAAAQAAAAEAAAEAAAAAAAABAQABAAABAAAAAAABAAAAAQEAAQABAQEAAAABAQEBAQEAAAEBAAAAAAAAAAAAAAABAQEAAQAAAQABAAAAAQAAAQEBAQEAAAEAAQEBAAABAAAAAAEBAQAAAAEAAAEAAAAAAQEAAAAAAAABAAABAAAAAAEBAAAAAAEAAAEBAAAAAAABAAEAAQAAAAAAAQABAAABAQAAAQAAAAEAAAAAAQAAAAAAAQEAAAEAAQEAAQEAAQAAAQEBAAAAAQEAAAAAAAEBAAAAAAEAAAABAAAAAAAAAAAAAAEAAAABAAAAAQAAAQEBAAABAQAAAQAAAAEAAQAAAAEBAQEAAAEAAQAAAAEAAAABAQEBAQAAAAEAAAEAAAABAQAAAQAAAQEAAAEBAAAAAAABAAEAAAAAAAABAAEAAAEAAAEAAQABAAAAAAAAAAAAAAEAAAEAAAABAQABAQAAAAAAAQEAAAABAAEAAAAAAAAAAQAAAQAAAQAAAQABAAAAAAAAAAAAAQEAAAEAAQEBAAAAAAAAAQEAAAAAAAABAQAAAAEAAQEAAAEAAAAAAAABAAEAAQEAAAABAQAAAQAAAQEBAAABAAABAQAAAAABAAEBAAAAAAAAAQAAAQABAAABAQABAAEAAAAAAAAAAQAAAAEBAQAAAQAAAQAAAAEAAAEAAAAAAAAAAAAAAAEBAAAAAAAAAAABAAEAAAAAAAEAAAABAQAAAAABAQAAAAAAAQABAAAAAAEAAQEAAQEBAAAAAAAAAAAAAAEBAAABAAAAAQAAAAABAAAAAQAAAAAAAAEAAAABAQEAAAAAAQAAAAAAAAEAAQEAAAAAAAABAQABAAABAQAAAAEBAAEBAAEAAQEAAQEBAQEAAQEBAAABAAEBAAAAAQEAAAEAAAABAQABAAAAAAABAQEAAAAAAAEBAQABAAABAAABAAAAAAAAAAABAAEAAQEBAAAAAAAAAAAAAAABAAAAAQEAAAEBAAAAAAAAAAEAAAEAAAEAAQABAAEBAQAAAQAAAAAAAQEAAAABAAAAAAAAAAABAQAAAAABAQABAAAAAQAAAQEBAAAAAQEBAAEAAQEBAQABAAABAAAAAAAAAAAAAAAAAAEBAAAAAAAAAQEBAAAAAAAAAAAAAAAAAQEAAAAAAAAAAQAAAAAAAAEAAAEAAAAAAAEBAQAAAAEAAAAAAQAAAQAAAQAAAQABAQEAAQAAAQABAAAAAAABAQABAAEAAAAAAQABAQABAAEAAAABAAAAAAEAAQABAQAAAQAAAQEAAAAAAAAAAAAAAAAAAAAAAQABAAEBAAEBAAEBAAAAAQAAAAAAAAAAAAAAAQEBAQEBAAEBAQAAAAAAAAABAAABAAEBAAEBAQAAAAABAQAAAAEAAAAAAQABAQEBAAEBAAEAAAAAAQEBAAEAAAAAAAEBAQAAAAABAAABAAEAAAABAAAAAQABAQABAAAAAQAAAQAAAQABAQABAAAAAQEAAQAAAAEBAAABAAAAAAAAAAAAAAAAAQEAAAABAQEBAAEAAQAAAAAAAAEBAQEAAAABAAAAAQEAAAAAAAAAAQEBAAAAAAAAAAABAQAAAAAAAQAAAAABAQAAAQABAAAAAQABAQAAAAAAAAAAAAEAAAEAAQEAAQEAAAAAAAABAAEAAQEBAQAAAAAAAQABAQAAAQAAAAABAAABAAAAAAEAAAAAAAAAAQEAAQABAAEBAAAAAQAAAQAAAAABAAABAAEAAAEAAAABAQABAQABAQAAAQAAAAAAAAEAAAAAAQAAAQAAAQABAAAAAAAAAQAAAAAAAQAAAAEAAAAAAAABAAABAAAAAAAAAQAAAQABAQABAAAAAAABAQAAAAEAAAEBAAAAAAEAAQEBAAABAQABAQEAAAABAQEBAAABAQABAAAAAAABAAEAAQABAQEAAAAAAAAAAAABAAAAAQABAAAAAAABAAEAAQEAAAAAAAABAQAAAAAAAAAAAAAAAAEAAAEAAAEAAAAAAQAAAQAAAAABAAABAAEAAAEBAAEAAAAAAAAAAAAAAAEBAAEBAQEAAAEAAQAAAQAAAAABAQAAAQABAQABAAEAAAAAAAAAAQABAAABAAABAQEBAAEAAAAAAQAAAAEAAQAAAAAAAQAAAAEAAAAAAAAAAAAAAAABAAAAAQEBAQEBAAABAQEAAQABAAEBAAAAAQAAAQABAQEAAAEAAAAAAAEAAAABAQABAAAAAQEBAAAAAQEAAAABAQABAAAAAAEBAAAAAQAAAQAAAAEBAQABAAAAAAEAAAAAAQAAAQEBAAEBAAEBAQAAAQAAAAAAAAAAAAABAAEAAAEAAQABAAAAAAAAAAEAAAAAAAABAAEBAAABAQEAAAAAAQAAAAABAQAAAAEBAAABAAAAAAABAQAAAQEAAQAAAAEBAQABAAAAAAEAAAAAAAEAAQEAAQAAAAAAAAAAAAABAAAAAAEAAQEBAAAAAAAAAAEBAAAAAQABAQAAAQAAAAAAAAEAAAABAAABAAAAAQAAAAEAAQEAAAABAAABAQAAAQAAAAAAAQEAAAAAAQABAQAAAAABAAAAAAAAAQEBAAAAAAEBAAEBAQABAAAAAAAAAAEBAAEBAAAAAQAAAAEBAAEAAAAAAAAAAQEBAAAAAAAAAQAAAQABAAAAAAABAAABAAAAAAABAQAAAAABAQAAAQAAAAAAAAABAAAAAAAAAAEAAAAAAAEBAQAAAAABAAEAAAAAAQAAAQAAAAAAAAAAAAAAAQEAAQEAAQEAAQEAAQEAAQABAAABAAAAAQABAAEAAAAAAQAAAQEBAAAAAAABAQABAAABAAEBAAEBAAEBAQABAAAAAAAAAQEAAQAAAAEAAAAAAAAAAAEAAAAAAQABAAAAAAAAAAEAAQAAAQAAAAEAAAAAAQAAAQABAQAAAQAAAAAAAAAAAAEAAAEBAQABAQAAAQABAAABAAABAAABAAAAAQABAAAAAAAAAAAAAQABAAAAAAAAAAAAAAAAAAEBAAEAAAEAAQEAAQAAAAABAAABAAAAAAABAAAAAAEAAQEAAAAAAQABAQAAAAAAAAEAAAAAAQEAAAEAAAEAAQAAAQAAAAABAQAAAAEAAAAAAAAAAAAAAQEBAAABAAABAAAAAQAAAAAAAAAAAAABAAEBAAABAQEBAAEBAAABAQABAQEAAAABAAAAAQABAQEAAAEAAAEBAQAAAQABAAEBAAAAAAABAAAAAAAAAAEBAAEBAAAAAQEAAAAAAAABAAEBAAABAAAAAQAAAAAAAQABAQAAAAEAAAABAAAAAAAAAAEBAQABAAEBAAEBAAAAAAAAAAAAAAAAAAABAAAAAAEAAQEBAAEAAQAAAQAAAAABAAAAAAAAAAEAAQEAAQAAAAAAAAAAAQEAAAAAAAABAAAAAQEAAQAAAAEBAQAAAAAAAAABAQAAAAEAAQEAAAAAAAEBAQAAAAEAAAEAAQAAAAEAAQEAAAEAAQEAAAAAAAAAAAEBAAEAAAEAAQAAAQEAAAEBAAEAAAEAAQABAAEAAAAAAAEAAQAAAQAAAAABAAAAAAEAAAABAQEAAAAAAAEAAQEBAAAAAQAAAAEAAAAAAQEAAAABAQEAAAAAAAABAQEBAQAAAAAAAAEAAAEAAAAAAAAAAQABAQEBAQABAAEAAAABAAEAAAABAQEBAQABAAEAAAEBAQABAAEBAQAAAAABAAABAQAAAAABAQEAAQAAAAEAAQAAAAAAAAEAAQAAAAABAQEBAQEAAAAAAAABAQABAAEAAAABAQABAAABAQAAAAAAAAABAAABAAAAAQAAAAEAAAABAAAAAAAAAQABAQAAAQAAAAEAAAAAAAEBAAABAQAAAQEAAQEAAAAAAQEAAQEAAAAAAQAAAAEAAAABAAAAAQAAAAEBAQABAQEAAQAAAAEAAQAAAQAAAQAAAAABAAABAAAAAAAAAAAAAQEBAQAAAQAAAAEBAAEAAAAAAQAAAAEBAAAAAQAAAQABAAEBAAAAAAEAAAABAQAAAAAAAAEAAQABAQEAAQEAAAABAAEAAAAAAAAAAAABAQAAAQAAAAABAAABAQABAAAAAAABAAEBAAAAAAAAAAABAQAAAAEAAAABAQAAAQABAAAAAAAAAAABAQEAAQEAAQABAAAAAAABAAAAAAEAAQAAAQAAAAABAQAAAQABAAABAQAAAAEBAAAAAAAAAAAAAQAAAQEAAAABAAAAAAEAAQABAAAAAAEBAAAAAQEAAAEAAAEAAAAAAAABAAAAAAEAAQABAAEAAAAAAAAAAQAAAAEAAQABAAABAQEAAQAAAAABAAEAAQAAAAAAAQAAAQABAAAAAQEAAQABAAAAAQABAAABAAAAAAAAAAAAAAABAQAAAAEBAQABAAEAAAEBAQAAAAABAAEBAQEAAAABAQABAQEAAAEBAAEAAAAAAQEAAAAAAAAAAAAAAAEBAQAAAQAAAAABAQEBAAEAAQAAAQEAAQEAAAABAQAAAQAAAAAAAQEBAAABAAAAAAABAAAAAAAAAAAAAAAAAAEAAAABAAAAAQAAAQAAAAAAAAEBAAEBAAAAAAABAAABAAAAAQEAAAAAAAEAAQABAAAAAAAAAAAAAAAAAQEAAQEBAQABAAAAAAEAAAABAAEBAAAAAAEAAAAAAAEBAQEAAQEBAAAAAAABAAAAAAEBAAAAAAABAAABAAAAAAAAAAAAAAAAAQAAAQABAQABAAEAAAEAAAAAAAAAAAAAAAEBAAAAAAAAAQEAAAAAAQEBAQAAAAABAAAAAQAAAAEAAQAAAQEAAAEAAQEBAQAAAAABAAEAAAAAAQAAAQABAAAAAAABAA==",
          "dtype": "i1"
         },
         "xaxis": "x",
         "yaxis": "y"
        },
        {
         "bingroup": "x",
         "hovertemplate": "PaperlessBilling=No<br>Churn=%{x}<br>count=%{y}<extra></extra>",
         "legendgroup": "No",
         "marker": {
          "color": "#00CC96",
          "pattern": {
           "shape": ""
          }
         },
         "name": "No",
         "orientation": "v",
         "showlegend": true,
         "type": "histogram",
         "x": {
          "bdata": "AAAAAAAAAAAAAQABAAEAAAAAAAAAAAABAAAAAAAAAAAAAAABAAAAAAAAAAAAAAAAAAAAAAAAAQABAAAAAQAAAAAAAQAAAAAAAAEBAAEAAAAAAAAAAAAAAQAAAAAAAAEBAAAAAAAAAAABAQAAAAAAAAEBAAEAAAAAAAEBAAAAAAAAAAAAAAABAQABAAAAAAAAAQAAAAEAAAAAAAAAAQEAAAAAAAAAAQAAAAAAAAAAAAAAAAEAAAAAAAAAAQAAAQAAAQAAAAAAAQAAAAABAAAAAAEAAAAAAAAAAAAAAAAAAAABAAEBAAAAAAAAAAAAAAAAAAEBAAAAAAEAAAABAAAAAAAAAQEAAAABAAEAAAAAAQEAAAAAAAEAAAAAAAAAAQAAAAAAAQAAAAAAAAEAAAAAAAAAAQAAAAABAAEAAAAAAAAAAAAAAAAAAAEBAAAAAQABAAAAAAAAAQAAAAEAAAEAAAABAAABAAABAQAAAAAAAAAAAAAAAAAAAAAAAQABAAAAAQAAAAAAAAEBAAABAAAAAAAAAAAAAAAAAAEAAAAAAQAAAQEAAAAAAAAAAAEAAAABAQAAAAAAAAEAAAAAAQAAAAAAAAAAAAAAAAAAAAEAAAAAAAAAAAAAAAAAAAAAAAAAAAAAAAAAAAAAAAAAAAEAAAABAQABAQABAAAAAAEAAAAAAAAAAAAAAAEAAQAAAAABAAAAAQAAAAAAAQAAAAAAAAEAAAAAAAAAAAAAAAAAAAAAAQAAAAAAAAAAAAABAAAAAQAAAQAAAQAAAAAAAAAAAQAAAAAAAAAAAAAAAAEAAQAAAQAAAQAAAAAAAQAAAAAAAAABAAEBAAAAAAAAAAAAAAABAAAAAAAAAAAAAAAAAAEAAAABAAEAAAEAAAAAAAAAAAAAAAAAAAAAAAAAAAAAAAAAAAAAAAEAAAAAAAAAAAABAAEBAAEAAAEAAAAAAAABAAAAAAAAAAEAAAAAAQEBAAAAAAAAAQEAAAEAAAEAAAAAAAEAAQABAAAAAAAAAAAAAQAAAAAAAAAAAAEAAQAAAAAAAAAAAAAAAAABAAAAAQAAAAEBAAAAAAEAAQAAAAAAAAABAAAAAAAAAAAAAAABAAAAAAAAAAEAAQEAAAAAAAABAAABAAAAAAAAAQAAAAAAAAAAAQAAAAAAAAABAAAAAAAAAAABAAABAAAAAAAAAAAAAAAAAAAAAAAAAAAAAAAAAAAAAAAAAAAAAQEAAAABAAAAAAEAAAAAAAAAAAAAAAAAAAAAAAAAAAAAAAAAAQAAAAABAAAAAAAAAAAAAAAAAQAAAAAAAQAAAAAAAAAAAQAAAAAAAAAAAAAAAAAAAAEAAAAAAAAAAAAAAAAAAQEAAQAAAQAAAAAAAAAAAAABAAAAAAAAAAAAAAAAAAAAAAAAAQAAAAAAAQAAAAAAAAABAAAAAAEAAAAAAAAAAAEAAAAAAAAAAAAAAAABAAAAAAEAAAAAAAAAAAAAAAABAAAAAQEAAAEAAAAAAAAAAQAAAAABAAAAAAAAAAEAAAAAAAAAAAEAAAEAAAAAAAAAAQAAAAAAAAAAAAAAAAAAAAAAAAEAAQAAAAEAAAEAAAAAAAAAAAAAAAABAAABAAAAAAAAAAAAAAAAAAAAAAABAAAAAQAAAAAAAAABAAEBAAEAAQAAAAEAAAEAAAAAAAAAAQAAAAAAAAEAAAAAAAAAAAEAAQAAAAAAAAAAAAEAAAAAAAAAAAEAAAEAAQAAAAABAAAAAAAAAAABAAAAAAAAAAAAAAAAAAEBAAEBAAABAAAAAAABAAAAAAAAAAAAAAAAAQAAAAABAAAAAAABAAAAAAABAAAAAAAAAAAAAAEBAAAAAQAAAAAAAAAAAAAAAAAAAAEBAAAAAAEAAAAAAQAAAAAAAAAAAAAAAAABAAAAAAAAAAAAAAEAAAAAAAEAAAAAAAAAAAAAAAAAAAABAAABAAAAAQAAAQABAAAAAAAAAQAAAAEBAAAAAAABAAAAAAAAAQABAAAAAAEAAQAAAAAAAAAAAAAAAAAAAAABAAAAAAAAAQAAAAAAAAAAAAEAAAEAAQABAAEAAAAAAAAAAAAAAAAAAAAAAAEAAAAAAAAAAAABAAEBAAAAAAAAAAAAAAEBAAABAAAAAAEAAAAAAAAAAQAAAQEAAAAAAQAAAAAAAAABAAAAAAAAAAAAAAAAAAEAAAAAAAAAAAAAAAAAAAAAAAAAAAEAAAEAAQABAQABAAAAAAAAAAAAAAAAAAAAAAAAAAABAAAAAAABAAAAAAAAAAAAAAAAAAEAAAABAQAAAAAAAAAAAAAAAAABAAAAAAAAAAAAAAAAAAABAAAAAAAAAAEBAQAAAAAAAQABAAEAAAAAAAAAAAEAAAEAAAEAAAAAAAAAAAAAAAAAAAEAAAAAAAABAQAAAAAAAAAAAAEAAAABAAABAAAAAAAAAQAAAAAAAAEAAAABAAAAAAAAAAAAAAAAAAABAAABAQAAAAAAAAEAAQAAAAAAAAAAAQAAAAAAAAAAAAAAAAAAAAAAAAAAAAAAAAABAAAAAAAAAQEAAAEAAQAAAAAAAAEAAAAAAAAAAAAAAAEBAAAAAQABAQAAAAABAAEAAAEAAAAAAAAAAAAAAAAAAAAAAQAAAQAAAAAAAQEAAAEAAAAAAQEAAAAAAAAAAAAAAAAAAQAAAAAAAAEBAQAAAAEAAAAAAAAAAAABAAAAAAAAAQAAAAAAAAAAAAAAAAAAAAAAAAAAAQAAAAAAAQEAAAAAAAAAAAAAAQAAAQAAAAAAAAAAAAAAAQEAAAABAQAAAQAAAAAAAAAAAAAAAAAAAAAAAAAAAAAAAAAAAAAAAQAAAAAAAQEAAAAAAAABAAAAAAAAAAAAAAABAAEAAAABAAAAAAAAAAAAAQEAAAAAAAAAAAEAAAAAAAABAAEAAAAAAAAAAAAAAQABAAAAAAAAAAAAAAAAAAEBAAABAAEAAAAAAAAAAAAAAAAAAAEAAQAAAAEAAAABAAABAAAAAAAAAAABAAAAAAAAAAAAAAAAAAAAAAAAAAEAAAEAAQAAAAAAAAAAAAAAAAEAAAABAAEAAQAAAQEAAAAAAAABAAAAAAAAAAAAAAAAAQAAAAAAAAEAAAAAAQAAAAAAAQAAAAAAAAAAAAAAAAAAAAAAAAAAAAAAAAAAAAAAAAAAAAAAAAAAAAABAAEAAAEAAAAAAAAAAAAAAAABAQAAAQAAAAAAAAAAAAAAAAEBAAAAAAEAAAAAAAEAAAEAAAAAAAAAAAABAAAAAAAAAAAAAQAAAAAAAAABAAABAQAAAAAAAAAAAQAAAAAAAAAAAQEAAAAAAAAAAAAAAAAAAAAAAAAAAQAAAAAAAAABAQEAAAAAAAABAAAAAQABAAAAAQEAAAAAAAAAAAEAAAABAQAAAAAAAAEAAAAAAAAAAAAAAQAAAAABAAAAAQAAAAEAAAAAAAABAQAAAAAAAAEAAAEAAAAAAAABAAAAAAABAAAAAAAAAAAAAAAAAAAAAAAAAAAAAAAAAAAAAAAAAQEAAAAAAAAAAQAAAAAAAQAAAAEAAAAAAQEAAQABAAAAAQAAAAAAAQAAAAABAAABAAAAAAAAAAAAAAAAAAAAAAAAAQEAAQAAAAAAAQAAAQAAAAAAAAAAAAAAAAAAAAAAAAAAAAAAAAAAAQABAAAAAAAAAAAAAAABAQAAAAABAAAAAAEAAAAAAQAAAAAAAAEBAAAAAAAAAQAAAAEAAQABAQABAQAAAAAAAAAAAQAAAAABAAAAAQAAAAABAAEAAQABAQEAAAAAAAAAAAAAAQEAAAEBAAAAAAAAAQAAAAAAAAAAAAAAAA==",
          "dtype": "i1"
         },
         "xaxis": "x",
         "yaxis": "y"
        }
       ],
       "layout": {
        "bargap": 0.1,
        "barmode": "relative",
        "height": 500,
        "legend": {
         "title": {
          "text": "PaperlessBilling"
         },
         "tracegroupgap": 0
        },
        "template": {
         "data": {
          "bar": [
           {
            "error_x": {
             "color": "#2a3f5f"
            },
            "error_y": {
             "color": "#2a3f5f"
            },
            "marker": {
             "line": {
              "color": "#E5ECF6",
              "width": 0.5
             },
             "pattern": {
              "fillmode": "overlay",
              "size": 10,
              "solidity": 0.2
             }
            },
            "type": "bar"
           }
          ],
          "barpolar": [
           {
            "marker": {
             "line": {
              "color": "#E5ECF6",
              "width": 0.5
             },
             "pattern": {
              "fillmode": "overlay",
              "size": 10,
              "solidity": 0.2
             }
            },
            "type": "barpolar"
           }
          ],
          "carpet": [
           {
            "aaxis": {
             "endlinecolor": "#2a3f5f",
             "gridcolor": "white",
             "linecolor": "white",
             "minorgridcolor": "white",
             "startlinecolor": "#2a3f5f"
            },
            "baxis": {
             "endlinecolor": "#2a3f5f",
             "gridcolor": "white",
             "linecolor": "white",
             "minorgridcolor": "white",
             "startlinecolor": "#2a3f5f"
            },
            "type": "carpet"
           }
          ],
          "choropleth": [
           {
            "colorbar": {
             "outlinewidth": 0,
             "ticks": ""
            },
            "type": "choropleth"
           }
          ],
          "contour": [
           {
            "colorbar": {
             "outlinewidth": 0,
             "ticks": ""
            },
            "colorscale": [
             [
              0,
              "#0d0887"
             ],
             [
              0.1111111111111111,
              "#46039f"
             ],
             [
              0.2222222222222222,
              "#7201a8"
             ],
             [
              0.3333333333333333,
              "#9c179e"
             ],
             [
              0.4444444444444444,
              "#bd3786"
             ],
             [
              0.5555555555555556,
              "#d8576b"
             ],
             [
              0.6666666666666666,
              "#ed7953"
             ],
             [
              0.7777777777777778,
              "#fb9f3a"
             ],
             [
              0.8888888888888888,
              "#fdca26"
             ],
             [
              1,
              "#f0f921"
             ]
            ],
            "type": "contour"
           }
          ],
          "contourcarpet": [
           {
            "colorbar": {
             "outlinewidth": 0,
             "ticks": ""
            },
            "type": "contourcarpet"
           }
          ],
          "heatmap": [
           {
            "colorbar": {
             "outlinewidth": 0,
             "ticks": ""
            },
            "colorscale": [
             [
              0,
              "#0d0887"
             ],
             [
              0.1111111111111111,
              "#46039f"
             ],
             [
              0.2222222222222222,
              "#7201a8"
             ],
             [
              0.3333333333333333,
              "#9c179e"
             ],
             [
              0.4444444444444444,
              "#bd3786"
             ],
             [
              0.5555555555555556,
              "#d8576b"
             ],
             [
              0.6666666666666666,
              "#ed7953"
             ],
             [
              0.7777777777777778,
              "#fb9f3a"
             ],
             [
              0.8888888888888888,
              "#fdca26"
             ],
             [
              1,
              "#f0f921"
             ]
            ],
            "type": "heatmap"
           }
          ],
          "histogram": [
           {
            "marker": {
             "pattern": {
              "fillmode": "overlay",
              "size": 10,
              "solidity": 0.2
             }
            },
            "type": "histogram"
           }
          ],
          "histogram2d": [
           {
            "colorbar": {
             "outlinewidth": 0,
             "ticks": ""
            },
            "colorscale": [
             [
              0,
              "#0d0887"
             ],
             [
              0.1111111111111111,
              "#46039f"
             ],
             [
              0.2222222222222222,
              "#7201a8"
             ],
             [
              0.3333333333333333,
              "#9c179e"
             ],
             [
              0.4444444444444444,
              "#bd3786"
             ],
             [
              0.5555555555555556,
              "#d8576b"
             ],
             [
              0.6666666666666666,
              "#ed7953"
             ],
             [
              0.7777777777777778,
              "#fb9f3a"
             ],
             [
              0.8888888888888888,
              "#fdca26"
             ],
             [
              1,
              "#f0f921"
             ]
            ],
            "type": "histogram2d"
           }
          ],
          "histogram2dcontour": [
           {
            "colorbar": {
             "outlinewidth": 0,
             "ticks": ""
            },
            "colorscale": [
             [
              0,
              "#0d0887"
             ],
             [
              0.1111111111111111,
              "#46039f"
             ],
             [
              0.2222222222222222,
              "#7201a8"
             ],
             [
              0.3333333333333333,
              "#9c179e"
             ],
             [
              0.4444444444444444,
              "#bd3786"
             ],
             [
              0.5555555555555556,
              "#d8576b"
             ],
             [
              0.6666666666666666,
              "#ed7953"
             ],
             [
              0.7777777777777778,
              "#fb9f3a"
             ],
             [
              0.8888888888888888,
              "#fdca26"
             ],
             [
              1,
              "#f0f921"
             ]
            ],
            "type": "histogram2dcontour"
           }
          ],
          "mesh3d": [
           {
            "colorbar": {
             "outlinewidth": 0,
             "ticks": ""
            },
            "type": "mesh3d"
           }
          ],
          "parcoords": [
           {
            "line": {
             "colorbar": {
              "outlinewidth": 0,
              "ticks": ""
             }
            },
            "type": "parcoords"
           }
          ],
          "pie": [
           {
            "automargin": true,
            "type": "pie"
           }
          ],
          "scatter": [
           {
            "fillpattern": {
             "fillmode": "overlay",
             "size": 10,
             "solidity": 0.2
            },
            "type": "scatter"
           }
          ],
          "scatter3d": [
           {
            "line": {
             "colorbar": {
              "outlinewidth": 0,
              "ticks": ""
             }
            },
            "marker": {
             "colorbar": {
              "outlinewidth": 0,
              "ticks": ""
             }
            },
            "type": "scatter3d"
           }
          ],
          "scattercarpet": [
           {
            "marker": {
             "colorbar": {
              "outlinewidth": 0,
              "ticks": ""
             }
            },
            "type": "scattercarpet"
           }
          ],
          "scattergeo": [
           {
            "marker": {
             "colorbar": {
              "outlinewidth": 0,
              "ticks": ""
             }
            },
            "type": "scattergeo"
           }
          ],
          "scattergl": [
           {
            "marker": {
             "colorbar": {
              "outlinewidth": 0,
              "ticks": ""
             }
            },
            "type": "scattergl"
           }
          ],
          "scattermap": [
           {
            "marker": {
             "colorbar": {
              "outlinewidth": 0,
              "ticks": ""
             }
            },
            "type": "scattermap"
           }
          ],
          "scattermapbox": [
           {
            "marker": {
             "colorbar": {
              "outlinewidth": 0,
              "ticks": ""
             }
            },
            "type": "scattermapbox"
           }
          ],
          "scatterpolar": [
           {
            "marker": {
             "colorbar": {
              "outlinewidth": 0,
              "ticks": ""
             }
            },
            "type": "scatterpolar"
           }
          ],
          "scatterpolargl": [
           {
            "marker": {
             "colorbar": {
              "outlinewidth": 0,
              "ticks": ""
             }
            },
            "type": "scatterpolargl"
           }
          ],
          "scatterternary": [
           {
            "marker": {
             "colorbar": {
              "outlinewidth": 0,
              "ticks": ""
             }
            },
            "type": "scatterternary"
           }
          ],
          "surface": [
           {
            "colorbar": {
             "outlinewidth": 0,
             "ticks": ""
            },
            "colorscale": [
             [
              0,
              "#0d0887"
             ],
             [
              0.1111111111111111,
              "#46039f"
             ],
             [
              0.2222222222222222,
              "#7201a8"
             ],
             [
              0.3333333333333333,
              "#9c179e"
             ],
             [
              0.4444444444444444,
              "#bd3786"
             ],
             [
              0.5555555555555556,
              "#d8576b"
             ],
             [
              0.6666666666666666,
              "#ed7953"
             ],
             [
              0.7777777777777778,
              "#fb9f3a"
             ],
             [
              0.8888888888888888,
              "#fdca26"
             ],
             [
              1,
              "#f0f921"
             ]
            ],
            "type": "surface"
           }
          ],
          "table": [
           {
            "cells": {
             "fill": {
              "color": "#EBF0F8"
             },
             "line": {
              "color": "white"
             }
            },
            "header": {
             "fill": {
              "color": "#C8D4E3"
             },
             "line": {
              "color": "white"
             }
            },
            "type": "table"
           }
          ]
         },
         "layout": {
          "annotationdefaults": {
           "arrowcolor": "#2a3f5f",
           "arrowhead": 0,
           "arrowwidth": 1
          },
          "autotypenumbers": "strict",
          "coloraxis": {
           "colorbar": {
            "outlinewidth": 0,
            "ticks": ""
           }
          },
          "colorscale": {
           "diverging": [
            [
             0,
             "#8e0152"
            ],
            [
             0.1,
             "#c51b7d"
            ],
            [
             0.2,
             "#de77ae"
            ],
            [
             0.3,
             "#f1b6da"
            ],
            [
             0.4,
             "#fde0ef"
            ],
            [
             0.5,
             "#f7f7f7"
            ],
            [
             0.6,
             "#e6f5d0"
            ],
            [
             0.7,
             "#b8e186"
            ],
            [
             0.8,
             "#7fbc41"
            ],
            [
             0.9,
             "#4d9221"
            ],
            [
             1,
             "#276419"
            ]
           ],
           "sequential": [
            [
             0,
             "#0d0887"
            ],
            [
             0.1111111111111111,
             "#46039f"
            ],
            [
             0.2222222222222222,
             "#7201a8"
            ],
            [
             0.3333333333333333,
             "#9c179e"
            ],
            [
             0.4444444444444444,
             "#bd3786"
            ],
            [
             0.5555555555555556,
             "#d8576b"
            ],
            [
             0.6666666666666666,
             "#ed7953"
            ],
            [
             0.7777777777777778,
             "#fb9f3a"
            ],
            [
             0.8888888888888888,
             "#fdca26"
            ],
            [
             1,
             "#f0f921"
            ]
           ],
           "sequentialminus": [
            [
             0,
             "#0d0887"
            ],
            [
             0.1111111111111111,
             "#46039f"
            ],
            [
             0.2222222222222222,
             "#7201a8"
            ],
            [
             0.3333333333333333,
             "#9c179e"
            ],
            [
             0.4444444444444444,
             "#bd3786"
            ],
            [
             0.5555555555555556,
             "#d8576b"
            ],
            [
             0.6666666666666666,
             "#ed7953"
            ],
            [
             0.7777777777777778,
             "#fb9f3a"
            ],
            [
             0.8888888888888888,
             "#fdca26"
            ],
            [
             1,
             "#f0f921"
            ]
           ]
          },
          "colorway": [
           "#636efa",
           "#EF553B",
           "#00cc96",
           "#ab63fa",
           "#FFA15A",
           "#19d3f3",
           "#FF6692",
           "#B6E880",
           "#FF97FF",
           "#FECB52"
          ],
          "font": {
           "color": "#2a3f5f"
          },
          "geo": {
           "bgcolor": "white",
           "lakecolor": "white",
           "landcolor": "#E5ECF6",
           "showlakes": true,
           "showland": true,
           "subunitcolor": "white"
          },
          "hoverlabel": {
           "align": "left"
          },
          "hovermode": "closest",
          "mapbox": {
           "style": "light"
          },
          "paper_bgcolor": "white",
          "plot_bgcolor": "#E5ECF6",
          "polar": {
           "angularaxis": {
            "gridcolor": "white",
            "linecolor": "white",
            "ticks": ""
           },
           "bgcolor": "#E5ECF6",
           "radialaxis": {
            "gridcolor": "white",
            "linecolor": "white",
            "ticks": ""
           }
          },
          "scene": {
           "xaxis": {
            "backgroundcolor": "#E5ECF6",
            "gridcolor": "white",
            "gridwidth": 2,
            "linecolor": "white",
            "showbackground": true,
            "ticks": "",
            "zerolinecolor": "white"
           },
           "yaxis": {
            "backgroundcolor": "#E5ECF6",
            "gridcolor": "white",
            "gridwidth": 2,
            "linecolor": "white",
            "showbackground": true,
            "ticks": "",
            "zerolinecolor": "white"
           },
           "zaxis": {
            "backgroundcolor": "#E5ECF6",
            "gridcolor": "white",
            "gridwidth": 2,
            "linecolor": "white",
            "showbackground": true,
            "ticks": "",
            "zerolinecolor": "white"
           }
          },
          "shapedefaults": {
           "line": {
            "color": "#2a3f5f"
           }
          },
          "ternary": {
           "aaxis": {
            "gridcolor": "white",
            "linecolor": "white",
            "ticks": ""
           },
           "baxis": {
            "gridcolor": "white",
            "linecolor": "white",
            "ticks": ""
           },
           "bgcolor": "#E5ECF6",
           "caxis": {
            "gridcolor": "white",
            "linecolor": "white",
            "ticks": ""
           }
          },
          "title": {
           "x": 0.05
          },
          "xaxis": {
           "automargin": true,
           "gridcolor": "white",
           "linecolor": "white",
           "ticks": "",
           "title": {
            "standoff": 15
           },
           "zerolinecolor": "white",
           "zerolinewidth": 2
          },
          "yaxis": {
           "automargin": true,
           "gridcolor": "white",
           "linecolor": "white",
           "ticks": "",
           "title": {
            "standoff": 15
           },
           "zerolinecolor": "white",
           "zerolinewidth": 2
          }
         }
        },
        "title": {
         "text": "<b>Chrun distribution w.r.t. Paperless Billing</b>"
        },
        "width": 700,
        "xaxis": {
         "anchor": "y",
         "domain": [
          0,
          1
         ],
         "title": {
          "text": "Churn"
         }
        },
        "yaxis": {
         "anchor": "x",
         "domain": [
          0,
          1
         ],
         "title": {
          "text": "count"
         }
        }
       }
      }
     },
     "metadata": {},
     "output_type": "display_data"
    }
   ],
   "source": [
    "color_map = {\"Yes\": '#FFA15A', \"No\": '#00CC96'}\n",
    "fig = px.histogram(df, x=\"Churn\", color=\"PaperlessBilling\",  title=\"<b>Chrun distribution w.r.t. Paperless Billing</b>\", color_discrete_map=color_map)\n",
    "fig.update_layout(width=700, height=500, bargap=0.1)\n",
    "fig.show()"
   ]
  },
  {
   "cell_type": "markdown",
   "id": "ec3807f1",
   "metadata": {},
   "source": [
    "* **CHURNED CUSTOMERS (RIGHT GROUP):** A significantly LARGER number of customers who CHURNED were users of **PAPERLESS BILLING**. The \"Yes\" bar is much taller than the \"No\" bar in this group.\n",
    "\n",
    "* **NON-CHURNED CUSTOMERS (LEFT GROUP):** Among loyal customers, the split is more even, though paperless billing is still slightly more common.\n",
    "\n",
    "* **KEY INSIGHT:** This chart reveals a strong correlation between using **PAPERLESS BILLING and a HIGHER likelihood of churning**. Customers who opt out of physical mail may be more digitally savvy and actively compare online offers, or they may have fewer tangible reminders of the service, making the decision to leave easier."
   ]
  },
  {
   "cell_type": "code",
   "execution_count": 31,
   "id": "ae5d982e",
   "metadata": {},
   "outputs": [
    {
     "data": {
      "application/vnd.plotly.v1+json": {
       "config": {
        "plotlyServerURL": "https://plot.ly"
       },
       "data": [
        {
         "alignmentgroup": "True",
         "bingroup": "x",
         "hovertemplate": "TechSupport=No<br>Churn=%{x}<br>count=%{y}<extra></extra>",
         "legendgroup": "No",
         "marker": {
          "color": "#636efa",
          "pattern": {
           "shape": ""
          }
         },
         "name": "No",
         "offsetgroup": "No",
         "orientation": "v",
         "showlegend": true,
         "type": "histogram",
         "x": {
          "bdata": "AAABAQEAAAAAAAEAAAEAAQEBAAABAAEBAAAAAAEAAQEBAAAAAAEAAAAAAAABAAEAAAAAAAABAQAAAAAAAQABAAABAAEAAQAAAQEBAAEAAAEAAQAAAAAAAQABAQEBAQABAAEAAQEAAAEAAAAAAQEAAAAAAQABAQEAAQAAAAABAQAAAQEBAAEBAAEBAQAAAAAAAQAAAQEBAQAAAAAAAQABAAEAAAABAQAAAQAAAAEBAQABAAABAAAAAAEBAQABAAABAAABAAABAQABAAAAAAABAQAAAQAAAAEBAAAAAAAAAAEAAAABAQABAAAAAQEAAQEAAQEBAQABAAABAAABAAEBAQAAAQAAAQABAAAAAQEAAAEAAAAAAAEAAQAAAQAAAAABAQAAAAEBAQAAAAAAAAABAQAAAAAAAAAAAAEAAQEBAQEAAQEBAAEBAAEAAAABAAEBAQEAAAEAAQAAAQEAAAAAAAEAAAAAAAABAQEAAQAAAAAAAAEAAAAAAAEBAQEAAAABAQEAAAEBAAABAAAAAAEAAQABAQEAAAEAAQEBAAEAAQEAAAEBAQABAQEBAAEAAAABAAAAAQEAAQAAAAEBAAABAAEAAAEAAAAAAAEBAAABAAABAAAAAQABAQAAAQAAAAABAQEAAQEAAQABAQAAAQEBAQAAAQEAAAEBAAAAAAEAAQABAAABAQABAAABAQEBAQABAQEBAQAAAAEBAQEAAAAAAQEAAAAAAQAAAAABAAABAQABAAAAAAEAAAEBAAAAAAABAAEBAAAAAQAAAAABAAABAAAAAQAAAAABAAEAAQABAAEBAQAAAAEBAAAAAAEBAQAAAAEAAAABAQEAAQAAAQAAAQAAAAABAAEBAAAAAQEAAQEBAAAAAQEAAQEAAQEAAAEBAAAAAAABAQEBAQEAAAEAAQAAAQEAAQAAAQEAAQEAAQAAAQABAAAAAAEBAAEAAQAAAQAAAAAAAAEAAQEAAAAAAQEAAQEAAAABAAAAAQAAAAEAAAAAAAEAAAEAAQAAAQEAAAABAQAAAQAAAQEAAQEBAAEAAAAAAQABAQAAAAAAAQEAAAEAAQEAAQEBAAEBAAAAAAEBAAAAAAEBAQEAAQEAAQABAAEBAQAAAQABAAAAAAAAAAABAQEBAQAAAAAAAQAAAAAAAQEAAQABAAEAAQAAAAAAAAAAAQEBAAAAAQAAAQAAAQEAAAAAAQEBAAAAAAABAQEAAAAAAQABAAAAAAABAAEBAQEBAQEBAAABAAAAAAABAQAAAAEAAAEAAAABAQAAAAABAQAAAQABAAABAAEBAAEBAAAAAAAAAAABAAAAAQABAQAAAQEBAQEAAAEBAQEAAQEBAQEBAQABAQEAAAEAAQAAAQAAAAABAQAAAAEAAQEAAAEAAAEBAAEAAAAAAQEBAQABAAAAAAABAQAAAAABAAABAAABAAEBAQAAAAEAAAAAAAAAAQEAAQABAQEAAAAAAQEBAQABAQABAQEAAQAAAQEAAAEAAAAAAQAAAAAAAQEBAAABAAEBAQABAAEBAQEAAAABAQAAAAAAAAABAAAAAAAAAQEBAAAAAAAAAAAAAAEAAAABAQAAAQEAAAAAAAAAAAEAAAABAAAAAQEBAAEAAAAAAAEAAQEAAAEAAAAAAQABAAEAAQABAQAAAAABAQEBAAAAAQABAQABAAEBAAEBAQAAAQEBAQAAAQAAAAAAAAEAAQEBAQEBAAABAAAAAAAAAAABAQEBAQEAAAAAAQEAAQEBAQAAAQABAQAAAQAAAQEBAQEBAAEBAQAAAAABAAEBAAEAAAEBAAEAAQAAAAAAAQEBAQAAAQABAAABAAABAAEAAAAAAAAAAAEAAQEBAAAAAAEAAQAAAQABAAAAAQAAAAAAAAABAQAAAAABAQEBAQABAAABAQABAQEBAAABAQEBAAAAAAEBAAEAAAAAAQAAAAEBAQEAAAEBAAABAQEAAAEAAAEAAQEBAQAAAAEBAQEBAAEAAAABAQEAAQAAAQEAAQAAAAABAAAAAAEAAQEAAQEBAQEAAAEAAAABAAEAAQABAAEBAAEAAAAAAAABAQAAAAAAAQABAQEBAAEAAQABAAEAAAEAAAAAAQAAAAAAAAEAAAABAAABAQABAAAAAAABAQABAQEBAAAAAAEAAAAAAQABAQEAAQAAAAEBAAEAAQAAAQEBAAEAAAEAAAABAQEAAQEBAQEAAAAAAQEBAQEBAAAAAAAAAAABAAEBAQABAAAAAQEAAQABAAEAAAABAQAAAAAAAAAAAAABAQABAAAAAQAAAAAAAAABAAAAAAEAAAEAAAEBAAABAAAAAAAAAAEAAAEBAQEAAQAAAQABAAEAAAEAAAABAAABAAAAAAAAAQAAAQEAAQEAAQABAAABAAEAAAEAAQABAAABAAABAAEAAAABAAAAAAEAAAEAAAABAQEBAQEAAQABAQAAAAAAAAEAAAEAAAEAAAABAQEAAAEAAAEAAQEBAQEAAQAAAAEBAAEBAQABAAAAAAEBAAABAAABAAABAAEAAAEAAAEAAAEBAQABAAEAAQEAAAEAAAAAAQABAAABAAABAQAAAAABAQAAAAABAQEBAAABAQEAAAEBAAAAAQABAAEAAAAAAQEAAAEAAQAAAAEAAAAAAQEAAQABAAEAAAABAQAAAQABAAAAAAABAAEBAAAAAAABAAAAAAEAAAABAQAAAQEAAAAAAQEAAAAAAQEBAQEAAAAAAAAAAAEAAQAAAAAAAQAAAAEAAQAAAQABAAEAAQEAAAEAAAAAAAEAAAABAAEAAAAAAQEBAAAAAQEBAQEAAQEAAAAAAQEAAQABAQAAAAAAAAEBAQAAAAABAAABAQEAAAEAAQAAAQEAAAABAAEAAQAAAQAAAAAAAAEBAAAAAQABAAEBAQAAAAABAAABAAABAQAAAAEAAAAAAAAAAAEAAAEBAAABAQABAQEBAQABAAEAAAAAAQABAAABAAABAAEBAQEAAAEBAAABAAAAAQEAAQEAAQEAAQABAAEBAQAAAQEAAAAAAAEAAAAAAAEAAAAAAAEAAAABAQABAAEAAAABAAAAAAABAQAAAAEAAQABAAEBAAEAAQAAAAEAAAABAAABAAAAAAABAQAAAAEAAQAAAAEAAQABAAABAAEBAQAAAAAAAAEAAAABAAEAAAEAAQEAAQAAAAEBAAAAAQEAAAEAAQEAAAEAAQAAAAEAAAABAAABAQABAAAAAAEAAAABAQEBAQAAAQEAAAAAAQEAAAAAAQABAQEAAQEAAAEBAQABAAAAAQEAAAAAAAABAQEBAAAAAQABAQEAAQEAAAAAAAEAAQABAAAAAQEBAQAAAQAAAAAAAQEBAAEBAAAAAAEAAAEBAAEBAAAAAAABAAEBAAABAQAAAQEAAQEAAAAAAAABAAAAAAABAAEAAAABAQEAAQAAAAEAAQAAAAEBAAABAQAAAAAAAAEBAAAAAQABAQABAAABAAAAAAAAAQABAQEBAQEBAAAAAAEBAAABAAABAAABAQAAAQEBAAAAAQAAAAEBAAEAAQEAAQEBAQAAAQEBAQAAAAABAAEAAAAAAAABAAAAAQEAAAEBAQAAAAAAAAEAAAEBAAEAAQAAAQAAAAAAAQEAAAEBAAAAAAEBAQEBAAABAQEAAAABAAEAAAEAAAAAAAABAQAAAQEBAAAAAQAAAAEBAQEAAQEAAQEAAAEBAQAAAAABAAAAAQEAAAEAAQEAAAAAAAEAAAAAAAEAAQAAAAAAAAEAAQEAAAABAAEAAQAAAQEAAAEAAAEAAAEAAQAAAQABAAEAAAAAAQEAAAAAAAAAAQEAAAABAAABAAEBAAEAAAAAAQEAAQEAAAAAAAEAAAABAAABAQAAAAABAQABAAABAQABAAEBAQABAAEAAQAAAQEAAAABAAAAAAEAAAAAAQEBAQABAAEBAAABAQAAAAABAAAAAAEAAQABAQABAAABAAABAQAAAAEAAQEBAAEBAQAAAAEBAAAAAAABAQABAAEAAAEAAQABAAABAQABAAABAQAAAAAAAAAAAQEAAAAAAAABAQABAAAAAQEAAAAAAAABAQABAAEAAQEBAAAAAAEAAAABAAEAAAEBAAABAAEAAQEBAQEAAQAAAQEAAAAAAAAAAAEBAAABAQABAAABAAEAAQAAAAABAQEAAAABAAABAAEAAAAAAAEAAQAAAAAAAQAAAQEBAAEBAQABAAAAAAEAAAAAAAAAAQABAAABAAEAAQEAAAAAAQAAAAAAAAABAAAAAAAAAQABAAEAAAEBAAEBAAEAAQABAQEBAAEBAAEAAQEBAQEAAAEAAQEAAAEAAQEAAAEBAAAAAAAAAAABAQEBAAABAAEAAQAAAQEBAQEAAAAAAQEAAAEAAAAAAQEBAAAAAQAAAAABAAEAAAAAAAEAAQAAAAABAQEAAQAAAAEBAAAAAQAAAAABAAEBAQABAAABAAEBAAABAAAAAAAAAQEAAQEBAAEAAQAAAQABAQABAAAAAQEBAQEBAAAAAQEAAAEBAQAAAAABAQEAAQAAAAEBAAABAAAAAAAAAQEAAQAAAQEBAQAAAAEBAAAAAQEAAAEBAQAAAAAAAQAAAAABAAEAAAEBAAEBAQEAAAAAAQAAAAEAAAEAAQAAAAE=",
          "dtype": "i1"
         },
         "xaxis": "x",
         "yaxis": "y"
        },
        {
         "alignmentgroup": "True",
         "bingroup": "x",
         "hovertemplate": "TechSupport=Yes<br>Churn=%{x}<br>count=%{y}<extra></extra>",
         "legendgroup": "Yes",
         "marker": {
          "color": "#EF553B",
          "pattern": {
           "shape": ""
          }
         },
         "name": "Yes",
         "offsetgroup": "Yes",
         "orientation": "v",
         "showlegend": true,
         "type": "histogram",
         "x": {
          "bdata": "AAEAAAEAAAAAAAAAAAAAAAAAAAAAAAAAAAAAAAAAAQAAAAAAAAEAAAAAAAAAAQAAAAAAAAAAAAABAAAAAAEAAAAAAAAAAAAAAAAAAAAAAAEAAAEAAAAAAAAAAAEAAQAAAAABAAAAAAAAAAAAAAABAAAAAAAAAAAAAAAAAAAAAAAAAAAAAAAAAAAAAAAAAAABAAAAAAAAAAEBAAAAAQAAAAAAAAABAAAAAAAAAAAAAAAAAAAAAAEAAAAAAAAAAAABAAAAAAABAAAAAAAAAAAAAAAAAAAAAAAAAAAAAAEAAAAAAAAAAAAAAAAAAQAAAAAAAAABAAAAAQABAAAAAAABAAAAAAAAAAAAAAAAAAEAAAEAAAEAAAAAAAEAAAAAAAAAAAAAAAAAAAEAAAABAAEAAQAAAAAAAAEAAAAAAAABAAEAAAAAAAAAAQAAAAAAAAAAAQAAAAAAAQAAAAAAAAABAQAAAAAAAAAAAAABAAEAAAABAAABAAAAAAAAAAAAAAAAAAAAAAAAAAEAAAEBAAAAAAAAAAEAAAAAAAAAAAAAAAAAAAAAAAAAAAEAAAABAAAAAAABAAAAAAEAAAAAAAEAAAAAAAABAAAAAAABAQAAAAAAAAEAAAAAAAAAAAAAAAAAAAAAAAEAAQAAAAAAAAABAAAAAAAAAAAAAAABAAAAAAAAAAAAAAEAAAAAAAAAAQEAAAAAAAABAAAAAAABAAAAAAAAAAAAAQAAAAAAAAAAAQAAAQAAAAAAAAEAAAAAAAAAAAAAAAABAAAAAAABAAAAAAABAAAAAAAAAAAAAAAAAAAAAQAAAAAAAAAAAAAAAAAAAAAAAAAAAAAAAAAAAQAAAAAAAAEBAAEAAAEAAQAAAQAAAAEAAAAAAAAAAAAAAQAAAAAAAAAAAAAAAAAAAAAAAAAAAAAAAQAAAAABAAEAAAAAAAAAAAEAAAEAAAAAAAAAAAAAAAAAAAAAAAAAAAABAAAAAQAAAAAAAAAAAAEAAQABAAAAAAAAAQAAAQAAAAAAAAAAAAAAAAAAAAAAAAAAAAEAAAAAAAAAAAAAAQAAAAAAAAABAQAAAQABAAEAAAEAAQEAAAAAAAAAAAAAAAAAAAAAAQAAAAAAAAAAAAAAAAAAAAAAAQAAAAAAAAEAAAAAAAAAAAAAAAAAAAEAAAABAAABAAABAAEAAAAAAAAAAAAAAAAAAAEAAAAAAAABAAAAAAAAAQABAQABAAAAAAAAAAAAAAAAAAAAAAABAAAAAQAAAAABAAAAAAAAAAABAAAAAAAAAAAAAQABAAEAAAAAAAAAAAAAAAAAAAAAAAAAAAAAAAAAAAABAAABAAAAAAAAAQAAAQAAAAAAAAAAAAEBAAEAAAEBAAAAAQEAAAAAAAAAAAAAAAAAAAAAAAAAAAEAAAEBAQAAAAAAAAEAAAAAAAAAAAAAAAAAAAEAAAEAAQABAQAAAAAAAAABAQAAAAAAAAAAAQAAAAABAAAAAAAAAAAAAAAAAAEBAAAAAAAAAAAAAQAAAAAAAAAAAAAAAAAAAAAAAAAAAQAAAAEBAAAAAAAAAAAAAAAAAAAAAAAAAAAAAAEAAQAAAQABAAABAAAAAAABAAAAAAAAAAAAAAAAAAEAAAABAQAAAAEAAQEAAAEAAAAAAAAAAAAAAAAAAAAAAAAAAAAAAAEAAAAAAAABAAAAAAAAAQAAAAABAAAAAAAAAAAAAAAAAAAAAQAAAQAAAQAAAAAAAAAAAAAAAAAAAAAAAAEAAQAAAAAAAAEAAAEAAAAAAQAAAAEAAQEAAQAAAAAAAAAAAAAAAAEAAAEAAAABAAEAAAAAAAAAAAAAAAEBAAAAAAEAAAAAAAAAAAAAAAAAAQAAAAAAAAAAAAABAAAAAAAAAAAAAAAAAQEAAAAAAAABAAEAAAAAAAAAAAAAAAAAAAABAAAAAAAAAAAAAAAAAQAAAAAAAAABAAAAAAAAAAAAAAABAAAAAAAAAAAAAAAAAAEAAQAAAAAAAAAAAAABAQAAAAAAAAAAAAAAAAAAAAABAAAAAAEAAQAAAAAAAAABAAABAAAAAAAAAAAAAQAAAAEAAAAAAAAAAAAAAAEAAAAAAQAAAQAAAAAAAAABAAAAAQAAAAAAAAAAAAEAAQABAAAAAAABAAABAQEAAQEAAAAAAAAAAQABAQAAAAEAAQAAAAABAQAAAAABAQAAAQAAAAAAAAAAAAAAAAAAAAAAAQAAAQEAAAAAAAAAAAAAAAABAAAAAAAAAAAAAAAAAAEAAQAAAAAAAAAAAQEAAQEAAAAAAAAAAAABAAABAAABAAEAAAAAAAAAAAAAAAAAAAABAAAAAAAAAAEAAAEAAAAAAAEAAAEAAAEBAAAAAAEAAAAAAAAAAAAAAAAAAAAAAAAAAAAAAQAAAAAAAQAAAAEAAAAAAQAAAQABAQAAAAAAAAAAAAEAAAAAAAABAAEAAAEAAAAAAAAAAAAAAAABAAABAAEAAAAAAAABAAAAAAAAAAAAAAABAAAAAAEBAAABAAAAAAAAAAAAAAABAAABAAAAAQEBAAABAAAAAAAAAAAAAAAAAAEAAAAAAAAAAAAAAAAAAAAAAAABAAAAAQAAAQEAAAAAAAABAAAAAAEAAQAAAAEAAQAAAAEAAAEAAAAAAAABAAABAAABAAAAAAAAAAAAAAAAAAEAAAAAAAAAAAAAAAAAAAEBAAAAAAAAAQAAAQAAAAEAAQAAAAAAAA==",
          "dtype": "i1"
         },
         "xaxis": "x",
         "yaxis": "y"
        },
        {
         "alignmentgroup": "True",
         "bingroup": "x",
         "hovertemplate": "TechSupport=No internet service<br>Churn=%{x}<br>count=%{y}<extra></extra>",
         "legendgroup": "No internet service",
         "marker": {
          "color": "#00cc96",
          "pattern": {
           "shape": ""
          }
         },
         "name": "No internet service",
         "offsetgroup": "No internet service",
         "orientation": "v",
         "showlegend": true,
         "type": "histogram",
         "x": {
          "bdata": "AAAAAQAAAAAAAAAAAAABAAAAAAAAAAAAAAAAAAAAAAAAAAAAAAAAAAAAAAAAAAAAAAAAAAABAAAAAAAAAAAAAAAAAAAAAAEAAAAAAAABAQAAAAABAAAAAAAAAAAAAAAAAAAAAAAAAAAAAAAAAAEAAAAAAAAAAAEAAAAAAAEBAAAAAAAAAAAAAAAAAAEAAAAAAAAAAAAAAAAAAAAAAQAAAAAAAAAAAAABAAAAAAAAAAAAAAAAAAAAAAAAAAAAAAEAAAAAAAAAAAAAAAAAAAAAAAAAAAABAAAAAAAAAAAAAAAAAAAAAAAAAAAAAAAAAAABAAAAAAAAAAAAAAEAAAAAAAAAAAAAAAAAAQAAAQAAAAEAAAAAAAAAAAAAAAAAAAAAAAAAAAAAAAAAAAABAAAAAAEAAAAAAAAAAAAAAAAAAAAAAAAAAAAAAAAAAAAAAAAAAAAAAAAAAAAAAAAAAAAAAAAAAAAAAAAAAAAAAQAAAAAAAAAAAAAAAQEAAAAAAAAAAAAAAAABAAAAAAAAAAAAAAAAAQAAAAAAAAAAAQAAAAAAAAAAAAAAAAAAAAAAAAABAAAAAAAAAAAAAQAAAAEAAAAAAAAAAAAAAAAAAAAAAAAAAAAAAAAAAAAAAAAAAAAAAAAAAAAAAAAAAAAAAAAAAAAAAAAAAAAAAAAAAAAAAAAAAAAAAAAAAAAAAAAAAAAAAAAAAAAAAAAAAAEAAQAAAAAAAAAAAAAAAAAAAAAAAAAAAQAAAAAAAAABAAAAAAAAAAAAAAAAAAAAAAAAAAAAAAABAAAAAAEAAAAAAAAAAAAAAAAAAAABAAAAAAAAAAAAAAAAAAAAAAAAAAAAAAAAAAAAAAAAAAAAAAAAAAAAAAAAAAAAAAAAAAEAAAAAAAAAAAEAAAAAAAAAAAABAAAAAAAAAAAAAAAAAAAAAAAAAAAAAAAAAAAAAAEAAAAAAAAAAAAAAAAAAAAAAAAAAAAAAAAAAQAAAAAAAAAAAAAAAAAAAAAAAAAAAAABAAAAAAAAAAABAAAAAAAAAAAAAAAAAAAAAAEAAAEAAAAAAAAAAAAAAQEAAAAAAAABAAAAAAAAAAAAAAAAAAEAAAAAAAAAAAAAAAAAAAAAAAAAAAAAAAAAAAAAAAABAAAAAAAAAAABAAAAAAABAAAAAAEAAAAAAAABAAAAAAEAAAAAAAAAAAEAAAAAAAAAAAEAAAAAAAAAAAAAAAAAAAAAAAAAAAAAAAAAAQABAAAAAAAAAAAAAAAAAAAAAAEAAAAAAAAAAAAAAAAAAAAAAAAAAAAAAQAAAQABAAAAAAAAAAAAAAABAAAAAAAAAAABAAAAAAAAAAAAAAAAAAAAAAEAAAAAAAAAAQAAAAAAAAAAAAAAAQAAAAAAAAABAAAAAAAAAAAAAAAAAAEAAAAAAAEAAAAAAAAAAAAAAAAAAAAAAAABAAAAAAEAAAAAAAAAAAAAAAABAAAAAAAAAAABAAAAAAAAAAEAAAABAAEAAAAAAAAAAAAAAAAAAAAAAAABAAAAAAAAAAAAAAAAAAABAAEAAAAAAAAAAAAAAQAAAAAAAAAAAAEAAAAAAAAAAAAAAAAAAAAAAQAAAAAAAAAAAAAAAAABAAAAAAAAAQAAAAEAAAEBAAAAAQAAAAABAAAAAQAAAAAAAAAAAAAAAAAAAAEAAAAAAAAAAAAAAAAAAAABAAAAAAAAAAAAAAAAAAAAAQAAAAAAAAAAAAEAAAAAAAAAAQAAAAAAAAAAAAAAAAAAAAAAAAAAAAAAAAAAAAAAAAAAAAAAAAAAAAAAAAAAAAAAAAEBAAAAAAAAAAAAAAAAAAAAAAAAAAAAAQAAAAABAAAAAAAAAQAAAAABAAAAAAAAAAEAAAAAAAAAAAAAAAAAAAAAAQAAAAAAAAAAAAABAAAAAAAAAAAAAAAAAQAAAAAAAAAAAAAAAAAAAAAAAAAAAAAAAAAAAAAAAAAAAAAAAAAAAAAAAAEAAQAAAAAAAAAAAAAAAAAAAAAAAAAAAAAAAAAAAAABAAAAAAAAAAA=",
          "dtype": "i1"
         },
         "xaxis": "x",
         "yaxis": "y"
        }
       ],
       "layout": {
        "bargap": 0.1,
        "barmode": "group",
        "height": 500,
        "legend": {
         "title": {
          "text": "TechSupport"
         },
         "tracegroupgap": 0
        },
        "template": {
         "data": {
          "bar": [
           {
            "error_x": {
             "color": "#2a3f5f"
            },
            "error_y": {
             "color": "#2a3f5f"
            },
            "marker": {
             "line": {
              "color": "#E5ECF6",
              "width": 0.5
             },
             "pattern": {
              "fillmode": "overlay",
              "size": 10,
              "solidity": 0.2
             }
            },
            "type": "bar"
           }
          ],
          "barpolar": [
           {
            "marker": {
             "line": {
              "color": "#E5ECF6",
              "width": 0.5
             },
             "pattern": {
              "fillmode": "overlay",
              "size": 10,
              "solidity": 0.2
             }
            },
            "type": "barpolar"
           }
          ],
          "carpet": [
           {
            "aaxis": {
             "endlinecolor": "#2a3f5f",
             "gridcolor": "white",
             "linecolor": "white",
             "minorgridcolor": "white",
             "startlinecolor": "#2a3f5f"
            },
            "baxis": {
             "endlinecolor": "#2a3f5f",
             "gridcolor": "white",
             "linecolor": "white",
             "minorgridcolor": "white",
             "startlinecolor": "#2a3f5f"
            },
            "type": "carpet"
           }
          ],
          "choropleth": [
           {
            "colorbar": {
             "outlinewidth": 0,
             "ticks": ""
            },
            "type": "choropleth"
           }
          ],
          "contour": [
           {
            "colorbar": {
             "outlinewidth": 0,
             "ticks": ""
            },
            "colorscale": [
             [
              0,
              "#0d0887"
             ],
             [
              0.1111111111111111,
              "#46039f"
             ],
             [
              0.2222222222222222,
              "#7201a8"
             ],
             [
              0.3333333333333333,
              "#9c179e"
             ],
             [
              0.4444444444444444,
              "#bd3786"
             ],
             [
              0.5555555555555556,
              "#d8576b"
             ],
             [
              0.6666666666666666,
              "#ed7953"
             ],
             [
              0.7777777777777778,
              "#fb9f3a"
             ],
             [
              0.8888888888888888,
              "#fdca26"
             ],
             [
              1,
              "#f0f921"
             ]
            ],
            "type": "contour"
           }
          ],
          "contourcarpet": [
           {
            "colorbar": {
             "outlinewidth": 0,
             "ticks": ""
            },
            "type": "contourcarpet"
           }
          ],
          "heatmap": [
           {
            "colorbar": {
             "outlinewidth": 0,
             "ticks": ""
            },
            "colorscale": [
             [
              0,
              "#0d0887"
             ],
             [
              0.1111111111111111,
              "#46039f"
             ],
             [
              0.2222222222222222,
              "#7201a8"
             ],
             [
              0.3333333333333333,
              "#9c179e"
             ],
             [
              0.4444444444444444,
              "#bd3786"
             ],
             [
              0.5555555555555556,
              "#d8576b"
             ],
             [
              0.6666666666666666,
              "#ed7953"
             ],
             [
              0.7777777777777778,
              "#fb9f3a"
             ],
             [
              0.8888888888888888,
              "#fdca26"
             ],
             [
              1,
              "#f0f921"
             ]
            ],
            "type": "heatmap"
           }
          ],
          "histogram": [
           {
            "marker": {
             "pattern": {
              "fillmode": "overlay",
              "size": 10,
              "solidity": 0.2
             }
            },
            "type": "histogram"
           }
          ],
          "histogram2d": [
           {
            "colorbar": {
             "outlinewidth": 0,
             "ticks": ""
            },
            "colorscale": [
             [
              0,
              "#0d0887"
             ],
             [
              0.1111111111111111,
              "#46039f"
             ],
             [
              0.2222222222222222,
              "#7201a8"
             ],
             [
              0.3333333333333333,
              "#9c179e"
             ],
             [
              0.4444444444444444,
              "#bd3786"
             ],
             [
              0.5555555555555556,
              "#d8576b"
             ],
             [
              0.6666666666666666,
              "#ed7953"
             ],
             [
              0.7777777777777778,
              "#fb9f3a"
             ],
             [
              0.8888888888888888,
              "#fdca26"
             ],
             [
              1,
              "#f0f921"
             ]
            ],
            "type": "histogram2d"
           }
          ],
          "histogram2dcontour": [
           {
            "colorbar": {
             "outlinewidth": 0,
             "ticks": ""
            },
            "colorscale": [
             [
              0,
              "#0d0887"
             ],
             [
              0.1111111111111111,
              "#46039f"
             ],
             [
              0.2222222222222222,
              "#7201a8"
             ],
             [
              0.3333333333333333,
              "#9c179e"
             ],
             [
              0.4444444444444444,
              "#bd3786"
             ],
             [
              0.5555555555555556,
              "#d8576b"
             ],
             [
              0.6666666666666666,
              "#ed7953"
             ],
             [
              0.7777777777777778,
              "#fb9f3a"
             ],
             [
              0.8888888888888888,
              "#fdca26"
             ],
             [
              1,
              "#f0f921"
             ]
            ],
            "type": "histogram2dcontour"
           }
          ],
          "mesh3d": [
           {
            "colorbar": {
             "outlinewidth": 0,
             "ticks": ""
            },
            "type": "mesh3d"
           }
          ],
          "parcoords": [
           {
            "line": {
             "colorbar": {
              "outlinewidth": 0,
              "ticks": ""
             }
            },
            "type": "parcoords"
           }
          ],
          "pie": [
           {
            "automargin": true,
            "type": "pie"
           }
          ],
          "scatter": [
           {
            "fillpattern": {
             "fillmode": "overlay",
             "size": 10,
             "solidity": 0.2
            },
            "type": "scatter"
           }
          ],
          "scatter3d": [
           {
            "line": {
             "colorbar": {
              "outlinewidth": 0,
              "ticks": ""
             }
            },
            "marker": {
             "colorbar": {
              "outlinewidth": 0,
              "ticks": ""
             }
            },
            "type": "scatter3d"
           }
          ],
          "scattercarpet": [
           {
            "marker": {
             "colorbar": {
              "outlinewidth": 0,
              "ticks": ""
             }
            },
            "type": "scattercarpet"
           }
          ],
          "scattergeo": [
           {
            "marker": {
             "colorbar": {
              "outlinewidth": 0,
              "ticks": ""
             }
            },
            "type": "scattergeo"
           }
          ],
          "scattergl": [
           {
            "marker": {
             "colorbar": {
              "outlinewidth": 0,
              "ticks": ""
             }
            },
            "type": "scattergl"
           }
          ],
          "scattermap": [
           {
            "marker": {
             "colorbar": {
              "outlinewidth": 0,
              "ticks": ""
             }
            },
            "type": "scattermap"
           }
          ],
          "scattermapbox": [
           {
            "marker": {
             "colorbar": {
              "outlinewidth": 0,
              "ticks": ""
             }
            },
            "type": "scattermapbox"
           }
          ],
          "scatterpolar": [
           {
            "marker": {
             "colorbar": {
              "outlinewidth": 0,
              "ticks": ""
             }
            },
            "type": "scatterpolar"
           }
          ],
          "scatterpolargl": [
           {
            "marker": {
             "colorbar": {
              "outlinewidth": 0,
              "ticks": ""
             }
            },
            "type": "scatterpolargl"
           }
          ],
          "scatterternary": [
           {
            "marker": {
             "colorbar": {
              "outlinewidth": 0,
              "ticks": ""
             }
            },
            "type": "scatterternary"
           }
          ],
          "surface": [
           {
            "colorbar": {
             "outlinewidth": 0,
             "ticks": ""
            },
            "colorscale": [
             [
              0,
              "#0d0887"
             ],
             [
              0.1111111111111111,
              "#46039f"
             ],
             [
              0.2222222222222222,
              "#7201a8"
             ],
             [
              0.3333333333333333,
              "#9c179e"
             ],
             [
              0.4444444444444444,
              "#bd3786"
             ],
             [
              0.5555555555555556,
              "#d8576b"
             ],
             [
              0.6666666666666666,
              "#ed7953"
             ],
             [
              0.7777777777777778,
              "#fb9f3a"
             ],
             [
              0.8888888888888888,
              "#fdca26"
             ],
             [
              1,
              "#f0f921"
             ]
            ],
            "type": "surface"
           }
          ],
          "table": [
           {
            "cells": {
             "fill": {
              "color": "#EBF0F8"
             },
             "line": {
              "color": "white"
             }
            },
            "header": {
             "fill": {
              "color": "#C8D4E3"
             },
             "line": {
              "color": "white"
             }
            },
            "type": "table"
           }
          ]
         },
         "layout": {
          "annotationdefaults": {
           "arrowcolor": "#2a3f5f",
           "arrowhead": 0,
           "arrowwidth": 1
          },
          "autotypenumbers": "strict",
          "coloraxis": {
           "colorbar": {
            "outlinewidth": 0,
            "ticks": ""
           }
          },
          "colorscale": {
           "diverging": [
            [
             0,
             "#8e0152"
            ],
            [
             0.1,
             "#c51b7d"
            ],
            [
             0.2,
             "#de77ae"
            ],
            [
             0.3,
             "#f1b6da"
            ],
            [
             0.4,
             "#fde0ef"
            ],
            [
             0.5,
             "#f7f7f7"
            ],
            [
             0.6,
             "#e6f5d0"
            ],
            [
             0.7,
             "#b8e186"
            ],
            [
             0.8,
             "#7fbc41"
            ],
            [
             0.9,
             "#4d9221"
            ],
            [
             1,
             "#276419"
            ]
           ],
           "sequential": [
            [
             0,
             "#0d0887"
            ],
            [
             0.1111111111111111,
             "#46039f"
            ],
            [
             0.2222222222222222,
             "#7201a8"
            ],
            [
             0.3333333333333333,
             "#9c179e"
            ],
            [
             0.4444444444444444,
             "#bd3786"
            ],
            [
             0.5555555555555556,
             "#d8576b"
            ],
            [
             0.6666666666666666,
             "#ed7953"
            ],
            [
             0.7777777777777778,
             "#fb9f3a"
            ],
            [
             0.8888888888888888,
             "#fdca26"
            ],
            [
             1,
             "#f0f921"
            ]
           ],
           "sequentialminus": [
            [
             0,
             "#0d0887"
            ],
            [
             0.1111111111111111,
             "#46039f"
            ],
            [
             0.2222222222222222,
             "#7201a8"
            ],
            [
             0.3333333333333333,
             "#9c179e"
            ],
            [
             0.4444444444444444,
             "#bd3786"
            ],
            [
             0.5555555555555556,
             "#d8576b"
            ],
            [
             0.6666666666666666,
             "#ed7953"
            ],
            [
             0.7777777777777778,
             "#fb9f3a"
            ],
            [
             0.8888888888888888,
             "#fdca26"
            ],
            [
             1,
             "#f0f921"
            ]
           ]
          },
          "colorway": [
           "#636efa",
           "#EF553B",
           "#00cc96",
           "#ab63fa",
           "#FFA15A",
           "#19d3f3",
           "#FF6692",
           "#B6E880",
           "#FF97FF",
           "#FECB52"
          ],
          "font": {
           "color": "#2a3f5f"
          },
          "geo": {
           "bgcolor": "white",
           "lakecolor": "white",
           "landcolor": "#E5ECF6",
           "showlakes": true,
           "showland": true,
           "subunitcolor": "white"
          },
          "hoverlabel": {
           "align": "left"
          },
          "hovermode": "closest",
          "mapbox": {
           "style": "light"
          },
          "paper_bgcolor": "white",
          "plot_bgcolor": "#E5ECF6",
          "polar": {
           "angularaxis": {
            "gridcolor": "white",
            "linecolor": "white",
            "ticks": ""
           },
           "bgcolor": "#E5ECF6",
           "radialaxis": {
            "gridcolor": "white",
            "linecolor": "white",
            "ticks": ""
           }
          },
          "scene": {
           "xaxis": {
            "backgroundcolor": "#E5ECF6",
            "gridcolor": "white",
            "gridwidth": 2,
            "linecolor": "white",
            "showbackground": true,
            "ticks": "",
            "zerolinecolor": "white"
           },
           "yaxis": {
            "backgroundcolor": "#E5ECF6",
            "gridcolor": "white",
            "gridwidth": 2,
            "linecolor": "white",
            "showbackground": true,
            "ticks": "",
            "zerolinecolor": "white"
           },
           "zaxis": {
            "backgroundcolor": "#E5ECF6",
            "gridcolor": "white",
            "gridwidth": 2,
            "linecolor": "white",
            "showbackground": true,
            "ticks": "",
            "zerolinecolor": "white"
           }
          },
          "shapedefaults": {
           "line": {
            "color": "#2a3f5f"
           }
          },
          "ternary": {
           "aaxis": {
            "gridcolor": "white",
            "linecolor": "white",
            "ticks": ""
           },
           "baxis": {
            "gridcolor": "white",
            "linecolor": "white",
            "ticks": ""
           },
           "bgcolor": "#E5ECF6",
           "caxis": {
            "gridcolor": "white",
            "linecolor": "white",
            "ticks": ""
           }
          },
          "title": {
           "x": 0.05
          },
          "xaxis": {
           "automargin": true,
           "gridcolor": "white",
           "linecolor": "white",
           "ticks": "",
           "title": {
            "standoff": 15
           },
           "zerolinecolor": "white",
           "zerolinewidth": 2
          },
          "yaxis": {
           "automargin": true,
           "gridcolor": "white",
           "linecolor": "white",
           "ticks": "",
           "title": {
            "standoff": 15
           },
           "zerolinecolor": "white",
           "zerolinewidth": 2
          }
         }
        },
        "title": {
         "text": "<b>Chrun distribution w.r.t. TechSupport</b>"
        },
        "width": 700,
        "xaxis": {
         "anchor": "y",
         "domain": [
          0,
          1
         ],
         "title": {
          "text": "Churn"
         }
        },
        "yaxis": {
         "anchor": "x",
         "domain": [
          0,
          1
         ],
         "title": {
          "text": "count"
         }
        }
       }
      }
     },
     "metadata": {},
     "output_type": "display_data"
    }
   ],
   "source": [
    "fig = px.histogram(df, x=\"Churn\", color=\"TechSupport\",barmode=\"group\",  title=\"<b>Chrun distribution w.r.t. TechSupport</b>\")\n",
    "fig.update_layout(width=700, height=500, bargap=0.1)\n",
    "fig.show()"
   ]
  },
  {
   "cell_type": "markdown",
   "id": "d9b01671",
   "metadata": {},
   "source": [
    "* **CUSTOMERS WITHOUT TECH SUPPORT:** This group accounts for the VAST MAJORITY of churn. The \"No\" bar under the \"Churn: Yes\" category is significantly taller than the \"Yes\" bar, indicating that customers who don't use this service are at a much higher risk of leaving.\n",
    "\n",
    "* **CUSTOMERS WITH TECH SUPPORT:** Customers who subscribe to Tech Support are FAR MORE LOYAL. They make up a very small portion of the churned group and a large part of the stable, non-churned customer base.\n",
    "\n",
    "* **KEY INSIGHT:** Having **TECH SUPPORT is a strong indicator of customer retention**. This service not only resolves technical issues but also acts as a critical engagement point, making customers feel supported and less likely to churn."
   ]
  },
  {
   "cell_type": "code",
   "execution_count": 32,
   "id": "bc0cc90d",
   "metadata": {},
   "outputs": [
    {
     "data": {
      "application/vnd.plotly.v1+json": {
       "config": {
        "plotlyServerURL": "https://plot.ly"
       },
       "data": [
        {
         "bingroup": "x",
         "hovertemplate": "PhoneService=No<br>Churn=%{x}<br>count=%{y}<extra></extra>",
         "legendgroup": "No",
         "marker": {
          "color": "#B6E880",
          "pattern": {
           "shape": ""
          }
         },
         "name": "No",
         "orientation": "v",
         "showlegend": true,
         "type": "histogram",
         "x": {
          "bdata": "AAAAAQEAAAAAAAAAAAABAQEBAQAAAAAAAAAAAQAAAQABAAAAAAAAAQEAAAAAAAAAAAAAAQABAQEAAAEAAAABAAABAQAAAAAAAAAAAAAAAAAAAAEAAAABAAAAAAABAAAAAQABAAAAAQEAAAEAAAAAAQABAAAAAAAAAAABAAAAAQABAAAAAAAAAAABAQAAAAAAAAAAAAAAAQAAAQAAAAAAAQABAQAAAAAAAAABAAABAAEAAAAAAQAAAAEBAAAAAAAAAAEBAAAAAAAAAAAAAAABAAAAAAABAQABAQEAAAAAAAEBAAABAAEAAAAAAAAAAAEAAQABAAABAAAAAAAAAAAAAAAAAAABAAEAAAEAAAAAAQAAAQEAAAAAAAEAAAEAAQAAAAABAQAAAQAAAAAAAAAAAAAAAQAAAAAAAAAAAAAAAAAAAAABAAAAAQABAQAAAAEAAQAAAAABAQAAAAABAAEAAAABAQAAAAEBAAAAAAEAAAAAAAEAAAEAAAAAAQEAAQABAAAAAQABAAAAAAAAAAABAAABAAEBAAEAAAEAAAAAAAAAAAAAAAEAAAAAAAAAAAEAAAEAAAAAAAAAAAAAAQABAAABAAEBAAABAAEBAAAAAAAAAAAAAQEAAAABAAEAAAAAAAEAAQEAAQAAAAEAAAAAAAEAAAAAAAEAAAAAAQEAAQAAAAEAAAEAAQABAAAAAAABAAAAAAAAAAEAAAABAQEAAQEAAAABAAAAAAEAAAAAAAABAAEBAAEAAQEAAAAAAAAAAAABAAAAAAABAAEAAAABAAAAAAAAAAAAAAEAAAAAAAEAAAAAAAAAAAABAAEAAAAAAAAAAAEBAQAAAAAAAAAAAAAAAAEAAAAAAQAAAAEBAQEAAQABAAAAAAAAAAEAAAAAAAEAAAEAAAAAAA==",
          "dtype": "i1"
         },
         "xaxis": "x",
         "yaxis": "y"
        },
        {
         "bingroup": "x",
         "hovertemplate": "PhoneService=Yes<br>Churn=%{x}<br>count=%{y}<extra></extra>",
         "legendgroup": "Yes",
         "marker": {
          "color": "#00CC96",
          "pattern": {
           "shape": ""
          }
         },
         "name": "Yes",
         "orientation": "v",
         "showlegend": true,
         "type": "histogram",
         "x": {
          "bdata": "AAEBAQABAAAAAAEAAAAAAQAAAQAAAAEAAQAAAAAAAAEAAQEAAAAAAAAAAQAAAAEAAQABAAAAAAAAAAEAAAAAAAAAAAAAAAAAAAABAQAAAAAAAAAAAAAAAQABAAEAAAABAAAAAQAAAQABAAAAAAEAAAABAAAAAAEAAAAAAQABAAAAAAABAAAAAQAAAAAAAAAAAAEAAAAAAQAAAAEAAQAAAQEAAAABAAEAAAAAAQAAAAAAAAAAAAAAAAAAAQEAAQAAAAAAAQAAAQAAAQAAAAABAAABAAEAAAAAAAAAAAEBAAABAAAAAAEBAAAAAAABAAEAAAEBAQAAAAAAAAEAAAEBAQEAAAAAAAAAAAEAAQAAAAEAAAAAAAAAAQAAAQEAAQAAAAABAAAAAAEBAQEAAAEAAAAAAAABAAAAAAABAQAAAAAAAAAAAQAAAAAAAQAAAAEAAAABAQABAQAAAAAAAAAAAAEAAAABAAAAAAABAQEAAAAAAAAAAQEAAAAAAAAAAAABAAEAAAAAAAAAAAAAAQEAAAAAAAEAAAAAAAAAAAEBAAAAAAEAAQAAAQEAAAEBAAAAAQAAAAEAAAEAAAAAAQAAAAAAAQABAQAAAAEAAAEAAAEAAAAAAQEAAAAAAAAAAAABAAAAAAAAAAABAAEAAAAAAAAAAQAAAAAAAAAAAAAAAAABAAAAAQAAAAAAAAEBAQAAAQAAAAAAAAAAAAEAAAAAAAAAAAAAAAABAQAAAAAAAAAAAAABAAAAAAEBAAAAAQAAAQEAAQEAAAEBAAEAAQEAAAEAAAABAAAAAAAAAQEAAAEAAAAAAAEAAAAAAAABAAAAAAEAAAABAAAAAAAAAAEAAAAAAQAAAAAAAAAAAAEBAQAAAAEAAQAAAAAAAAAAAAABAAAAAAAAAAAAAAAAAQAAAQAAAQEAAAAAAAAAAQEBAQABAAEAAAABAQAAAAAAAAAAAAAAAQABAAABAAAAAQEBAQAAAAEAAQAAAAAAAAEBAAEBAAAAAQAAAQAAAQABAQAAAAAAAAAAAAEAAQAAAAEBAQEAAQAAAAAAAQAAAQABAAAAAAABAAEAAAAAAAEAAAEBAAABAAAAAAEAAAAAAQAAAAAAAAAAAAEBAAAAAAABAAABAAAAAAABAAABAAEAAAAAAQAAAAAAAAABAQEAAAEBAAAAAQEAAQAAAAABAAEAAAAAAAAAAAABAQEAAAEBAAAAAAEBAQAAAAABAQAAAAAAAAAAAAEAAQEAAAEAAAAAAAEBAAABAAAAAAABAAEAAQEBAQAAAAAAAQAAAQABAQEAAAABAAAAAAABAAEBAAEAAAAAAAAAAAEAAAAAAQAAAAAAAAABAAEAAAAAAAAAAAABAQAAAAABAQAAAAAAAAAAAAAAAAABAQAAAAAAAAAAAQAAAQAAAAAAAAEAAQAAAQABAAABAAABAAAAAAAAAQAAAAAAAAAAAAEAAQAAAQABAQAAAQEAAAEAAAABAQAAAAAAAAEAAAABAAEAAAABAQAAAAEBAAEAAQAAAAEAAAABAAAAAAEAAAAAAAAAAAAAAAAAAAEAAAAAAAEAAAEAAAABAAAAAAEAAQABAQEAAQEAAAAAAQAAAAABAQEAAAAAAQAAAQEBAAAAAAEAAQAAAAEAAAAAAQEBAQAAAQAAAAABAAAAAAEAAAAAAAEBAAAAAAEAAAAAAAEBAAAAAAEAAAEAAAABAAEAAAAAAAAAAQABAAAAAAEAAAAAAAEAAQAAAQAAAAAAAAABAAAAAAAAAAEAAQABAAABAAAAAAABAAABAQAAAAEBAAAAAQEAAAAAAAEAAQAAAAEAAAAAAAEAAAEAAAAAAAAAAAAAAQAAAAAAAAABAAABAAAAAAEAAAAAAQAAAAEAAQAAAAAAAQEAAQABAAEAAAAAAAAAAQAAAQABAQEAAAAAAAAAAAAAAQAAAQAAAAABAAEBAAAAAQAAAAABAAAAAAEAAQAAAQEAAAAAAAEBAAAAAAEAAAAAAQEAAQAAAQEAAAEAAAEAAAABAQEAAAAAAAEAAAEAAQAAAAAAAAAAAAABAAAAAAAAAQAAAAABAQEAAAABAAAAAAAAAAAAAAAAAQAAAAAAAAABAQAAAAEAAAEAAAEAAAAAAQAAAAEAAAAAAAAAAAAAAAAAAAAAAAABAQEAAAAAAAAAAQAAAQEAAQAAAQAAAAABAAAAAQAAAAAAAQEBAAAAAAAAAAAAAAEBAQAAAAAAAAAAAQABAQAAAQAAAAAAAAABAAEBAAEAAQEAAQAAAAABAAAAAAAAAAAAAAABAQABAAAAAQABAQAAAAEBAAAAAAABAAAAAAAAAAAAAQAAAQAAAAAAAAEBAQAAAAAAAQAAAAAAAAAAAAAAAAEAAQAAAQEAAAAAAAAAAAABAAEAAQAAAAEAAQAAAAABAAABAAEBAQAAAQABAAABAAABAQEBAQEAAQABAAAAAQABAQAAAAEAAAAAAAEAAQEAAAAAAQEAAAAAAAAAAQAAAAEBAAABAAAAAQAAAAAAAAABAQAAAAEAAAEAAAAAAAEBAQEAAAAAAAEBAAAAAAEAAAEBAAAAAAAAAAAAAAEAAAAAAAAAAAABAQABAAAAAAAAAQAAAAAAAAAAAAAAAAAAAQEAAAAAAQABAAAAAQEAAAAAAAABAAAAAAAAAAABAQAAAAABAAABAAAAAAAAAAEAAQABAQEAAAAAAAEAAAAAAAAAAQEAAAAAAQAAAAAAAAAAAAABAAEAAAAAAAAAAAAAAAAAAQABAQABAAAAAQEAAAABAQABAAAAAQEBAAEAAQAAAQAAAQABAAABAAABAAAAAAAAAAAAAAAAAAAAAAAAAQEAAAAAAAAAAAAAAAEBAAEAAAAAAAAAAAAAAAAAAAAAAAABAAAAAQEAAAAAAAAAAAAAAQEAAAAAAAAAAAAAAQAAAAEAAAAAAAEBAQAAAAABAAAAAAABAAEAAAAAAAAAAQAAAAEAAQABAAEAAAEBAAABAAAAAAAAAAABAAAAAAEAAAAAAAAAAAEAAAEAAQAAAQAAAAABAAAAAAAAAAAAAQAAAAAAAQAAAAEAAQEAAAABAAAAAAEBAQEAAAAAAAEAAAAAAQAAAAAAAAAAAAAAAAAAAAEAAQEAAAEAAAEAAAEBAAABAQAAAAAAAAAAAAABAAAAAAAAAAAAAAAAAAAAAAABAQEAAQEAAQEAAQAAAAAAAAAAAQABAAABAAABAQAAAQEAAAAAAAABAAABAQAAAAAAAAAAAAABAQAAAAEAAAABAAEAAQEAAAEAAQABAAAAAAAAAAAAAAEAAAEBAQABAAAAAAAAAQEAAAAAAQEAAAAAAAAAAAAAAQEAAAABAAAAAAEAAQAAAAAAAAAAAAAAAQEAAAABAQAAAQEAAAEAAAAAAAEAAAAAAQABAQAAAAEAAAAAAAAAAQABAAABAAABAQAAAAAAAAEAAQAAAAAAAQAAAAABAAAAAAAAAAAAAAAAAAAAAAEBAAAAAAAAAQABAAEAAQABAAEAAAAAAAAAAQEBAQABAQAAAAEAAAEAAAEBAAABAAAAAAEBAAEAAAAAAAAAAAAAAAAAAQAAAAAAAAEAAAAAAQEBAAAAAAEAAAABAAAAAQABAQAAAAAAAAAAAAAAAAAAAAAAAAEAAAEAAAEBAAEBAAAAAAAAAAABAAABAAAAAAABAAEBAQAAAQAAAAEAAQAAAQABAQAAAAABAAABAAEAAAAAAQAAAAAAAAEAAQEBAAAAAQABAAABAAAAAAABAAAAAQEAAAAAAAAAAQAAAAEAAAABAAEAAAAAAAAAAAAAAQEAAQABAQAAAQEAAAAAAAAAAAABAQAAAAAAAAAAAAAAAAEAAQABAAAAAAAAAAEAAAAAAAEAAAEAAAAAAAAAAAEAAAAAAAEAAAAAAAEAAAAAAQAAAAAAAAAAAQEAAAEBAAEAAAEAAAAAAAAAAQABAAABAAAAAAABAQEAAAEAAAAAAAAAAAABAQAAAAABAAAAAAAAAQEBAAAAAAAAAQAAAAAAAQAAAQAAAQEAAAABAAEAAQAAAAEAAQAAAQAAAAABAQEBAAABAQAAAQABAQAAAAAAAQABAQAAAAAAAQAAAQEBAAAAAAAAAAAAAAAAAAAAAAEAAAAAAAEAAQEAAAEAAAAAAAABAQABAAEAAAEAAAAAAAABAQAAAAAAAAABAAAAAAABAAABAAAAAQAAAAABAAAAAAABAAAAAAABAAAAAAABAAAAAAEAAAEBAAABAQAAAAAAAAAAAAAAAAAAAQEAAAAAAAABAQEBAQAAAAEAAQAAAAABAAABAAAAAAABAQAAAAEAAAAAAQEAAAEAAQAAAAAAAAAAAQAAAQAAAAABAAAAAQEBAQEAAAABAAABAAAAAAEAAQAAAQAAAAAAAAAAAAAAAQEAAAAAAAEBAAEAAAAAAAAAAAAAAAAAAAAAAAABAAAAAQAAAAABAQEBAAAAAQEBAAABAQABAAAAAQABAAAAAQABAAAAAAAAAAAAAAEAAAEAAAAAAQAAAQEBAAABAAAAAAABAAAAAAEAAQEAAAEAAAAAAQAAAQAAAAEAAAEAAAAAAQEAAQAAAAEAAAAAAQEAAAEAAQABAAAAAQAAAQABAAEAAQABAAAAAAAAAAEAAAAAAQAAAAAAAAABAQEAAAEAAAEAAAABAAEBAQAAAAEAAAAAAAAAAAAAAAAAAQAAAAEAAQAAAQAAAQAAAAAAAAABAQABAAAAAAAAAAAAAAAAAAEAAAABAQAAAAAAAQEBAAAAAQEAAQAAAAABAAAAAAABAAEAAAAAAAEAAAEAAQABAAABAAAAAAAAAAABAAABAAAAAQAAAAAAAQAAAQAAAQEAAAABAAAAAAABAAAAAAABAAAAAAAAAQEAAAEAAAAAAAAAAAAAAAAAAAEAAAAAAAAAAQEAAAEBAAEAAAAAAAABAQAAAQAAAQEBAQAAAQEAAAAAAAAAAAEAAAAAAAABAAAAAAAAAAAAAAAAAAEAAAAAAAAAAQAAAAAAAQABAAEAAAEAAAAAAAEAAAAAAAAAAAAAAAABAAEAAAAAAAAAAQEAAAABAAEAAAAAAAAAAAEAAAAAAAAAAAEBAQEAAAAAAAAAAAAAAAEAAQABAAEAAAABAAEBAAAAAAAAAAAAAAABAQAAAQEAAAEAAAEBAAABAAABAQAAAQAAAAAAAAAAAAEBAAABAQAAAQAAAAAAAAAAAAABAAAAAQEAAAAAAAAAAQAAAQAAAQEAAAAAAAAAAAABAAEAAAAAAQEAAAABAAAAAAAAAAAAAAAAAAABAAAAAAAAAAAAAAABAAABAAEAAAAAAAABAAEAAAAAAAABAAAAAAABAAAAAQEAAAAAAAAAAAEAAAAAAAAAAAAAAAABAAEAAQABAAEAAAEAAQAAAQEAAAEBAQEAAQAAAQAAAAEAAAABAQAAAAAAAQAAAAAAAAEAAAABAAABAQAAAAAAAQAAAAEAAAABAQABAAABAAABAAAAAQEAAAEBAQEAAQAAAQABAAEAAAAAAAAAAQEAAAAAAQEAAAABAAAAAAAAAAAAAAAAAAAAAQAAAAAAAAAAAQAAAQAAAAAAAAAAAAAAAQABAAAAAAABAAAAAAEAAAAAAAABAQAAAAAAAQABAQAAAQAAAAAAAQAAAAAAAAEAAAEBAAAAAAEAAQABAAEBAAABAQABAAABAAAAAQAAAAAAAAEAAAABAAABAAAAAAAAAAAAAAABAAEAAQABAAAAAAABAAAAAQAAAAAAAAEAAAEBAAEAAAABAAEAAAAAAQAAAAAAAQAAAQAAAAAAAAAAAAEAAAABAAABAAABAAAAAAEAAAAAAAAAAAABAQEAAQEAAAABAAABAAABAQAAAAAAAAABAAEAAQAAAAEBAAEAAAABAAAAAQAAAAAAAQAAAAAAAQEBAAAAAAAAAAAAAAAAAAABAAAAAQEBAAEAAAAAAQABAAEAAAAAAAAAAAAAAAABAAAAAAAAAAABAAABAQAAAAEBAAEAAAABAQEAAAEBAAAAAQABAAAAAAAAAQAAAQAAAAAAAAEBAQABAAAAAQEAAQEAAAAAAAAAAQAAAAAAAQAAAAEAAAEAAAAAAQEAAQAAAAEAAAAAAAEBAAAAAAAAAAABAAEAAAABAQAAAAABAAAAAAAAAAABAAAAAQAAAAAAAAEBAQAAAAABAAAAAAABAQAAAAEAAAEAAAEAAQABAAABAAEBAAAAAAAAAAAAAAAAAAAAAAABAAAAAAAAAAAAAQAAAQAAAAAAAQABAAEAAAEAAAAAAAAAAAABAAAAAQAAAAAAAAAAAAEAAQEAAAAAAAAAAAAAAAABAAEAAQAAAAAAAAAAAQAAAAEBAAABAAAAAAEBAQAAAAAAAAAAAAEAAQAAAQABAAAAAAEAAAEAAQAAAAAAAAABAQEAAAABAAAAAAEBAAEAAQAAAAAAAAAAAQAAAQABAQAAAAAAAQEAAQAAAAABAAAAAAAAAQAAAAEAAAABAAABAAABAQAAAAABAQEAAQABAAEBAAEAAQAAAAAAAAAAAAAAAQAAAAEAAAAAAAAAAAEAAAAAAQABAAEAAAAAAQEBAAEAAAAAAQAAAAEAAAABAAABAAAAAAEAAAAAAQAAAAAAAAEBAAAAAAEBAQAAAAAAAAAAAQEBAAEBAAEAAQAAAAEAAAAAAAABAAEAAAABAAAAAAAAAAAAAAAAAAEAAQEAAAEAAQABAAAAAQAAAQAAAAAAAAAAAAABAAAAAQAAAQAAAQABAAEBAQAAAQEAAQAAAAAAAQABAQABAAAAAAEBAAAAAAEAAAAAAAEBAAAAAAABAQEAAAEAAAEAAQAAAQEAAQAAAAEAAQAAAAAAAAAAAQABAAAAAQAAAAAAAAEBAQABAAEAAAAAAAAAAAEBAQAAAAEAAAABAAAAAAEAAAEBAAEAAAABAAEAAAABAAAAAAAAAAAAAQABAAAAAAEAAAABAAAAAAAAAAABAAAAAAEAAAAAAAAAAAAAAAAAAQAAAQEAAAABAAABAAAAAAEAAAABAAABAAAAAQABAAABAAEAAAAAAAAAAQEAAAABAQAAAAAAAAAAAAEAAAAAAQABAAAAAAEAAAEAAAEAAAAAAAABAQEAAQABAQAAAAAAAAAAAQAAAAEAAAAAAAEAAAAAAQABAAABAAAAAAAAAAAAAAAAAAAAAAAAAQEBAQAAAQAAAQEAAQEAAAAAAAEBAAAAAAAAAAEBAAAAAQAAAQAAAAAAAAEAAAAAAQABAQABAAAAAAAAAQAAAAABAAABAAAAAQAAAAAAAAEAAAABAAEBAAEAAAEBAAAAAAAAAQAAAAAAAQAAAAAAAAAAAAEBAAAAAAAAAAAAAAABAAABAAEBAAEAAAAAAAAAAQAAAAABAQAAAAAAAAAAAAAAAAAAAAAAAQEAAAABAAAAAQAAAAEBAAABAAAAAQEAAAEAAQAAAAAAAAABAAEBAAABAAABAQABAAAAAAABAAAAAQAAAAABAAEAAQAAAQABAAEAAAEAAAEAAAAAAQAAAAEAAAABAQAAAAEAAAEBAAAAAAAAAAAAAAABAAAAAAAAAQEAAAAAAQAAAAEAAAAAAAEAAAEAAQEAAAABAAAAAAAAAQABAQAAAAAAAQEAAAABAAABAQAAAQAAAAAAAQAAAAAAAQABAAABAAEAAAAAAQAAAAAAAQAAAQAAAAABAAEAAQAAAAABAAEBAAAAAAEAAAEAAAAAAAEAAAEAAAEAAAAAAAEAAAAAAQABAAAAAAAAAAABAAAAAAABAAABAAAAAAABAAAAAQAAAAABAAAAAQABAAAAAAAAAAAAAAEAAAAAAAEAAAEAAAABAAEBAAEAAQEAAQAAAAEAAQEBAAAAAAEAAQABAAEAAQEAAQAAAAABAQEAAAABAAEBAAABAQABAQAAAAEAAAABAQAAAAAAAAAAAAAAAAAAAAAAAAAAAAAAAAEBAAAAAAEAAQAAAAABAQEBAAABAAAAAQAAAAEAAQEBAQAAAAAAAQEBAAAAAAABAAAAAAAAAAAAAAABAAAAAQABAAAAAQAAAAAAAAAAAAABAQAAAAEAAAAAAAAAAAAAAAAAAAAAAAEAAAAAAAAAAQEBAAAAAAABAAEAAAAAAAABAAAAAAABAQAAAAEBAQAAAAAAAAAAAQABAAEAAAAAAAAAAQEAAAAAAAEAAAEBAAABAAEAAAABAAAAAQAAAAAAAAAAAQAAAAEAAAEAAQEAAQAAAAAAAAEAAAABAAEBAAAAAQAAAQAAAAAAAAEAAAAAAQABAQEAAAEAAQEAAAAAAAAAAQEAAAAAAQEAAAAAAAEBAQAAAQAAAAAAAQEAAAAAAAEAAAABAAAAAAABAAEAAAABAAABAAABAAAAAAEAAAAAAQEAAAAAAAAAAQEAAAEBAQEBAQAAAAAAAAAAAAEAAAAAAQABAAABAAAAAQAAAAEBAQEBAAAAAAAAAQAAAQAAAAABAAAAAAEAAQAAAAABAA==",
          "dtype": "i1"
         },
         "xaxis": "x",
         "yaxis": "y"
        }
       ],
       "layout": {
        "bargap": 0.1,
        "barmode": "relative",
        "height": 500,
        "legend": {
         "title": {
          "text": "PhoneService"
         },
         "tracegroupgap": 0
        },
        "template": {
         "data": {
          "bar": [
           {
            "error_x": {
             "color": "#2a3f5f"
            },
            "error_y": {
             "color": "#2a3f5f"
            },
            "marker": {
             "line": {
              "color": "#E5ECF6",
              "width": 0.5
             },
             "pattern": {
              "fillmode": "overlay",
              "size": 10,
              "solidity": 0.2
             }
            },
            "type": "bar"
           }
          ],
          "barpolar": [
           {
            "marker": {
             "line": {
              "color": "#E5ECF6",
              "width": 0.5
             },
             "pattern": {
              "fillmode": "overlay",
              "size": 10,
              "solidity": 0.2
             }
            },
            "type": "barpolar"
           }
          ],
          "carpet": [
           {
            "aaxis": {
             "endlinecolor": "#2a3f5f",
             "gridcolor": "white",
             "linecolor": "white",
             "minorgridcolor": "white",
             "startlinecolor": "#2a3f5f"
            },
            "baxis": {
             "endlinecolor": "#2a3f5f",
             "gridcolor": "white",
             "linecolor": "white",
             "minorgridcolor": "white",
             "startlinecolor": "#2a3f5f"
            },
            "type": "carpet"
           }
          ],
          "choropleth": [
           {
            "colorbar": {
             "outlinewidth": 0,
             "ticks": ""
            },
            "type": "choropleth"
           }
          ],
          "contour": [
           {
            "colorbar": {
             "outlinewidth": 0,
             "ticks": ""
            },
            "colorscale": [
             [
              0,
              "#0d0887"
             ],
             [
              0.1111111111111111,
              "#46039f"
             ],
             [
              0.2222222222222222,
              "#7201a8"
             ],
             [
              0.3333333333333333,
              "#9c179e"
             ],
             [
              0.4444444444444444,
              "#bd3786"
             ],
             [
              0.5555555555555556,
              "#d8576b"
             ],
             [
              0.6666666666666666,
              "#ed7953"
             ],
             [
              0.7777777777777778,
              "#fb9f3a"
             ],
             [
              0.8888888888888888,
              "#fdca26"
             ],
             [
              1,
              "#f0f921"
             ]
            ],
            "type": "contour"
           }
          ],
          "contourcarpet": [
           {
            "colorbar": {
             "outlinewidth": 0,
             "ticks": ""
            },
            "type": "contourcarpet"
           }
          ],
          "heatmap": [
           {
            "colorbar": {
             "outlinewidth": 0,
             "ticks": ""
            },
            "colorscale": [
             [
              0,
              "#0d0887"
             ],
             [
              0.1111111111111111,
              "#46039f"
             ],
             [
              0.2222222222222222,
              "#7201a8"
             ],
             [
              0.3333333333333333,
              "#9c179e"
             ],
             [
              0.4444444444444444,
              "#bd3786"
             ],
             [
              0.5555555555555556,
              "#d8576b"
             ],
             [
              0.6666666666666666,
              "#ed7953"
             ],
             [
              0.7777777777777778,
              "#fb9f3a"
             ],
             [
              0.8888888888888888,
              "#fdca26"
             ],
             [
              1,
              "#f0f921"
             ]
            ],
            "type": "heatmap"
           }
          ],
          "histogram": [
           {
            "marker": {
             "pattern": {
              "fillmode": "overlay",
              "size": 10,
              "solidity": 0.2
             }
            },
            "type": "histogram"
           }
          ],
          "histogram2d": [
           {
            "colorbar": {
             "outlinewidth": 0,
             "ticks": ""
            },
            "colorscale": [
             [
              0,
              "#0d0887"
             ],
             [
              0.1111111111111111,
              "#46039f"
             ],
             [
              0.2222222222222222,
              "#7201a8"
             ],
             [
              0.3333333333333333,
              "#9c179e"
             ],
             [
              0.4444444444444444,
              "#bd3786"
             ],
             [
              0.5555555555555556,
              "#d8576b"
             ],
             [
              0.6666666666666666,
              "#ed7953"
             ],
             [
              0.7777777777777778,
              "#fb9f3a"
             ],
             [
              0.8888888888888888,
              "#fdca26"
             ],
             [
              1,
              "#f0f921"
             ]
            ],
            "type": "histogram2d"
           }
          ],
          "histogram2dcontour": [
           {
            "colorbar": {
             "outlinewidth": 0,
             "ticks": ""
            },
            "colorscale": [
             [
              0,
              "#0d0887"
             ],
             [
              0.1111111111111111,
              "#46039f"
             ],
             [
              0.2222222222222222,
              "#7201a8"
             ],
             [
              0.3333333333333333,
              "#9c179e"
             ],
             [
              0.4444444444444444,
              "#bd3786"
             ],
             [
              0.5555555555555556,
              "#d8576b"
             ],
             [
              0.6666666666666666,
              "#ed7953"
             ],
             [
              0.7777777777777778,
              "#fb9f3a"
             ],
             [
              0.8888888888888888,
              "#fdca26"
             ],
             [
              1,
              "#f0f921"
             ]
            ],
            "type": "histogram2dcontour"
           }
          ],
          "mesh3d": [
           {
            "colorbar": {
             "outlinewidth": 0,
             "ticks": ""
            },
            "type": "mesh3d"
           }
          ],
          "parcoords": [
           {
            "line": {
             "colorbar": {
              "outlinewidth": 0,
              "ticks": ""
             }
            },
            "type": "parcoords"
           }
          ],
          "pie": [
           {
            "automargin": true,
            "type": "pie"
           }
          ],
          "scatter": [
           {
            "fillpattern": {
             "fillmode": "overlay",
             "size": 10,
             "solidity": 0.2
            },
            "type": "scatter"
           }
          ],
          "scatter3d": [
           {
            "line": {
             "colorbar": {
              "outlinewidth": 0,
              "ticks": ""
             }
            },
            "marker": {
             "colorbar": {
              "outlinewidth": 0,
              "ticks": ""
             }
            },
            "type": "scatter3d"
           }
          ],
          "scattercarpet": [
           {
            "marker": {
             "colorbar": {
              "outlinewidth": 0,
              "ticks": ""
             }
            },
            "type": "scattercarpet"
           }
          ],
          "scattergeo": [
           {
            "marker": {
             "colorbar": {
              "outlinewidth": 0,
              "ticks": ""
             }
            },
            "type": "scattergeo"
           }
          ],
          "scattergl": [
           {
            "marker": {
             "colorbar": {
              "outlinewidth": 0,
              "ticks": ""
             }
            },
            "type": "scattergl"
           }
          ],
          "scattermap": [
           {
            "marker": {
             "colorbar": {
              "outlinewidth": 0,
              "ticks": ""
             }
            },
            "type": "scattermap"
           }
          ],
          "scattermapbox": [
           {
            "marker": {
             "colorbar": {
              "outlinewidth": 0,
              "ticks": ""
             }
            },
            "type": "scattermapbox"
           }
          ],
          "scatterpolar": [
           {
            "marker": {
             "colorbar": {
              "outlinewidth": 0,
              "ticks": ""
             }
            },
            "type": "scatterpolar"
           }
          ],
          "scatterpolargl": [
           {
            "marker": {
             "colorbar": {
              "outlinewidth": 0,
              "ticks": ""
             }
            },
            "type": "scatterpolargl"
           }
          ],
          "scatterternary": [
           {
            "marker": {
             "colorbar": {
              "outlinewidth": 0,
              "ticks": ""
             }
            },
            "type": "scatterternary"
           }
          ],
          "surface": [
           {
            "colorbar": {
             "outlinewidth": 0,
             "ticks": ""
            },
            "colorscale": [
             [
              0,
              "#0d0887"
             ],
             [
              0.1111111111111111,
              "#46039f"
             ],
             [
              0.2222222222222222,
              "#7201a8"
             ],
             [
              0.3333333333333333,
              "#9c179e"
             ],
             [
              0.4444444444444444,
              "#bd3786"
             ],
             [
              0.5555555555555556,
              "#d8576b"
             ],
             [
              0.6666666666666666,
              "#ed7953"
             ],
             [
              0.7777777777777778,
              "#fb9f3a"
             ],
             [
              0.8888888888888888,
              "#fdca26"
             ],
             [
              1,
              "#f0f921"
             ]
            ],
            "type": "surface"
           }
          ],
          "table": [
           {
            "cells": {
             "fill": {
              "color": "#EBF0F8"
             },
             "line": {
              "color": "white"
             }
            },
            "header": {
             "fill": {
              "color": "#C8D4E3"
             },
             "line": {
              "color": "white"
             }
            },
            "type": "table"
           }
          ]
         },
         "layout": {
          "annotationdefaults": {
           "arrowcolor": "#2a3f5f",
           "arrowhead": 0,
           "arrowwidth": 1
          },
          "autotypenumbers": "strict",
          "coloraxis": {
           "colorbar": {
            "outlinewidth": 0,
            "ticks": ""
           }
          },
          "colorscale": {
           "diverging": [
            [
             0,
             "#8e0152"
            ],
            [
             0.1,
             "#c51b7d"
            ],
            [
             0.2,
             "#de77ae"
            ],
            [
             0.3,
             "#f1b6da"
            ],
            [
             0.4,
             "#fde0ef"
            ],
            [
             0.5,
             "#f7f7f7"
            ],
            [
             0.6,
             "#e6f5d0"
            ],
            [
             0.7,
             "#b8e186"
            ],
            [
             0.8,
             "#7fbc41"
            ],
            [
             0.9,
             "#4d9221"
            ],
            [
             1,
             "#276419"
            ]
           ],
           "sequential": [
            [
             0,
             "#0d0887"
            ],
            [
             0.1111111111111111,
             "#46039f"
            ],
            [
             0.2222222222222222,
             "#7201a8"
            ],
            [
             0.3333333333333333,
             "#9c179e"
            ],
            [
             0.4444444444444444,
             "#bd3786"
            ],
            [
             0.5555555555555556,
             "#d8576b"
            ],
            [
             0.6666666666666666,
             "#ed7953"
            ],
            [
             0.7777777777777778,
             "#fb9f3a"
            ],
            [
             0.8888888888888888,
             "#fdca26"
            ],
            [
             1,
             "#f0f921"
            ]
           ],
           "sequentialminus": [
            [
             0,
             "#0d0887"
            ],
            [
             0.1111111111111111,
             "#46039f"
            ],
            [
             0.2222222222222222,
             "#7201a8"
            ],
            [
             0.3333333333333333,
             "#9c179e"
            ],
            [
             0.4444444444444444,
             "#bd3786"
            ],
            [
             0.5555555555555556,
             "#d8576b"
            ],
            [
             0.6666666666666666,
             "#ed7953"
            ],
            [
             0.7777777777777778,
             "#fb9f3a"
            ],
            [
             0.8888888888888888,
             "#fdca26"
            ],
            [
             1,
             "#f0f921"
            ]
           ]
          },
          "colorway": [
           "#636efa",
           "#EF553B",
           "#00cc96",
           "#ab63fa",
           "#FFA15A",
           "#19d3f3",
           "#FF6692",
           "#B6E880",
           "#FF97FF",
           "#FECB52"
          ],
          "font": {
           "color": "#2a3f5f"
          },
          "geo": {
           "bgcolor": "white",
           "lakecolor": "white",
           "landcolor": "#E5ECF6",
           "showlakes": true,
           "showland": true,
           "subunitcolor": "white"
          },
          "hoverlabel": {
           "align": "left"
          },
          "hovermode": "closest",
          "mapbox": {
           "style": "light"
          },
          "paper_bgcolor": "white",
          "plot_bgcolor": "#E5ECF6",
          "polar": {
           "angularaxis": {
            "gridcolor": "white",
            "linecolor": "white",
            "ticks": ""
           },
           "bgcolor": "#E5ECF6",
           "radialaxis": {
            "gridcolor": "white",
            "linecolor": "white",
            "ticks": ""
           }
          },
          "scene": {
           "xaxis": {
            "backgroundcolor": "#E5ECF6",
            "gridcolor": "white",
            "gridwidth": 2,
            "linecolor": "white",
            "showbackground": true,
            "ticks": "",
            "zerolinecolor": "white"
           },
           "yaxis": {
            "backgroundcolor": "#E5ECF6",
            "gridcolor": "white",
            "gridwidth": 2,
            "linecolor": "white",
            "showbackground": true,
            "ticks": "",
            "zerolinecolor": "white"
           },
           "zaxis": {
            "backgroundcolor": "#E5ECF6",
            "gridcolor": "white",
            "gridwidth": 2,
            "linecolor": "white",
            "showbackground": true,
            "ticks": "",
            "zerolinecolor": "white"
           }
          },
          "shapedefaults": {
           "line": {
            "color": "#2a3f5f"
           }
          },
          "ternary": {
           "aaxis": {
            "gridcolor": "white",
            "linecolor": "white",
            "ticks": ""
           },
           "baxis": {
            "gridcolor": "white",
            "linecolor": "white",
            "ticks": ""
           },
           "bgcolor": "#E5ECF6",
           "caxis": {
            "gridcolor": "white",
            "linecolor": "white",
            "ticks": ""
           }
          },
          "title": {
           "x": 0.05
          },
          "xaxis": {
           "automargin": true,
           "gridcolor": "white",
           "linecolor": "white",
           "ticks": "",
           "title": {
            "standoff": 15
           },
           "zerolinecolor": "white",
           "zerolinewidth": 2
          },
          "yaxis": {
           "automargin": true,
           "gridcolor": "white",
           "linecolor": "white",
           "ticks": "",
           "title": {
            "standoff": 15
           },
           "zerolinecolor": "white",
           "zerolinewidth": 2
          }
         }
        },
        "title": {
         "text": "<b>Chrun distribution w.r.t. Phone Service</b>"
        },
        "width": 700,
        "xaxis": {
         "anchor": "y",
         "domain": [
          0,
          1
         ],
         "title": {
          "text": "Churn"
         }
        },
        "yaxis": {
         "anchor": "x",
         "domain": [
          0,
          1
         ],
         "title": {
          "text": "count"
         }
        }
       }
      }
     },
     "metadata": {},
     "output_type": "display_data"
    }
   ],
   "source": [
    "color_map = {\"Yes\": '#00CC96', \"No\": '#B6E880'}\n",
    "fig = px.histogram(df, x=\"Churn\", color=\"PhoneService\", title=\"<b>Chrun distribution w.r.t. Phone Service</b>\", color_discrete_map=color_map)\n",
    "fig.update_layout(width=700, height=500, bargap=0.1)\n",
    "fig.show()"
   ]
  },
  {
   "cell_type": "markdown",
   "id": "17d3c046",
   "metadata": {},
   "source": [
    "* **OVERALL DISTRIBUTION:** The VAST MAJORITY of customers, both those who churned and those who did not, subscribe to **PHONE SERVICE**. Customers without phone service represent a very small fraction of the total customer base.\n",
    "\n",
    "* **PROPORTIONAL CHURN RATE:** The proportion of churners within the group that HAS phone service is nearly IDENTICAL to the proportion of churners within the group that DOES NOT have phone service.\n",
    "\n",
    "* **KEY INSIGHT:** This visualization indicates that having **PHONE SERVICE is NOT a significant factor in predicting churn**. Since most customers have it, its presence doesn't help differentiate between those who are likely to stay or leave."
   ]
  },
  {
   "cell_type": "code",
   "execution_count": 36,
   "id": "0d935626",
   "metadata": {},
   "outputs": [
    {
     "data": {
      "image/png": "[encoded data removed]",
      "text/plain": [
       "<Figure size 640x480 with 1 Axes>"
      ]
     },
     "metadata": {},
     "output_type": "display_data"
    }
   ],
   "source": [
    "sns.set_context(\"paper\", font_scale=1.1)\n",
    "\n",
    "ax = sns.kdeplot(df.MonthlyCharges[df[\"Churn\"] == 0], color=\"Red\", fill=True, label=\"Not Churn\")\n",
    "sns.kdeplot(df.MonthlyCharges[df[\"Churn\"] == 1], color=\"Blue\", fill=True, ax=ax, label=\"Churn\")\n",
    "\n",
    "ax.legend(loc='upper right')\n",
    "ax.set_ylabel('Density')\n",
    "ax.set_xlabel('Monthly Charges')\n",
    "ax.set_title('Distribution of Monthly Charges by Churn')\n",
    "\n",
    "plt.show()"
   ]
  },
  {
   "cell_type": "markdown",
   "id": "f3579d69",
   "metadata": {},
   "source": [
    "* **LOW MONTHLY CHARGES (AROUND $20):** This range shows a large peak for **NON-CHURNED** customers (Red) and a very low density for churned customers. This indicates that customers with the lowest monthly bills are very loyal and unlikely to leave.\n",
    "\n",
    "* **HIGH MONTHLY CHARGES ($70 - $100):** This range shows a significant peak for **CHURNED** customers (Blue). Customers paying higher monthly fees are much more likely to churn.\n",
    "\n",
    "* **KEY INSIGHT:** **MONTHLY CHARGE** is a critical factor in customer churn. There is a clear trend: as the monthly bill increases, the likelihood of a customer churning also increases significantly."
   ]
  }
 ],
 "metadata": {
  "kernelspec": {
   "display_name": "lumen_env (3.12.10)",
   "language": "python",
   "name": "python3"
  },
  "language_info": {
   "codemirror_mode": {
    "name": "ipython",
    "version": 3
   },
   "file_extension": ".py",
   "mimetype": "text/x-python",
   "name": "python",
   "nbconvert_exporter": "python",
   "pygments_lexer": "ipython3",
   "version": "3.12.10"
  }
 },
 "nbformat": 4,
 "nbformat_minor": 5
}
