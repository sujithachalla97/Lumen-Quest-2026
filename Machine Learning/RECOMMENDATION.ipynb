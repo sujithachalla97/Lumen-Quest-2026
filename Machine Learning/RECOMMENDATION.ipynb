{
 "cells": [
  {
   "cell_type": "code",
   "execution_count": 8,
   "id": "35d3a3bf",
   "metadata": {},
   "outputs": [],
   "source": [
    "import pandas as pd\n",
    "from sklearn.metrics.pairwise import cosine_similarity"
   ]
  },
  {
   "cell_type": "code",
   "execution_count": 9,
   "id": "5fcb7303",
   "metadata": {},
   "outputs": [],
   "source": [
    "df_processed = pd.read_csv('../DATASET/DATA[T].csv')\n",
    "\n",
    "df_original = pd.read_csv('../DATASET/DATA.csv')"
   ]
  },
  {
   "cell_type": "code",
   "execution_count": 10,
   "id": "0488f4a4",
   "metadata": {},
   "outputs": [],
   "source": [
    "X_features = df_processed.drop('Churn', axis=1)\n",
    "similarity_matrix = cosine_similarity(X_features)\n",
    "similarity_df = pd.DataFrame(similarity_matrix, index=df_original['customerID'], columns=df_original['customerID'])"
   ]
  },
  {
   "cell_type": "code",
   "execution_count": null,
   "id": "604d3e3b",
   "metadata": {},
   "outputs": [],
   "source": [
    "def get_service_recommendations(customer_id, num_recommendations=3):\n",
    "    \"\"\"\n",
    "    Generates service recommendations for a given customer based on finding similar users.\n",
    "    \"\"\"\n",
    "    similar_customers = similarity_df[customer_id].sort_values(ascending=False).iloc[1:11]\n",
    "    similar_customer_services = df_original[df_original['customerID'].isin(similar_customers.index)]\n",
    "    target_customer_services = df_original[df_original['customerID'] == customer_id]\n",
    "\n",
    "    \n",
    "    recommendations = {}\n",
    "    service_columns = ['PhoneService', 'OnlineSecurity', 'OnlineBackup', 'DeviceProtection', 'TechSupport', 'StreamingTV', 'StreamingMovies']\n",
    "\n",
    "    for service in service_columns:\n",
    "        if target_customer_services[service].iloc[0] == 'No':\n",
    "            recommendation_score = similar_customer_services[service].value_counts().get('Yes', 0)\n",
    "            if recommendation_score > 0:\n",
    "                recommendations[service] = recommendation_score\n",
    "\n",
    "    sorted_recommendations = sorted(recommendations.items(), key=lambda x: x[1], reverse=True)\n",
    "    return dict(sorted_recommendations[:num_recommendations])"
   ]
  },
  {
   "cell_type": "code",
   "execution_count": 27,
   "id": "8b0d1371",
   "metadata": {},
   "outputs": [
    {
     "name": "stdout",
     "output_type": "stream",
     "text": [
      "\n",
      "==================================================\n",
      "TOP RECOMMENDATIONS FOR CUSTOMER 8091-TTVAX:\n",
      "- Recommend 'OnlineBackup' (Subscribed to by 4 out of 10 similar customers)\n",
      "- Recommend 'OnlineSecurity' (Subscribed to by 1 out of 10 similar customers)\n",
      "==================================================\n"
     ]
    }
   ],
   "source": [
    "sample_customer_id = '8091-TTVAX'\n",
    "\n",
    "recommended_services = get_service_recommendations(sample_customer_id)\n",
    "\n",
    "print(\"\\n\" + \"=\"*50)\n",
    "if recommended_services:\n",
    "    print(f\"TOP RECOMMENDATIONS FOR CUSTOMER {sample_customer_id}:\")\n",
    "    for service, score in recommended_services.items():\n",
    "        print(f\"- Recommend '{service}' (Subscribed to by {score} out of 10 similar customers)\")\n",
    "else:\n",
    "    print(f\"No new service recommendations for customer {sample_customer_id}.\")\n",
    "print(\"=\"*50)"
   ]
  },
  {
   "cell_type": "code",
   "execution_count": 28,
   "id": "a65e754c",
   "metadata": {},
   "outputs": [],
   "source": [
    "def assign_and_recommend_plan(customer_id):\n",
    "    \"\"\"\n",
    "    First, finds potential service recommendations for a user.\n",
    "    Then, uses the number of recommendations to assign them to a logical plan tier.\n",
    "    \"\"\"\n",
    "    service_recs = get_service_recommendations(customer_id, num_recommendations=10)\n",
    "    recommendation_count = len(service_recs)\n",
    "    \n",
    "    assigned_plan = ''\n",
    "    if recommendation_count <= 1:\n",
    "        assigned_plan = 'Ultra'\n",
    "        reason = f\"You are a power user with high engagement (only {recommendation_count} upsell opportunities found).\"\n",
    "    elif recommendation_count >= 4:\n",
    "        assigned_plan = 'Basic'\n",
    "        reason = f\"You have a foundational set of services with lots of potential for new features ({recommendation_count} upsell opportunities found).\"\n",
    "    else:\n",
    "        assigned_plan = 'Plus'\n",
    "        reason = f\"You have a solid set of services with some room to grow ({recommendation_count} upsell opportunities found).\"\n",
    "        \n",
    "    # Step 3: Return a clear recommendation\n",
    "    print(f\"PLAN ANALYSIS FOR CUSTOMER {customer_id}:\")\n",
    "    print(f\"- Potential service recommendations: {recommendation_count}\")\n",
    "    print(f\"- Logically assigned plan: '{assigned_plan}'\")\n",
    "    print(f\"- Reason: {reason}\")"
   ]
  },
  {
   "cell_type": "code",
   "execution_count": 29,
   "id": "519646ae",
   "metadata": {},
   "outputs": [
    {
     "name": "stdout",
     "output_type": "stream",
     "text": [
      "PLAN ANALYSIS FOR CUSTOMER 8091-TTVAX:\n",
      "- Potential service recommendations: 2\n",
      "- Logically assigned plan: 'Plus'\n",
      "- Reason: You have a solid set of services with some room to grow (2 upsell opportunities found).\n",
      "\n",
      "--------------------------------------------------\n",
      "\n",
      "PLAN ANALYSIS FOR CUSTOMER 7590-VHVEG:\n",
      "- Potential service recommendations: 1\n",
      "- Logically assigned plan: 'Ultra'\n",
      "- Reason: You are a power user with high engagement (only 1 upsell opportunities found).\n"
     ]
    }
   ],
   "source": [
    "customer_basic = '8091-TTVAX'\n",
    "assign_and_recommend_plan(customer_basic)\n",
    "\n",
    "print(\"\\n\" + \"-\"*50 + \"\\n\")\n",
    "\n",
    "customer_ultra = '7590-VHVEG'\n",
    "assign_and_recommend_plan(customer_ultra)"
   ]
  }
 ],
 "metadata": {
  "kernelspec": {
   "display_name": "lumen_env (3.12.10)",
   "language": "python",
   "name": "python3"
  },
  "language_info": {
   "codemirror_mode": {
    "name": "ipython",
    "version": 3
   },
   "file_extension": ".py",
   "mimetype": "text/x-python",
   "name": "python",
   "nbconvert_exporter": "python",
   "pygments_lexer": "ipython3",
   "version": "3.12.10"
  }
 },
 "nbformat": 4,
 "nbformat_minor": 5
}
