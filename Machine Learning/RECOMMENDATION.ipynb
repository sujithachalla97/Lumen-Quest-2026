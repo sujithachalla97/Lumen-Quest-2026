{
 "cells": [
  {
   "cell_type": "code",
   "execution_count": 8,
   "id": "35d3a3bf",
   "metadata": {},
   "outputs": [],
   "source": [
    "import pandas as pd\n",
    "from sklearn.metrics.pairwise import cosine_similarity"
   ]
  },
  {
   "cell_type": "code",
   "execution_count": 9,
   "id": "5fcb7303",
   "metadata": {},
   "outputs": [],
   "source": [
    "df_processed = pd.read_csv('../DATASET/DATA[T].csv')\n",
    "\n",
    "df_original = pd.read_csv('../DATASET/DATA.csv')"
   ]
  },
  {
   "cell_type": "code",
   "execution_count": 10,
   "id": "0488f4a4",
   "metadata": {},
   "outputs": [],
   "source": [
    "X_features = df_processed.drop('Churn', axis=1)\n",
    "similarity_matrix = cosine_similarity(X_features)\n",
    "similarity_df = pd.DataFrame(similarity_matrix, index=df_original['customerID'], columns=df_original['customerID'])"
   ]
  },
  {
   "cell_type": "code",
   "execution_count": 11,
   "id": "604d3e3b",
   "metadata": {},
   "outputs": [],
   "source": [
    "def get_service_recommendations(customer_id, num_recommendations=3):\n",
    "    \"\"\"\n",
    "    Generates service recommendations for a given customer based on finding similar users.\n",
    "    \"\"\"\n",
    "    # 1. Find the top 10 most similar customers (excluding the customer themselves)\n",
    "    similar_customers = similarity_df[customer_id].sort_values(ascending=False).iloc[1:11]\n",
    "\n",
    "    # 2. Get the service details for these similar customers from the ORIGINAL dataframe\n",
    "    similar_customer_services = df_original[df_original['customerID'].isin(similar_customers.index)]\n",
    "\n",
    "    # 3. Get the services of our target customer from the ORIGINAL dataframe\n",
    "    target_customer_services = df_original[df_original['customerID'] == customer_id]\n",
    "\n",
    "    # 4. Identify services that the target customer doesn't have but similar customers do\n",
    "    recommendations = {}\n",
    "    # List of services we can potentially upsell\n",
    "    service_columns = ['PhoneService', 'OnlineSecurity', 'OnlineBackup', 'DeviceProtection', 'TechSupport', 'StreamingTV', 'StreamingMovies']\n",
    "\n",
    "    for service in service_columns:\n",
    "        # Check if the target customer does NOT have the service\n",
    "        if target_customer_services[service].iloc[0] == 'No':\n",
    "            # Count how many of the similar customers DO have that service\n",
    "            recommendation_score = similar_customer_services[service].value_counts().get('Yes', 0)\n",
    "            if recommendation_score > 0:\n",
    "                recommendations[service] = recommendation_score\n",
    "\n",
    "    # 5. Sort the potential recommendations by how many similar users have them\n",
    "    sorted_recommendations = sorted(recommendations.items(), key=lambda x: x[1], reverse=True)\n",
    "\n",
    "    # Return the top N recommendations\n",
    "    return dict(sorted_recommendations[:num_recommendations])"
   ]
  },
  {
   "cell_type": "code",
   "execution_count": null,
   "id": "8b0d1371",
   "metadata": {},
   "outputs": [
    {
     "name": "stdout",
     "output_type": "stream",
     "text": [
      "\n",
      "==================================================\n",
      "TOP RECOMMENDATIONS FOR CUSTOMER 8091-TTVAX:\n",
      "- Recommend 'OnlineBackup' (Subscribed to by 4 out of 10 similar customers)\n",
      "- Recommend 'OnlineSecurity' (Subscribed to by 1 out of 10 similar customers)\n",
      "==================================================\n"
     ]
    }
   ],
   "source": [
    "sample_customer_id = '8091-TTVAX'\n",
    "\n",
    "recommended_services = get_service_recommendations(sample_customer_id)\n",
    "\n",
    "print(\"\\n\" + \"=\"*50)\n",
    "if recommended_services:\n",
    "    print(f\"TOP RECOMMENDATIONS FOR CUSTOMER {sample_customer_id}:\")\n",
    "    for service, score in recommended_services.items():\n",
    "        print(f\"- Recommend '{service}' (Subscribed to by {score} out of 10 similar customers)\")\n",
    "else:\n",
    "    print(f\"No new service recommendations for customer {sample_customer_id}.\")\n",
    "print(\"=\"*50)"
   ]
  }
 ],
 "metadata": {
  "kernelspec": {
   "display_name": "lumen_env (3.12.10)",
   "language": "python",
   "name": "python3"
  },
  "language_info": {
   "codemirror_mode": {
    "name": "ipython",
    "version": 3
   },
   "file_extension": ".py",
   "mimetype": "text/x-python",
   "name": "python",
   "nbconvert_exporter": "python",
   "pygments_lexer": "ipython3",
   "version": "3.12.10"
  }
 },
 "nbformat": 4,
 "nbformat_minor": 5
}
